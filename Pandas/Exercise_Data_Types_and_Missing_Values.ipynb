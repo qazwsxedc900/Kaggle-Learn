{
  "metadata": {
    "kernelspec": {
      "display_name": "Python 3",
      "language": "python",
      "name": "python3"
    },
    "language_info": {
      "name": "python",
      "version": "3.11.11",
      "mimetype": "text/x-python",
      "codemirror_mode": {
        "name": "ipython",
        "version": 3
      },
      "pygments_lexer": "ipython3",
      "nbconvert_exporter": "python",
      "file_extension": ".py"
    },
    "kaggle": {
      "accelerator": "none",
      "dataSources": [
        {
          "sourceId": 1252,
          "sourceType": "datasetVersion",
          "datasetId": 655
        },
        {
          "sourceId": 3919,
          "sourceType": "datasetVersion",
          "datasetId": 2321
        },
        {
          "sourceId": 4877,
          "sourceType": "datasetVersion",
          "datasetId": 2894
        },
        {
          "sourceId": 5624,
          "sourceType": "datasetVersion",
          "datasetId": 3491
        },
        {
          "sourceId": 8172,
          "sourceType": "datasetVersion",
          "datasetId": 1442
        },
        {
          "sourceId": 13206,
          "sourceType": "datasetVersion",
          "datasetId": 9366
        },
        {
          "sourceId": 403916,
          "sourceType": "datasetVersion",
          "datasetId": 179555
        },
        {
          "sourceId": 466349,
          "sourceType": "datasetVersion",
          "datasetId": 4549
        },
        {
          "sourceId": 1151655,
          "sourceType": "datasetVersion",
          "datasetId": 2478
        },
        {
          "sourceId": 5438389,
          "sourceType": "datasetVersion",
          "datasetId": 10128
        }
      ],
      "isInternetEnabled": false,
      "language": "python",
      "sourceType": "notebook",
      "isGpuEnabled": false
    },
    "colab": {
      "name": "Exercise: Data Types and Missing Values",
      "provenance": []
    }
  },
  "nbformat_minor": 0,
  "nbformat": 4,
  "cells": [
    {
      "source": [
        "# IMPORTANT: RUN THIS CELL IN ORDER TO IMPORT YOUR KAGGLE DATA SOURCES,\n",
        "# THEN FEEL FREE TO DELETE THIS CELL.\n",
        "# NOTE: THIS NOTEBOOK ENVIRONMENT DIFFERS FROM KAGGLE'S PYTHON\n",
        "# ENVIRONMENT SO THERE MAY BE MISSING LIBRARIES USED BY YOUR\n",
        "# NOTEBOOK.\n",
        "import kagglehub\n",
        "nolanbconaway_pitchfork_data_path = kagglehub.dataset_download('nolanbconaway/pitchfork-data')\n",
        "datasnaek_chess_path = kagglehub.dataset_download('datasnaek/chess')\n",
        "organizations_nasa_kepler_exoplanet_search_results_path = kagglehub.dataset_download('organizations/nasa/kepler-exoplanet-search-results')\n",
        "residentmario_things_on_reddit_path = kagglehub.dataset_download('residentmario/things-on-reddit')\n",
        "zynicide_wine_reviews_path = kagglehub.dataset_download('zynicide/wine-reviews')\n",
        "residentmario_ramen_ratings_path = kagglehub.dataset_download('residentmario/ramen-ratings')\n",
        "dansbecker_powerlifting_database_path = kagglehub.dataset_download('dansbecker/powerlifting-database')\n",
        "datasnaek_youtube_new_path = kagglehub.dataset_download('datasnaek/youtube-new')\n",
        "rtatman_188_million_us_wildfires_path = kagglehub.dataset_download('rtatman/188-million-us-wildfires')\n",
        "jpmiller_publicassistance_path = kagglehub.dataset_download('jpmiller/publicassistance')\n",
        "\n",
        "print('Data source import complete.')\n"
      ],
      "metadata": {
        "id": "HjRvwQEf0Fcm"
      },
      "cell_type": "code",
      "outputs": [],
      "execution_count": null
    },
    {
      "cell_type": "markdown",
      "source": [
        "**This notebook is an exercise in the [Pandas](https://www.kaggle.com/learn/pandas) course.  You can reference the tutorial at [this link](https://www.kaggle.com/residentmario/data-types-and-missing-values).**\n",
        "\n",
        "---\n"
      ],
      "metadata": {
        "id": "72aQMMC80Fco"
      }
    },
    {
      "cell_type": "markdown",
      "source": [
        "# Introduction\n",
        "\n",
        "Run the following cell to load your data and some utility functions."
      ],
      "metadata": {
        "id": "Kwc4yy3_0Fco"
      }
    },
    {
      "cell_type": "code",
      "source": [
        "import pandas as pd\n",
        "\n",
        "reviews = pd.read_csv(\"../input/wine-reviews/winemag-data-130k-v2.csv\", index_col=0)\n",
        "\n",
        "from learntools.core import binder; binder.bind(globals())\n",
        "from learntools.pandas.data_types_and_missing_data import *\n",
        "print(\"Setup complete.\")"
      ],
      "metadata": {
        "trusted": true,
        "execution": {
          "iopub.status.busy": "2025-04-11T07:19:51.095685Z",
          "iopub.execute_input": "2025-04-11T07:19:51.096231Z",
          "iopub.status.idle": "2025-04-11T07:19:56.506445Z",
          "shell.execute_reply.started": "2025-04-11T07:19:51.096206Z",
          "shell.execute_reply": "2025-04-11T07:19:56.505447Z"
        },
        "id": "tya_BB3t0Fco",
        "outputId": "565e0907-8524-434d-ada8-dd22337a5bd0"
      },
      "outputs": [
        {
          "name": "stdout",
          "text": "Setup complete.\n",
          "output_type": "stream"
        }
      ],
      "execution_count": null
    },
    {
      "cell_type": "markdown",
      "source": [
        "# Exercises"
      ],
      "metadata": {
        "id": "Z47I5eNi0Fcp"
      }
    },
    {
      "cell_type": "markdown",
      "source": [
        "## 1.\n",
        "What is the data type of the `points` column in the dataset?"
      ],
      "metadata": {
        "id": "_fux3yqp0Fcp"
      }
    },
    {
      "cell_type": "code",
      "source": [
        "# Your code here\n",
        "dtype = reviews.points.dtype\n",
        "\n",
        "# Check your answer\n",
        "q1.check()"
      ],
      "metadata": {
        "trusted": true,
        "execution": {
          "iopub.status.busy": "2025-04-11T07:20:15.526902Z",
          "iopub.execute_input": "2025-04-11T07:20:15.527207Z",
          "iopub.status.idle": "2025-04-11T07:20:15.535294Z",
          "shell.execute_reply.started": "2025-04-11T07:20:15.527185Z",
          "shell.execute_reply": "2025-04-11T07:20:15.534556Z"
        },
        "id": "k53_fBWV0Fcp",
        "outputId": "c8cb05ab-9bfd-4804-b264-143c07f5cbf4"
      },
      "outputs": [
        {
          "output_type": "display_data",
          "data": {
            "text/plain": "<IPython.core.display.Javascript object>",
            "application/javascript": "parent.postMessage({\"jupyterEvent\": \"custom.exercise_interaction\", \"data\": {\"outcomeType\": 1, \"valueTowardsCompletion\": 0.25, \"interactionType\": 1, \"questionType\": 1, \"questionId\": \"1_PointsDtype\", \"learnToolsVersion\": \"0.3.5\", \"failureMessage\": \"\", \"exceptionClass\": \"\", \"trace\": \"\"}}, \"*\")"
          },
          "metadata": {}
        },
        {
          "output_type": "display_data",
          "data": {
            "text/plain": "Correct",
            "text/markdown": "<span style=\"color:#33cc33\">Correct</span>"
          },
          "metadata": {}
        }
      ],
      "execution_count": null
    },
    {
      "cell_type": "code",
      "source": [
        "#q1.hint()\n",
        "#q1.solution()"
      ],
      "metadata": {
        "id": "qtB2xSJk0Fcp"
      },
      "outputs": [],
      "execution_count": null
    },
    {
      "cell_type": "markdown",
      "source": [
        "## 2.\n",
        "Create a Series from entries in the `points` column, but convert the entries to strings. Hint: strings are `str` in native Python."
      ],
      "metadata": {
        "id": "_qmbd4Fa0Fcp"
      }
    },
    {
      "cell_type": "code",
      "source": [
        "point_strings = reviews.points.astype(str)\n",
        "\n",
        "# Check your answer\n",
        "q2.check()"
      ],
      "metadata": {
        "trusted": true,
        "execution": {
          "iopub.status.busy": "2025-04-11T07:25:20.287389Z",
          "iopub.execute_input": "2025-04-11T07:25:20.287714Z",
          "iopub.status.idle": "2025-04-11T07:25:20.333192Z",
          "shell.execute_reply.started": "2025-04-11T07:25:20.28769Z",
          "shell.execute_reply": "2025-04-11T07:25:20.332302Z"
        },
        "id": "blI8uSYE0Fcp",
        "outputId": "134389f7-68c6-4a78-de5c-796b9d7a278c"
      },
      "outputs": [
        {
          "output_type": "display_data",
          "data": {
            "text/plain": "<IPython.core.display.Javascript object>",
            "application/javascript": "parent.postMessage({\"jupyterEvent\": \"custom.exercise_interaction\", \"data\": {\"outcomeType\": 1, \"valueTowardsCompletion\": 0.25, \"interactionType\": 1, \"questionType\": 1, \"questionId\": \"2_StrPoints\", \"learnToolsVersion\": \"0.3.5\", \"failureMessage\": \"\", \"exceptionClass\": \"\", \"trace\": \"\"}}, \"*\")"
          },
          "metadata": {}
        },
        {
          "output_type": "display_data",
          "data": {
            "text/plain": "Correct",
            "text/markdown": "<span style=\"color:#33cc33\">Correct</span>"
          },
          "metadata": {}
        }
      ],
      "execution_count": null
    },
    {
      "cell_type": "code",
      "source": [
        "#q2.hint()\n",
        "#q2.solution()\n",
        "point_strings"
      ],
      "metadata": {
        "trusted": true,
        "execution": {
          "iopub.status.busy": "2025-04-11T07:25:28.108351Z",
          "iopub.execute_input": "2025-04-11T07:25:28.108696Z",
          "iopub.status.idle": "2025-04-11T07:25:28.116719Z",
          "shell.execute_reply.started": "2025-04-11T07:25:28.108671Z",
          "shell.execute_reply": "2025-04-11T07:25:28.115829Z"
        },
        "id": "KRam5fVk0Fcq",
        "outputId": "94270684-20e3-4cb4-bc3b-9ea58c80cf4d"
      },
      "outputs": [
        {
          "execution_count": 6,
          "output_type": "execute_result",
          "data": {
            "text/plain": "0         87\n1         87\n2         87\n3         87\n4         87\n          ..\n129966    90\n129967    90\n129968    90\n129969    90\n129970    90\nName: points, Length: 129971, dtype: object"
          },
          "metadata": {}
        }
      ],
      "execution_count": null
    },
    {
      "cell_type": "markdown",
      "source": [
        "## 3.\n",
        "Sometimes the price column is null. How many reviews in the dataset are missing a price?"
      ],
      "metadata": {
        "id": "zkk2zsIU0Fcq"
      }
    },
    {
      "cell_type": "code",
      "source": [
        "n_missing_prices = len(reviews[pd.isnull(reviews.price)])\n",
        "\n",
        "# Check your answer\n",
        "q3.check()"
      ],
      "metadata": {
        "trusted": true,
        "execution": {
          "iopub.status.busy": "2025-04-11T07:30:05.197281Z",
          "iopub.execute_input": "2025-04-11T07:30:05.197605Z",
          "iopub.status.idle": "2025-04-11T07:30:05.211255Z",
          "shell.execute_reply.started": "2025-04-11T07:30:05.197582Z",
          "shell.execute_reply": "2025-04-11T07:30:05.210218Z"
        },
        "id": "7fdMbKZY0Fcq",
        "outputId": "c2bd7eca-7973-4ea1-875b-bc33519e9bdd"
      },
      "outputs": [
        {
          "output_type": "display_data",
          "data": {
            "text/plain": "<IPython.core.display.Javascript object>",
            "application/javascript": "parent.postMessage({\"jupyterEvent\": \"custom.exercise_interaction\", \"data\": {\"outcomeType\": 1, \"valueTowardsCompletion\": 0.25, \"interactionType\": 1, \"questionType\": 1, \"questionId\": \"3_CountMissingPrices\", \"learnToolsVersion\": \"0.3.5\", \"failureMessage\": \"\", \"exceptionClass\": \"\", \"trace\": \"\"}}, \"*\")"
          },
          "metadata": {}
        },
        {
          "output_type": "display_data",
          "data": {
            "text/plain": "Correct",
            "text/markdown": "<span style=\"color:#33cc33\">Correct</span>"
          },
          "metadata": {}
        }
      ],
      "execution_count": null
    },
    {
      "cell_type": "code",
      "source": [
        "#q3.hint()\n",
        "#q3.solution()"
      ],
      "metadata": {
        "trusted": true,
        "execution": {
          "iopub.status.busy": "2025-04-11T07:29:45.466798Z",
          "iopub.execute_input": "2025-04-11T07:29:45.467075Z",
          "iopub.status.idle": "2025-04-11T07:29:45.485169Z",
          "shell.execute_reply.started": "2025-04-11T07:29:45.467056Z",
          "shell.execute_reply": "2025-04-11T07:29:45.484286Z"
        },
        "id": "okkJHwfx0Fcq",
        "outputId": "043ed0a1-3a76-4d26-c07f-6085aed45759"
      },
      "outputs": [
        {
          "execution_count": 15,
          "output_type": "execute_result",
          "data": {
            "text/plain": "8996"
          },
          "metadata": {}
        }
      ],
      "execution_count": null
    },
    {
      "cell_type": "markdown",
      "source": [
        "## 4.\n",
        "What are the most common wine-producing regions? Create a Series counting the number of times each value occurs in the `region_1` field. This field is often missing data, so replace missing values with `Unknown`. Sort in descending order.  Your output should look something like this:\n",
        "\n",
        "```\n",
        "Unknown                    21247\n",
        "Napa Valley                 4480\n",
        "                           ...  \n",
        "Bardolino Superiore            1\n",
        "Primitivo del Tarantino        1\n",
        "Name: region_1, Length: 1230, dtype: int64\n",
        "```"
      ],
      "metadata": {
        "id": "Ndos_5F40Fcq"
      }
    },
    {
      "cell_type": "code",
      "source": [
        "\n",
        "\n",
        "reviews_per_region = reviews.region_1.fillna('Unknown').value_counts().sort_values(ascending=False)\n",
        "\n",
        "# Check your answer\n",
        "q4.check()"
      ],
      "metadata": {
        "trusted": true,
        "execution": {
          "iopub.status.busy": "2025-04-11T07:45:48.377401Z",
          "iopub.execute_input": "2025-04-11T07:45:48.377725Z",
          "iopub.status.idle": "2025-04-11T07:45:48.424518Z",
          "shell.execute_reply.started": "2025-04-11T07:45:48.3777Z",
          "shell.execute_reply": "2025-04-11T07:45:48.423568Z"
        },
        "id": "NZhGzAUF0Fcq",
        "outputId": "8f9b00f9-233d-4926-ab59-0de295152d8b"
      },
      "outputs": [
        {
          "output_type": "display_data",
          "data": {
            "text/plain": "<IPython.core.display.Javascript object>",
            "application/javascript": "parent.postMessage({\"jupyterEvent\": \"custom.exercise_interaction\", \"data\": {\"outcomeType\": 1, \"valueTowardsCompletion\": 0.25, \"interactionType\": 1, \"questionType\": 2, \"questionId\": \"4_ReviewsPerRegion\", \"learnToolsVersion\": \"0.3.5\", \"failureMessage\": \"\", \"exceptionClass\": \"\", \"trace\": \"\"}}, \"*\")"
          },
          "metadata": {}
        },
        {
          "output_type": "display_data",
          "data": {
            "text/plain": "Correct",
            "text/markdown": "<span style=\"color:#33cc33\">Correct</span>"
          },
          "metadata": {}
        }
      ],
      "execution_count": null
    },
    {
      "cell_type": "code",
      "source": [
        "#q4.hint()\n",
        "#q4.solution()\n",
        "\n",
        "replaced_rev = reviews.region_1.fillna('Unknown').value_counts().sort_values(ascending=False)\n",
        "replaced_rev"
      ],
      "metadata": {
        "trusted": true,
        "execution": {
          "iopub.status.busy": "2025-04-11T07:45:33.497431Z",
          "iopub.execute_input": "2025-04-11T07:45:33.497721Z",
          "iopub.status.idle": "2025-04-11T07:45:33.527133Z",
          "shell.execute_reply.started": "2025-04-11T07:45:33.497701Z",
          "shell.execute_reply": "2025-04-11T07:45:33.526425Z"
        },
        "id": "DLh-lpB00Fcq",
        "outputId": "61fdffdd-b0fe-47ed-c69d-737c85b0b1d9"
      },
      "outputs": [
        {
          "execution_count": 43,
          "output_type": "execute_result",
          "data": {
            "text/plain": "region_1\nUnknown                 21247\nNapa Valley              4480\nColumbia Valley (WA)     4124\nRussian River Valley     3091\nCalifornia               2629\n                        ...  \nOffida Rosso                1\nCorton Perrières            1\nIsle St. George             1\nGeelong                     1\nPaestum                     1\nName: count, Length: 1230, dtype: int64"
          },
          "metadata": {}
        }
      ],
      "execution_count": null
    },
    {
      "cell_type": "markdown",
      "source": [
        "# Keep going\n",
        "\n",
        "Move on to **[renaming and combining](https://www.kaggle.com/residentmario/renaming-and-combining)**."
      ],
      "metadata": {
        "id": "R7BGHCW80Fcr"
      }
    },
    {
      "cell_type": "markdown",
      "source": [
        "---\n",
        "\n",
        "\n",
        "\n",
        "\n",
        "*Have questions or comments? Visit the [course discussion forum](https://www.kaggle.com/learn/pandas/discussion) to chat with other learners.*"
      ],
      "metadata": {
        "id": "-OADO76F0Fcr"
      }
    }
  ]
}