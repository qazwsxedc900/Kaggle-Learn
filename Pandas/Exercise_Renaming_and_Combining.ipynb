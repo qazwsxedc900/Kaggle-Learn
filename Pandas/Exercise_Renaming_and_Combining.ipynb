{
  "metadata": {
    "kernelspec": {
      "display_name": "Python 3",
      "language": "python",
      "name": "python3"
    },
    "language_info": {
      "name": "python",
      "version": "3.11.11",
      "mimetype": "text/x-python",
      "codemirror_mode": {
        "name": "ipython",
        "version": 3
      },
      "pygments_lexer": "ipython3",
      "nbconvert_exporter": "python",
      "file_extension": ".py"
    },
    "kaggle": {
      "accelerator": "none",
      "dataSources": [
        {
          "sourceId": 1252,
          "sourceType": "datasetVersion",
          "datasetId": 655
        },
        {
          "sourceId": 3919,
          "sourceType": "datasetVersion",
          "datasetId": 2321
        },
        {
          "sourceId": 4877,
          "sourceType": "datasetVersion",
          "datasetId": 2894
        },
        {
          "sourceId": 5624,
          "sourceType": "datasetVersion",
          "datasetId": 3491
        },
        {
          "sourceId": 8172,
          "sourceType": "datasetVersion",
          "datasetId": 1442
        },
        {
          "sourceId": 13206,
          "sourceType": "datasetVersion",
          "datasetId": 9366
        },
        {
          "sourceId": 403916,
          "sourceType": "datasetVersion",
          "datasetId": 179555
        },
        {
          "sourceId": 466349,
          "sourceType": "datasetVersion",
          "datasetId": 4549
        },
        {
          "sourceId": 1151655,
          "sourceType": "datasetVersion",
          "datasetId": 2478
        },
        {
          "sourceId": 5438389,
          "sourceType": "datasetVersion",
          "datasetId": 10128
        }
      ],
      "isInternetEnabled": false,
      "language": "python",
      "sourceType": "notebook",
      "isGpuEnabled": false
    },
    "colab": {
      "name": "Exercise: Renaming and Combining",
      "provenance": []
    }
  },
  "nbformat_minor": 0,
  "nbformat": 4,
  "cells": [
    {
      "source": [
        "# IMPORTANT: RUN THIS CELL IN ORDER TO IMPORT YOUR KAGGLE DATA SOURCES,\n",
        "# THEN FEEL FREE TO DELETE THIS CELL.\n",
        "# NOTE: THIS NOTEBOOK ENVIRONMENT DIFFERS FROM KAGGLE'S PYTHON\n",
        "# ENVIRONMENT SO THERE MAY BE MISSING LIBRARIES USED BY YOUR\n",
        "# NOTEBOOK.\n",
        "import kagglehub\n",
        "nolanbconaway_pitchfork_data_path = kagglehub.dataset_download('nolanbconaway/pitchfork-data')\n",
        "datasnaek_chess_path = kagglehub.dataset_download('datasnaek/chess')\n",
        "organizations_nasa_kepler_exoplanet_search_results_path = kagglehub.dataset_download('organizations/nasa/kepler-exoplanet-search-results')\n",
        "residentmario_things_on_reddit_path = kagglehub.dataset_download('residentmario/things-on-reddit')\n",
        "zynicide_wine_reviews_path = kagglehub.dataset_download('zynicide/wine-reviews')\n",
        "residentmario_ramen_ratings_path = kagglehub.dataset_download('residentmario/ramen-ratings')\n",
        "dansbecker_powerlifting_database_path = kagglehub.dataset_download('dansbecker/powerlifting-database')\n",
        "datasnaek_youtube_new_path = kagglehub.dataset_download('datasnaek/youtube-new')\n",
        "rtatman_188_million_us_wildfires_path = kagglehub.dataset_download('rtatman/188-million-us-wildfires')\n",
        "jpmiller_publicassistance_path = kagglehub.dataset_download('jpmiller/publicassistance')\n",
        "\n",
        "print('Data source import complete.')\n"
      ],
      "metadata": {
        "id": "yHU71ZAEuj4o"
      },
      "cell_type": "code",
      "outputs": [],
      "execution_count": null
    },
    {
      "cell_type": "markdown",
      "source": [
        "**This notebook is an exercise in the [Pandas](https://www.kaggle.com/learn/pandas) course.  You can reference the tutorial at [this link](https://www.kaggle.com/residentmario/renaming-and-combining).**\n",
        "\n",
        "---\n"
      ],
      "metadata": {
        "id": "sCgIjJq1uj4q"
      }
    },
    {
      "cell_type": "markdown",
      "source": [
        "# Introduction\n",
        "\n",
        "Run the following cell to load your data and some utility functions."
      ],
      "metadata": {
        "id": "bXZFx0ncuj4q"
      }
    },
    {
      "cell_type": "code",
      "source": [
        "import pandas as pd\n",
        "\n",
        "reviews = pd.read_csv(\"../input/wine-reviews/winemag-data-130k-v2.csv\", index_col=0)\n",
        "\n",
        "from learntools.core import binder; binder.bind(globals())\n",
        "from learntools.pandas.renaming_and_combining import *\n",
        "print(\"Setup complete.\")"
      ],
      "metadata": {
        "trusted": true,
        "execution": {
          "iopub.status.busy": "2025-04-12T15:44:35.305165Z",
          "iopub.execute_input": "2025-04-12T15:44:35.305453Z",
          "iopub.status.idle": "2025-04-12T15:44:41.651895Z",
          "shell.execute_reply.started": "2025-04-12T15:44:35.305425Z",
          "shell.execute_reply": "2025-04-12T15:44:41.651069Z"
        },
        "id": "Eg2aWNsKuj4r",
        "outputId": "3d3eafcf-37b6-468d-8840-aff70f63bd41"
      },
      "outputs": [
        {
          "name": "stdout",
          "text": "Setup complete.\n",
          "output_type": "stream"
        }
      ],
      "execution_count": null
    },
    {
      "cell_type": "markdown",
      "source": [
        "# Exercises\n",
        "\n",
        "View the first several lines of your data by running the cell below:"
      ],
      "metadata": {
        "id": "X7qnIsAwuj4r"
      }
    },
    {
      "cell_type": "code",
      "source": [
        "reviews.head()"
      ],
      "metadata": {
        "trusted": true,
        "execution": {
          "iopub.status.busy": "2025-04-12T15:44:59.080179Z",
          "iopub.execute_input": "2025-04-12T15:44:59.080493Z",
          "iopub.status.idle": "2025-04-12T15:44:59.108316Z",
          "shell.execute_reply.started": "2025-04-12T15:44:59.080467Z",
          "shell.execute_reply": "2025-04-12T15:44:59.107513Z"
        },
        "id": "cccl_67_uj4r",
        "outputId": "d87747c4-ba02-4bb6-eed7-60969e78b2cf"
      },
      "outputs": [
        {
          "name": "stderr",
          "text": "/usr/local/lib/python3.11/dist-packages/pandas/io/formats/format.py:1458: RuntimeWarning: invalid value encountered in greater\n  has_large_values = (abs_vals > 1e6).any()\n/usr/local/lib/python3.11/dist-packages/pandas/io/formats/format.py:1459: RuntimeWarning: invalid value encountered in less\n  has_small_values = ((abs_vals < 10 ** (-self.digits)) & (abs_vals > 0)).any()\n/usr/local/lib/python3.11/dist-packages/pandas/io/formats/format.py:1459: RuntimeWarning: invalid value encountered in greater\n  has_small_values = ((abs_vals < 10 ** (-self.digits)) & (abs_vals > 0)).any()\n",
          "output_type": "stream"
        },
        {
          "execution_count": 2,
          "output_type": "execute_result",
          "data": {
            "text/plain": "    country                                        description  \\\n0     Italy  Aromas include tropical fruit, broom, brimston...   \n1  Portugal  This is ripe and fruity, a wine that is smooth...   \n2        US  Tart and snappy, the flavors of lime flesh and...   \n3        US  Pineapple rind, lemon pith and orange blossom ...   \n4        US  Much like the regular bottling from 2012, this...   \n\n                          designation  points  price           province  \\\n0                        Vulkà Bianco      87    NaN  Sicily & Sardinia   \n1                            Avidagos      87   15.0              Douro   \n2                                 NaN      87   14.0             Oregon   \n3                Reserve Late Harvest      87   13.0           Michigan   \n4  Vintner's Reserve Wild Child Block      87   65.0             Oregon   \n\n              region_1           region_2         taster_name  \\\n0                 Etna                NaN       Kerin O’Keefe   \n1                  NaN                NaN          Roger Voss   \n2    Willamette Valley  Willamette Valley        Paul Gregutt   \n3  Lake Michigan Shore                NaN  Alexander Peartree   \n4    Willamette Valley  Willamette Valley        Paul Gregutt   \n\n  taster_twitter_handle                                              title  \\\n0          @kerinokeefe                  Nicosia 2013 Vulkà Bianco  (Etna)   \n1            @vossroger      Quinta dos Avidagos 2011 Avidagos Red (Douro)   \n2           @paulgwine       Rainstorm 2013 Pinot Gris (Willamette Valley)   \n3                   NaN  St. Julian 2013 Reserve Late Harvest Riesling ...   \n4           @paulgwine   Sweet Cheeks 2012 Vintner's Reserve Wild Child...   \n\n          variety               winery  \n0     White Blend              Nicosia  \n1  Portuguese Red  Quinta dos Avidagos  \n2      Pinot Gris            Rainstorm  \n3        Riesling           St. Julian  \n4      Pinot Noir         Sweet Cheeks  ",
            "text/html": "<div>\n<style scoped>\n    .dataframe tbody tr th:only-of-type {\n        vertical-align: middle;\n    }\n\n    .dataframe tbody tr th {\n        vertical-align: top;\n    }\n\n    .dataframe thead th {\n        text-align: right;\n    }\n</style>\n<table border=\"1\" class=\"dataframe\">\n  <thead>\n    <tr style=\"text-align: right;\">\n      <th></th>\n      <th>country</th>\n      <th>description</th>\n      <th>designation</th>\n      <th>points</th>\n      <th>price</th>\n      <th>province</th>\n      <th>region_1</th>\n      <th>region_2</th>\n      <th>taster_name</th>\n      <th>taster_twitter_handle</th>\n      <th>title</th>\n      <th>variety</th>\n      <th>winery</th>\n    </tr>\n  </thead>\n  <tbody>\n    <tr>\n      <th>0</th>\n      <td>Italy</td>\n      <td>Aromas include tropical fruit, broom, brimston...</td>\n      <td>Vulkà Bianco</td>\n      <td>87</td>\n      <td>NaN</td>\n      <td>Sicily &amp; Sardinia</td>\n      <td>Etna</td>\n      <td>NaN</td>\n      <td>Kerin O’Keefe</td>\n      <td>@kerinokeefe</td>\n      <td>Nicosia 2013 Vulkà Bianco  (Etna)</td>\n      <td>White Blend</td>\n      <td>Nicosia</td>\n    </tr>\n    <tr>\n      <th>1</th>\n      <td>Portugal</td>\n      <td>This is ripe and fruity, a wine that is smooth...</td>\n      <td>Avidagos</td>\n      <td>87</td>\n      <td>15.0</td>\n      <td>Douro</td>\n      <td>NaN</td>\n      <td>NaN</td>\n      <td>Roger Voss</td>\n      <td>@vossroger</td>\n      <td>Quinta dos Avidagos 2011 Avidagos Red (Douro)</td>\n      <td>Portuguese Red</td>\n      <td>Quinta dos Avidagos</td>\n    </tr>\n    <tr>\n      <th>2</th>\n      <td>US</td>\n      <td>Tart and snappy, the flavors of lime flesh and...</td>\n      <td>NaN</td>\n      <td>87</td>\n      <td>14.0</td>\n      <td>Oregon</td>\n      <td>Willamette Valley</td>\n      <td>Willamette Valley</td>\n      <td>Paul Gregutt</td>\n      <td>@paulgwine</td>\n      <td>Rainstorm 2013 Pinot Gris (Willamette Valley)</td>\n      <td>Pinot Gris</td>\n      <td>Rainstorm</td>\n    </tr>\n    <tr>\n      <th>3</th>\n      <td>US</td>\n      <td>Pineapple rind, lemon pith and orange blossom ...</td>\n      <td>Reserve Late Harvest</td>\n      <td>87</td>\n      <td>13.0</td>\n      <td>Michigan</td>\n      <td>Lake Michigan Shore</td>\n      <td>NaN</td>\n      <td>Alexander Peartree</td>\n      <td>NaN</td>\n      <td>St. Julian 2013 Reserve Late Harvest Riesling ...</td>\n      <td>Riesling</td>\n      <td>St. Julian</td>\n    </tr>\n    <tr>\n      <th>4</th>\n      <td>US</td>\n      <td>Much like the regular bottling from 2012, this...</td>\n      <td>Vintner's Reserve Wild Child Block</td>\n      <td>87</td>\n      <td>65.0</td>\n      <td>Oregon</td>\n      <td>Willamette Valley</td>\n      <td>Willamette Valley</td>\n      <td>Paul Gregutt</td>\n      <td>@paulgwine</td>\n      <td>Sweet Cheeks 2012 Vintner's Reserve Wild Child...</td>\n      <td>Pinot Noir</td>\n      <td>Sweet Cheeks</td>\n    </tr>\n  </tbody>\n</table>\n</div>"
          },
          "metadata": {}
        }
      ],
      "execution_count": null
    },
    {
      "cell_type": "markdown",
      "source": [
        "## 1.\n",
        "`region_1` and `region_2` are pretty uninformative names for locale columns in the dataset. Create a copy of `reviews` with these columns renamed to `region` and `locale`, respectively."
      ],
      "metadata": {
        "id": "WOc6AYa3uj4r"
      }
    },
    {
      "cell_type": "code",
      "source": [
        "# Your code here\n",
        "renamed = reviews.rename(columns={'region_1':'region', 'region_2':'locale'})\n",
        "\n",
        "# Check your answer\n",
        "q1.check()"
      ],
      "metadata": {
        "trusted": true,
        "execution": {
          "iopub.status.busy": "2025-04-12T15:45:00.590815Z",
          "iopub.execute_input": "2025-04-12T15:45:00.591121Z",
          "iopub.status.idle": "2025-04-12T15:45:00.611295Z",
          "shell.execute_reply.started": "2025-04-12T15:45:00.591095Z",
          "shell.execute_reply": "2025-04-12T15:45:00.610499Z"
        },
        "id": "-ABzRiEtuj4s",
        "outputId": "0fc323dc-6b35-4d63-ee5a-0cbdc8ea9d9e"
      },
      "outputs": [
        {
          "output_type": "display_data",
          "data": {
            "text/plain": "<IPython.core.display.Javascript object>",
            "application/javascript": "parent.postMessage({\"jupyterEvent\": \"custom.exercise_interaction\", \"data\": {\"outcomeType\": 1, \"valueTowardsCompletion\": 0.25, \"interactionType\": 1, \"questionType\": 1, \"questionId\": \"1_RenameCols\", \"learnToolsVersion\": \"0.3.5\", \"failureMessage\": \"\", \"exceptionClass\": \"\", \"trace\": \"\"}}, \"*\")"
          },
          "metadata": {}
        },
        {
          "output_type": "display_data",
          "data": {
            "text/plain": "Correct",
            "text/markdown": "<span style=\"color:#33cc33\">Correct</span>"
          },
          "metadata": {}
        }
      ],
      "execution_count": null
    },
    {
      "cell_type": "code",
      "source": [
        "#q1.hint()\n",
        "#q1.solution()"
      ],
      "metadata": {
        "trusted": true,
        "execution": {
          "iopub.status.busy": "2025-04-12T15:45:00.920736Z",
          "iopub.execute_input": "2025-04-12T15:45:00.921647Z",
          "iopub.status.idle": "2025-04-12T15:45:00.925046Z",
          "shell.execute_reply.started": "2025-04-12T15:45:00.921616Z",
          "shell.execute_reply": "2025-04-12T15:45:00.924114Z"
        },
        "id": "dpyKBGqauj4s"
      },
      "outputs": [],
      "execution_count": null
    },
    {
      "cell_type": "markdown",
      "source": [
        "## 2.\n",
        "Set the index name in the dataset to `wines`."
      ],
      "metadata": {
        "id": "VVY0gtmJuj4s"
      }
    },
    {
      "cell_type": "code",
      "source": [
        "reindexed = reviews.rename_axis(\"wines\",axis='rows')\n",
        "\n",
        "# Check your answer\n",
        "q2.check()"
      ],
      "metadata": {
        "trusted": true,
        "execution": {
          "iopub.status.busy": "2025-04-12T15:45:04.56043Z",
          "iopub.execute_input": "2025-04-12T15:45:04.560756Z",
          "iopub.status.idle": "2025-04-12T15:45:04.579308Z",
          "shell.execute_reply.started": "2025-04-12T15:45:04.56073Z",
          "shell.execute_reply": "2025-04-12T15:45:04.57862Z"
        },
        "id": "NOJBNDRTuj4s",
        "outputId": "09106c11-1791-4ad7-dac3-dc26a6714551"
      },
      "outputs": [
        {
          "output_type": "display_data",
          "data": {
            "text/plain": "<IPython.core.display.Javascript object>",
            "application/javascript": "parent.postMessage({\"jupyterEvent\": \"custom.exercise_interaction\", \"data\": {\"outcomeType\": 1, \"valueTowardsCompletion\": 0.25, \"interactionType\": 1, \"questionType\": 1, \"questionId\": \"2_RenameIndex\", \"learnToolsVersion\": \"0.3.5\", \"failureMessage\": \"\", \"exceptionClass\": \"\", \"trace\": \"\"}}, \"*\")"
          },
          "metadata": {}
        },
        {
          "output_type": "display_data",
          "data": {
            "text/plain": "Correct",
            "text/markdown": "<span style=\"color:#33cc33\">Correct</span>"
          },
          "metadata": {}
        }
      ],
      "execution_count": null
    },
    {
      "cell_type": "code",
      "source": [
        "#q2.hint()\n",
        "#q2.solution()"
      ],
      "metadata": {
        "trusted": true,
        "execution": {
          "iopub.status.busy": "2025-04-12T15:45:04.890329Z",
          "iopub.execute_input": "2025-04-12T15:45:04.890616Z",
          "iopub.status.idle": "2025-04-12T15:45:04.894324Z",
          "shell.execute_reply.started": "2025-04-12T15:45:04.890592Z",
          "shell.execute_reply": "2025-04-12T15:45:04.8936Z"
        },
        "id": "iDqIE2uGuj4s"
      },
      "outputs": [],
      "execution_count": null
    },
    {
      "cell_type": "markdown",
      "source": [
        "## 3.\n",
        "The [Things on Reddit](https://www.kaggle.com/residentmario/things-on-reddit/data) dataset includes product links from a selection of top-ranked forums (\"subreddits\") on reddit.com. Run the cell below to load a dataframe of products mentioned on the */r/gaming* subreddit and another dataframe for products mentioned on the *r//movies* subreddit."
      ],
      "metadata": {
        "id": "gfaO4z4Euj4s"
      }
    },
    {
      "cell_type": "code",
      "source": [
        "gaming_products = pd.read_csv(\"../input/things-on-reddit/top-things/top-things/reddits/g/gaming.csv\")\n",
        "gaming_products['subreddit'] = \"r/gaming\"\n",
        "movie_products = pd.read_csv(\"../input/things-on-reddit/top-things/top-things/reddits/m/movies.csv\")\n",
        "movie_products['subreddit'] = \"r/movies\""
      ],
      "metadata": {
        "trusted": true,
        "execution": {
          "iopub.status.busy": "2025-04-12T15:45:11.451413Z",
          "iopub.execute_input": "2025-04-12T15:45:11.452022Z",
          "iopub.status.idle": "2025-04-12T15:45:11.470795Z",
          "shell.execute_reply.started": "2025-04-12T15:45:11.451991Z",
          "shell.execute_reply": "2025-04-12T15:45:11.470065Z"
        },
        "id": "_noUiHgcuj4s"
      },
      "outputs": [],
      "execution_count": null
    },
    {
      "cell_type": "markdown",
      "source": [
        "Create a `DataFrame` of products mentioned on *either* subreddit."
      ],
      "metadata": {
        "id": "xqlGJu6Puj4t"
      }
    },
    {
      "cell_type": "code",
      "source": [
        "gaming_products.head()"
      ],
      "metadata": {
        "trusted": true,
        "execution": {
          "iopub.status.busy": "2025-04-12T15:45:45.85127Z",
          "iopub.execute_input": "2025-04-12T15:45:45.85201Z",
          "iopub.status.idle": "2025-04-12T15:45:45.862272Z",
          "shell.execute_reply.started": "2025-04-12T15:45:45.85198Z",
          "shell.execute_reply": "2025-04-12T15:45:45.861385Z"
        },
        "id": "7_c0nu5luj4t",
        "outputId": "47eaad11-3bcd-4eef-800d-6bed9170b37d"
      },
      "outputs": [
        {
          "execution_count": 8,
          "output_type": "execute_result",
          "data": {
            "text/plain": "                                                name      category  \\\n0               BOOMco Halo Covenant Needler Blaster  Toys & Games   \n1  Raspberry PI 3 Model B 1.2GHz 64-bit quad-core...   Electronics   \n2  CanaKit 5V 2.5A Raspberry Pi 3 Power Supply / ...   Electronics   \n3  Panasonic K-KJ17MCA4BA Advanced Individual Cel...   Electronics   \n4  Mayflash GameCube Controller Adapter for Wii U...   Electronics   \n\n                                         amazon_link  total_mentions  \\\n0  https://www.amazon.com/BOOMco-Halo-Covenant-Ne...             4.0   \n1  https://www.amazon.com/Raspberry-Model-A1-2GHz...            19.0   \n2  https://www.amazon.com/CanaKit-Raspberry-Suppl...             7.0   \n3  https://www.amazon.com/Panasonic-Advanced-Indi...            29.0   \n4  https://www.amazon.com/GameCube-Controller-Ada...            24.0   \n\n   subreddit_mentions subreddit  \n0                   4  r/gaming  \n1                   3  r/gaming  \n2                   3  r/gaming  \n3                   2  r/gaming  \n4                   2  r/gaming  ",
            "text/html": "<div>\n<style scoped>\n    .dataframe tbody tr th:only-of-type {\n        vertical-align: middle;\n    }\n\n    .dataframe tbody tr th {\n        vertical-align: top;\n    }\n\n    .dataframe thead th {\n        text-align: right;\n    }\n</style>\n<table border=\"1\" class=\"dataframe\">\n  <thead>\n    <tr style=\"text-align: right;\">\n      <th></th>\n      <th>name</th>\n      <th>category</th>\n      <th>amazon_link</th>\n      <th>total_mentions</th>\n      <th>subreddit_mentions</th>\n      <th>subreddit</th>\n    </tr>\n  </thead>\n  <tbody>\n    <tr>\n      <th>0</th>\n      <td>BOOMco Halo Covenant Needler Blaster</td>\n      <td>Toys &amp; Games</td>\n      <td>https://www.amazon.com/BOOMco-Halo-Covenant-Ne...</td>\n      <td>4.0</td>\n      <td>4</td>\n      <td>r/gaming</td>\n    </tr>\n    <tr>\n      <th>1</th>\n      <td>Raspberry PI 3 Model B 1.2GHz 64-bit quad-core...</td>\n      <td>Electronics</td>\n      <td>https://www.amazon.com/Raspberry-Model-A1-2GHz...</td>\n      <td>19.0</td>\n      <td>3</td>\n      <td>r/gaming</td>\n    </tr>\n    <tr>\n      <th>2</th>\n      <td>CanaKit 5V 2.5A Raspberry Pi 3 Power Supply / ...</td>\n      <td>Electronics</td>\n      <td>https://www.amazon.com/CanaKit-Raspberry-Suppl...</td>\n      <td>7.0</td>\n      <td>3</td>\n      <td>r/gaming</td>\n    </tr>\n    <tr>\n      <th>3</th>\n      <td>Panasonic K-KJ17MCA4BA Advanced Individual Cel...</td>\n      <td>Electronics</td>\n      <td>https://www.amazon.com/Panasonic-Advanced-Indi...</td>\n      <td>29.0</td>\n      <td>2</td>\n      <td>r/gaming</td>\n    </tr>\n    <tr>\n      <th>4</th>\n      <td>Mayflash GameCube Controller Adapter for Wii U...</td>\n      <td>Electronics</td>\n      <td>https://www.amazon.com/GameCube-Controller-Ada...</td>\n      <td>24.0</td>\n      <td>2</td>\n      <td>r/gaming</td>\n    </tr>\n  </tbody>\n</table>\n</div>"
          },
          "metadata": {}
        }
      ],
      "execution_count": null
    },
    {
      "cell_type": "code",
      "source": [
        "combined_products = pd.concat([gaming_products, movie_products])\n",
        "\n",
        "# Check your answer\n",
        "q3.check()"
      ],
      "metadata": {
        "trusted": true,
        "execution": {
          "iopub.status.busy": "2025-04-12T15:47:21.121027Z",
          "iopub.execute_input": "2025-04-12T15:47:21.121868Z",
          "iopub.status.idle": "2025-04-12T15:47:21.131837Z",
          "shell.execute_reply.started": "2025-04-12T15:47:21.121837Z",
          "shell.execute_reply": "2025-04-12T15:47:21.130984Z"
        },
        "id": "-8_6ixSsuj4t",
        "outputId": "55590c71-07f0-41a8-d877-df6fbb027829"
      },
      "outputs": [
        {
          "output_type": "display_data",
          "data": {
            "text/plain": "<IPython.core.display.Javascript object>",
            "application/javascript": "parent.postMessage({\"jupyterEvent\": \"custom.exercise_interaction\", \"data\": {\"outcomeType\": 1, \"valueTowardsCompletion\": 0.25, \"interactionType\": 1, \"questionType\": 2, \"questionId\": \"3_ConcatReddit\", \"learnToolsVersion\": \"0.3.5\", \"failureMessage\": \"\", \"exceptionClass\": \"\", \"trace\": \"\"}}, \"*\")"
          },
          "metadata": {}
        },
        {
          "output_type": "display_data",
          "data": {
            "text/plain": "Correct",
            "text/markdown": "<span style=\"color:#33cc33\">Correct</span>"
          },
          "metadata": {}
        }
      ],
      "execution_count": null
    },
    {
      "cell_type": "code",
      "source": [
        "#q3.hint()\n",
        "#q3.solution()\n",
        "gaming_products.head()"
      ],
      "metadata": {
        "trusted": true,
        "execution": {
          "iopub.status.busy": "2025-04-12T15:47:23.720241Z",
          "iopub.execute_input": "2025-04-12T15:47:23.720548Z",
          "iopub.status.idle": "2025-04-12T15:47:23.730924Z",
          "shell.execute_reply.started": "2025-04-12T15:47:23.720524Z",
          "shell.execute_reply": "2025-04-12T15:47:23.730215Z"
        },
        "id": "N5OSdHevuj4t",
        "outputId": "eb7b3750-ca92-465b-94d5-d97d0bb2591c"
      },
      "outputs": [
        {
          "execution_count": 10,
          "output_type": "execute_result",
          "data": {
            "text/plain": "                                                name      category  \\\n0               BOOMco Halo Covenant Needler Blaster  Toys & Games   \n1  Raspberry PI 3 Model B 1.2GHz 64-bit quad-core...   Electronics   \n2  CanaKit 5V 2.5A Raspberry Pi 3 Power Supply / ...   Electronics   \n3  Panasonic K-KJ17MCA4BA Advanced Individual Cel...   Electronics   \n4  Mayflash GameCube Controller Adapter for Wii U...   Electronics   \n\n                                         amazon_link  total_mentions  \\\n0  https://www.amazon.com/BOOMco-Halo-Covenant-Ne...             4.0   \n1  https://www.amazon.com/Raspberry-Model-A1-2GHz...            19.0   \n2  https://www.amazon.com/CanaKit-Raspberry-Suppl...             7.0   \n3  https://www.amazon.com/Panasonic-Advanced-Indi...            29.0   \n4  https://www.amazon.com/GameCube-Controller-Ada...            24.0   \n\n   subreddit_mentions subreddit  \n0                   4  r/gaming  \n1                   3  r/gaming  \n2                   3  r/gaming  \n3                   2  r/gaming  \n4                   2  r/gaming  ",
            "text/html": "<div>\n<style scoped>\n    .dataframe tbody tr th:only-of-type {\n        vertical-align: middle;\n    }\n\n    .dataframe tbody tr th {\n        vertical-align: top;\n    }\n\n    .dataframe thead th {\n        text-align: right;\n    }\n</style>\n<table border=\"1\" class=\"dataframe\">\n  <thead>\n    <tr style=\"text-align: right;\">\n      <th></th>\n      <th>name</th>\n      <th>category</th>\n      <th>amazon_link</th>\n      <th>total_mentions</th>\n      <th>subreddit_mentions</th>\n      <th>subreddit</th>\n    </tr>\n  </thead>\n  <tbody>\n    <tr>\n      <th>0</th>\n      <td>BOOMco Halo Covenant Needler Blaster</td>\n      <td>Toys &amp; Games</td>\n      <td>https://www.amazon.com/BOOMco-Halo-Covenant-Ne...</td>\n      <td>4.0</td>\n      <td>4</td>\n      <td>r/gaming</td>\n    </tr>\n    <tr>\n      <th>1</th>\n      <td>Raspberry PI 3 Model B 1.2GHz 64-bit quad-core...</td>\n      <td>Electronics</td>\n      <td>https://www.amazon.com/Raspberry-Model-A1-2GHz...</td>\n      <td>19.0</td>\n      <td>3</td>\n      <td>r/gaming</td>\n    </tr>\n    <tr>\n      <th>2</th>\n      <td>CanaKit 5V 2.5A Raspberry Pi 3 Power Supply / ...</td>\n      <td>Electronics</td>\n      <td>https://www.amazon.com/CanaKit-Raspberry-Suppl...</td>\n      <td>7.0</td>\n      <td>3</td>\n      <td>r/gaming</td>\n    </tr>\n    <tr>\n      <th>3</th>\n      <td>Panasonic K-KJ17MCA4BA Advanced Individual Cel...</td>\n      <td>Electronics</td>\n      <td>https://www.amazon.com/Panasonic-Advanced-Indi...</td>\n      <td>29.0</td>\n      <td>2</td>\n      <td>r/gaming</td>\n    </tr>\n    <tr>\n      <th>4</th>\n      <td>Mayflash GameCube Controller Adapter for Wii U...</td>\n      <td>Electronics</td>\n      <td>https://www.amazon.com/GameCube-Controller-Ada...</td>\n      <td>24.0</td>\n      <td>2</td>\n      <td>r/gaming</td>\n    </tr>\n  </tbody>\n</table>\n</div>"
          },
          "metadata": {}
        }
      ],
      "execution_count": null
    },
    {
      "cell_type": "markdown",
      "source": [
        "## 4.\n",
        "The [Powerlifting Database](https://www.kaggle.com/open-powerlifting/powerlifting-database) dataset on Kaggle includes one CSV table for powerlifting meets and a separate one for powerlifting competitors. Run the cell below to load these datasets into dataframes:"
      ],
      "metadata": {
        "id": "Dq69CxW-uj4t"
      }
    },
    {
      "cell_type": "code",
      "source": [
        "powerlifting_meets = pd.read_csv(\"../input/powerlifting-database/meets.csv\")\n",
        "powerlifting_competitors = pd.read_csv(\"../input/powerlifting-database/openpowerlifting.csv\")"
      ],
      "metadata": {
        "trusted": true,
        "execution": {
          "iopub.status.busy": "2025-04-12T15:47:34.301078Z",
          "iopub.execute_input": "2025-04-12T15:47:34.301358Z",
          "iopub.status.idle": "2025-04-12T15:47:35.05317Z",
          "shell.execute_reply.started": "2025-04-12T15:47:34.301337Z",
          "shell.execute_reply": "2025-04-12T15:47:35.052412Z"
        },
        "id": "r2PNpBZEuj4t"
      },
      "outputs": [],
      "execution_count": null
    },
    {
      "cell_type": "markdown",
      "source": [
        "Both tables include references to a `MeetID`, a unique key for each meet (competition) included in the database. Using this, generate a dataset combining the two tables into one."
      ],
      "metadata": {
        "id": "CTQN8TAZuj4t"
      }
    },
    {
      "cell_type": "code",
      "source": [
        "a = powerlifting_meets.set_index(['MeetID'])\n",
        "b = powerlifting_competitors.set_index(['MeetID'])\n",
        "powerlifting_combined = a.join(b)\n",
        "powerlifting_combined\n",
        "\n",
        "# Check your answer\n",
        "q4.check()"
      ],
      "metadata": {
        "trusted": true,
        "execution": {
          "iopub.status.busy": "2025-04-12T15:55:00.920484Z",
          "iopub.execute_input": "2025-04-12T15:55:00.920812Z",
          "iopub.status.idle": "2025-04-12T15:55:01.283799Z",
          "shell.execute_reply.started": "2025-04-12T15:55:00.920787Z",
          "shell.execute_reply": "2025-04-12T15:55:01.283105Z"
        },
        "id": "-8DIocRKuj4t",
        "outputId": "aa84caec-d136-4ec8-a8ba-bbfdc1540521"
      },
      "outputs": [
        {
          "output_type": "display_data",
          "data": {
            "text/plain": "<IPython.core.display.Javascript object>",
            "application/javascript": "parent.postMessage({\"jupyterEvent\": \"custom.exercise_interaction\", \"data\": {\"outcomeType\": 2, \"failureMessage\": \"Incorrect value for DataFrame `powerlifting_combined`\", \"interactionType\": 1, \"questionType\": 2, \"questionId\": \"4_JoinLifting\", \"learnToolsVersion\": \"0.3.5\", \"valueTowardsCompletion\": 0.0, \"exceptionClass\": \"\", \"trace\": \"\"}}, \"*\")"
          },
          "metadata": {}
        },
        {
          "output_type": "display_data",
          "data": {
            "text/plain": "Incorrect: Incorrect value for DataFrame `powerlifting_combined`",
            "text/markdown": "<span style=\"color:#cc3333\">Incorrect:</span> Incorrect value for DataFrame `powerlifting_combined`"
          },
          "metadata": {}
        }
      ],
      "execution_count": null
    },
    {
      "cell_type": "code",
      "source": [
        "a = powerlifting_meets.set_index(['MeetID'])\n",
        "b = powerlifting_competitors.set_index(['MeetID'])\n",
        "powerlifting_combined = a.join(b)\n",
        "powerlifting_combined\n",
        "#q4.hint()\n",
        "#q4.solution()\n"
      ],
      "metadata": {
        "trusted": true,
        "execution": {
          "iopub.status.busy": "2025-04-12T15:59:11.830177Z",
          "iopub.execute_input": "2025-04-12T15:59:11.830815Z",
          "iopub.status.idle": "2025-04-12T15:59:12.266481Z",
          "shell.execute_reply.started": "2025-04-12T15:59:11.830788Z",
          "shell.execute_reply": "2025-04-12T15:59:12.265745Z"
        },
        "id": "CjYINBjMuj4t",
        "outputId": "1f991817-6e22-4ca9-e106-e74418d3b0d2"
      },
      "outputs": [
        {
          "name": "stderr",
          "text": "/usr/local/lib/python3.11/dist-packages/pandas/io/formats/format.py:1458: RuntimeWarning: invalid value encountered in greater\n  has_large_values = (abs_vals > 1e6).any()\n/usr/local/lib/python3.11/dist-packages/pandas/io/formats/format.py:1459: RuntimeWarning: invalid value encountered in less\n  has_small_values = ((abs_vals < 10 ** (-self.digits)) & (abs_vals > 0)).any()\n/usr/local/lib/python3.11/dist-packages/pandas/io/formats/format.py:1459: RuntimeWarning: invalid value encountered in greater\n  has_small_values = ((abs_vals < 10 ** (-self.digits)) & (abs_vals > 0)).any()\n/usr/local/lib/python3.11/dist-packages/pandas/io/formats/format.py:1458: RuntimeWarning: invalid value encountered in greater\n  has_large_values = (abs_vals > 1e6).any()\n/usr/local/lib/python3.11/dist-packages/pandas/io/formats/format.py:1459: RuntimeWarning: invalid value encountered in less\n  has_small_values = ((abs_vals < 10 ** (-self.digits)) & (abs_vals > 0)).any()\n/usr/local/lib/python3.11/dist-packages/pandas/io/formats/format.py:1459: RuntimeWarning: invalid value encountered in greater\n  has_small_values = ((abs_vals < 10 ** (-self.digits)) & (abs_vals > 0)).any()\n",
          "output_type": "stream"
        },
        {
          "execution_count": 22,
          "output_type": "execute_result",
          "data": {
            "text/plain": "               MeetPath Federation        Date MeetCountry MeetState  \\\nMeetID                                                                 \n0        365strong/1601  365Strong  2016-10-29         USA        NC   \n0        365strong/1601  365Strong  2016-10-29         USA        NC   \n0        365strong/1601  365Strong  2016-10-29         USA        NC   \n0        365strong/1601  365Strong  2016-10-29         USA        NC   \n0        365strong/1601  365Strong  2016-10-29         USA        NC   \n...                 ...        ...         ...         ...       ...   \n8481    xpc/2017-finals        XPC  2017-03-03         USA        OH   \n8481    xpc/2017-finals        XPC  2017-03-03         USA        OH   \n8481    xpc/2017-finals        XPC  2017-03-03         USA        OH   \n8481    xpc/2017-finals        XPC  2017-03-03         USA        OH   \n8481    xpc/2017-finals        XPC  2017-03-03         USA        OH   \n\n         MeetTown                                           MeetName  \\\nMeetID                                                                 \n0       Charlotte  2016 Junior & Senior National Powerlifting Cha...   \n0       Charlotte  2016 Junior & Senior National Powerlifting Cha...   \n0       Charlotte  2016 Junior & Senior National Powerlifting Cha...   \n0       Charlotte  2016 Junior & Senior National Powerlifting Cha...   \n0       Charlotte  2016 Junior & Senior National Powerlifting Cha...   \n...           ...                                                ...   \n8481     Columbus                                    2017 XPC Finals   \n8481     Columbus                                    2017 XPC Finals   \n8481     Columbus                                    2017 XPC Finals   \n8481     Columbus                                    2017 XPC Finals   \n8481     Columbus                                    2017 XPC Finals   \n\n                    Name Sex   Equipment  ...  WeightClassKg Squat4Kg  \\\nMeetID                                    ...                           \n0       Angie Belk Terry   F       Wraps  ...             60      NaN   \n0            Dawn Bogart   F  Single-ply  ...             60      NaN   \n0            Dawn Bogart   F  Single-ply  ...             60      NaN   \n0            Dawn Bogart   F         Raw  ...             60      NaN   \n0           Destiny Dula   F         Raw  ...           67.5      NaN   \n...                  ...  ..         ...  ...            ...      ...   \n8481     William Barabas   M   Multi-ply  ...            125      NaN   \n8481        Justin Zottl   M   Multi-ply  ...            125      NaN   \n8481       Jake Anderson   M   Multi-ply  ...            125      NaN   \n8481      Jeff Bumanglag   M   Multi-ply  ...            140      NaN   \n8481       Shane Hammock   M   Multi-ply  ...            140      NaN   \n\n        BestSquatKg Bench4Kg  BestBenchKg  Deadlift4Kg  BestDeadliftKg  \\\nMeetID                                                                   \n0             47.63      NaN        20.41          NaN           70.31   \n0            142.88      NaN        95.25          NaN          163.29   \n0            142.88      NaN        95.25          NaN          163.29   \n0               NaN      NaN        95.25          NaN             NaN   \n0               NaN      NaN        31.75          NaN           90.72   \n...             ...      ...          ...          ...             ...   \n8481            NaN      NaN          NaN          NaN          347.50   \n8481            NaN      NaN          NaN          NaN          322.50   \n8481            NaN      NaN          NaN          NaN          367.50   \n8481            NaN      NaN          NaN          NaN          320.00   \n8481            NaN      NaN          NaN          NaN          362.50   \n\n        TotalKg  Place   Wilks  \nMeetID                          \n0        138.35      1  155.05  \n0        401.42      1  456.38  \n0        401.42      1  456.38  \n0         95.25      1  108.29  \n0        122.47      1  130.47  \n...         ...    ...     ...  \n8481     347.50      2  202.60  \n8481     322.50      3  185.77  \n8481     367.50      1  211.17  \n8481     320.00      3  181.85  \n8481     362.50      2  205.18  \n\n[386414 rows x 23 columns]",
            "text/html": "<div>\n<style scoped>\n    .dataframe tbody tr th:only-of-type {\n        vertical-align: middle;\n    }\n\n    .dataframe tbody tr th {\n        vertical-align: top;\n    }\n\n    .dataframe thead th {\n        text-align: right;\n    }\n</style>\n<table border=\"1\" class=\"dataframe\">\n  <thead>\n    <tr style=\"text-align: right;\">\n      <th></th>\n      <th>MeetPath</th>\n      <th>Federation</th>\n      <th>Date</th>\n      <th>MeetCountry</th>\n      <th>MeetState</th>\n      <th>MeetTown</th>\n      <th>MeetName</th>\n      <th>Name</th>\n      <th>Sex</th>\n      <th>Equipment</th>\n      <th>...</th>\n      <th>WeightClassKg</th>\n      <th>Squat4Kg</th>\n      <th>BestSquatKg</th>\n      <th>Bench4Kg</th>\n      <th>BestBenchKg</th>\n      <th>Deadlift4Kg</th>\n      <th>BestDeadliftKg</th>\n      <th>TotalKg</th>\n      <th>Place</th>\n      <th>Wilks</th>\n    </tr>\n    <tr>\n      <th>MeetID</th>\n      <th></th>\n      <th></th>\n      <th></th>\n      <th></th>\n      <th></th>\n      <th></th>\n      <th></th>\n      <th></th>\n      <th></th>\n      <th></th>\n      <th></th>\n      <th></th>\n      <th></th>\n      <th></th>\n      <th></th>\n      <th></th>\n      <th></th>\n      <th></th>\n      <th></th>\n      <th></th>\n      <th></th>\n    </tr>\n  </thead>\n  <tbody>\n    <tr>\n      <th>0</th>\n      <td>365strong/1601</td>\n      <td>365Strong</td>\n      <td>2016-10-29</td>\n      <td>USA</td>\n      <td>NC</td>\n      <td>Charlotte</td>\n      <td>2016 Junior &amp; Senior National Powerlifting Cha...</td>\n      <td>Angie Belk Terry</td>\n      <td>F</td>\n      <td>Wraps</td>\n      <td>...</td>\n      <td>60</td>\n      <td>NaN</td>\n      <td>47.63</td>\n      <td>NaN</td>\n      <td>20.41</td>\n      <td>NaN</td>\n      <td>70.31</td>\n      <td>138.35</td>\n      <td>1</td>\n      <td>155.05</td>\n    </tr>\n    <tr>\n      <th>0</th>\n      <td>365strong/1601</td>\n      <td>365Strong</td>\n      <td>2016-10-29</td>\n      <td>USA</td>\n      <td>NC</td>\n      <td>Charlotte</td>\n      <td>2016 Junior &amp; Senior National Powerlifting Cha...</td>\n      <td>Dawn Bogart</td>\n      <td>F</td>\n      <td>Single-ply</td>\n      <td>...</td>\n      <td>60</td>\n      <td>NaN</td>\n      <td>142.88</td>\n      <td>NaN</td>\n      <td>95.25</td>\n      <td>NaN</td>\n      <td>163.29</td>\n      <td>401.42</td>\n      <td>1</td>\n      <td>456.38</td>\n    </tr>\n    <tr>\n      <th>0</th>\n      <td>365strong/1601</td>\n      <td>365Strong</td>\n      <td>2016-10-29</td>\n      <td>USA</td>\n      <td>NC</td>\n      <td>Charlotte</td>\n      <td>2016 Junior &amp; Senior National Powerlifting Cha...</td>\n      <td>Dawn Bogart</td>\n      <td>F</td>\n      <td>Single-ply</td>\n      <td>...</td>\n      <td>60</td>\n      <td>NaN</td>\n      <td>142.88</td>\n      <td>NaN</td>\n      <td>95.25</td>\n      <td>NaN</td>\n      <td>163.29</td>\n      <td>401.42</td>\n      <td>1</td>\n      <td>456.38</td>\n    </tr>\n    <tr>\n      <th>0</th>\n      <td>365strong/1601</td>\n      <td>365Strong</td>\n      <td>2016-10-29</td>\n      <td>USA</td>\n      <td>NC</td>\n      <td>Charlotte</td>\n      <td>2016 Junior &amp; Senior National Powerlifting Cha...</td>\n      <td>Dawn Bogart</td>\n      <td>F</td>\n      <td>Raw</td>\n      <td>...</td>\n      <td>60</td>\n      <td>NaN</td>\n      <td>NaN</td>\n      <td>NaN</td>\n      <td>95.25</td>\n      <td>NaN</td>\n      <td>NaN</td>\n      <td>95.25</td>\n      <td>1</td>\n      <td>108.29</td>\n    </tr>\n    <tr>\n      <th>0</th>\n      <td>365strong/1601</td>\n      <td>365Strong</td>\n      <td>2016-10-29</td>\n      <td>USA</td>\n      <td>NC</td>\n      <td>Charlotte</td>\n      <td>2016 Junior &amp; Senior National Powerlifting Cha...</td>\n      <td>Destiny Dula</td>\n      <td>F</td>\n      <td>Raw</td>\n      <td>...</td>\n      <td>67.5</td>\n      <td>NaN</td>\n      <td>NaN</td>\n      <td>NaN</td>\n      <td>31.75</td>\n      <td>NaN</td>\n      <td>90.72</td>\n      <td>122.47</td>\n      <td>1</td>\n      <td>130.47</td>\n    </tr>\n    <tr>\n      <th>...</th>\n      <td>...</td>\n      <td>...</td>\n      <td>...</td>\n      <td>...</td>\n      <td>...</td>\n      <td>...</td>\n      <td>...</td>\n      <td>...</td>\n      <td>...</td>\n      <td>...</td>\n      <td>...</td>\n      <td>...</td>\n      <td>...</td>\n      <td>...</td>\n      <td>...</td>\n      <td>...</td>\n      <td>...</td>\n      <td>...</td>\n      <td>...</td>\n      <td>...</td>\n      <td>...</td>\n    </tr>\n    <tr>\n      <th>8481</th>\n      <td>xpc/2017-finals</td>\n      <td>XPC</td>\n      <td>2017-03-03</td>\n      <td>USA</td>\n      <td>OH</td>\n      <td>Columbus</td>\n      <td>2017 XPC Finals</td>\n      <td>William Barabas</td>\n      <td>M</td>\n      <td>Multi-ply</td>\n      <td>...</td>\n      <td>125</td>\n      <td>NaN</td>\n      <td>NaN</td>\n      <td>NaN</td>\n      <td>NaN</td>\n      <td>NaN</td>\n      <td>347.50</td>\n      <td>347.50</td>\n      <td>2</td>\n      <td>202.60</td>\n    </tr>\n    <tr>\n      <th>8481</th>\n      <td>xpc/2017-finals</td>\n      <td>XPC</td>\n      <td>2017-03-03</td>\n      <td>USA</td>\n      <td>OH</td>\n      <td>Columbus</td>\n      <td>2017 XPC Finals</td>\n      <td>Justin Zottl</td>\n      <td>M</td>\n      <td>Multi-ply</td>\n      <td>...</td>\n      <td>125</td>\n      <td>NaN</td>\n      <td>NaN</td>\n      <td>NaN</td>\n      <td>NaN</td>\n      <td>NaN</td>\n      <td>322.50</td>\n      <td>322.50</td>\n      <td>3</td>\n      <td>185.77</td>\n    </tr>\n    <tr>\n      <th>8481</th>\n      <td>xpc/2017-finals</td>\n      <td>XPC</td>\n      <td>2017-03-03</td>\n      <td>USA</td>\n      <td>OH</td>\n      <td>Columbus</td>\n      <td>2017 XPC Finals</td>\n      <td>Jake Anderson</td>\n      <td>M</td>\n      <td>Multi-ply</td>\n      <td>...</td>\n      <td>125</td>\n      <td>NaN</td>\n      <td>NaN</td>\n      <td>NaN</td>\n      <td>NaN</td>\n      <td>NaN</td>\n      <td>367.50</td>\n      <td>367.50</td>\n      <td>1</td>\n      <td>211.17</td>\n    </tr>\n    <tr>\n      <th>8481</th>\n      <td>xpc/2017-finals</td>\n      <td>XPC</td>\n      <td>2017-03-03</td>\n      <td>USA</td>\n      <td>OH</td>\n      <td>Columbus</td>\n      <td>2017 XPC Finals</td>\n      <td>Jeff Bumanglag</td>\n      <td>M</td>\n      <td>Multi-ply</td>\n      <td>...</td>\n      <td>140</td>\n      <td>NaN</td>\n      <td>NaN</td>\n      <td>NaN</td>\n      <td>NaN</td>\n      <td>NaN</td>\n      <td>320.00</td>\n      <td>320.00</td>\n      <td>3</td>\n      <td>181.85</td>\n    </tr>\n    <tr>\n      <th>8481</th>\n      <td>xpc/2017-finals</td>\n      <td>XPC</td>\n      <td>2017-03-03</td>\n      <td>USA</td>\n      <td>OH</td>\n      <td>Columbus</td>\n      <td>2017 XPC Finals</td>\n      <td>Shane Hammock</td>\n      <td>M</td>\n      <td>Multi-ply</td>\n      <td>...</td>\n      <td>140</td>\n      <td>NaN</td>\n      <td>NaN</td>\n      <td>NaN</td>\n      <td>NaN</td>\n      <td>NaN</td>\n      <td>362.50</td>\n      <td>362.50</td>\n      <td>2</td>\n      <td>205.18</td>\n    </tr>\n  </tbody>\n</table>\n<p>386414 rows × 23 columns</p>\n</div>"
          },
          "metadata": {}
        }
      ],
      "execution_count": null
    },
    {
      "cell_type": "markdown",
      "source": [
        "# Congratulations!\n",
        "\n",
        "You've finished the Pandas micro-course.  Many data scientists feel efficiency with Pandas is the most useful and practical skill they have, because it allows you to progress quickly in any project you have.\n",
        "\n",
        "If you'd like to apply your new skills to examining geospatial data, you're encouraged to check out our **[Geospatial Analysis](https://www.kaggle.com/learn/geospatial-analysis)** micro-course.\n",
        "\n",
        "You can also take advantage of your Pandas skills by entering a **[Kaggle Competition](https://www.kaggle.com/competitions)** or by answering a question you find interesting using **[Kaggle Datasets](https://www.kaggle.com/datasets)**."
      ],
      "metadata": {
        "id": "r4Ot4hIiuj4t"
      }
    },
    {
      "cell_type": "markdown",
      "source": [
        "---\n",
        "\n",
        "\n",
        "\n",
        "\n",
        "*Have questions or comments? Visit the [course discussion forum](https://www.kaggle.com/learn/pandas/discussion) to chat with other learners.*"
      ],
      "metadata": {
        "id": "j6rP71-duj4t"
      }
    }
  ]
}