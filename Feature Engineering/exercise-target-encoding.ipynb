{
 "cells": [
  {
   "cell_type": "markdown",
   "id": "ead7beb4",
   "metadata": {
    "papermill": {
     "duration": 0.010542,
     "end_time": "2025-04-28T07:45:45.088402",
     "exception": false,
     "start_time": "2025-04-28T07:45:45.077860",
     "status": "completed"
    },
    "tags": []
   },
   "source": [
    "**This notebook is an exercise in the [Feature Engineering](https://www.kaggle.com/learn/feature-engineering) course.  You can reference the tutorial at [this link](https://www.kaggle.com/ryanholbrook/target-encoding).**\n",
    "\n",
    "---\n"
   ]
  },
  {
   "cell_type": "markdown",
   "id": "033038e6",
   "metadata": {
    "papermill": {
     "duration": 0.00467,
     "end_time": "2025-04-28T07:45:45.099049",
     "exception": false,
     "start_time": "2025-04-28T07:45:45.094379",
     "status": "completed"
    },
    "tags": []
   },
   "source": [
    "# Introduction #\n",
    "\n",
    "In this exercise, you'll apply target encoding to features in the [*Ames*](https://www.kaggle.com/c/house-prices-advanced-regression-techniques/data) dataset.\n",
    "\n",
    "Run this cell to set everything up!"
   ]
  },
  {
   "cell_type": "code",
   "execution_count": 1,
   "id": "7a1680db",
   "metadata": {
    "execution": {
     "iopub.execute_input": "2025-04-28T07:45:45.110867Z",
     "iopub.status.busy": "2025-04-28T07:45:45.109945Z",
     "iopub.status.idle": "2025-04-28T07:45:50.330954Z",
     "shell.execute_reply": "2025-04-28T07:45:50.329900Z"
    },
    "papermill": {
     "duration": 5.228696,
     "end_time": "2025-04-28T07:45:50.332596",
     "exception": false,
     "start_time": "2025-04-28T07:45:45.103900",
     "status": "completed"
    },
    "tags": []
   },
   "outputs": [
    {
     "name": "stderr",
     "output_type": "stream",
     "text": [
      "/tmp/ipykernel_13/3788892820.py:16: MatplotlibDeprecationWarning: The seaborn styles shipped by Matplotlib are deprecated since 3.6, as they no longer correspond to the styles shipped by seaborn. However, they will remain available as 'seaborn-v0_8-<style>'. Alternatively, directly use the seaborn API instead.\n",
      "  plt.style.use(\"seaborn-whitegrid\")\n"
     ]
    }
   ],
   "source": [
    "# Setup feedback system\n",
    "from learntools.core import binder\n",
    "binder.bind(globals())\n",
    "from learntools.feature_engineering_new.ex6 import *\n",
    "\n",
    "import matplotlib.pyplot as plt\n",
    "import numpy as np\n",
    "import pandas as pd\n",
    "import seaborn as sns\n",
    "import warnings\n",
    "from category_encoders import MEstimateEncoder\n",
    "from sklearn.model_selection import cross_val_score\n",
    "from xgboost import XGBRegressor\n",
    "\n",
    "# Set Matplotlib defaults\n",
    "plt.style.use(\"seaborn-whitegrid\")\n",
    "plt.rc(\"figure\", autolayout=True)\n",
    "plt.rc(\n",
    "    \"axes\",\n",
    "    labelweight=\"bold\",\n",
    "    labelsize=\"large\",\n",
    "    titleweight=\"bold\",\n",
    "    titlesize=14,\n",
    "    titlepad=10,\n",
    ")\n",
    "warnings.filterwarnings('ignore')\n",
    "\n",
    "\n",
    "def score_dataset(X, y, model=XGBRegressor()):\n",
    "    # Label encoding for categoricals\n",
    "    for colname in X.select_dtypes([\"category\", \"object\"]):\n",
    "        X[colname], _ = X[colname].factorize()\n",
    "    # Metric for Housing competition is RMSLE (Root Mean Squared Log Error)\n",
    "    score = cross_val_score(\n",
    "        model, X, y, cv=5, scoring=\"neg_mean_squared_log_error\",\n",
    "    )\n",
    "    score = -1 * score.mean()\n",
    "    score = np.sqrt(score)\n",
    "    return score\n",
    "\n",
    "\n",
    "df = pd.read_csv(\"../input/fe-course-data/ames.csv\")"
   ]
  },
  {
   "cell_type": "markdown",
   "id": "6108a5d9",
   "metadata": {
    "papermill": {
     "duration": 0.004979,
     "end_time": "2025-04-28T07:45:50.343426",
     "exception": false,
     "start_time": "2025-04-28T07:45:50.338447",
     "status": "completed"
    },
    "tags": []
   },
   "source": [
    "-------------------------------------------------------------------------------\n",
    "\n",
    "First you'll need to choose which features you want to apply a target encoding to. Categorical features with a large number of categories are often good candidates. Run this cell to see how many categories each categorical feature in the *Ames* dataset has."
   ]
  },
  {
   "cell_type": "code",
   "execution_count": 2,
   "id": "174c488d",
   "metadata": {
    "execution": {
     "iopub.execute_input": "2025-04-28T07:45:50.354665Z",
     "iopub.status.busy": "2025-04-28T07:45:50.354341Z",
     "iopub.status.idle": "2025-04-28T07:45:50.380751Z",
     "shell.execute_reply": "2025-04-28T07:45:50.379912Z"
    },
    "papermill": {
     "duration": 0.034049,
     "end_time": "2025-04-28T07:45:50.382474",
     "exception": false,
     "start_time": "2025-04-28T07:45:50.348425",
     "status": "completed"
    },
    "tags": []
   },
   "outputs": [
    {
     "data": {
      "text/plain": [
       "MSSubClass       16\n",
       "MSZoning          7\n",
       "Street            2\n",
       "Alley             3\n",
       "LotShape          4\n",
       "LandContour       4\n",
       "Utilities         3\n",
       "LotConfig         5\n",
       "LandSlope         3\n",
       "Neighborhood     28\n",
       "Condition1        9\n",
       "Condition2        8\n",
       "BldgType          5\n",
       "HouseStyle        8\n",
       "OverallQual      10\n",
       "OverallCond       9\n",
       "RoofStyle         6\n",
       "RoofMatl          8\n",
       "Exterior1st      16\n",
       "Exterior2nd      17\n",
       "MasVnrType        4\n",
       "ExterQual         4\n",
       "ExterCond         5\n",
       "Foundation        6\n",
       "BsmtQual          6\n",
       "BsmtCond          6\n",
       "BsmtExposure      5\n",
       "BsmtFinType1      7\n",
       "BsmtFinType2      7\n",
       "Heating           6\n",
       "HeatingQC         5\n",
       "CentralAir        2\n",
       "Electrical        6\n",
       "KitchenQual       5\n",
       "Functional        8\n",
       "FireplaceQu       6\n",
       "GarageType        7\n",
       "GarageFinish      4\n",
       "GarageQual        6\n",
       "GarageCond        6\n",
       "PavedDrive        3\n",
       "PoolQC            5\n",
       "Fence             5\n",
       "MiscFeature       5\n",
       "SaleType         10\n",
       "SaleCondition     6\n",
       "dtype: int64"
      ]
     },
     "execution_count": 2,
     "metadata": {},
     "output_type": "execute_result"
    }
   ],
   "source": [
    "df.select_dtypes([\"object\"]).nunique()\n",
    "#nunique 看unique的數量"
   ]
  },
  {
   "cell_type": "markdown",
   "id": "0b0ea3d7",
   "metadata": {
    "papermill": {
     "duration": 0.005132,
     "end_time": "2025-04-28T07:45:50.393017",
     "exception": false,
     "start_time": "2025-04-28T07:45:50.387885",
     "status": "completed"
    },
    "tags": []
   },
   "source": [
    "We talked about how the M-estimate encoding uses smoothing to improve estimates for rare categories. To see how many times a category occurs in the dataset, you can use the `value_counts` method. This cell shows the counts for `SaleType`, but you might want to consider others as well."
   ]
  },
  {
   "cell_type": "code",
   "execution_count": 3,
   "id": "e888dd1e",
   "metadata": {
    "execution": {
     "iopub.execute_input": "2025-04-28T07:45:50.405037Z",
     "iopub.status.busy": "2025-04-28T07:45:50.404215Z",
     "iopub.status.idle": "2025-04-28T07:45:50.415374Z",
     "shell.execute_reply": "2025-04-28T07:45:50.414593Z"
    },
    "papermill": {
     "duration": 0.01849,
     "end_time": "2025-04-28T07:45:50.416712",
     "exception": false,
     "start_time": "2025-04-28T07:45:50.398222",
     "status": "completed"
    },
    "tags": []
   },
   "outputs": [
    {
     "data": {
      "text/plain": [
       "SaleType\n",
       "WD       2536\n",
       "New       239\n",
       "COD        87\n",
       "ConLD      26\n",
       "CWD        12\n",
       "ConLI       9\n",
       "ConLw       8\n",
       "Oth         7\n",
       "Con         5\n",
       "VWD         1\n",
       "Name: count, dtype: int64"
      ]
     },
     "execution_count": 3,
     "metadata": {},
     "output_type": "execute_result"
    }
   ],
   "source": [
    "df[\"SaleType\"].value_counts()"
   ]
  },
  {
   "cell_type": "markdown",
   "id": "4210e884",
   "metadata": {
    "papermill": {
     "duration": 0.00495,
     "end_time": "2025-04-28T07:45:50.427021",
     "exception": false,
     "start_time": "2025-04-28T07:45:50.422071",
     "status": "completed"
    },
    "tags": []
   },
   "source": [
    "# 1) Choose Features for Encoding\n",
    "\n",
    "Which features did you identify for target encoding? After you've thought about your answer, run the next cell for some discussion."
   ]
  },
  {
   "cell_type": "code",
   "execution_count": 4,
   "id": "957d2cb8",
   "metadata": {
    "execution": {
     "iopub.execute_input": "2025-04-28T07:45:50.438715Z",
     "iopub.status.busy": "2025-04-28T07:45:50.438383Z",
     "iopub.status.idle": "2025-04-28T07:45:50.445533Z",
     "shell.execute_reply": "2025-04-28T07:45:50.444662Z"
    },
    "papermill": {
     "duration": 0.015017,
     "end_time": "2025-04-28T07:45:50.447331",
     "exception": false,
     "start_time": "2025-04-28T07:45:50.432314",
     "status": "completed"
    },
    "tags": []
   },
   "outputs": [
    {
     "data": {
      "application/javascript": [
       "parent.postMessage({\"jupyterEvent\": \"custom.exercise_interaction\", \"data\": {\"outcomeType\": 1, \"valueTowardsCompletion\": 0.3333333333333333, \"interactionType\": 1, \"questionType\": 4, \"questionId\": \"1_Q1\", \"learnToolsVersion\": \"0.3.5\", \"failureMessage\": \"\", \"exceptionClass\": \"\", \"trace\": \"\"}}, \"*\")"
      ],
      "text/plain": [
       "<IPython.core.display.Javascript object>"
      ]
     },
     "metadata": {},
     "output_type": "display_data"
    },
    {
     "data": {
      "text/markdown": [
       "<span style=\"color:#33cc33\">Correct:</span> \n",
       "\n",
       " The `Neighborhood` feature looks promising. It has the most categories of any feature, and several categories are rare. Others that could be worth considering are `SaleType`, `MSSubClass`, `Exterior1st`, `Exterior2nd`. In fact, almost any of the nominal features would be worth trying because of the prevalence of rare categories."
      ],
      "text/plain": [
       "Correct: \n",
       "\n",
       " The `Neighborhood` feature looks promising. It has the most categories of any feature, and several categories are rare. Others that could be worth considering are `SaleType`, `MSSubClass`, `Exterior1st`, `Exterior2nd`. In fact, almost any of the nominal features would be worth trying because of the prevalence of rare categories."
      ]
     },
     "metadata": {},
     "output_type": "display_data"
    }
   ],
   "source": [
    "# View the solution (Run this cell to receive credit!)\n",
    "q_1.check()"
   ]
  },
  {
   "cell_type": "markdown",
   "id": "95e5300b",
   "metadata": {
    "papermill": {
     "duration": 0.005258,
     "end_time": "2025-04-28T07:45:50.458220",
     "exception": false,
     "start_time": "2025-04-28T07:45:50.452962",
     "status": "completed"
    },
    "tags": []
   },
   "source": [
    "-------------------------------------------------------------------------------\n",
    "\n",
    "Now you'll apply a target encoding to your choice of feature. As we discussed in the tutorial, to avoid overfitting, we need to fit the encoder on data heldout from the training set. Run this cell to create the encoding and training splits:"
   ]
  },
  {
   "cell_type": "code",
   "execution_count": 5,
   "id": "c8bde0f0",
   "metadata": {
    "execution": {
     "iopub.execute_input": "2025-04-28T07:45:50.470168Z",
     "iopub.status.busy": "2025-04-28T07:45:50.469833Z",
     "iopub.status.idle": "2025-04-28T07:45:50.483969Z",
     "shell.execute_reply": "2025-04-28T07:45:50.483241Z"
    },
    "lines_to_next_cell": 2,
    "papermill": {
     "duration": 0.021961,
     "end_time": "2025-04-28T07:45:50.485571",
     "exception": false,
     "start_time": "2025-04-28T07:45:50.463610",
     "status": "completed"
    },
    "tags": []
   },
   "outputs": [],
   "source": [
    "# Encoding split\n",
    "X_encode = df.sample(frac=0.20, random_state=0)\n",
    "y_encode = X_encode.pop(\"SalePrice\")\n",
    "\n",
    "# Training split\n",
    "X_pretrain = df.drop(X_encode.index)\n",
    "y_train = X_pretrain.pop(\"SalePrice\")"
   ]
  },
  {
   "cell_type": "markdown",
   "id": "1be5bf83",
   "metadata": {
    "papermill": {
     "duration": 0.005286,
     "end_time": "2025-04-28T07:45:50.496562",
     "exception": false,
     "start_time": "2025-04-28T07:45:50.491276",
     "status": "completed"
    },
    "tags": []
   },
   "source": [
    "# 2) Apply M-Estimate Encoding\n",
    "\n",
    "Apply a target encoding to your choice of categorical features. Also choose a value for the smoothing parameter `m` (any value is okay for a correct answer)."
   ]
  },
  {
   "cell_type": "code",
   "execution_count": 6,
   "id": "23e6f80a",
   "metadata": {
    "execution": {
     "iopub.execute_input": "2025-04-28T07:45:50.509042Z",
     "iopub.status.busy": "2025-04-28T07:45:50.508195Z",
     "iopub.status.idle": "2025-04-28T07:45:50.515918Z",
     "shell.execute_reply": "2025-04-28T07:45:50.515192Z"
    },
    "papermill": {
     "duration": 0.015474,
     "end_time": "2025-04-28T07:45:50.517362",
     "exception": false,
     "start_time": "2025-04-28T07:45:50.501888",
     "status": "completed"
    },
    "tags": []
   },
   "outputs": [
    {
     "data": {
      "text/plain": [
       "Neighborhood\n",
       "North_Ames                                 443\n",
       "College_Creek                              267\n",
       "Old_Town                                   239\n",
       "Edwards                                    194\n",
       "Somerset                                   182\n",
       "Northridge_Heights                         166\n",
       "Gilbert                                    165\n",
       "Sawyer                                     151\n",
       "Northwest_Ames                             131\n",
       "Sawyer_West                                125\n",
       "Mitchell                                   114\n",
       "Brookside                                  108\n",
       "Crawford                                   103\n",
       "Iowa_DOT_and_Rail_Road                      93\n",
       "Timberland                                  72\n",
       "Northridge                                  71\n",
       "Stone_Brook                                 51\n",
       "South_and_West_of_Iowa_State_University     48\n",
       "Clear_Creek                                 44\n",
       "Meadow_Village                              37\n",
       "Briardale                                   30\n",
       "Bloomington_Heights                         28\n",
       "Veenker                                     24\n",
       "Northpark_Villa                             23\n",
       "Blueste                                     10\n",
       "Greens                                       8\n",
       "Green_Hills                                  2\n",
       "Landmark                                     1\n",
       "Name: count, dtype: int64"
      ]
     },
     "execution_count": 6,
     "metadata": {},
     "output_type": "execute_result"
    }
   ],
   "source": [
    "df[\"Neighborhood\"].value_counts()"
   ]
  },
  {
   "cell_type": "code",
   "execution_count": 7,
   "id": "1af8f6d5",
   "metadata": {
    "execution": {
     "iopub.execute_input": "2025-04-28T07:45:50.530275Z",
     "iopub.status.busy": "2025-04-28T07:45:50.529875Z",
     "iopub.status.idle": "2025-04-28T07:45:50.601927Z",
     "shell.execute_reply": "2025-04-28T07:45:50.601042Z"
    },
    "lines_to_next_cell": 0,
    "papermill": {
     "duration": 0.080385,
     "end_time": "2025-04-28T07:45:50.603329",
     "exception": false,
     "start_time": "2025-04-28T07:45:50.522944",
     "status": "completed"
    },
    "tags": []
   },
   "outputs": [
    {
     "data": {
      "application/javascript": [
       "parent.postMessage({\"jupyterEvent\": \"custom.exercise_interaction\", \"data\": {\"outcomeType\": 1, \"valueTowardsCompletion\": 0.3333333333333333, \"interactionType\": 1, \"questionType\": 2, \"questionId\": \"2_Q2\", \"learnToolsVersion\": \"0.3.5\", \"failureMessage\": \"\", \"exceptionClass\": \"\", \"trace\": \"\"}}, \"*\")"
      ],
      "text/plain": [
       "<IPython.core.display.Javascript object>"
      ]
     },
     "metadata": {},
     "output_type": "display_data"
    },
    {
     "data": {
      "text/markdown": [
       "<span style=\"color:#33cc33\">Correct</span>"
      ],
      "text/plain": [
       "Correct"
      ]
     },
     "metadata": {},
     "output_type": "display_data"
    }
   ],
   "source": [
    "# YOUR CODE HERE: Create the MEstimateEncoder\n",
    "# Choose a set of features to encode and a value for m\n",
    "encoder = MEstimateEncoder(cols=[\"Neighborhood\"], m = 4.0)\n",
    "\n",
    "\n",
    "\n",
    "# Fit the encoder on the encoding split\n",
    "encoder.fit(X_encode, y_encode)\n",
    "\n",
    "# Encode the training split\n",
    "X_train = encoder.transform(X_pretrain, y_train)\n",
    "\n",
    "\n",
    "# Check your answer\n",
    "q_2.check()"
   ]
  },
  {
   "cell_type": "code",
   "execution_count": 8,
   "id": "a206fa53",
   "metadata": {
    "execution": {
     "iopub.execute_input": "2025-04-28T07:45:50.616451Z",
     "iopub.status.busy": "2025-04-28T07:45:50.615756Z",
     "iopub.status.idle": "2025-04-28T07:45:50.623611Z",
     "shell.execute_reply": "2025-04-28T07:45:50.622702Z"
    },
    "lines_to_next_cell": 0,
    "papermill": {
     "duration": 0.015776,
     "end_time": "2025-04-28T07:45:50.625031",
     "exception": false,
     "start_time": "2025-04-28T07:45:50.609255",
     "status": "completed"
    },
    "tags": []
   },
   "outputs": [
    {
     "data": {
      "text/plain": [
       "0       144969.864017\n",
       "1       144969.864017\n",
       "2       144969.864017\n",
       "3       144969.864017\n",
       "4       190389.933249\n",
       "            ...      \n",
       "2924    157258.005895\n",
       "2925    157258.005895\n",
       "2926    157258.005895\n",
       "2927    157258.005895\n",
       "2929    157258.005895\n",
       "Name: Neighborhood, Length: 2344, dtype: float64"
      ]
     },
     "execution_count": 8,
     "metadata": {},
     "output_type": "execute_result"
    }
   ],
   "source": [
    "# Lines below will give you a hint or solution code\n",
    "#q_2.hint()\n",
    "#q_2.solution()\n",
    "X_train.Neighborhood"
   ]
  },
  {
   "cell_type": "markdown",
   "id": "824dade1",
   "metadata": {
    "papermill": {
     "duration": 0.00563,
     "end_time": "2025-04-28T07:45:50.636811",
     "exception": false,
     "start_time": "2025-04-28T07:45:50.631181",
     "status": "completed"
    },
    "tags": []
   },
   "source": [
    "If you'd like to see how the encoded feature compares to the target, you can run this cell:"
   ]
  },
  {
   "cell_type": "code",
   "execution_count": 9,
   "id": "5a98d1d5",
   "metadata": {
    "execution": {
     "iopub.execute_input": "2025-04-28T07:45:50.649772Z",
     "iopub.status.busy": "2025-04-28T07:45:50.649469Z",
     "iopub.status.idle": "2025-04-28T07:45:51.076360Z",
     "shell.execute_reply": "2025-04-28T07:45:51.075542Z"
    },
    "papermill": {
     "duration": 0.435341,
     "end_time": "2025-04-28T07:45:51.077953",
     "exception": false,
     "start_time": "2025-04-28T07:45:50.642612",
     "status": "completed"
    },
    "tags": []
   },
   "outputs": [
    {
     "data": {
      "image/png": "[encoded data removed]",
      "text/plain": [
       "<Figure size 576x432 with 1 Axes>"
      ]
     },
     "metadata": {},
     "output_type": "display_data"
    }
   ],
   "source": [
    "feature = encoder.cols\n",
    "\n",
    "plt.figure(dpi=90)\n",
    "ax = sns.distplot(y_train, kde=True, hist=False)\n",
    "ax = sns.distplot(X_train[feature], color='r', ax=ax, hist=True, kde=False, norm_hist=True)\n",
    "ax.set_xlabel(\"SalePrice\");"
   ]
  },
  {
   "cell_type": "markdown",
   "id": "092fb0aa",
   "metadata": {
    "papermill": {
     "duration": 0.00616,
     "end_time": "2025-04-28T07:45:51.090601",
     "exception": false,
     "start_time": "2025-04-28T07:45:51.084441",
     "status": "completed"
    },
    "tags": []
   },
   "source": [
    "From the distribution plots, does it seem like the encoding is informative?\n",
    "\n",
    "And this cell will show you the score of the encoded set compared to the original set:"
   ]
  },
  {
   "cell_type": "code",
   "execution_count": 10,
   "id": "3ed3ed77",
   "metadata": {
    "execution": {
     "iopub.execute_input": "2025-04-28T07:45:51.105346Z",
     "iopub.status.busy": "2025-04-28T07:45:51.104424Z",
     "iopub.status.idle": "2025-04-28T07:45:54.891831Z",
     "shell.execute_reply": "2025-04-28T07:45:54.891181Z"
    },
    "papermill": {
     "duration": 3.796357,
     "end_time": "2025-04-28T07:45:54.893448",
     "exception": false,
     "start_time": "2025-04-28T07:45:51.097091",
     "status": "completed"
    },
    "tags": []
   },
   "outputs": [
    {
     "name": "stdout",
     "output_type": "stream",
     "text": [
      "Baseline Score: 0.1434 RMSLE\n",
      "Score with Encoding: 0.1444 RMSLE\n"
     ]
    }
   ],
   "source": [
    "X = df.copy()\n",
    "y = X.pop(\"SalePrice\")\n",
    "score_base = score_dataset(X, y)\n",
    "score_new = score_dataset(X_train, y_train)\n",
    "\n",
    "print(f\"Baseline Score: {score_base:.4f} RMSLE\")\n",
    "print(f\"Score with Encoding: {score_new:.4f} RMSLE\")"
   ]
  },
  {
   "cell_type": "markdown",
   "id": "75bd6ac2",
   "metadata": {
    "papermill": {
     "duration": 0.006326,
     "end_time": "2025-04-28T07:45:54.906945",
     "exception": false,
     "start_time": "2025-04-28T07:45:54.900619",
     "status": "completed"
    },
    "tags": []
   },
   "source": [
    "Do you think that target encoding was worthwhile in this case? Depending on which feature or features you chose, you may have ended up with a score significantly worse than the baseline. In that case, it's likely the extra information gained by the encoding couldn't make up for the loss of data used for the encoding."
   ]
  },
  {
   "cell_type": "markdown",
   "id": "f78e105d",
   "metadata": {
    "papermill": {
     "duration": 0.006055,
     "end_time": "2025-04-28T07:45:54.919338",
     "exception": false,
     "start_time": "2025-04-28T07:45:54.913283",
     "status": "completed"
    },
    "tags": []
   },
   "source": [
    "-------------------------------------------------------------------------------\n",
    "\n",
    "In this question, you'll explore the problem of overfitting with target encodings. This will illustrate this importance of training fitting target encoders on data held-out from the training set.\n",
    "\n",
    "So let's see what happens when we fit the encoder and the model on the *same* dataset. To emphasize how dramatic the overfitting can be, we'll mean-encode a feature that should have no relationship with `SalePrice`, a count: `0, 1, 2, 3, 4, 5, ...`."
   ]
  },
  {
   "cell_type": "code",
   "execution_count": 11,
   "id": "25e392f8",
   "metadata": {
    "execution": {
     "iopub.execute_input": "2025-04-28T07:45:54.933712Z",
     "iopub.status.busy": "2025-04-28T07:45:54.932954Z",
     "iopub.status.idle": "2025-04-28T07:45:56.827743Z",
     "shell.execute_reply": "2025-04-28T07:45:56.826740Z"
    },
    "papermill": {
     "duration": 1.903371,
     "end_time": "2025-04-28T07:45:56.829069",
     "exception": false,
     "start_time": "2025-04-28T07:45:54.925698",
     "status": "completed"
    },
    "tags": []
   },
   "outputs": [
    {
     "name": "stdout",
     "output_type": "stream",
     "text": [
      "Score: 0.0362 RMSLE\n"
     ]
    }
   ],
   "source": [
    "# Try experimenting with the smoothing parameter m\n",
    "# Try 0, 1, 5, 50\n",
    "m = 50\n",
    "\n",
    "X = df.copy()\n",
    "y = X.pop('SalePrice')\n",
    "\n",
    "# Create an uninformative feature\n",
    "X[\"Count\"] = range(len(X))\n",
    "X[\"Count\"][1] = 0  # actually need one duplicate value to circumvent error-checking in MEstimateEncoder\n",
    "\n",
    "# fit and transform on the same dataset\n",
    "encoder = MEstimateEncoder(cols=\"Count\", m=m)\n",
    "X = encoder.fit_transform(X, y)\n",
    "\n",
    "# Results\n",
    "score =  score_dataset(X, y)\n",
    "print(f\"Score: {score:.4f} RMSLE\")"
   ]
  },
  {
   "cell_type": "markdown",
   "id": "b0d0166e",
   "metadata": {
    "papermill": {
     "duration": 0.006283,
     "end_time": "2025-04-28T07:45:56.842682",
     "exception": false,
     "start_time": "2025-04-28T07:45:56.836399",
     "status": "completed"
    },
    "tags": []
   },
   "source": [
    "Almost a perfect score!"
   ]
  },
  {
   "cell_type": "code",
   "execution_count": 12,
   "id": "79de34a3",
   "metadata": {
    "execution": {
     "iopub.execute_input": "2025-04-28T07:45:56.857155Z",
     "iopub.status.busy": "2025-04-28T07:45:56.856419Z",
     "iopub.status.idle": "2025-04-28T07:45:57.203784Z",
     "shell.execute_reply": "2025-04-28T07:45:57.202910Z"
    },
    "papermill": {
     "duration": 0.356281,
     "end_time": "2025-04-28T07:45:57.205369",
     "exception": false,
     "start_time": "2025-04-28T07:45:56.849088",
     "status": "completed"
    },
    "tags": []
   },
   "outputs": [
    {
     "data": {
      "image/png": "[encoded data removed]",
      "text/plain": [
       "<Figure size 576x432 with 1 Axes>"
      ]
     },
     "metadata": {},
     "output_type": "display_data"
    }
   ],
   "source": [
    "plt.figure(dpi=90)\n",
    "ax = sns.distplot(y, kde=True, hist=False)\n",
    "ax = sns.distplot(X[\"Count\"], color='r', ax=ax, hist=True, kde=False, norm_hist=True)\n",
    "ax.set_xlabel(\"SalePrice\");"
   ]
  },
  {
   "cell_type": "markdown",
   "id": "a5f4fc59",
   "metadata": {
    "papermill": {
     "duration": 0.006489,
     "end_time": "2025-04-28T07:45:57.218886",
     "exception": false,
     "start_time": "2025-04-28T07:45:57.212397",
     "status": "completed"
    },
    "tags": []
   },
   "source": [
    "And the distributions are almost exactly the same, too.\n",
    "\n",
    "# 3) Overfitting with Target Encoders\n",
    "\n",
    "Based on your understanding of how mean-encoding works, can you explain how XGBoost was able to get an almost a perfect fit after mean-encoding the count feature?"
   ]
  },
  {
   "cell_type": "code",
   "execution_count": 13,
   "id": "a458529a",
   "metadata": {
    "execution": {
     "iopub.execute_input": "2025-04-28T07:45:57.233870Z",
     "iopub.status.busy": "2025-04-28T07:45:57.233547Z",
     "iopub.status.idle": "2025-04-28T07:45:57.241220Z",
     "shell.execute_reply": "2025-04-28T07:45:57.240251Z"
    },
    "lines_to_next_cell": 0,
    "papermill": {
     "duration": 0.017109,
     "end_time": "2025-04-28T07:45:57.242668",
     "exception": false,
     "start_time": "2025-04-28T07:45:57.225559",
     "status": "completed"
    },
    "tags": []
   },
   "outputs": [
    {
     "data": {
      "application/javascript": [
       "parent.postMessage({\"jupyterEvent\": \"custom.exercise_interaction\", \"data\": {\"outcomeType\": 1, \"valueTowardsCompletion\": 0.3333333333333333, \"interactionType\": 1, \"questionType\": 4, \"questionId\": \"3_Q3\", \"learnToolsVersion\": \"0.3.5\", \"failureMessage\": \"\", \"exceptionClass\": \"\", \"trace\": \"\"}}, \"*\")"
      ],
      "text/plain": [
       "<IPython.core.display.Javascript object>"
      ]
     },
     "metadata": {},
     "output_type": "display_data"
    },
    {
     "data": {
      "text/markdown": [
       "<span style=\"color:#33cc33\">Correct:</span> \n",
       "\n",
       "\n",
       "Since `Count` never has any duplicate values, the mean-encoded `Count` is essentially an exact copy of the target. In other words, mean-encoding turned a completely meaningless feature into a perfect feature.\n",
       "\n",
       "Now, the only reason this worked is because we trained XGBoost on the same set we used to train the encoder. If we had used a hold-out set instead, none of this \"fake\" encoding would have transferred to the training data.\n",
       "\n",
       "The lesson is that when using a target encoder it's very important to use separate data sets for training the encoder and training the model. Otherwise the results can be very disappointing!\n"
      ],
      "text/plain": [
       "Correct: \n",
       "\n",
       "\n",
       "Since `Count` never has any duplicate values, the mean-encoded `Count` is essentially an exact copy of the target. In other words, mean-encoding turned a completely meaningless feature into a perfect feature.\n",
       "\n",
       "Now, the only reason this worked is because we trained XGBoost on the same set we used to train the encoder. If we had used a hold-out set instead, none of this \"fake\" encoding would have transferred to the training data.\n",
       "\n",
       "The lesson is that when using a target encoder it's very important to use separate data sets for training the encoder and training the model. Otherwise the results can be very disappointing!"
      ]
     },
     "metadata": {},
     "output_type": "display_data"
    }
   ],
   "source": [
    "# View the solution (Run this cell to receive credit!)\n",
    "q_3.check()"
   ]
  },
  {
   "cell_type": "code",
   "execution_count": 14,
   "id": "e42e6ef4",
   "metadata": {
    "execution": {
     "iopub.execute_input": "2025-04-28T07:45:57.258222Z",
     "iopub.status.busy": "2025-04-28T07:45:57.257858Z",
     "iopub.status.idle": "2025-04-28T07:45:57.265250Z",
     "shell.execute_reply": "2025-04-28T07:45:57.264304Z"
    },
    "papermill": {
     "duration": 0.016675,
     "end_time": "2025-04-28T07:45:57.266619",
     "exception": false,
     "start_time": "2025-04-28T07:45:57.249944",
     "status": "completed"
    },
    "tags": []
   },
   "outputs": [
    {
     "data": {
      "application/javascript": [
       "parent.postMessage({\"jupyterEvent\": \"custom.exercise_interaction\", \"data\": {\"interactionType\": 2, \"questionType\": 4, \"questionId\": \"3_Q3\", \"learnToolsVersion\": \"0.3.5\", \"valueTowardsCompletion\": 0.0, \"failureMessage\": \"\", \"exceptionClass\": \"\", \"trace\": \"\", \"outcomeType\": 4}}, \"*\")"
      ],
      "text/plain": [
       "<IPython.core.display.Javascript object>"
      ]
     },
     "metadata": {},
     "output_type": "display_data"
    },
    {
     "data": {
      "text/markdown": [
       "<span style=\"color:#3366cc\">Hint:</span> \n",
       "Suppose you had a dataset like:\n",
       "\n",
       "| Count | Target |\n",
       "|-------|--------|\n",
       "| 0     | 10     |\n",
       "| 1     | 5      |\n",
       "| 2     | 30     |\n",
       "| 3     | 22     |\n",
       "\n",
       "What is the mean value of Target when Count is equal to 0? It's 10, since 0 only occurs in the first row. So what would be the result of mean-encoding Count, knowing that Count never has any duplicate values?\n"
      ],
      "text/plain": [
       "Hint: \n",
       "Suppose you had a dataset like:\n",
       "\n",
       "| Count | Target |\n",
       "|-------|--------|\n",
       "| 0     | 10     |\n",
       "| 1     | 5      |\n",
       "| 2     | 30     |\n",
       "| 3     | 22     |\n",
       "\n",
       "What is the mean value of Target when Count is equal to 0? It's 10, since 0 only occurs in the first row. So what would be the result of mean-encoding Count, knowing that Count never has any duplicate values?"
      ]
     },
     "metadata": {},
     "output_type": "display_data"
    }
   ],
   "source": [
    "# Uncomment this if you'd like a hint before seeing the answer\n",
    "q_3.hint()"
   ]
  },
  {
   "cell_type": "markdown",
   "id": "c85358e7",
   "metadata": {
    "papermill": {
     "duration": 0.006943,
     "end_time": "2025-04-28T07:45:57.281125",
     "exception": false,
     "start_time": "2025-04-28T07:45:57.274182",
     "status": "completed"
    },
    "tags": []
   },
   "source": [
    "# The End #\n",
    "\n",
    "That's it for *Feature Engineering*! We hope you enjoyed your time with us.\n",
    "\n",
    "Now, are you ready to try out your new skills? Now would be a great time to join our [Housing Prices](https://www.kaggle.com/c/house-prices-advanced-regression-techniques) Getting Started competition. We've even prepared a [Bonus Lesson](https://www.kaggle.com/ryanholbrook/feature-engineering-for-house-prices) that collects all the work we've done together into a starter notebook.\n",
    "\n",
    "# References #\n",
    "Here are some great resources you might like to consult for more information. They all played a part in shaping this course:\n",
    "- *The Art of Feature Engineering*, a book by Pablo Duboue.\n",
    "- *An Empirical Analysis of Feature Engineering for Predictive Modeling*, an article by Jeff Heaton.\n",
    "- *Feature Engineering for Machine Learning*, a book by Alice Zheng and Amanda Casari. The tutorial on clustering was inspired by this excellent book.\n",
    "- *Feature Engineering and Selection*, a book by Max Kuhn and Kjell Johnson."
   ]
  },
  {
   "cell_type": "markdown",
   "id": "d0e1f3cd",
   "metadata": {
    "papermill": {
     "duration": 0.006958,
     "end_time": "2025-04-28T07:45:57.295170",
     "exception": false,
     "start_time": "2025-04-28T07:45:57.288212",
     "status": "completed"
    },
    "tags": []
   },
   "source": [
    "---\n",
    "\n",
    "\n",
    "\n",
    "\n",
    "*Have questions or comments? Visit the [course discussion forum](https://www.kaggle.com/learn/feature-engineering/discussion) to chat with other learners.*"
   ]
  }
 ],
 "metadata": {
  "jupytext": {
   "cell_metadata_filter": "-all",
   "formats": "ipynb"
  },
  "kaggle": {
   "accelerator": "none",
   "dataSources": [
    {
     "datasetId": 933090,
     "sourceId": 1828856,
     "sourceType": "datasetVersion"
    }
   ],
   "isGpuEnabled": false,
   "isInternetEnabled": false,
   "language": "python",
   "sourceType": "notebook"
  },
  "kernelspec": {
   "display_name": "Python 3",
   "language": "python",
   "name": "python3"
  },
  "language_info": {
   "codemirror_mode": {
    "name": "ipython",
    "version": 3
   },
   "file_extension": ".py",
   "mimetype": "text/x-python",
   "name": "python",
   "nbconvert_exporter": "python",
   "pygments_lexer": "ipython3",
   "version": "3.11.11"
  },
  "papermill": {
   "default_parameters": {},
   "duration": 17.87108,
   "end_time": "2025-04-28T07:45:57.923807",
   "environment_variables": {},
   "exception": null,
   "input_path": "__notebook__.ipynb",
   "output_path": "__notebook__.ipynb",
   "parameters": {},
   "start_time": "2025-04-28T07:45:40.052727",
   "version": "2.6.0"
  }
 },
 "nbformat": 4,
 "nbformat_minor": 5
}
