{
  "metadata": {
    "kernelspec": {
      "display_name": "Python 3",
      "language": "python",
      "name": "python3"
    },
    "language_info": {
      "name": "python",
      "version": "3.11.11",
      "mimetype": "text/x-python",
      "codemirror_mode": {
        "name": "ipython",
        "version": 3
      },
      "pygments_lexer": "ipython3",
      "nbconvert_exporter": "python",
      "file_extension": ".py"
    },
    "jupytext": {
      "cell_metadata_filter": "-all",
      "formats": "ipynb"
    },
    "kaggle": {
      "accelerator": "none",
      "dataSources": [
        {
          "sourceId": 1828856,
          "sourceType": "datasetVersion",
          "datasetId": 933090
        }
      ],
      "isInternetEnabled": false,
      "language": "python",
      "sourceType": "notebook",
      "isGpuEnabled": false
    },
    "colab": {
      "name": "Exercise: Principal Component Analysis",
      "provenance": []
    }
  },
  "nbformat_minor": 0,
  "nbformat": 4,
  "cells": [
    {
      "source": [
        "# IMPORTANT: RUN THIS CELL IN ORDER TO IMPORT YOUR KAGGLE DATA SOURCES,\n",
        "# THEN FEEL FREE TO DELETE THIS CELL.\n",
        "# NOTE: THIS NOTEBOOK ENVIRONMENT DIFFERS FROM KAGGLE'S PYTHON\n",
        "# ENVIRONMENT SO THERE MAY BE MISSING LIBRARIES USED BY YOUR\n",
        "# NOTEBOOK.\n",
        "import kagglehub\n",
        "ryanholbrook_fe_course_data_path = kagglehub.dataset_download('ryanholbrook/fe-course-data')\n",
        "\n",
        "print('Data source import complete.')\n"
      ],
      "metadata": {
        "id": "B7CeQShjSP2B"
      },
      "cell_type": "code",
      "outputs": [],
      "execution_count": null
    },
    {
      "cell_type": "markdown",
      "source": [
        "**This notebook is an exercise in the [Feature Engineering](https://www.kaggle.com/learn/feature-engineering) course.  You can reference the tutorial at [this link](https://www.kaggle.com/ryanholbrook/principal-component-analysis).**\n",
        "\n",
        "---\n"
      ],
      "metadata": {
        "id": "xaXCcEGmSP2D"
      }
    },
    {
      "cell_type": "markdown",
      "source": [
        "# Introduction #\n",
        "\n",
        "In this exercise, you'll work through several applications of PCA to the [*Ames*](https://www.kaggle.com/c/house-prices-advanced-regression-techniques/data) dataset."
      ],
      "metadata": {
        "id": "doT2ei8vSP2D"
      }
    },
    {
      "cell_type": "markdown",
      "source": [
        "Run this cell to set everything up!"
      ],
      "metadata": {
        "id": "ZWELWPBeSP2D"
      }
    },
    {
      "cell_type": "code",
      "source": [
        "# Setup feedback system\n",
        "from learntools.core import binder\n",
        "binder.bind(globals())\n",
        "from learntools.feature_engineering_new.ex5 import *\n",
        "\n",
        "import matplotlib.pyplot as plt\n",
        "import numpy as np\n",
        "import pandas as pd\n",
        "import seaborn as sns\n",
        "from sklearn.decomposition import PCA\n",
        "from sklearn.feature_selection import mutual_info_regression\n",
        "from sklearn.model_selection import cross_val_score\n",
        "from xgboost import XGBRegressor\n",
        "\n",
        "# Set Matplotlib defaults\n",
        "plt.style.use(\"seaborn-whitegrid\")\n",
        "plt.rc(\"figure\", autolayout=True)\n",
        "plt.rc(\n",
        "    \"axes\",\n",
        "    labelweight=\"bold\",\n",
        "    labelsize=\"large\",\n",
        "    titleweight=\"bold\",\n",
        "    titlesize=14,\n",
        "    titlepad=10,\n",
        ")\n",
        "\n",
        "\n",
        "def apply_pca(X, standardize=True):\n",
        "    # Standardize\n",
        "    if standardize:\n",
        "        X = (X - X.mean(axis=0)) / X.std(axis=0)\n",
        "    # Create principal components\n",
        "    pca = PCA()\n",
        "    X_pca = pca.fit_transform(X)\n",
        "    # Convert to dataframe\n",
        "    component_names = [f\"PC{i+1}\" for i in range(X_pca.shape[1])]\n",
        "    X_pca = pd.DataFrame(X_pca, columns=component_names)\n",
        "    # Create loadings\n",
        "    loadings = pd.DataFrame(\n",
        "        pca.components_.T,  # transpose the matrix of loadings\n",
        "        columns=component_names,  # so the columns are the principal components\n",
        "        index=X.columns,  # and the rows are the original features\n",
        "    )\n",
        "    return pca, X_pca, loadings\n",
        "\n",
        "\n",
        "def plot_variance(pca, width=8, dpi=100):\n",
        "    # Create figure\n",
        "    fig, axs = plt.subplots(1, 2)\n",
        "    n = pca.n_components_\n",
        "    grid = np.arange(1, n + 1)\n",
        "    # Explained variance\n",
        "    evr = pca.explained_variance_ratio_\n",
        "    axs[0].bar(grid, evr)\n",
        "    axs[0].set(\n",
        "        xlabel=\"Component\", title=\"% Explained Variance\", ylim=(0.0, 1.0)\n",
        "    )\n",
        "    # Cumulative Variance\n",
        "    cv = np.cumsum(evr)\n",
        "    axs[1].plot(np.r_[0, grid], np.r_[0, cv], \"o-\")\n",
        "    axs[1].set(\n",
        "        xlabel=\"Component\", title=\"% Cumulative Variance\", ylim=(0.0, 1.0)\n",
        "    )\n",
        "    # Set up figure\n",
        "    fig.set(figwidth=8, dpi=100)\n",
        "    return axs\n",
        "\n",
        "\n",
        "def make_mi_scores(X, y):\n",
        "    X = X.copy()\n",
        "    for colname in X.select_dtypes([\"object\", \"category\"]):\n",
        "        X[colname], _ = X[colname].factorize()\n",
        "    # All discrete features should now have integer dtypes\n",
        "    discrete_features = [pd.api.types.is_integer_dtype(t) for t in X.dtypes]\n",
        "    mi_scores = mutual_info_regression(X, y, discrete_features=discrete_features, random_state=0)\n",
        "    mi_scores = pd.Series(mi_scores, name=\"MI Scores\", index=X.columns)\n",
        "    mi_scores = mi_scores.sort_values(ascending=False)\n",
        "    return mi_scores\n",
        "\n",
        "\n",
        "def score_dataset(X, y, model=XGBRegressor()):\n",
        "    # Label encoding for categoricals\n",
        "    for colname in X.select_dtypes([\"category\", \"object\"]):\n",
        "        X[colname], _ = X[colname].factorize()\n",
        "    # Metric for Housing competition is RMSLE (Root Mean Squared Log Error)\n",
        "    score = cross_val_score(\n",
        "        model, X, y, cv=5, scoring=\"neg_mean_squared_log_error\",\n",
        "    )\n",
        "    score = -1 * score.mean()\n",
        "    score = np.sqrt(score)\n",
        "    return score\n",
        "\n",
        "\n",
        "df = pd.read_csv(\"../input/fe-course-data/ames.csv\")"
      ],
      "metadata": {
        "trusted": true,
        "execution": {
          "iopub.status.busy": "2025-04-28T06:53:55.203978Z",
          "iopub.execute_input": "2025-04-28T06:53:55.204248Z",
          "iopub.status.idle": "2025-04-28T06:54:02.001722Z",
          "shell.execute_reply.started": "2025-04-28T06:53:55.204226Z",
          "shell.execute_reply": "2025-04-28T06:54:02.000102Z"
        },
        "id": "YJIyrSg6SP2E",
        "outputId": "29abdaac-b18e-41f0-d2a0-ff5d45d919e7"
      },
      "outputs": [
        {
          "name": "stderr",
          "text": "/tmp/ipykernel_31/755292237.py:16: MatplotlibDeprecationWarning: The seaborn styles shipped by Matplotlib are deprecated since 3.6, as they no longer correspond to the styles shipped by seaborn. However, they will remain available as 'seaborn-v0_8-<style>'. Alternatively, directly use the seaborn API instead.\n  plt.style.use(\"seaborn-whitegrid\")\n",
          "output_type": "stream"
        }
      ],
      "execution_count": null
    },
    {
      "cell_type": "markdown",
      "source": [
        "Let's choose a few features that are highly correlated with our target, `SalePrice`.\n"
      ],
      "metadata": {
        "id": "8t3FBq3PSP2E"
      }
    },
    {
      "cell_type": "code",
      "source": [
        "features = [\n",
        "    \"GarageArea\",\n",
        "    \"YearRemodAdd\",\n",
        "    \"TotalBsmtSF\",\n",
        "    \"GrLivArea\",\n",
        "]\n",
        "\n",
        "print(\"Correlation with SalePrice:\\n\")\n",
        "print(df[features].corrwith(df.SalePrice))"
      ],
      "metadata": {
        "trusted": true,
        "execution": {
          "iopub.status.busy": "2025-04-28T06:55:09.755123Z",
          "iopub.execute_input": "2025-04-28T06:55:09.755409Z",
          "iopub.status.idle": "2025-04-28T06:55:09.788867Z",
          "shell.execute_reply.started": "2025-04-28T06:55:09.755387Z",
          "shell.execute_reply": "2025-04-28T06:55:09.787914Z"
        },
        "id": "wqWvTkdrSP2E",
        "outputId": "3df0c6fd-6382-4b02-bedb-868decd296f3"
      },
      "outputs": [
        {
          "name": "stdout",
          "text": "Correlation with SalePrice:\n\nGarageArea      0.640138\nYearRemodAdd    0.532974\nTotalBsmtSF     0.632529\nGrLivArea       0.706780\ndtype: float64\n",
          "output_type": "stream"
        }
      ],
      "execution_count": null
    },
    {
      "cell_type": "markdown",
      "source": [
        "We'll rely on PCA to untangle the correlational structure of these features and suggest relationships that might be usefully modeled with new features.\n",
        "\n",
        "Run this cell to apply PCA and extract the loadings."
      ],
      "metadata": {
        "id": "wdzeL_R3SP2F"
      }
    },
    {
      "cell_type": "code",
      "source": [
        "X = df.copy()\n",
        "y = X.pop(\"SalePrice\")\n",
        "X = X.loc[:, features]\n",
        "\n",
        "# `apply_pca`, defined above, reproduces the code from the tutorial\n",
        "pca, X_pca, loadings = apply_pca(X)\n",
        "print(loadings)"
      ],
      "metadata": {
        "trusted": true,
        "execution": {
          "iopub.status.busy": "2025-04-28T06:56:07.196384Z",
          "iopub.execute_input": "2025-04-28T06:56:07.196728Z",
          "iopub.status.idle": "2025-04-28T06:56:07.274711Z",
          "shell.execute_reply.started": "2025-04-28T06:56:07.196701Z",
          "shell.execute_reply": "2025-04-28T06:56:07.273788Z"
        },
        "id": "O52891WtSP2F",
        "outputId": "ef584ad1-516e-42eb-efde-aa40203cfe71"
      },
      "outputs": [
        {
          "name": "stdout",
          "text": "                   PC1       PC2       PC3       PC4\nGarageArea    0.541229  0.102375 -0.038470  0.833733\nYearRemodAdd  0.427077 -0.886612 -0.049062 -0.170639\nTotalBsmtSF   0.510076  0.360778 -0.666836 -0.406192\nGrLivArea     0.514294  0.270700  0.742592 -0.332837\n",
          "output_type": "stream"
        }
      ],
      "execution_count": null
    },
    {
      "cell_type": "code",
      "source": [
        "X"
      ],
      "metadata": {
        "trusted": true,
        "execution": {
          "iopub.status.busy": "2025-04-28T06:57:46.661515Z",
          "iopub.execute_input": "2025-04-28T06:57:46.662348Z",
          "iopub.status.idle": "2025-04-28T06:57:46.675312Z",
          "shell.execute_reply.started": "2025-04-28T06:57:46.662319Z",
          "shell.execute_reply": "2025-04-28T06:57:46.674365Z"
        },
        "id": "doKKO0vlSP2F",
        "outputId": "035f6dc6-3d7e-4157-d7f2-e2f5334b6693"
      },
      "outputs": [
        {
          "execution_count": 6,
          "output_type": "execute_result",
          "data": {
            "text/plain": "      GarageArea  YearRemodAdd  TotalBsmtSF  GrLivArea\n0          528.0          1960       1080.0     1656.0\n1          730.0          1961        882.0      896.0\n2          312.0          1958       1329.0     1329.0\n3          522.0          1968       2110.0     2110.0\n4          482.0          1998        928.0     1629.0\n...          ...           ...          ...        ...\n2925       588.0          1984       1003.0     1003.0\n2926       484.0          1983        864.0      902.0\n2927         0.0          1992        912.0      970.0\n2928       418.0          1975       1389.0     1389.0\n2929       650.0          1994        996.0     2000.0\n\n[2930 rows x 4 columns]",
            "text/html": "<div>\n<style scoped>\n    .dataframe tbody tr th:only-of-type {\n        vertical-align: middle;\n    }\n\n    .dataframe tbody tr th {\n        vertical-align: top;\n    }\n\n    .dataframe thead th {\n        text-align: right;\n    }\n</style>\n<table border=\"1\" class=\"dataframe\">\n  <thead>\n    <tr style=\"text-align: right;\">\n      <th></th>\n      <th>GarageArea</th>\n      <th>YearRemodAdd</th>\n      <th>TotalBsmtSF</th>\n      <th>GrLivArea</th>\n    </tr>\n  </thead>\n  <tbody>\n    <tr>\n      <th>0</th>\n      <td>528.0</td>\n      <td>1960</td>\n      <td>1080.0</td>\n      <td>1656.0</td>\n    </tr>\n    <tr>\n      <th>1</th>\n      <td>730.0</td>\n      <td>1961</td>\n      <td>882.0</td>\n      <td>896.0</td>\n    </tr>\n    <tr>\n      <th>2</th>\n      <td>312.0</td>\n      <td>1958</td>\n      <td>1329.0</td>\n      <td>1329.0</td>\n    </tr>\n    <tr>\n      <th>3</th>\n      <td>522.0</td>\n      <td>1968</td>\n      <td>2110.0</td>\n      <td>2110.0</td>\n    </tr>\n    <tr>\n      <th>4</th>\n      <td>482.0</td>\n      <td>1998</td>\n      <td>928.0</td>\n      <td>1629.0</td>\n    </tr>\n    <tr>\n      <th>...</th>\n      <td>...</td>\n      <td>...</td>\n      <td>...</td>\n      <td>...</td>\n    </tr>\n    <tr>\n      <th>2925</th>\n      <td>588.0</td>\n      <td>1984</td>\n      <td>1003.0</td>\n      <td>1003.0</td>\n    </tr>\n    <tr>\n      <th>2926</th>\n      <td>484.0</td>\n      <td>1983</td>\n      <td>864.0</td>\n      <td>902.0</td>\n    </tr>\n    <tr>\n      <th>2927</th>\n      <td>0.0</td>\n      <td>1992</td>\n      <td>912.0</td>\n      <td>970.0</td>\n    </tr>\n    <tr>\n      <th>2928</th>\n      <td>418.0</td>\n      <td>1975</td>\n      <td>1389.0</td>\n      <td>1389.0</td>\n    </tr>\n    <tr>\n      <th>2929</th>\n      <td>650.0</td>\n      <td>1994</td>\n      <td>996.0</td>\n      <td>2000.0</td>\n    </tr>\n  </tbody>\n</table>\n<p>2930 rows × 4 columns</p>\n</div>"
          },
          "metadata": {}
        }
      ],
      "execution_count": null
    },
    {
      "cell_type": "code",
      "source": [
        "#try pca ourselves\n",
        "X = (X - X.mean(axis=0)) / X.std(axis=0)\n",
        "# Create principal components\n",
        "pca = PCA()\n",
        "X_pca = pca.fit_transform(X)\n",
        "X_pca"
      ],
      "metadata": {
        "trusted": true,
        "execution": {
          "iopub.status.busy": "2025-04-28T07:00:35.317632Z",
          "iopub.execute_input": "2025-04-28T07:00:35.317967Z",
          "iopub.status.idle": "2025-04-28T07:00:35.3337Z",
          "shell.execute_reply.started": "2025-04-28T07:00:35.317943Z",
          "shell.execute_reply": "2025-04-28T07:00:35.332395Z"
        },
        "id": "7VmJbAFnSP2F",
        "outputId": "a4f2b381-d396-48ad-dada-23e2eabaece8"
      },
      "outputs": [
        {
          "execution_count": 8,
          "output_type": "execute_result",
          "data": {
            "text/plain": "array([[-0.16534641,  1.16493565,  0.23333018,  0.28352686],\n       [-0.63905005,  0.64956057, -0.62215534,  1.74076974],\n       [-0.79422688,  1.17578993, -0.58025382, -0.55105484],\n       ...,\n       [-1.73045664, -0.95113683, -0.50122073, -1.4175214 ],\n       [-0.04912972,  0.58489777, -0.64177887, -0.37419792],\n       [ 1.09040636, -0.10661653,  0.76391611,  0.32896596]])"
          },
          "metadata": {}
        }
      ],
      "execution_count": null
    },
    {
      "cell_type": "code",
      "source": [
        "# Convert to dataframe\n",
        "component_names = [f\"PC{i+1}\" for i in range(X_pca.shape[1])]\n",
        "X_pca = pd.DataFrame(X_pca, columns=component_names)\n",
        "X_pca"
      ],
      "metadata": {
        "trusted": true,
        "execution": {
          "iopub.status.busy": "2025-04-28T07:01:54.173001Z",
          "iopub.execute_input": "2025-04-28T07:01:54.173405Z",
          "iopub.status.idle": "2025-04-28T07:01:54.193311Z",
          "shell.execute_reply.started": "2025-04-28T07:01:54.173372Z",
          "shell.execute_reply": "2025-04-28T07:01:54.187821Z"
        },
        "id": "IM67gsc9SP2F",
        "outputId": "c94f1691-3fea-4485-922c-3c81a18c4b05"
      },
      "outputs": [
        {
          "execution_count": 10,
          "output_type": "execute_result",
          "data": {
            "text/plain": "           PC1       PC2       PC3       PC4\n0    -0.165346  1.164936  0.233330  0.283527\n1    -0.639050  0.649561 -0.622155  1.740770\n2    -0.794227  1.175790 -0.580254 -0.551055\n3     1.636658  1.907874 -0.675063 -1.052854\n4     0.293648 -0.610856  0.342374 -0.047752\n...        ...       ...       ...       ...\n2925 -0.276496 -0.239255 -0.676658  0.820547\n2926 -0.822084 -0.414039 -0.593885  0.620322\n2927 -1.730457 -0.951137 -0.501221 -1.417521\n2928 -0.049130  0.584898 -0.641779 -0.374198\n2929  1.090406 -0.106617  0.763916  0.328966\n\n[2930 rows x 4 columns]",
            "text/html": "<div>\n<style scoped>\n    .dataframe tbody tr th:only-of-type {\n        vertical-align: middle;\n    }\n\n    .dataframe tbody tr th {\n        vertical-align: top;\n    }\n\n    .dataframe thead th {\n        text-align: right;\n    }\n</style>\n<table border=\"1\" class=\"dataframe\">\n  <thead>\n    <tr style=\"text-align: right;\">\n      <th></th>\n      <th>PC1</th>\n      <th>PC2</th>\n      <th>PC3</th>\n      <th>PC4</th>\n    </tr>\n  </thead>\n  <tbody>\n    <tr>\n      <th>0</th>\n      <td>-0.165346</td>\n      <td>1.164936</td>\n      <td>0.233330</td>\n      <td>0.283527</td>\n    </tr>\n    <tr>\n      <th>1</th>\n      <td>-0.639050</td>\n      <td>0.649561</td>\n      <td>-0.622155</td>\n      <td>1.740770</td>\n    </tr>\n    <tr>\n      <th>2</th>\n      <td>-0.794227</td>\n      <td>1.175790</td>\n      <td>-0.580254</td>\n      <td>-0.551055</td>\n    </tr>\n    <tr>\n      <th>3</th>\n      <td>1.636658</td>\n      <td>1.907874</td>\n      <td>-0.675063</td>\n      <td>-1.052854</td>\n    </tr>\n    <tr>\n      <th>4</th>\n      <td>0.293648</td>\n      <td>-0.610856</td>\n      <td>0.342374</td>\n      <td>-0.047752</td>\n    </tr>\n    <tr>\n      <th>...</th>\n      <td>...</td>\n      <td>...</td>\n      <td>...</td>\n      <td>...</td>\n    </tr>\n    <tr>\n      <th>2925</th>\n      <td>-0.276496</td>\n      <td>-0.239255</td>\n      <td>-0.676658</td>\n      <td>0.820547</td>\n    </tr>\n    <tr>\n      <th>2926</th>\n      <td>-0.822084</td>\n      <td>-0.414039</td>\n      <td>-0.593885</td>\n      <td>0.620322</td>\n    </tr>\n    <tr>\n      <th>2927</th>\n      <td>-1.730457</td>\n      <td>-0.951137</td>\n      <td>-0.501221</td>\n      <td>-1.417521</td>\n    </tr>\n    <tr>\n      <th>2928</th>\n      <td>-0.049130</td>\n      <td>0.584898</td>\n      <td>-0.641779</td>\n      <td>-0.374198</td>\n    </tr>\n    <tr>\n      <th>2929</th>\n      <td>1.090406</td>\n      <td>-0.106617</td>\n      <td>0.763916</td>\n      <td>0.328966</td>\n    </tr>\n  </tbody>\n</table>\n<p>2930 rows × 4 columns</p>\n</div>"
          },
          "metadata": {}
        }
      ],
      "execution_count": null
    },
    {
      "cell_type": "code",
      "source": [
        "pca.components_"
      ],
      "metadata": {
        "trusted": true,
        "execution": {
          "iopub.status.busy": "2025-04-28T07:06:01.510501Z",
          "iopub.execute_input": "2025-04-28T07:06:01.510928Z",
          "iopub.status.idle": "2025-04-28T07:06:01.517947Z",
          "shell.execute_reply.started": "2025-04-28T07:06:01.510902Z",
          "shell.execute_reply": "2025-04-28T07:06:01.516841Z"
        },
        "id": "QH9yH-DtSP2F",
        "outputId": "a8c3a3de-25ad-4bfc-f928-4871c8ff91ec"
      },
      "outputs": [
        {
          "execution_count": 12,
          "output_type": "execute_result",
          "data": {
            "text/plain": "array([[ 0.54122942,  0.42707725,  0.5100756 ,  0.51429428],\n       [ 0.10237467, -0.88661165,  0.36077798,  0.27069995],\n       [-0.03846963, -0.04906151, -0.66683607,  0.74259189],\n       [ 0.83373271, -0.17063932, -0.4061918 , -0.33283662]])"
          },
          "metadata": {}
        }
      ],
      "execution_count": null
    },
    {
      "cell_type": "code",
      "source": [
        "pca.components_.T"
      ],
      "metadata": {
        "trusted": true,
        "execution": {
          "iopub.status.busy": "2025-04-28T07:02:41.999375Z",
          "iopub.execute_input": "2025-04-28T07:02:41.99971Z",
          "iopub.status.idle": "2025-04-28T07:02:42.011131Z",
          "shell.execute_reply.started": "2025-04-28T07:02:41.999684Z",
          "shell.execute_reply": "2025-04-28T07:02:42.009799Z"
        },
        "id": "8KVdjHH6SP2G",
        "outputId": "4cf16a9d-64b9-4bea-9360-b3a79ffc2ff5"
      },
      "outputs": [
        {
          "execution_count": 11,
          "output_type": "execute_result",
          "data": {
            "text/plain": "array([[ 0.54122942,  0.10237467, -0.03846963,  0.83373271],\n       [ 0.42707725, -0.88661165, -0.04906151, -0.17063932],\n       [ 0.5100756 ,  0.36077798, -0.66683607, -0.4061918 ],\n       [ 0.51429428,  0.27069995,  0.74259189, -0.33283662]])"
          },
          "metadata": {}
        }
      ],
      "execution_count": null
    },
    {
      "cell_type": "code",
      "source": [
        "# Create loadings\n",
        "loadings = pd.DataFrame(\n",
        "        pca.components_.T,  # transpose the matrix of loadings\n",
        "        columns=component_names,  # so the columns are the principal components\n",
        "        index=X.columns,  # and the rows are the original features\n",
        "    )\n",
        "loadings"
      ],
      "metadata": {
        "trusted": true,
        "execution": {
          "iopub.status.busy": "2025-04-28T07:06:47.285974Z",
          "iopub.execute_input": "2025-04-28T07:06:47.286302Z",
          "iopub.status.idle": "2025-04-28T07:06:47.297895Z",
          "shell.execute_reply.started": "2025-04-28T07:06:47.286279Z",
          "shell.execute_reply": "2025-04-28T07:06:47.296889Z"
        },
        "id": "TX910eHfSP2G",
        "outputId": "5a8e7a2a-f12d-4d46-d523-d31fd29d47c2"
      },
      "outputs": [
        {
          "execution_count": 14,
          "output_type": "execute_result",
          "data": {
            "text/plain": "                   PC1       PC2       PC3       PC4\nGarageArea    0.541229  0.102375 -0.038470  0.833733\nYearRemodAdd  0.427077 -0.886612 -0.049062 -0.170639\nTotalBsmtSF   0.510076  0.360778 -0.666836 -0.406192\nGrLivArea     0.514294  0.270700  0.742592 -0.332837",
            "text/html": "<div>\n<style scoped>\n    .dataframe tbody tr th:only-of-type {\n        vertical-align: middle;\n    }\n\n    .dataframe tbody tr th {\n        vertical-align: top;\n    }\n\n    .dataframe thead th {\n        text-align: right;\n    }\n</style>\n<table border=\"1\" class=\"dataframe\">\n  <thead>\n    <tr style=\"text-align: right;\">\n      <th></th>\n      <th>PC1</th>\n      <th>PC2</th>\n      <th>PC3</th>\n      <th>PC4</th>\n    </tr>\n  </thead>\n  <tbody>\n    <tr>\n      <th>GarageArea</th>\n      <td>0.541229</td>\n      <td>0.102375</td>\n      <td>-0.038470</td>\n      <td>0.833733</td>\n    </tr>\n    <tr>\n      <th>YearRemodAdd</th>\n      <td>0.427077</td>\n      <td>-0.886612</td>\n      <td>-0.049062</td>\n      <td>-0.170639</td>\n    </tr>\n    <tr>\n      <th>TotalBsmtSF</th>\n      <td>0.510076</td>\n      <td>0.360778</td>\n      <td>-0.666836</td>\n      <td>-0.406192</td>\n    </tr>\n    <tr>\n      <th>GrLivArea</th>\n      <td>0.514294</td>\n      <td>0.270700</td>\n      <td>0.742592</td>\n      <td>-0.332837</td>\n    </tr>\n  </tbody>\n</table>\n</div>"
          },
          "metadata": {}
        }
      ],
      "execution_count": null
    },
    {
      "cell_type": "markdown",
      "source": [
        "loading表示各個特徵對於其主成分的影響\n",
        "例如第一個主成分pc1中大家的影響差不多，但pc2可以看出yearremod有負向的影響，且影響很大，其他則為正向的但較小"
      ],
      "metadata": {
        "id": "QzhOU3I4SP2G"
      }
    },
    {
      "cell_type": "markdown",
      "source": [
        "# 1) Interpret Component Loadings\n",
        "\n",
        "Look at the loadings for components `PC1` and `PC3`. Can you think of a description of what kind of contrast each component has captured? After you've thought about it, run the next cell for a solution."
      ],
      "metadata": {
        "id": "MG4cIkF8SP2G"
      }
    },
    {
      "cell_type": "code",
      "source": [
        "# View the solution (Run this cell to receive credit!)\n",
        "q_1.check()"
      ],
      "metadata": {
        "trusted": true,
        "execution": {
          "iopub.status.busy": "2025-04-28T07:09:37.233227Z",
          "iopub.execute_input": "2025-04-28T07:09:37.233567Z",
          "iopub.status.idle": "2025-04-28T07:09:37.241666Z",
          "shell.execute_reply.started": "2025-04-28T07:09:37.23351Z",
          "shell.execute_reply": "2025-04-28T07:09:37.240507Z"
        },
        "id": "LO6fx-Q1SP2G",
        "outputId": "d42476e7-c0d8-4e2d-b961-8a0fafac2df7"
      },
      "outputs": [
        {
          "output_type": "display_data",
          "data": {
            "text/plain": "<IPython.core.display.Javascript object>",
            "application/javascript": "parent.postMessage({\"jupyterEvent\": \"custom.exercise_interaction\", \"data\": {\"outcomeType\": 1, \"valueTowardsCompletion\": 0.3333333333333333, \"interactionType\": 1, \"questionType\": 4, \"questionId\": \"1_Q1\", \"learnToolsVersion\": \"0.3.5\", \"failureMessage\": \"\", \"exceptionClass\": \"\", \"trace\": \"\"}}, \"*\")"
          },
          "metadata": {}
        },
        {
          "output_type": "display_data",
          "data": {
            "text/plain": "Correct: \n\nThe first component, `PC1`, seems to be a kind of \"size\" component, similar to what we saw in the tutorial: all of the features have the same sign (positive), indicating that this component is describing a contrast between houses having large values and houses having small values for these features.\n\nThe interpretation of the third component `PC3` is a little trickier. The features `GarageArea` and `YearRemodAdd` both have near-zero loadings, so let's ignore those. This component is mostly about `TotalBsmtSF` and `GrLivArea`. It describes a contrast between houses with a lot of living area but small (or non-existant) basements, and the opposite: small houses with large basements.",
            "text/markdown": "<span style=\"color:#33cc33\">Correct:</span> \n\nThe first component, `PC1`, seems to be a kind of \"size\" component, similar to what we saw in the tutorial: all of the features have the same sign (positive), indicating that this component is describing a contrast between houses having large values and houses having small values for these features.\n\nThe interpretation of the third component `PC3` is a little trickier. The features `GarageArea` and `YearRemodAdd` both have near-zero loadings, so let's ignore those. This component is mostly about `TotalBsmtSF` and `GrLivArea`. It describes a contrast between houses with a lot of living area but small (or non-existant) basements, and the opposite: small houses with large basements.\n"
          },
          "metadata": {}
        }
      ],
      "execution_count": null
    },
    {
      "cell_type": "markdown",
      "source": [
        "-------------------------------------------------------------------------------\n",
        "\n",
        "Your goal in this question is to use the results of PCA to discover one or more new features that improve the performance of your model. One option is to create features inspired by the loadings, like we did in the tutorial. Another option is to use the components themselves as features (that is, add one or more columns of `X_pca` to `X`).\n",
        "\n",
        "# 2) Create New Features\n",
        "\n",
        "Add one or more new features to the dataset `X`. For a correct solution, get a validation score below 0.140 RMSLE. (If you get stuck, feel free to use the `hint` below!)"
      ],
      "metadata": {
        "id": "MANLs4XHSP2G"
      }
    },
    {
      "cell_type": "code",
      "source": [
        "X = df.copy()\n",
        "y = X.pop(\"SalePrice\")\n",
        "\n",
        "# YOUR CODE HERE: Add new features to X.\n",
        "X[\"pca1\"]=X_pca[\"PC1\"]\n",
        "\n",
        "score = score_dataset(X, y)\n",
        "print(f\"Your score: {score:.5f} RMSLE\")\n",
        "\n",
        "\n",
        "# Check your answer\n",
        "q_2.check()"
      ],
      "metadata": {
        "lines_to_next_cell": 0,
        "trusted": true,
        "execution": {
          "iopub.status.busy": "2025-04-28T07:14:25.469305Z",
          "iopub.execute_input": "2025-04-28T07:14:25.469698Z",
          "iopub.status.idle": "2025-04-28T07:14:27.583403Z",
          "shell.execute_reply.started": "2025-04-28T07:14:25.469657Z",
          "shell.execute_reply": "2025-04-28T07:14:27.582437Z"
        },
        "id": "QrRUZzRKSP2G",
        "outputId": "05f7e5bb-4444-4a31-fb40-e6bdb472eebc"
      },
      "outputs": [
        {
          "name": "stdout",
          "text": "Your score: 0.13766 RMSLE\n",
          "output_type": "stream"
        },
        {
          "output_type": "display_data",
          "data": {
            "text/plain": "<IPython.core.display.Javascript object>",
            "application/javascript": "parent.postMessage({\"jupyterEvent\": \"custom.exercise_interaction\", \"data\": {\"outcomeType\": 1, \"valueTowardsCompletion\": 0.3333333333333333, \"interactionType\": 1, \"questionType\": 2, \"questionId\": \"2_Q2\", \"learnToolsVersion\": \"0.3.5\", \"failureMessage\": \"\", \"exceptionClass\": \"\", \"trace\": \"\"}}, \"*\")"
          },
          "metadata": {}
        },
        {
          "output_type": "display_data",
          "data": {
            "text/plain": "Correct: \n\nHere are two possible solutions, though you might have been able to find others.\n```python\n# Solution 1: Inspired by loadings\nX = df.copy()\ny = X.pop(\"SalePrice\")\n\nX[\"Feature1\"] = X.GrLivArea + X.TotalBsmtSF\nX[\"Feature2\"] = X.YearRemodAdd * X.TotalBsmtSF\n\nscore = score_dataset(X, y)\nprint(f\"Your score: {score:.5f} RMSLE\")\n\n\n# Solution 2: Uses components\nX = df.copy()\ny = X.pop(\"SalePrice\")\n\nX = X.join(X_pca)\nscore = score_dataset(X, y)\nprint(f\"Your score: {score:.5f} RMSLE\")\n```",
            "text/markdown": "<span style=\"color:#33cc33\">Correct:</span> \n\nHere are two possible solutions, though you might have been able to find others.\n```python\n# Solution 1: Inspired by loadings\nX = df.copy()\ny = X.pop(\"SalePrice\")\n\nX[\"Feature1\"] = X.GrLivArea + X.TotalBsmtSF\nX[\"Feature2\"] = X.YearRemodAdd * X.TotalBsmtSF\n\nscore = score_dataset(X, y)\nprint(f\"Your score: {score:.5f} RMSLE\")\n\n\n# Solution 2: Uses components\nX = df.copy()\ny = X.pop(\"SalePrice\")\n\nX = X.join(X_pca)\nscore = score_dataset(X, y)\nprint(f\"Your score: {score:.5f} RMSLE\")\n```\n"
          },
          "metadata": {}
        }
      ],
      "execution_count": null
    },
    {
      "cell_type": "code",
      "source": [
        "# Lines below will give you a hint or solution code\n",
        "#q_2.hint()\n",
        "#q_2.solution()"
      ],
      "metadata": {
        "lines_to_next_cell": 0,
        "id": "C0Pv_2DESP2H"
      },
      "outputs": [],
      "execution_count": null
    },
    {
      "cell_type": "code",
      "source": [
        "X_pca"
      ],
      "metadata": {
        "trusted": true,
        "execution": {
          "iopub.status.busy": "2025-04-28T07:12:45.499614Z",
          "iopub.execute_input": "2025-04-28T07:12:45.499948Z",
          "iopub.status.idle": "2025-04-28T07:12:45.512807Z",
          "shell.execute_reply.started": "2025-04-28T07:12:45.499924Z",
          "shell.execute_reply": "2025-04-28T07:12:45.511655Z"
        },
        "id": "2BFkq7e4SP2H",
        "outputId": "c3628ecc-dd99-42cb-a24c-1f7c7aa1e3f4"
      },
      "outputs": [
        {
          "execution_count": 17,
          "output_type": "execute_result",
          "data": {
            "text/plain": "           PC1       PC2       PC3       PC4\n0    -0.165346  1.164936  0.233330  0.283527\n1    -0.639050  0.649561 -0.622155  1.740770\n2    -0.794227  1.175790 -0.580254 -0.551055\n3     1.636658  1.907874 -0.675063 -1.052854\n4     0.293648 -0.610856  0.342374 -0.047752\n...        ...       ...       ...       ...\n2925 -0.276496 -0.239255 -0.676658  0.820547\n2926 -0.822084 -0.414039 -0.593885  0.620322\n2927 -1.730457 -0.951137 -0.501221 -1.417521\n2928 -0.049130  0.584898 -0.641779 -0.374198\n2929  1.090406 -0.106617  0.763916  0.328966\n\n[2930 rows x 4 columns]",
            "text/html": "<div>\n<style scoped>\n    .dataframe tbody tr th:only-of-type {\n        vertical-align: middle;\n    }\n\n    .dataframe tbody tr th {\n        vertical-align: top;\n    }\n\n    .dataframe thead th {\n        text-align: right;\n    }\n</style>\n<table border=\"1\" class=\"dataframe\">\n  <thead>\n    <tr style=\"text-align: right;\">\n      <th></th>\n      <th>PC1</th>\n      <th>PC2</th>\n      <th>PC3</th>\n      <th>PC4</th>\n    </tr>\n  </thead>\n  <tbody>\n    <tr>\n      <th>0</th>\n      <td>-0.165346</td>\n      <td>1.164936</td>\n      <td>0.233330</td>\n      <td>0.283527</td>\n    </tr>\n    <tr>\n      <th>1</th>\n      <td>-0.639050</td>\n      <td>0.649561</td>\n      <td>-0.622155</td>\n      <td>1.740770</td>\n    </tr>\n    <tr>\n      <th>2</th>\n      <td>-0.794227</td>\n      <td>1.175790</td>\n      <td>-0.580254</td>\n      <td>-0.551055</td>\n    </tr>\n    <tr>\n      <th>3</th>\n      <td>1.636658</td>\n      <td>1.907874</td>\n      <td>-0.675063</td>\n      <td>-1.052854</td>\n    </tr>\n    <tr>\n      <th>4</th>\n      <td>0.293648</td>\n      <td>-0.610856</td>\n      <td>0.342374</td>\n      <td>-0.047752</td>\n    </tr>\n    <tr>\n      <th>...</th>\n      <td>...</td>\n      <td>...</td>\n      <td>...</td>\n      <td>...</td>\n    </tr>\n    <tr>\n      <th>2925</th>\n      <td>-0.276496</td>\n      <td>-0.239255</td>\n      <td>-0.676658</td>\n      <td>0.820547</td>\n    </tr>\n    <tr>\n      <th>2926</th>\n      <td>-0.822084</td>\n      <td>-0.414039</td>\n      <td>-0.593885</td>\n      <td>0.620322</td>\n    </tr>\n    <tr>\n      <th>2927</th>\n      <td>-1.730457</td>\n      <td>-0.951137</td>\n      <td>-0.501221</td>\n      <td>-1.417521</td>\n    </tr>\n    <tr>\n      <th>2928</th>\n      <td>-0.049130</td>\n      <td>0.584898</td>\n      <td>-0.641779</td>\n      <td>-0.374198</td>\n    </tr>\n    <tr>\n      <th>2929</th>\n      <td>1.090406</td>\n      <td>-0.106617</td>\n      <td>0.763916</td>\n      <td>0.328966</td>\n    </tr>\n  </tbody>\n</table>\n<p>2930 rows × 4 columns</p>\n</div>"
          },
          "metadata": {}
        }
      ],
      "execution_count": null
    },
    {
      "cell_type": "markdown",
      "source": [
        "-------------------------------------------------------------------------------\n",
        "\n",
        "The next question explores a way you can use PCA to detect outliers in the dataset (meaning, data points that are unusually extreme in some way). Outliers can have a detrimental effect on model performance, so it's good to be aware of them in case you need to take corrective action. PCA in particular can show you anomalous *variation* which might not be apparent from the original features: neither small houses nor houses with large basements are unusual, but it is unusual for small houses to have large basements. That's the kind of thing a principal component can show you.\n",
        "\n",
        "Run the next cell to show distribution plots for each of the principal components you created above."
      ],
      "metadata": {
        "id": "g7QsYC9ZSP2H"
      }
    },
    {
      "cell_type": "code",
      "source": [
        "X_pca.melt()"
      ],
      "metadata": {
        "trusted": true,
        "execution": {
          "iopub.status.busy": "2025-04-28T07:20:19.819313Z",
          "iopub.execute_input": "2025-04-28T07:20:19.819836Z",
          "iopub.status.idle": "2025-04-28T07:20:19.834404Z",
          "shell.execute_reply.started": "2025-04-28T07:20:19.819804Z",
          "shell.execute_reply": "2025-04-28T07:20:19.833425Z"
        },
        "id": "7u4mMvHZSP2H",
        "outputId": "dd38686f-a0c3-433e-f337-3230f2c47023"
      },
      "outputs": [
        {
          "execution_count": 21,
          "output_type": "execute_result",
          "data": {
            "text/plain": "      variable     value\n0          PC1 -0.165346\n1          PC1 -0.639050\n2          PC1 -0.794227\n3          PC1  1.636658\n4          PC1  0.293648\n...        ...       ...\n11715      PC4  0.820547\n11716      PC4  0.620322\n11717      PC4 -1.417521\n11718      PC4 -0.374198\n11719      PC4  0.328966\n\n[11720 rows x 2 columns]",
            "text/html": "<div>\n<style scoped>\n    .dataframe tbody tr th:only-of-type {\n        vertical-align: middle;\n    }\n\n    .dataframe tbody tr th {\n        vertical-align: top;\n    }\n\n    .dataframe thead th {\n        text-align: right;\n    }\n</style>\n<table border=\"1\" class=\"dataframe\">\n  <thead>\n    <tr style=\"text-align: right;\">\n      <th></th>\n      <th>variable</th>\n      <th>value</th>\n    </tr>\n  </thead>\n  <tbody>\n    <tr>\n      <th>0</th>\n      <td>PC1</td>\n      <td>-0.165346</td>\n    </tr>\n    <tr>\n      <th>1</th>\n      <td>PC1</td>\n      <td>-0.639050</td>\n    </tr>\n    <tr>\n      <th>2</th>\n      <td>PC1</td>\n      <td>-0.794227</td>\n    </tr>\n    <tr>\n      <th>3</th>\n      <td>PC1</td>\n      <td>1.636658</td>\n    </tr>\n    <tr>\n      <th>4</th>\n      <td>PC1</td>\n      <td>0.293648</td>\n    </tr>\n    <tr>\n      <th>...</th>\n      <td>...</td>\n      <td>...</td>\n    </tr>\n    <tr>\n      <th>11715</th>\n      <td>PC4</td>\n      <td>0.820547</td>\n    </tr>\n    <tr>\n      <th>11716</th>\n      <td>PC4</td>\n      <td>0.620322</td>\n    </tr>\n    <tr>\n      <th>11717</th>\n      <td>PC4</td>\n      <td>-1.417521</td>\n    </tr>\n    <tr>\n      <th>11718</th>\n      <td>PC4</td>\n      <td>-0.374198</td>\n    </tr>\n    <tr>\n      <th>11719</th>\n      <td>PC4</td>\n      <td>0.328966</td>\n    </tr>\n  </tbody>\n</table>\n<p>11720 rows × 2 columns</p>\n</div>"
          },
          "metadata": {}
        }
      ],
      "execution_count": null
    },
    {
      "cell_type": "code",
      "source": [
        "sns.catplot(\n",
        "    y=\"value\",\n",
        "    col=\"variable\",\n",
        "    data=X_pca.melt(),\n",
        "    #this will resahpe the dataframe to two columns,\n",
        "    #where the original column will become column \"variable\"\n",
        "    kind='boxen',\n",
        "    sharey=False,\n",
        "    col_wrap=2,\n",
        ");"
      ],
      "metadata": {
        "trusted": true,
        "execution": {
          "iopub.status.busy": "2025-04-28T07:16:21.742108Z",
          "iopub.execute_input": "2025-04-28T07:16:21.742461Z",
          "iopub.status.idle": "2025-04-28T07:16:23.158312Z",
          "shell.execute_reply.started": "2025-04-28T07:16:21.742435Z",
          "shell.execute_reply": "2025-04-28T07:16:23.157145Z"
        },
        "id": "FCsMl1uRSP2H",
        "outputId": "65680bad-12e9-4237-e2a9-17c2554f7e5e"
      },
      "outputs": [
        {
          "name": "stderr",
          "text": "/usr/local/lib/python3.11/dist-packages/seaborn/categorical.py:1794: FutureWarning: use_inf_as_na option is deprecated and will be removed in a future version. Convert inf values to NaN before operating instead.\n  with pd.option_context('mode.use_inf_as_na', True):\n/usr/local/lib/python3.11/dist-packages/seaborn/categorical.py:1794: FutureWarning: use_inf_as_na option is deprecated and will be removed in a future version. Convert inf values to NaN before operating instead.\n  with pd.option_context('mode.use_inf_as_na', True):\n/usr/local/lib/python3.11/dist-packages/seaborn/categorical.py:1794: FutureWarning: use_inf_as_na option is deprecated and will be removed in a future version. Convert inf values to NaN before operating instead.\n  with pd.option_context('mode.use_inf_as_na', True):\n/usr/local/lib/python3.11/dist-packages/seaborn/categorical.py:1794: FutureWarning: use_inf_as_na option is deprecated and will be removed in a future version. Convert inf values to NaN before operating instead.\n  with pd.option_context('mode.use_inf_as_na', True):\n",
          "output_type": "stream"
        },
        {
          "output_type": "display_data",
          "data": {
            "text/plain": "<Figure size 1000x1000 with 4 Axes>",
            "image/png": "[encoded data removed]"
          },
          "metadata": {}
        }
      ],
      "execution_count": null
    },
    {
      "cell_type": "markdown",
      "source": [
        "As you can see, in each of the components there are several points lying at the extreme ends of the distributions -- outliers, that is.\n",
        "\n",
        "Now run the next cell to see those houses that sit at the extremes of a component:"
      ],
      "metadata": {
        "id": "cGCdvP3WSP2H"
      }
    },
    {
      "cell_type": "code",
      "source": [
        "# You can change PC1 to PC2, PC3, or PC4\n",
        "component = \"PC1\"\n",
        "\n",
        "idx = X_pca[component].sort_values(ascending=False).index\n",
        "df.loc[idx, [\"SalePrice\", \"Neighborhood\", \"SaleCondition\"] + features]"
      ],
      "metadata": {
        "trusted": true,
        "execution": {
          "iopub.status.busy": "2025-04-28T07:22:11.398021Z",
          "iopub.execute_input": "2025-04-28T07:22:11.398344Z",
          "iopub.status.idle": "2025-04-28T07:22:11.418906Z",
          "shell.execute_reply.started": "2025-04-28T07:22:11.39832Z",
          "shell.execute_reply": "2025-04-28T07:22:11.417924Z"
        },
        "id": "icEWIRR7SP2H",
        "outputId": "9f538c95-d5d7-40f1-850d-7d65fa0139b3"
      },
      "outputs": [
        {
          "execution_count": 22,
          "output_type": "execute_result",
          "data": {
            "text/plain": "      SalePrice            Neighborhood SaleCondition  GarageArea  \\\n1498     160000                 Edwards       Partial      1418.0   \n2180     183850                 Edwards       Partial      1154.0   \n2181     184750                 Edwards       Partial       884.0   \n1760     745000              Northridge       Abnorml       813.0   \n1767     755000              Northridge        Normal       832.0   \n...         ...                     ...           ...         ...   \n662       59000                Old_Town        Normal         0.0   \n2679      80500               Brookside        Normal         0.0   \n2879      51689  Iowa_DOT_and_Rail_Road       Abnorml         0.0   \n780       63900                  Sawyer        Normal         0.0   \n1901      39300               Brookside        Normal         0.0   \n\n      YearRemodAdd  TotalBsmtSF  GrLivArea  \n1498          2008       6110.0     5642.0  \n2180          2009       5095.0     5095.0  \n2181          2008       3138.0     4676.0  \n1760          1996       2396.0     4476.0  \n1767          1995       2444.0     4316.0  \n...            ...          ...        ...  \n662           1950        416.0      599.0  \n2679          1950          0.0      912.0  \n2879          1950          0.0      729.0  \n780           1950          0.0      660.0  \n1901          1950          0.0      334.0  \n\n[2930 rows x 7 columns]",
            "text/html": "<div>\n<style scoped>\n    .dataframe tbody tr th:only-of-type {\n        vertical-align: middle;\n    }\n\n    .dataframe tbody tr th {\n        vertical-align: top;\n    }\n\n    .dataframe thead th {\n        text-align: right;\n    }\n</style>\n<table border=\"1\" class=\"dataframe\">\n  <thead>\n    <tr style=\"text-align: right;\">\n      <th></th>\n      <th>SalePrice</th>\n      <th>Neighborhood</th>\n      <th>SaleCondition</th>\n      <th>GarageArea</th>\n      <th>YearRemodAdd</th>\n      <th>TotalBsmtSF</th>\n      <th>GrLivArea</th>\n    </tr>\n  </thead>\n  <tbody>\n    <tr>\n      <th>1498</th>\n      <td>160000</td>\n      <td>Edwards</td>\n      <td>Partial</td>\n      <td>1418.0</td>\n      <td>2008</td>\n      <td>6110.0</td>\n      <td>5642.0</td>\n    </tr>\n    <tr>\n      <th>2180</th>\n      <td>183850</td>\n      <td>Edwards</td>\n      <td>Partial</td>\n      <td>1154.0</td>\n      <td>2009</td>\n      <td>5095.0</td>\n      <td>5095.0</td>\n    </tr>\n    <tr>\n      <th>2181</th>\n      <td>184750</td>\n      <td>Edwards</td>\n      <td>Partial</td>\n      <td>884.0</td>\n      <td>2008</td>\n      <td>3138.0</td>\n      <td>4676.0</td>\n    </tr>\n    <tr>\n      <th>1760</th>\n      <td>745000</td>\n      <td>Northridge</td>\n      <td>Abnorml</td>\n      <td>813.0</td>\n      <td>1996</td>\n      <td>2396.0</td>\n      <td>4476.0</td>\n    </tr>\n    <tr>\n      <th>1767</th>\n      <td>755000</td>\n      <td>Northridge</td>\n      <td>Normal</td>\n      <td>832.0</td>\n      <td>1995</td>\n      <td>2444.0</td>\n      <td>4316.0</td>\n    </tr>\n    <tr>\n      <th>...</th>\n      <td>...</td>\n      <td>...</td>\n      <td>...</td>\n      <td>...</td>\n      <td>...</td>\n      <td>...</td>\n      <td>...</td>\n    </tr>\n    <tr>\n      <th>662</th>\n      <td>59000</td>\n      <td>Old_Town</td>\n      <td>Normal</td>\n      <td>0.0</td>\n      <td>1950</td>\n      <td>416.0</td>\n      <td>599.0</td>\n    </tr>\n    <tr>\n      <th>2679</th>\n      <td>80500</td>\n      <td>Brookside</td>\n      <td>Normal</td>\n      <td>0.0</td>\n      <td>1950</td>\n      <td>0.0</td>\n      <td>912.0</td>\n    </tr>\n    <tr>\n      <th>2879</th>\n      <td>51689</td>\n      <td>Iowa_DOT_and_Rail_Road</td>\n      <td>Abnorml</td>\n      <td>0.0</td>\n      <td>1950</td>\n      <td>0.0</td>\n      <td>729.0</td>\n    </tr>\n    <tr>\n      <th>780</th>\n      <td>63900</td>\n      <td>Sawyer</td>\n      <td>Normal</td>\n      <td>0.0</td>\n      <td>1950</td>\n      <td>0.0</td>\n      <td>660.0</td>\n    </tr>\n    <tr>\n      <th>1901</th>\n      <td>39300</td>\n      <td>Brookside</td>\n      <td>Normal</td>\n      <td>0.0</td>\n      <td>1950</td>\n      <td>0.0</td>\n      <td>334.0</td>\n    </tr>\n  </tbody>\n</table>\n<p>2930 rows × 7 columns</p>\n</div>"
          },
          "metadata": {}
        }
      ],
      "execution_count": null
    },
    {
      "cell_type": "markdown",
      "source": [
        "The outlier (first four) are"
      ],
      "metadata": {
        "id": "XYoAEwYTSP2H"
      }
    },
    {
      "cell_type": "markdown",
      "source": [
        "# 3) Outlier Detection\n",
        "\n",
        "Do you notice any patterns in the extreme values? Does it seem like the outliers are coming from some special subset of the data?\n",
        "\n",
        "After you've thought about your answer, run the next cell for the solution and some discussion."
      ],
      "metadata": {
        "id": "nmnr_QZnSP2H"
      }
    },
    {
      "cell_type": "code",
      "source": [
        "# View the solution (Run this cell to receive credit!)\n",
        "q_3.check()"
      ],
      "metadata": {
        "trusted": true,
        "execution": {
          "iopub.status.busy": "2025-04-28T07:24:12.070833Z",
          "iopub.execute_input": "2025-04-28T07:24:12.071196Z",
          "iopub.status.idle": "2025-04-28T07:24:12.079627Z",
          "shell.execute_reply.started": "2025-04-28T07:24:12.07117Z",
          "shell.execute_reply": "2025-04-28T07:24:12.078397Z"
        },
        "id": "csVMITJjSP2H",
        "outputId": "497aa949-c6e6-450b-9590-e8b9a5ae6eea"
      },
      "outputs": [
        {
          "output_type": "display_data",
          "data": {
            "text/plain": "<IPython.core.display.Javascript object>",
            "application/javascript": "parent.postMessage({\"jupyterEvent\": \"custom.exercise_interaction\", \"data\": {\"outcomeType\": 1, \"valueTowardsCompletion\": 0.3333333333333333, \"interactionType\": 1, \"questionType\": 4, \"questionId\": \"3_Q3\", \"learnToolsVersion\": \"0.3.5\", \"failureMessage\": \"\", \"exceptionClass\": \"\", \"trace\": \"\"}}, \"*\")"
          },
          "metadata": {}
        },
        {
          "output_type": "display_data",
          "data": {
            "text/plain": "Correct: \n\nNotice that there are several dwellings listed as `Partial` sales in the `Edwards` neighborhood that stand out. A partial sale is what occurs when there are multiple owners of a property and one or more of them sell their \"partial\" ownership of the property.\n\nThese kinds of sales are often happen during the settlement of a family estate or the dissolution of a business and aren't advertised publicly. If you were trying to predict the value of a house on the open market, you would probably be justified in removing sales like these from your dataset -- they are truly outliers.",
            "text/markdown": "<span style=\"color:#33cc33\">Correct:</span> \n\nNotice that there are several dwellings listed as `Partial` sales in the `Edwards` neighborhood that stand out. A partial sale is what occurs when there are multiple owners of a property and one or more of them sell their \"partial\" ownership of the property.\n\nThese kinds of sales are often happen during the settlement of a family estate or the dissolution of a business and aren't advertised publicly. If you were trying to predict the value of a house on the open market, you would probably be justified in removing sales like these from your dataset -- they are truly outliers.\n"
          },
          "metadata": {}
        }
      ],
      "execution_count": null
    },
    {
      "cell_type": "markdown",
      "source": [
        "# Keep Going #\n",
        "\n",
        "[**Apply target encoding**](https://www.kaggle.com/ryanholbrook/target-encoding) to give a boost to categorical features."
      ],
      "metadata": {
        "id": "BANQDDrYSP2H"
      }
    },
    {
      "cell_type": "markdown",
      "source": [
        "---\n",
        "\n",
        "\n",
        "\n",
        "\n",
        "*Have questions or comments? Visit the [course discussion forum](https://www.kaggle.com/learn/feature-engineering/discussion) to chat with other learners.*"
      ],
      "metadata": {
        "id": "_TnJCTubSP2H"
      }
    }
  ]
}