{
  "metadata": {
    "kernelspec": {
      "display_name": "Python 3",
      "language": "python",
      "name": "python3"
    },
    "language_info": {
      "name": "python",
      "version": "3.11.11",
      "mimetype": "text/x-python",
      "codemirror_mode": {
        "name": "ipython",
        "version": 3
      },
      "pygments_lexer": "ipython3",
      "nbconvert_exporter": "python",
      "file_extension": ".py"
    },
    "jupytext": {
      "cell_metadata_filter": "-all",
      "formats": "ipynb"
    },
    "kaggle": {
      "accelerator": "none",
      "dataSources": [
        {
          "sourceId": 1828856,
          "sourceType": "datasetVersion",
          "datasetId": 933090
        }
      ],
      "isInternetEnabled": false,
      "language": "python",
      "sourceType": "notebook",
      "isGpuEnabled": false
    },
    "colab": {
      "name": "Exercise: Creating Features",
      "provenance": []
    }
  },
  "nbformat_minor": 0,
  "nbformat": 4,
  "cells": [
    {
      "source": [
        "# IMPORTANT: RUN THIS CELL IN ORDER TO IMPORT YOUR KAGGLE DATA SOURCES,\n",
        "# THEN FEEL FREE TO DELETE THIS CELL.\n",
        "# NOTE: THIS NOTEBOOK ENVIRONMENT DIFFERS FROM KAGGLE'S PYTHON\n",
        "# ENVIRONMENT SO THERE MAY BE MISSING LIBRARIES USED BY YOUR\n",
        "# NOTEBOOK.\n",
        "import kagglehub\n",
        "ryanholbrook_fe_course_data_path = kagglehub.dataset_download('ryanholbrook/fe-course-data')\n",
        "\n",
        "print('Data source import complete.')\n"
      ],
      "metadata": {
        "id": "wsZ8FYgUE9yO"
      },
      "cell_type": "code",
      "outputs": [],
      "execution_count": null
    },
    {
      "cell_type": "markdown",
      "source": [
        "**This notebook is an exercise in the [Feature Engineering](https://www.kaggle.com/learn/feature-engineering) course.  You can reference the tutorial at [this link](https://www.kaggle.com/ryanholbrook/creating-features).**\n",
        "\n",
        "---\n"
      ],
      "metadata": {
        "id": "oPBDFXhEE9yP"
      }
    },
    {
      "cell_type": "markdown",
      "source": [
        "# Introduction #\n",
        "\n",
        "In this exercise you'll start developing the features you identified in Exercise 2 as having the most potential. As you work through this exercise, you might take a moment to look at the data documentation again and consider whether the features we're creating make sense from a real-world perspective, and whether there are any useful combinations that stand out to you.\n",
        "\n",
        "Run this cell to set everything up!"
      ],
      "metadata": {
        "id": "kgPnyTgRE9yQ"
      }
    },
    {
      "cell_type": "code",
      "source": [
        "# Setup feedback system\n",
        "from learntools.core import binder\n",
        "binder.bind(globals())\n",
        "from learntools.feature_engineering_new.ex3 import *\n",
        "\n",
        "import numpy as np\n",
        "import pandas as pd\n",
        "from sklearn.model_selection import cross_val_score\n",
        "from xgboost import XGBRegressor\n",
        "\n",
        "\n",
        "def score_dataset(X, y, model=XGBRegressor()):\n",
        "    # Label encoding for categoricals\n",
        "    for colname in X.select_dtypes([\"category\", \"object\"]):\n",
        "        X[colname], _ = X[colname].factorize()\n",
        "    # Metric for Housing competition is RMSLE (Root Mean Squared Log Error)\n",
        "    score = cross_val_score(\n",
        "        model, X, y, cv=5, scoring=\"neg_mean_squared_log_error\",\n",
        "    )\n",
        "    score = -1 * score.mean()\n",
        "    score = np.sqrt(score)\n",
        "    return score\n",
        "\n",
        "\n",
        "# Prepare data\n",
        "df = pd.read_csv(\"../input/fe-course-data/ames.csv\")\n",
        "X = df.copy()\n",
        "y = X.pop(\"SalePrice\")"
      ],
      "metadata": {
        "trusted": true,
        "execution": {
          "iopub.status.busy": "2025-04-27T06:44:20.587833Z",
          "iopub.execute_input": "2025-04-27T06:44:20.588106Z",
          "iopub.status.idle": "2025-04-27T06:44:24.14895Z",
          "shell.execute_reply.started": "2025-04-27T06:44:20.588077Z",
          "shell.execute_reply": "2025-04-27T06:44:24.147998Z"
        },
        "id": "rNFsODnuE9yQ"
      },
      "outputs": [],
      "execution_count": null
    },
    {
      "cell_type": "markdown",
      "source": [
        "-------------------------------------------------------------------------------\n",
        "\n",
        "Let's start with a few mathematical combinations. We'll focus on features describing areas -- having the same units (square-feet) makes it easy to combine them in sensible ways. Since we're using XGBoost (a tree-based model), we'll focus on ratios and sums.\n",
        "\n",
        "# 1) Create Mathematical Transforms\n",
        "\n",
        "Create the following features:\n",
        "\n",
        "- `LivLotRatio`: the ratio of `GrLivArea` to `LotArea`\n",
        "- `Spaciousness`: the sum of `FirstFlrSF` and `SecondFlrSF` divided by `TotRmsAbvGrd`\n",
        "- `TotalOutsideSF`: the sum of `WoodDeckSF`, `OpenPorchSF`, `EnclosedPorch`, `Threeseasonporch`, and `ScreenPorch`"
      ],
      "metadata": {
        "id": "mnxzxW00E9yQ"
      }
    },
    {
      "cell_type": "code",
      "source": [
        "# YOUR CODE HERE\n",
        "X_1 = pd.DataFrame()  # dataframe to hold new features\n",
        "\n",
        "X_1[\"LivLotRatio\"] = Ｘ[\"GrLivArea\"]/X[\"LotArea\"]\n",
        "X_1[\"Spaciousness\"] = (X[\"FirstFlrSF\"]+X[\"SecondFlrSF\"])/X[\"TotRmsAbvGrd\"]\n",
        "X_1[\"TotalOutsideSF\"] = X[\"WoodDeckSF\"]+X[\"OpenPorchSF\"]+X[\"EnclosedPorch\"]+X[\"Threeseasonporch\"]+X[\"ScreenPorch\"]\n",
        "\n",
        "\n",
        "# Check your answer\n",
        "q_1.check()"
      ],
      "metadata": {
        "lines_to_next_cell": 0,
        "trusted": true,
        "execution": {
          "iopub.status.busy": "2025-04-27T06:49:08.923234Z",
          "iopub.execute_input": "2025-04-27T06:49:08.923514Z",
          "iopub.status.idle": "2025-04-27T06:49:08.941541Z",
          "shell.execute_reply.started": "2025-04-27T06:49:08.923495Z",
          "shell.execute_reply": "2025-04-27T06:49:08.94078Z"
        },
        "id": "yaomC_Y3E9yR",
        "outputId": "473115c3-ec3a-4b3c-886c-81d1d293f9c1"
      },
      "outputs": [
        {
          "output_type": "display_data",
          "data": {
            "text/plain": "<IPython.core.display.Javascript object>",
            "application/javascript": "parent.postMessage({\"jupyterEvent\": \"custom.exercise_interaction\", \"data\": {\"outcomeType\": 1, \"valueTowardsCompletion\": 0.2, \"interactionType\": 1, \"questionType\": 2, \"questionId\": \"1_Q1\", \"learnToolsVersion\": \"0.3.5\", \"failureMessage\": \"\", \"exceptionClass\": \"\", \"trace\": \"\"}}, \"*\")"
          },
          "metadata": {}
        },
        {
          "output_type": "display_data",
          "data": {
            "text/plain": "Correct",
            "text/markdown": "<span style=\"color:#33cc33\">Correct</span>"
          },
          "metadata": {}
        }
      ],
      "execution_count": null
    },
    {
      "cell_type": "code",
      "source": [
        "# Lines below will give you a hint or solution code\n",
        "#q_1.hint()\n",
        "#q_1.solution()"
      ],
      "metadata": {
        "lines_to_next_cell": 0,
        "trusted": true,
        "execution": {
          "iopub.status.busy": "2025-04-27T06:49:12.549687Z",
          "iopub.execute_input": "2025-04-27T06:49:12.550031Z",
          "iopub.status.idle": "2025-04-27T06:49:12.554492Z",
          "shell.execute_reply.started": "2025-04-27T06:49:12.550006Z",
          "shell.execute_reply": "2025-04-27T06:49:12.553581Z"
        },
        "id": "NS7JSpI7E9yR"
      },
      "outputs": [],
      "execution_count": null
    },
    {
      "cell_type": "markdown",
      "source": [
        "-------------------------------------------------------------------------------\n",
        "\n",
        "If you've discovered an interaction effect between a numeric feature and a categorical feature, you might want to model it explicitly using a one-hot encoding, like so:\n",
        "\n",
        "```\n",
        "# One-hot encode Categorical feature, adding a column prefix \"Cat\"\n",
        "X_new = pd.get_dummies(df.Categorical, prefix=\"Cat\")\n",
        "\n",
        "# Multiply row-by-row\n",
        "X_new = X_new.mul(df.Continuous, axis=0)\n",
        "\n",
        "# Join the new features to the feature set\n",
        "X = X.join(X_new)\n",
        "```\n",
        "\n",
        "# 2) Interaction with a Categorical\n",
        "\n",
        "We discovered an interaction between `BldgType` and `GrLivArea` in Exercise 2. Now create their interaction features."
      ],
      "metadata": {
        "id": "W8voLFRPE9yR"
      }
    },
    {
      "cell_type": "code",
      "source": [
        "# YOUR CODE HERE\n",
        "# One-hot encode BldgType. Use `prefix=\"Bldg\"` in `get_dummies`\n",
        "X_2 = pd.get_dummies(X.BldgType, prefix=\"Bldg\")\n",
        "# Multiply\n",
        "X_2 = X_2.mul(X.GrLivArea, axis=0)\n",
        "\n",
        "\n",
        "# Check your answer\n",
        "q_2.check()"
      ],
      "metadata": {
        "lines_to_next_cell": 0,
        "trusted": true,
        "execution": {
          "iopub.status.busy": "2025-04-27T06:55:25.34614Z",
          "iopub.execute_input": "2025-04-27T06:55:25.346866Z",
          "iopub.status.idle": "2025-04-27T06:55:25.35866Z",
          "shell.execute_reply.started": "2025-04-27T06:55:25.346776Z",
          "shell.execute_reply": "2025-04-27T06:55:25.357995Z"
        },
        "id": "FX-ureRKE9yR",
        "outputId": "bcf641c1-53c5-42dd-aa5e-5c4c59e2f3cf"
      },
      "outputs": [
        {
          "output_type": "display_data",
          "data": {
            "text/plain": "<IPython.core.display.Javascript object>",
            "application/javascript": "parent.postMessage({\"jupyterEvent\": \"custom.exercise_interaction\", \"data\": {\"outcomeType\": 1, \"valueTowardsCompletion\": 0.2, \"interactionType\": 1, \"questionType\": 2, \"questionId\": \"2_Q2\", \"learnToolsVersion\": \"0.3.5\", \"failureMessage\": \"\", \"exceptionClass\": \"\", \"trace\": \"\"}}, \"*\")"
          },
          "metadata": {}
        },
        {
          "output_type": "display_data",
          "data": {
            "text/plain": "Correct",
            "text/markdown": "<span style=\"color:#33cc33\">Correct</span>"
          },
          "metadata": {}
        }
      ],
      "execution_count": null
    },
    {
      "cell_type": "code",
      "source": [
        "# Lines below will give you a hint or solution code\n",
        "#q_2.hint()\n",
        "#q_2.solution()\n",
        "X.GrLivArea.head()\n",
        "X_2 = pd.get_dummies(X.BldgType, prefix=\"Bldg\")\n",
        "X_2"
      ],
      "metadata": {
        "lines_to_next_cell": 0,
        "trusted": true,
        "execution": {
          "iopub.status.busy": "2025-04-27T06:54:06.007901Z",
          "iopub.execute_input": "2025-04-27T06:54:06.00833Z",
          "iopub.status.idle": "2025-04-27T06:54:06.024568Z",
          "shell.execute_reply.started": "2025-04-27T06:54:06.008307Z",
          "shell.execute_reply": "2025-04-27T06:54:06.023854Z"
        },
        "id": "EuowoSIrE9yS",
        "outputId": "fbd1483f-260d-48dc-9064-9806a42f832a"
      },
      "outputs": [
        {
          "execution_count": 13,
          "output_type": "execute_result",
          "data": {
            "text/plain": "      Bldg_Duplex  Bldg_OneFam  Bldg_Twnhs  Bldg_TwnhsE  Bldg_TwoFmCon\n0           False         True       False        False          False\n1           False         True       False        False          False\n2           False         True       False        False          False\n3           False         True       False        False          False\n4           False         True       False        False          False\n...           ...          ...         ...          ...            ...\n2925        False         True       False        False          False\n2926        False         True       False        False          False\n2927        False         True       False        False          False\n2928        False         True       False        False          False\n2929        False         True       False        False          False\n\n[2930 rows x 5 columns]",
            "text/html": "<div>\n<style scoped>\n    .dataframe tbody tr th:only-of-type {\n        vertical-align: middle;\n    }\n\n    .dataframe tbody tr th {\n        vertical-align: top;\n    }\n\n    .dataframe thead th {\n        text-align: right;\n    }\n</style>\n<table border=\"1\" class=\"dataframe\">\n  <thead>\n    <tr style=\"text-align: right;\">\n      <th></th>\n      <th>Bldg_Duplex</th>\n      <th>Bldg_OneFam</th>\n      <th>Bldg_Twnhs</th>\n      <th>Bldg_TwnhsE</th>\n      <th>Bldg_TwoFmCon</th>\n    </tr>\n  </thead>\n  <tbody>\n    <tr>\n      <th>0</th>\n      <td>False</td>\n      <td>True</td>\n      <td>False</td>\n      <td>False</td>\n      <td>False</td>\n    </tr>\n    <tr>\n      <th>1</th>\n      <td>False</td>\n      <td>True</td>\n      <td>False</td>\n      <td>False</td>\n      <td>False</td>\n    </tr>\n    <tr>\n      <th>2</th>\n      <td>False</td>\n      <td>True</td>\n      <td>False</td>\n      <td>False</td>\n      <td>False</td>\n    </tr>\n    <tr>\n      <th>3</th>\n      <td>False</td>\n      <td>True</td>\n      <td>False</td>\n      <td>False</td>\n      <td>False</td>\n    </tr>\n    <tr>\n      <th>4</th>\n      <td>False</td>\n      <td>True</td>\n      <td>False</td>\n      <td>False</td>\n      <td>False</td>\n    </tr>\n    <tr>\n      <th>...</th>\n      <td>...</td>\n      <td>...</td>\n      <td>...</td>\n      <td>...</td>\n      <td>...</td>\n    </tr>\n    <tr>\n      <th>2925</th>\n      <td>False</td>\n      <td>True</td>\n      <td>False</td>\n      <td>False</td>\n      <td>False</td>\n    </tr>\n    <tr>\n      <th>2926</th>\n      <td>False</td>\n      <td>True</td>\n      <td>False</td>\n      <td>False</td>\n      <td>False</td>\n    </tr>\n    <tr>\n      <th>2927</th>\n      <td>False</td>\n      <td>True</td>\n      <td>False</td>\n      <td>False</td>\n      <td>False</td>\n    </tr>\n    <tr>\n      <th>2928</th>\n      <td>False</td>\n      <td>True</td>\n      <td>False</td>\n      <td>False</td>\n      <td>False</td>\n    </tr>\n    <tr>\n      <th>2929</th>\n      <td>False</td>\n      <td>True</td>\n      <td>False</td>\n      <td>False</td>\n      <td>False</td>\n    </tr>\n  </tbody>\n</table>\n<p>2930 rows × 5 columns</p>\n</div>"
          },
          "metadata": {}
        }
      ],
      "execution_count": null
    },
    {
      "cell_type": "code",
      "source": [
        "X_2 = X_2.mul(X.GrLivArea, axis=0)\n",
        "X_2"
      ],
      "metadata": {
        "trusted": true,
        "execution": {
          "iopub.status.busy": "2025-04-27T06:55:14.906994Z",
          "iopub.execute_input": "2025-04-27T06:55:14.907292Z",
          "iopub.status.idle": "2025-04-27T06:55:14.92104Z",
          "shell.execute_reply.started": "2025-04-27T06:55:14.90727Z",
          "shell.execute_reply": "2025-04-27T06:55:14.920276Z"
        },
        "id": "KwFM0XR_E9yS",
        "outputId": "88ebe22f-cb31-4895-a1ca-76bdbf7a9f2b"
      },
      "outputs": [
        {
          "execution_count": 15,
          "output_type": "execute_result",
          "data": {
            "text/plain": "      Bldg_Duplex  Bldg_OneFam  Bldg_Twnhs  Bldg_TwnhsE  Bldg_TwoFmCon\n0             0.0    2742336.0         0.0          0.0            0.0\n1             0.0     802816.0         0.0          0.0            0.0\n2             0.0    1766241.0         0.0          0.0            0.0\n3             0.0    4452100.0         0.0          0.0            0.0\n4             0.0    2653641.0         0.0          0.0            0.0\n...           ...          ...         ...          ...            ...\n2925          0.0    1006009.0         0.0          0.0            0.0\n2926          0.0     813604.0         0.0          0.0            0.0\n2927          0.0     940900.0         0.0          0.0            0.0\n2928          0.0    1929321.0         0.0          0.0            0.0\n2929          0.0    4000000.0         0.0          0.0            0.0\n\n[2930 rows x 5 columns]",
            "text/html": "<div>\n<style scoped>\n    .dataframe tbody tr th:only-of-type {\n        vertical-align: middle;\n    }\n\n    .dataframe tbody tr th {\n        vertical-align: top;\n    }\n\n    .dataframe thead th {\n        text-align: right;\n    }\n</style>\n<table border=\"1\" class=\"dataframe\">\n  <thead>\n    <tr style=\"text-align: right;\">\n      <th></th>\n      <th>Bldg_Duplex</th>\n      <th>Bldg_OneFam</th>\n      <th>Bldg_Twnhs</th>\n      <th>Bldg_TwnhsE</th>\n      <th>Bldg_TwoFmCon</th>\n    </tr>\n  </thead>\n  <tbody>\n    <tr>\n      <th>0</th>\n      <td>0.0</td>\n      <td>2742336.0</td>\n      <td>0.0</td>\n      <td>0.0</td>\n      <td>0.0</td>\n    </tr>\n    <tr>\n      <th>1</th>\n      <td>0.0</td>\n      <td>802816.0</td>\n      <td>0.0</td>\n      <td>0.0</td>\n      <td>0.0</td>\n    </tr>\n    <tr>\n      <th>2</th>\n      <td>0.0</td>\n      <td>1766241.0</td>\n      <td>0.0</td>\n      <td>0.0</td>\n      <td>0.0</td>\n    </tr>\n    <tr>\n      <th>3</th>\n      <td>0.0</td>\n      <td>4452100.0</td>\n      <td>0.0</td>\n      <td>0.0</td>\n      <td>0.0</td>\n    </tr>\n    <tr>\n      <th>4</th>\n      <td>0.0</td>\n      <td>2653641.0</td>\n      <td>0.0</td>\n      <td>0.0</td>\n      <td>0.0</td>\n    </tr>\n    <tr>\n      <th>...</th>\n      <td>...</td>\n      <td>...</td>\n      <td>...</td>\n      <td>...</td>\n      <td>...</td>\n    </tr>\n    <tr>\n      <th>2925</th>\n      <td>0.0</td>\n      <td>1006009.0</td>\n      <td>0.0</td>\n      <td>0.0</td>\n      <td>0.0</td>\n    </tr>\n    <tr>\n      <th>2926</th>\n      <td>0.0</td>\n      <td>813604.0</td>\n      <td>0.0</td>\n      <td>0.0</td>\n      <td>0.0</td>\n    </tr>\n    <tr>\n      <th>2927</th>\n      <td>0.0</td>\n      <td>940900.0</td>\n      <td>0.0</td>\n      <td>0.0</td>\n      <td>0.0</td>\n    </tr>\n    <tr>\n      <th>2928</th>\n      <td>0.0</td>\n      <td>1929321.0</td>\n      <td>0.0</td>\n      <td>0.0</td>\n      <td>0.0</td>\n    </tr>\n    <tr>\n      <th>2929</th>\n      <td>0.0</td>\n      <td>4000000.0</td>\n      <td>0.0</td>\n      <td>0.0</td>\n      <td>0.0</td>\n    </tr>\n  </tbody>\n</table>\n<p>2930 rows × 5 columns</p>\n</div>"
          },
          "metadata": {}
        }
      ],
      "execution_count": null
    },
    {
      "cell_type": "markdown",
      "source": [
        "# 3) Count Feature\n",
        "\n",
        "Let's try creating a feature that describes how many kinds of outdoor areas a dwelling has. Create a feature `PorchTypes` that counts how many of the following are greater than 0.0:\n",
        "\n",
        "```\n",
        "WoodDeckSF\n",
        "OpenPorchSF\n",
        "EnclosedPorch\n",
        "Threeseasonporch\n",
        "ScreenPorch\n",
        "```"
      ],
      "metadata": {
        "lines_to_next_cell": 0,
        "id": "GoYnAJuJE9yS"
      }
    },
    {
      "cell_type": "code",
      "source": [
        "X_3 = pd.DataFrame()\n",
        "\n",
        "types = [\"WoodDeckSF\", \"OpenPorchSF\", \"EnclosedPorch\", \"Threeseasonporch\", \"ScreenPorch\"]\n",
        "\n",
        "# YOUR CODE HERE\n",
        "X_3[\"PorchTypes\"] = X[types].gt(0).sum(axis=1)\n",
        "X_3[\"PorchTypes\"]\n",
        "\n",
        "# Check your answer\n",
        "q_3.check()"
      ],
      "metadata": {
        "lines_to_next_cell": 0,
        "trusted": true,
        "execution": {
          "iopub.status.busy": "2025-04-27T07:01:06.867717Z",
          "iopub.execute_input": "2025-04-27T07:01:06.868076Z",
          "iopub.status.idle": "2025-04-27T07:01:06.883605Z",
          "shell.execute_reply.started": "2025-04-27T07:01:06.868053Z",
          "shell.execute_reply": "2025-04-27T07:01:06.882813Z"
        },
        "id": "Srk-6sbjE9yS",
        "outputId": "9b00c104-cae5-49d0-efb6-da7347ed8e83"
      },
      "outputs": [
        {
          "output_type": "display_data",
          "data": {
            "text/plain": "<IPython.core.display.Javascript object>",
            "application/javascript": "parent.postMessage({\"jupyterEvent\": \"custom.exercise_interaction\", \"data\": {\"outcomeType\": 1, \"valueTowardsCompletion\": 0.2, \"interactionType\": 1, \"questionType\": 2, \"questionId\": \"3_Q3\", \"learnToolsVersion\": \"0.3.5\", \"failureMessage\": \"\", \"exceptionClass\": \"\", \"trace\": \"\"}}, \"*\")"
          },
          "metadata": {}
        },
        {
          "output_type": "display_data",
          "data": {
            "text/plain": "Correct",
            "text/markdown": "<span style=\"color:#33cc33\">Correct</span>"
          },
          "metadata": {}
        }
      ],
      "execution_count": null
    },
    {
      "cell_type": "code",
      "source": [
        "X_3[\"PorchTypes\"]"
      ],
      "metadata": {
        "trusted": true,
        "execution": {
          "iopub.status.busy": "2025-04-27T07:01:15.379481Z",
          "iopub.execute_input": "2025-04-27T07:01:15.379752Z",
          "iopub.status.idle": "2025-04-27T07:01:15.386655Z",
          "shell.execute_reply.started": "2025-04-27T07:01:15.379733Z",
          "shell.execute_reply": "2025-04-27T07:01:15.385923Z"
        },
        "id": "hjaTIawiE9yS",
        "outputId": "3efc9cfd-05cd-4f23-f28a-556de277fd87"
      },
      "outputs": [
        {
          "execution_count": 43,
          "output_type": "execute_result",
          "data": {
            "text/plain": "0       2\n1       2\n2       2\n3       0\n4       2\n       ..\n2925    1\n2926    1\n2927    2\n2928    2\n2929    2\nName: PorchTypes, Length: 2930, dtype: int64"
          },
          "metadata": {}
        }
      ],
      "execution_count": null
    },
    {
      "cell_type": "code",
      "source": [
        "# Lines below will give you a hint or solution code\n",
        "#q_3.hint()\n",
        "#q_3.solution()\n",
        "types = [\"WoodDeckSF\", \"OpenPorchSF\", \"EnclosedPorch\", \"Threeseasonporch\", \"ScreenPorch\"]\n",
        "\n",
        "X[types].gt(0).sum(axis=1)\n",
        "\n"
      ],
      "metadata": {
        "lines_to_next_cell": 0,
        "trusted": true,
        "execution": {
          "iopub.status.busy": "2025-04-27T07:00:46.548602Z",
          "iopub.execute_input": "2025-04-27T07:00:46.549277Z",
          "iopub.status.idle": "2025-04-27T07:00:46.558419Z",
          "shell.execute_reply.started": "2025-04-27T07:00:46.54925Z",
          "shell.execute_reply": "2025-04-27T07:00:46.557556Z"
        },
        "id": "aMMlb8lqE9yS",
        "outputId": "99417a82-85d2-42e9-a660-2e35e4dc4044"
      },
      "outputs": [
        {
          "execution_count": 40,
          "output_type": "execute_result",
          "data": {
            "text/plain": "0       2\n1       2\n2       2\n3       0\n4       2\n       ..\n2925    1\n2926    1\n2927    2\n2928    2\n2929    2\nLength: 2930, dtype: int64"
          },
          "metadata": {}
        }
      ],
      "execution_count": null
    },
    {
      "cell_type": "markdown",
      "source": [
        "# 4) Break Down a Categorical Feature\n",
        "\n",
        "`MSSubClass` describes the type of a dwelling:"
      ],
      "metadata": {
        "id": "tAm1fW58E9yS"
      }
    },
    {
      "cell_type": "code",
      "source": [
        "df.MSSubClass.unique()"
      ],
      "metadata": {
        "trusted": true,
        "execution": {
          "iopub.status.busy": "2025-04-27T07:01:24.258252Z",
          "iopub.execute_input": "2025-04-27T07:01:24.25853Z",
          "iopub.status.idle": "2025-04-27T07:01:24.264879Z",
          "shell.execute_reply.started": "2025-04-27T07:01:24.25851Z",
          "shell.execute_reply": "2025-04-27T07:01:24.264156Z"
        },
        "id": "0zv0LZc2E9yS",
        "outputId": "01ceb6b2-f1ea-4bdc-c322-5885e7b33fc7"
      },
      "outputs": [
        {
          "execution_count": 44,
          "output_type": "execute_result",
          "data": {
            "text/plain": "array(['One_Story_1946_and_Newer_All_Styles', 'Two_Story_1946_and_Newer',\n       'One_Story_PUD_1946_and_Newer',\n       'One_and_Half_Story_Finished_All_Ages', 'Split_Foyer',\n       'Two_Story_PUD_1946_and_Newer', 'Split_or_Multilevel',\n       'One_Story_1945_and_Older', 'Duplex_All_Styles_and_Ages',\n       'Two_Family_conversion_All_Styles_and_Ages',\n       'One_and_Half_Story_Unfinished_All_Ages',\n       'Two_Story_1945_and_Older', 'Two_and_Half_Story_All_Ages',\n       'One_Story_with_Finished_Attic_All_Ages',\n       'PUD_Multilevel_Split_Level_Foyer',\n       'One_and_Half_Story_PUD_All_Ages'], dtype=object)"
          },
          "metadata": {}
        }
      ],
      "execution_count": null
    },
    {
      "cell_type": "markdown",
      "source": [
        "You can see that there is a more general categorization described (roughly) by the first word of each category. Create a feature containing only these first words by splitting `MSSubClass` at the first underscore `_`. (Hint: In the `split` method use an argument `n=1`.)"
      ],
      "metadata": {
        "id": "mVD8ctN6E9yS"
      }
    },
    {
      "cell_type": "code",
      "source": [
        "X_4 = pd.DataFrame()\n",
        "\n",
        "# YOUR CODE HERE\n",
        "X_4[\"MSClass\"]=X.MSSubClass.str.split(\"_\", n=1, expand=True)[0]\n",
        "\n",
        "# Check your answer\n",
        "q_4.check()"
      ],
      "metadata": {
        "lines_to_next_cell": 0,
        "trusted": true,
        "execution": {
          "iopub.status.busy": "2025-04-27T07:06:40.138538Z",
          "iopub.execute_input": "2025-04-27T07:06:40.138874Z",
          "iopub.status.idle": "2025-04-27T07:06:40.156703Z",
          "shell.execute_reply.started": "2025-04-27T07:06:40.138831Z",
          "shell.execute_reply": "2025-04-27T07:06:40.156076Z"
        },
        "id": "o80z1QzuE9yS",
        "outputId": "11413df0-945a-4a9c-b726-8a2516f3a146"
      },
      "outputs": [
        {
          "output_type": "display_data",
          "data": {
            "text/plain": "<IPython.core.display.Javascript object>",
            "application/javascript": "parent.postMessage({\"jupyterEvent\": \"custom.exercise_interaction\", \"data\": {\"outcomeType\": 1, \"valueTowardsCompletion\": 0.2, \"interactionType\": 1, \"questionType\": 2, \"questionId\": \"4_Q4\", \"learnToolsVersion\": \"0.3.5\", \"failureMessage\": \"\", \"exceptionClass\": \"\", \"trace\": \"\"}}, \"*\")"
          },
          "metadata": {}
        },
        {
          "output_type": "display_data",
          "data": {
            "text/plain": "Correct",
            "text/markdown": "<span style=\"color:#33cc33\">Correct</span>"
          },
          "metadata": {}
        }
      ],
      "execution_count": null
    },
    {
      "cell_type": "code",
      "source": [
        "# Lines below will give you a hint or solution code\n",
        "#q_4.hint()\n",
        "#q_4.solution()\n",
        "X_4[\"MSClass\"]=X.MSSubClass.str.split(\"_\", n=1, expand=True)[0]\n",
        "X_4[\"MSClass\"]"
      ],
      "metadata": {
        "lines_to_next_cell": 0,
        "trusted": true,
        "execution": {
          "iopub.status.busy": "2025-04-27T07:06:29.799023Z",
          "iopub.execute_input": "2025-04-27T07:06:29.799508Z",
          "iopub.status.idle": "2025-04-27T07:06:29.809721Z",
          "shell.execute_reply.started": "2025-04-27T07:06:29.799479Z",
          "shell.execute_reply": "2025-04-27T07:06:29.808904Z"
        },
        "id": "rgAQI3FaE9yS",
        "outputId": "d090565f-8604-4576-84f4-5a271e5ac77d"
      },
      "outputs": [
        {
          "execution_count": 52,
          "output_type": "execute_result",
          "data": {
            "text/plain": "0         One\n1         One\n2         One\n3         One\n4         Two\n        ...  \n2925    Split\n2926      One\n2927    Split\n2928      One\n2929      Two\nName: MSClass, Length: 2930, dtype: object"
          },
          "metadata": {}
        }
      ],
      "execution_count": null
    },
    {
      "cell_type": "markdown",
      "source": [
        "# 5) Use a Grouped Transform\n",
        "\n",
        "The value of a home often depends on how it compares to typical homes in its neighborhood. Create a feature `MedNhbdArea` that describes the *median* of `GrLivArea` grouped on `Neighborhood`."
      ],
      "metadata": {
        "id": "rwPvxWdtE9yT"
      }
    },
    {
      "cell_type": "code",
      "source": [
        "X_5 = pd.DataFrame()\n",
        "\n",
        "# YOUR CODE HERE\n",
        "X_5[\"MedNhbdArea\"] = X.groupby(\"Neighborhood\").GrLivArea.transform('median')\n",
        "\n",
        "# Check your answer\n",
        "q_5.check()"
      ],
      "metadata": {
        "lines_to_next_cell": 0,
        "trusted": true,
        "execution": {
          "iopub.status.busy": "2025-04-27T07:08:26.208775Z",
          "iopub.execute_input": "2025-04-27T07:08:26.209102Z",
          "iopub.status.idle": "2025-04-27T07:08:26.226725Z",
          "shell.execute_reply.started": "2025-04-27T07:08:26.20908Z",
          "shell.execute_reply": "2025-04-27T07:08:26.225971Z"
        },
        "id": "41NS8uhME9yT",
        "outputId": "9a9898b4-9d73-4544-edcb-a663cb704a49"
      },
      "outputs": [
        {
          "output_type": "display_data",
          "data": {
            "text/plain": "<IPython.core.display.Javascript object>",
            "application/javascript": "parent.postMessage({\"jupyterEvent\": \"custom.exercise_interaction\", \"data\": {\"outcomeType\": 1, \"valueTowardsCompletion\": 0.2, \"interactionType\": 1, \"questionType\": 2, \"questionId\": \"5_Q5\", \"learnToolsVersion\": \"0.3.5\", \"failureMessage\": \"\", \"exceptionClass\": \"\", \"trace\": \"\"}}, \"*\")"
          },
          "metadata": {}
        },
        {
          "output_type": "display_data",
          "data": {
            "text/plain": "Correct",
            "text/markdown": "<span style=\"color:#33cc33\">Correct</span>"
          },
          "metadata": {}
        }
      ],
      "execution_count": null
    },
    {
      "cell_type": "code",
      "source": [
        "# Lines below will give you a hint or solution code\n",
        "#q_5.hint()\n",
        "#q_5.solution()"
      ],
      "metadata": {
        "lines_to_next_cell": 0,
        "trusted": true,
        "execution": {
          "iopub.status.busy": "2025-04-27T07:08:28.808956Z",
          "iopub.execute_input": "2025-04-27T07:08:28.809324Z",
          "iopub.status.idle": "2025-04-27T07:08:28.813417Z",
          "shell.execute_reply.started": "2025-04-27T07:08:28.809298Z",
          "shell.execute_reply": "2025-04-27T07:08:28.812546Z"
        },
        "id": "34jgOQlVE9yT"
      },
      "outputs": [],
      "execution_count": null
    },
    {
      "cell_type": "markdown",
      "source": [
        "Now you've made your first new feature set! If you like, you can run the cell below to score the model with all of your new features added:"
      ],
      "metadata": {
        "id": "1WAtGnUAE9yT"
      }
    },
    {
      "cell_type": "code",
      "source": [
        "X_new = X.join([X_1, X_2, X_3, X_4, X_5])\n",
        "score_dataset(X_new, y)"
      ],
      "metadata": {
        "trusted": true,
        "execution": {
          "iopub.status.busy": "2025-04-27T07:08:31.61836Z",
          "iopub.execute_input": "2025-04-27T07:08:31.619161Z",
          "iopub.status.idle": "2025-04-27T07:08:33.944537Z",
          "shell.execute_reply.started": "2025-04-27T07:08:31.619133Z",
          "shell.execute_reply": "2025-04-27T07:08:33.943863Z"
        },
        "id": "OJge3lgmE9yT",
        "outputId": "1525fe54-519a-4f89-b667-3fedbf7dbf47"
      },
      "outputs": [
        {
          "execution_count": 58,
          "output_type": "execute_result",
          "data": {
            "text/plain": "0.13954039790897127"
          },
          "metadata": {}
        }
      ],
      "execution_count": null
    },
    {
      "cell_type": "markdown",
      "source": [
        "# Keep Going #\n",
        "\n",
        "[**Untangle spatial relationships**](https://www.kaggle.com/ryanholbrook/clustering-with-k-means) by adding cluster labels to your dataset."
      ],
      "metadata": {
        "id": "GggL2SWDE9yT"
      }
    },
    {
      "cell_type": "markdown",
      "source": [
        "---\n",
        "\n",
        "\n",
        "\n",
        "\n",
        "*Have questions or comments? Visit the [course discussion forum](https://www.kaggle.com/learn/feature-engineering/discussion) to chat with other learners.*"
      ],
      "metadata": {
        "id": "jts84UfaE9yT"
      }
    }
  ]
}