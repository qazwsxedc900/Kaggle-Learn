{
  "metadata": {
    "kernelspec": {
      "display_name": "Python 3",
      "language": "python",
      "name": "python3"
    },
    "language_info": {
      "name": "python",
      "version": "3.11.11",
      "mimetype": "text/x-python",
      "codemirror_mode": {
        "name": "ipython",
        "version": 3
      },
      "pygments_lexer": "ipython3",
      "nbconvert_exporter": "python",
      "file_extension": ".py"
    },
    "kaggle": {
      "accelerator": "none",
      "dataSources": [
        {
          "sourceId": 10211,
          "databundleVersionId": 111096,
          "sourceType": "competition"
        },
        {
          "sourceId": 15520,
          "sourceType": "datasetVersion",
          "datasetId": 11167
        },
        {
          "sourceId": 38454,
          "sourceType": "datasetVersion",
          "datasetId": 2709
        }
      ],
      "isInternetEnabled": false,
      "language": "python",
      "sourceType": "notebook",
      "isGpuEnabled": false
    },
    "colab": {
      "name": "Exercise: Random Forests",
      "provenance": []
    }
  },
  "nbformat_minor": 0,
  "nbformat": 4,
  "cells": [
    {
      "source": [
        "# IMPORTANT: SOME KAGGLE DATA SOURCES ARE PRIVATE\n",
        "# RUN THIS CELL IN ORDER TO IMPORT YOUR KAGGLE DATA SOURCES.\n",
        "import kagglehub\n",
        "kagglehub.login()\n"
      ],
      "metadata": {
        "id": "K6wZuQBqjl8J"
      },
      "cell_type": "code",
      "outputs": [],
      "execution_count": null
    },
    {
      "source": [
        "# IMPORTANT: RUN THIS CELL IN ORDER TO IMPORT YOUR KAGGLE DATA SOURCES,\n",
        "# THEN FEEL FREE TO DELETE THIS CELL.\n",
        "# NOTE: THIS NOTEBOOK ENVIRONMENT DIFFERS FROM KAGGLE'S PYTHON\n",
        "# ENVIRONMENT SO THERE MAY BE MISSING LIBRARIES USED BY YOUR\n",
        "# NOTEBOOK.\n",
        "\n",
        "home_data_for_ml_course_path = kagglehub.competition_download('home-data-for-ml-course')\n",
        "iabhishekofficial_mobile_price_classification_path = kagglehub.dataset_download('iabhishekofficial/mobile-price-classification')\n",
        "dansbecker_melbourne_housing_snapshot_path = kagglehub.dataset_download('dansbecker/melbourne-housing-snapshot')\n",
        "\n",
        "print('Data source import complete.')\n"
      ],
      "metadata": {
        "id": "wvnDsk6zjl8L"
      },
      "cell_type": "code",
      "outputs": [],
      "execution_count": null
    },
    {
      "cell_type": "markdown",
      "source": [
        "**This notebook is an exercise in the [Introduction to Machine Learning](https://www.kaggle.com/learn/intro-to-machine-learning) course.  You can reference the tutorial at [this link](https://www.kaggle.com/dansbecker/random-forests).**\n",
        "\n",
        "---\n"
      ],
      "metadata": {
        "id": "gSdlHI_Hjl8L"
      }
    },
    {
      "cell_type": "markdown",
      "source": [
        "## Recap\n",
        "Here's the code you've written so far."
      ],
      "metadata": {
        "id": "xHAoT4lvjl8M"
      }
    },
    {
      "cell_type": "code",
      "source": [
        "# Code you have previously used to load data\n",
        "import pandas as pd\n",
        "from sklearn.metrics import mean_absolute_error\n",
        "from sklearn.model_selection import train_test_split\n",
        "from sklearn.tree import DecisionTreeRegressor\n",
        "\n",
        "\n",
        "# Path of the file to read\n",
        "iowa_file_path = '../input/home-data-for-ml-course/train.csv'\n",
        "\n",
        "home_data = pd.read_csv(iowa_file_path)\n",
        "# Create target object and call it y\n",
        "y = home_data.SalePrice\n",
        "# Create X\n",
        "features = ['LotArea', 'YearBuilt', '1stFlrSF', '2ndFlrSF', 'FullBath', 'BedroomAbvGr', 'TotRmsAbvGrd']\n",
        "X = home_data[features]\n",
        "\n",
        "# Split into validation and training data\n",
        "train_X, val_X, train_y, val_y = train_test_split(X, y, random_state=1)\n",
        "\n",
        "# Specify Model\n",
        "iowa_model = DecisionTreeRegressor(random_state=1)\n",
        "# Fit Model\n",
        "iowa_model.fit(train_X, train_y)\n",
        "\n",
        "# Make validation predictions and calculate mean absolute error\n",
        "val_predictions = iowa_model.predict(val_X)\n",
        "val_mae = mean_absolute_error(val_predictions, val_y)\n",
        "print(\"Validation MAE when not specifying max_leaf_nodes: {:,.0f}\".format(val_mae))\n",
        "\n",
        "# Using best value for max_leaf_nodes\n",
        "iowa_model = DecisionTreeRegressor(max_leaf_nodes=100, random_state=1)\n",
        "iowa_model.fit(train_X, train_y)\n",
        "val_predictions = iowa_model.predict(val_X)\n",
        "val_mae = mean_absolute_error(val_predictions, val_y)\n",
        "print(\"Validation MAE for best value of max_leaf_nodes: {:,.0f}\".format(val_mae))\n",
        "\n",
        "\n",
        "# Set up code checking\n",
        "from learntools.core import binder\n",
        "binder.bind(globals())\n",
        "from learntools.machine_learning.ex6 import *\n",
        "print(\"\\nSetup complete\")"
      ],
      "metadata": {
        "trusted": true,
        "execution": {
          "iopub.status.busy": "2025-04-19T14:56:10.557434Z",
          "iopub.execute_input": "2025-04-19T14:56:10.557729Z",
          "iopub.status.idle": "2025-04-19T14:56:14.507812Z",
          "shell.execute_reply.started": "2025-04-19T14:56:10.557674Z",
          "shell.execute_reply": "2025-04-19T14:56:14.506777Z"
        },
        "id": "Ej3xfvy9jl8M",
        "outputId": "0d27edd5-4794-48d5-b216-d34d3490911e"
      },
      "outputs": [
        {
          "name": "stdout",
          "text": "Validation MAE when not specifying max_leaf_nodes: 29,653\nValidation MAE for best value of max_leaf_nodes: 27,283\n\nSetup complete\n",
          "output_type": "stream"
        }
      ],
      "execution_count": null
    },
    {
      "cell_type": "markdown",
      "source": [
        "# Exercises\n",
        "Data science isn't always this easy. But replacing the decision tree with a Random Forest is going to be an easy win."
      ],
      "metadata": {
        "id": "92E-tRHsjl8M"
      }
    },
    {
      "cell_type": "markdown",
      "source": [
        "## Step 1: Use a Random Forest"
      ],
      "metadata": {
        "id": "Xj_Ee9n8jl8M"
      }
    },
    {
      "cell_type": "code",
      "source": [
        "from sklearn.ensemble import RandomForestRegressor\n",
        "\n",
        "# Define the model. Set random_state to 1\n",
        "rf_model = RandomForestRegressor(random_state=1)\n",
        "\n",
        "# fit your model\n",
        "rf_model.fit(train_X, train_y)\n",
        "\n",
        "# Calculate the mean absolute error of your Random Forest model on the validation data\n",
        "rf_val_mae = mean_absolute_error(rf_model.predict(val_X), val_y)\n",
        "\n",
        "print(\"Validation MAE for Random Forest Model: {}\".format(rf_val_mae))\n",
        "\n",
        "# Check your answer\n",
        "step_1.check()"
      ],
      "metadata": {
        "trusted": true,
        "execution": {
          "iopub.status.busy": "2025-04-19T14:57:33.688266Z",
          "iopub.execute_input": "2025-04-19T14:57:33.688906Z",
          "iopub.status.idle": "2025-04-19T14:57:34.370154Z",
          "shell.execute_reply.started": "2025-04-19T14:57:33.688875Z",
          "shell.execute_reply": "2025-04-19T14:57:34.369213Z"
        },
        "id": "Piq2_dIPjl8M",
        "outputId": "21732d2b-fb50-4ac6-b7bb-f967dc85f337"
      },
      "outputs": [
        {
          "name": "stdout",
          "text": "Validation MAE for Random Forest Model: 21857.15912981083\n",
          "output_type": "stream"
        },
        {
          "output_type": "display_data",
          "data": {
            "text/plain": "<IPython.core.display.Javascript object>",
            "application/javascript": "parent.postMessage({\"jupyterEvent\": \"custom.exercise_interaction\", \"data\": {\"outcomeType\": 1, \"valueTowardsCompletion\": 1.0, \"interactionType\": 1, \"questionType\": 2, \"questionId\": \"1_CheckRfScore\", \"learnToolsVersion\": \"0.3.5\", \"failureMessage\": \"\", \"exceptionClass\": \"\", \"trace\": \"\"}}, \"*\")"
          },
          "metadata": {}
        },
        {
          "output_type": "display_data",
          "data": {
            "text/plain": "Correct",
            "text/markdown": "<span style=\"color:#33cc33\">Correct</span>"
          },
          "metadata": {}
        }
      ],
      "execution_count": null
    },
    {
      "cell_type": "code",
      "source": [
        "# The lines below will show you a hint or the solution.\n",
        "# step_1.hint()\n",
        "# step_1.solution()\n"
      ],
      "metadata": {
        "trusted": true,
        "execution": {
          "iopub.status.busy": "2025-04-19T14:57:41.537856Z",
          "iopub.execute_input": "2025-04-19T14:57:41.538212Z",
          "iopub.status.idle": "2025-04-19T14:57:41.541998Z",
          "shell.execute_reply.started": "2025-04-19T14:57:41.538187Z",
          "shell.execute_reply": "2025-04-19T14:57:41.541037Z"
        },
        "id": "b5i0SZd0jl8N"
      },
      "outputs": [],
      "execution_count": null
    },
    {
      "cell_type": "markdown",
      "source": [
        "So far, you have followed specific instructions at each step of your project. This helped learn key ideas and build your first model, but now you know enough to try things on your own.\n",
        "\n",
        "Machine Learning competitions are a great way to try your own ideas and learn more as you independently navigate a machine learning project.\n",
        "\n",
        "# Keep Going\n",
        "\n",
        "You are ready for **[Machine Learning Competitions](https://www.kaggle.com/alexisbcook/machine-learning-competitions).**\n"
      ],
      "metadata": {
        "id": "x53DgCoijl8N"
      }
    },
    {
      "cell_type": "markdown",
      "source": [
        "---\n",
        "\n",
        "\n",
        "\n",
        "\n",
        "*Have questions or comments? Visit the [course discussion forum](https://www.kaggle.com/learn/intro-to-machine-learning/discussion) to chat with other learners.*"
      ],
      "metadata": {
        "id": "fIRMVRO7jl8N"
      }
    }
  ]
}