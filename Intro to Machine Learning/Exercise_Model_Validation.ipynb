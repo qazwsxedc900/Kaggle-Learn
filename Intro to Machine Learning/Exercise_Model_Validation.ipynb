{
  "metadata": {
    "kernelspec": {
      "display_name": "Python 3",
      "language": "python",
      "name": "python3"
    },
    "language_info": {
      "name": "python",
      "version": "3.11.11",
      "mimetype": "text/x-python",
      "codemirror_mode": {
        "name": "ipython",
        "version": 3
      },
      "pygments_lexer": "ipython3",
      "nbconvert_exporter": "python",
      "file_extension": ".py"
    },
    "kaggle": {
      "accelerator": "none",
      "dataSources": [
        {
          "sourceId": 10211,
          "databundleVersionId": 111096,
          "sourceType": "competition"
        },
        {
          "sourceId": 15520,
          "sourceType": "datasetVersion",
          "datasetId": 11167
        },
        {
          "sourceId": 38454,
          "sourceType": "datasetVersion",
          "datasetId": 2709
        }
      ],
      "isInternetEnabled": false,
      "language": "python",
      "sourceType": "notebook",
      "isGpuEnabled": false
    },
    "colab": {
      "name": "Exercise: Model Validation",
      "provenance": []
    }
  },
  "nbformat_minor": 0,
  "nbformat": 4,
  "cells": [
    {
      "source": [
        "# IMPORTANT: SOME KAGGLE DATA SOURCES ARE PRIVATE\n",
        "# RUN THIS CELL IN ORDER TO IMPORT YOUR KAGGLE DATA SOURCES.\n",
        "import kagglehub\n",
        "kagglehub.login()\n"
      ],
      "metadata": {
        "id": "vskPPVDueP0Y"
      },
      "cell_type": "code",
      "outputs": [],
      "execution_count": null
    },
    {
      "source": [
        "# IMPORTANT: RUN THIS CELL IN ORDER TO IMPORT YOUR KAGGLE DATA SOURCES,\n",
        "# THEN FEEL FREE TO DELETE THIS CELL.\n",
        "# NOTE: THIS NOTEBOOK ENVIRONMENT DIFFERS FROM KAGGLE'S PYTHON\n",
        "# ENVIRONMENT SO THERE MAY BE MISSING LIBRARIES USED BY YOUR\n",
        "# NOTEBOOK.\n",
        "\n",
        "home_data_for_ml_course_path = kagglehub.competition_download('home-data-for-ml-course')\n",
        "iabhishekofficial_mobile_price_classification_path = kagglehub.dataset_download('iabhishekofficial/mobile-price-classification')\n",
        "dansbecker_melbourne_housing_snapshot_path = kagglehub.dataset_download('dansbecker/melbourne-housing-snapshot')\n",
        "\n",
        "print('Data source import complete.')\n"
      ],
      "metadata": {
        "id": "iK0DXpLUeP0Z"
      },
      "cell_type": "code",
      "outputs": [],
      "execution_count": null
    },
    {
      "cell_type": "markdown",
      "source": [
        "**This notebook is an exercise in the [Introduction to Machine Learning](https://www.kaggle.com/learn/intro-to-machine-learning) course.  You can reference the tutorial at [this link](https://www.kaggle.com/dansbecker/model-validation).**\n",
        "\n",
        "---\n"
      ],
      "metadata": {
        "id": "_jI883EceP0a"
      }
    },
    {
      "cell_type": "markdown",
      "source": [
        "## Recap\n",
        "You've built a model. In this exercise you will test how good your model is.\n",
        "\n",
        "Run the cell below to set up your coding environment where the previous exercise left off."
      ],
      "metadata": {
        "id": "90GkgXypeP0a"
      }
    },
    {
      "cell_type": "code",
      "source": [
        "# Code you have previously used to load data\n",
        "import pandas as pd\n",
        "from sklearn.tree import DecisionTreeRegressor\n",
        "\n",
        "# Path of the file to read\n",
        "iowa_file_path = '../input/home-data-for-ml-course/train.csv'\n",
        "\n",
        "home_data = pd.read_csv(iowa_file_path)\n",
        "y = home_data.SalePrice\n",
        "feature_columns = ['LotArea', 'YearBuilt', '1stFlrSF', '2ndFlrSF', 'FullBath', 'BedroomAbvGr', 'TotRmsAbvGrd']\n",
        "X = home_data[feature_columns]\n",
        "\n",
        "# Specify Model\n",
        "iowa_model = DecisionTreeRegressor()\n",
        "# Fit Model\n",
        "iowa_model.fit(X, y)\n",
        "\n",
        "print(\"First in-sample predictions:\", iowa_model.predict(X.head()))\n",
        "print(\"Actual target values for those homes:\", y.head().tolist())\n",
        "\n",
        "# Set up code checking\n",
        "from learntools.core import binder\n",
        "binder.bind(globals())\n",
        "from learntools.machine_learning.ex4 import *\n",
        "print(\"Setup Complete\")"
      ],
      "metadata": {
        "trusted": true,
        "execution": {
          "iopub.status.busy": "2025-04-19T14:26:45.232736Z",
          "iopub.execute_input": "2025-04-19T14:26:45.233185Z",
          "iopub.status.idle": "2025-04-19T14:26:49.475171Z",
          "shell.execute_reply.started": "2025-04-19T14:26:45.233134Z",
          "shell.execute_reply": "2025-04-19T14:26:49.474078Z"
        },
        "id": "Dqy9LyUweP0b",
        "outputId": "0543723b-418f-4726-8ced-c3eae98e1367"
      },
      "outputs": [
        {
          "name": "stdout",
          "text": "First in-sample predictions: [208500. 181500. 223500. 140000. 250000.]\nActual target values for those homes: [208500, 181500, 223500, 140000, 250000]\nSetup Complete\n",
          "output_type": "stream"
        }
      ],
      "execution_count": null
    },
    {
      "cell_type": "markdown",
      "source": [
        "# Exercises\n",
        "\n",
        "## Step 1: Split Your Data\n",
        "Use the `train_test_split` function to split up your data.\n",
        "\n",
        "Give it the argument `random_state=1` so the `check` functions know what to expect when verifying your code.\n",
        "\n",
        "Recall, your features are loaded in the DataFrame **X** and your target is loaded in **y**.\n"
      ],
      "metadata": {
        "id": "3KRl2nI-eP0b"
      }
    },
    {
      "cell_type": "code",
      "source": [
        "# Import the train_test_split function and uncomment\n",
        "from sklearn.model_selection import train_test_split\n",
        "\n",
        "# fill in and uncomment\n",
        "train_X, val_X, train_y, val_y = train_test_split(X, y, random_state=1)\n",
        "\n",
        "# Check your answer\n",
        "step_1.check()"
      ],
      "metadata": {
        "trusted": true,
        "execution": {
          "iopub.status.busy": "2025-04-19T14:28:19.228981Z",
          "iopub.execute_input": "2025-04-19T14:28:19.229331Z",
          "iopub.status.idle": "2025-04-19T14:28:19.248054Z",
          "shell.execute_reply.started": "2025-04-19T14:28:19.229305Z",
          "shell.execute_reply": "2025-04-19T14:28:19.247002Z"
        },
        "id": "bAKhNyvReP0b",
        "outputId": "183f0b52-e2c3-4445-d3e4-844726befc6e"
      },
      "outputs": [
        {
          "output_type": "display_data",
          "data": {
            "text/plain": "<IPython.core.display.Javascript object>",
            "application/javascript": "parent.postMessage({\"jupyterEvent\": \"custom.exercise_interaction\", \"data\": {\"outcomeType\": 1, \"valueTowardsCompletion\": 0.25, \"interactionType\": 1, \"questionType\": 2, \"questionId\": \"1_SplitData\", \"learnToolsVersion\": \"0.3.5\", \"failureMessage\": \"\", \"exceptionClass\": \"\", \"trace\": \"\"}}, \"*\")"
          },
          "metadata": {}
        },
        {
          "output_type": "display_data",
          "data": {
            "text/plain": "Correct",
            "text/markdown": "<span style=\"color:#33cc33\">Correct</span>"
          },
          "metadata": {}
        }
      ],
      "execution_count": null
    },
    {
      "cell_type": "code",
      "source": [
        "# The lines below will show you a hint or the solution.\n",
        "# step_1.hint()\n",
        "# step_1.solution()\n"
      ],
      "metadata": {
        "trusted": true,
        "execution": {
          "iopub.status.busy": "2025-04-19T14:28:19.326833Z",
          "iopub.execute_input": "2025-04-19T14:28:19.327805Z",
          "iopub.status.idle": "2025-04-19T14:28:19.332334Z",
          "shell.execute_reply.started": "2025-04-19T14:28:19.327776Z",
          "shell.execute_reply": "2025-04-19T14:28:19.33117Z"
        },
        "id": "_zXrJbH8eP0b"
      },
      "outputs": [],
      "execution_count": null
    },
    {
      "cell_type": "markdown",
      "source": [
        "## Step 2: Specify and Fit the Model\n",
        "\n",
        "Create a `DecisionTreeRegressor` model and fit it to the relevant data.\n",
        "Set `random_state` to 1 again when creating the model."
      ],
      "metadata": {
        "id": "gTvN1zpUeP0c"
      }
    },
    {
      "cell_type": "code",
      "source": [
        "# You imported DecisionTreeRegressor in your last exercise\n",
        "# and that code has been copied to the setup code above. So, no need to\n",
        "# import it again\n",
        "\n",
        "# Specify the model\n",
        "iowa_model = DecisionTreeRegressor(random_state=1)\n",
        "\n",
        "# Fit iowa_model with the training data.\n",
        "iowa_model.fit(train_X, train_y)\n",
        "\n",
        "# Check your answer\n",
        "step_2.check()"
      ],
      "metadata": {
        "trusted": true,
        "execution": {
          "iopub.status.busy": "2025-04-19T14:29:40.393529Z",
          "iopub.execute_input": "2025-04-19T14:29:40.39456Z",
          "iopub.status.idle": "2025-04-19T14:29:40.423083Z",
          "shell.execute_reply.started": "2025-04-19T14:29:40.394528Z",
          "shell.execute_reply": "2025-04-19T14:29:40.422088Z"
        },
        "id": "z9eBROqbeP0c",
        "outputId": "ead47bbf-9224-4065-e309-35e721f474c9"
      },
      "outputs": [
        {
          "name": "stdout",
          "text": "[186500. 184000. 130000.  92000. 164500. 220000. 335000. 144152. 215000.\n 262000.]\n[186500. 184000. 130000.  92000. 164500. 220000. 335000. 144152. 215000.\n 262000.]\n",
          "output_type": "stream"
        },
        {
          "output_type": "display_data",
          "data": {
            "text/plain": "<IPython.core.display.Javascript object>",
            "application/javascript": "parent.postMessage({\"jupyterEvent\": \"custom.exercise_interaction\", \"data\": {\"outcomeType\": 1, \"valueTowardsCompletion\": 0.25, \"interactionType\": 1, \"questionType\": 2, \"questionId\": \"2_FitModelWithTrain\", \"learnToolsVersion\": \"0.3.5\", \"failureMessage\": \"\", \"exceptionClass\": \"\", \"trace\": \"\"}}, \"*\")"
          },
          "metadata": {}
        },
        {
          "output_type": "display_data",
          "data": {
            "text/plain": "Correct",
            "text/markdown": "<span style=\"color:#33cc33\">Correct</span>"
          },
          "metadata": {}
        }
      ],
      "execution_count": null
    },
    {
      "cell_type": "code",
      "source": [
        "# step_2.hint()\n",
        "# step_2.solution()"
      ],
      "metadata": {
        "id": "nepQme0zeP0c"
      },
      "outputs": [],
      "execution_count": null
    },
    {
      "cell_type": "markdown",
      "source": [
        "## Step 3: Make Predictions with Validation data\n"
      ],
      "metadata": {
        "id": "-3PgGBuAeP0c"
      }
    },
    {
      "cell_type": "code",
      "source": [
        "# Predict with all validation observations\n",
        "val_predictions = iowa_model.predict(val_X)\n",
        "\n",
        "# Check your answer\n",
        "step_3.check()"
      ],
      "metadata": {
        "trusted": true,
        "execution": {
          "iopub.status.busy": "2025-04-19T14:30:05.967501Z",
          "iopub.execute_input": "2025-04-19T14:30:05.967839Z",
          "iopub.status.idle": "2025-04-19T14:30:05.981002Z",
          "shell.execute_reply.started": "2025-04-19T14:30:05.967817Z",
          "shell.execute_reply": "2025-04-19T14:30:05.979828Z"
        },
        "id": "MxOE5wLWeP0c",
        "outputId": "16d78a25-63ed-4be7-9433-3ecf8d28b0ae"
      },
      "outputs": [
        {
          "output_type": "display_data",
          "data": {
            "text/plain": "<IPython.core.display.Javascript object>",
            "application/javascript": "parent.postMessage({\"jupyterEvent\": \"custom.exercise_interaction\", \"data\": {\"outcomeType\": 1, \"valueTowardsCompletion\": 0.25, \"interactionType\": 1, \"questionType\": 2, \"questionId\": \"3_ValPreds\", \"learnToolsVersion\": \"0.3.5\", \"failureMessage\": \"\", \"exceptionClass\": \"\", \"trace\": \"\"}}, \"*\")"
          },
          "metadata": {}
        },
        {
          "output_type": "display_data",
          "data": {
            "text/plain": "Correct",
            "text/markdown": "<span style=\"color:#33cc33\">Correct</span>"
          },
          "metadata": {}
        }
      ],
      "execution_count": null
    },
    {
      "cell_type": "code",
      "source": [
        "# step_3.hint()\n",
        "# step_3.solution()\n",
        "val_predictions"
      ],
      "metadata": {
        "trusted": true,
        "execution": {
          "iopub.status.busy": "2025-04-19T14:30:11.259049Z",
          "iopub.execute_input": "2025-04-19T14:30:11.25957Z",
          "iopub.status.idle": "2025-04-19T14:30:11.270989Z",
          "shell.execute_reply.started": "2025-04-19T14:30:11.259534Z",
          "shell.execute_reply": "2025-04-19T14:30:11.269865Z"
        },
        "id": "LJ8qgjxeeP0c",
        "outputId": "3c1ad136-abe4-450a-d2a1-51ecf8a47dab"
      },
      "outputs": [
        {
          "execution_count": 8,
          "output_type": "execute_result",
          "data": {
            "text/plain": "array([186500., 184000., 130000.,  92000., 164500., 220000., 335000.,\n       144152., 215000., 262000., 180000., 121000., 175900., 210000.,\n       248900., 131000., 100000., 149350., 235000., 156000., 149900.,\n       265979., 193500., 377500., 100000., 162900., 145000., 180000.,\n       582933., 146000., 140000.,  91500., 112500., 113000., 145000.,\n       312500., 110000., 132000., 305000., 128000., 162900., 115000.,\n       110000., 124000., 215200., 180000.,  79000., 192000., 282922.,\n       235000., 132000., 325000.,  80000., 237000., 208300., 100000.,\n       120500., 162000., 153000., 187000., 185750., 335000., 129000.,\n       124900., 185750., 133700., 127000., 230000., 146800., 157900.,\n       136000., 153575., 335000., 177500., 143000., 202500., 168500.,\n       105000., 305900., 192000., 190000., 140200., 134900., 128950.,\n       213000., 108959., 149500., 190000., 175900., 160000., 250580.,\n       157000., 120500., 147500., 118000., 117000., 110000., 130000.,\n       148500., 148000., 190000., 130500., 127000., 120500., 135000.,\n       168000., 176432., 128000., 147000., 260000., 132000., 129500.,\n       171000., 181134., 227875., 189000., 282922.,  94750., 185000.,\n       194000., 159000., 279500., 290000., 135000., 299800., 165000.,\n       394432., 135750., 155000., 212000., 310000., 134800.,  84000.,\n       122900.,  80000., 191000., 755000., 147000., 248000., 106500.,\n       145000., 359100., 145000., 192500., 149000., 252000., 109000.,\n       215000., 220000., 138500., 185000., 185000., 120500., 181000.,\n       173000., 335000.,  67000., 149350.,  67000., 156000., 119000.,\n       110500., 184000., 147000., 156000., 171000., 177000., 159000.,\n       125000., 105000., 284000., 167500., 200000., 312500., 213000.,\n       135960., 205000., 237000., 107000., 163000., 132500., 155835.,\n       165500., 138500., 257000., 160000., 394617., 281213., 161000.,\n       127500.,  88000., 139000.,  89500., 132500., 134800., 335000.,\n       248900., 155000., 147000.,  86000., 185000., 200000., 180500.,\n       215200., 319900., 105000., 194000., 340000., 256000., 280000.,\n       186500., 105500., 155000., 133500., 255500., 253000., 130000.,\n        92900., 256000., 100000., 755000., 138500., 168500., 112000.,\n       127000., 109008., 197000., 245500., 171900., 162000., 128000.,\n       173000., 132000., 118000., 235128., 118964., 260000., 116000.,\n       185000., 315750., 236500., 140000., 151500., 184000.,  84000.,\n       130000., 154000., 205000., 110000., 151500., 123000., 129500.,\n       173900., 181500., 165500., 106500., 184900.,  84500., 377500.,\n       118500., 180000., 190000., 208500., 181000.,  98000., 157000.,\n       151500.,  84000., 139000., 100000., 161750., 165600., 116000.,\n       118500., 187000., 147000., 112000., 132000., 230000., 128000.,\n       147000., 125000., 145000., 151000., 284000., 221000., 140200.,\n       129000., 290000., 105000.,  96500., 310000., 140000., 132000.,\n       203000., 221000., 215200., 214000., 139000.,  91500., 148000.,\n       155000., 115000., 180000., 165500., 223000., 139000., 179900.,\n       150000., 185000., 163000., 176000., 127000., 227000., 146000.,\n        99900., 275000., 180500., 180000., 157000., 186500., 179900.,\n       137500., 219500., 155000., 345000., 197000., 205000., 159000.,\n       159434., 156000., 196000., 252678., 255500., 213000., 150900.,\n       143750., 139000., 260000., 189000., 213250., 207500.,  80000.,\n       221000., 109500., 155000., 165000., 149350., 204900., 105900.,\n       155000., 176000., 395000., 149700., 147000., 143900., 226700.,\n       176000., 116000., 325300., 133750., 188500., 148500., 284000.,\n       201800.])"
          },
          "metadata": {}
        }
      ],
      "execution_count": null
    },
    {
      "cell_type": "markdown",
      "source": [
        "Inspect your predictions and actual values from validation data."
      ],
      "metadata": {
        "id": "SxGYBpHTeP0c"
      }
    },
    {
      "cell_type": "code",
      "source": [
        "# print the top few validation predictions\n",
        "print(val_predictions[0:10])\n",
        "# print the top few actual prices from validation data\n",
        "print(val_y.head(10))"
      ],
      "metadata": {
        "trusted": true,
        "execution": {
          "iopub.status.busy": "2025-04-19T14:31:11.129473Z",
          "iopub.execute_input": "2025-04-19T14:31:11.129789Z",
          "iopub.status.idle": "2025-04-19T14:31:11.13595Z",
          "shell.execute_reply.started": "2025-04-19T14:31:11.129769Z",
          "shell.execute_reply": "2025-04-19T14:31:11.134798Z"
        },
        "id": "6bJTQDaVeP0c",
        "outputId": "4e67f82a-7172-423b-d8f1-7c7c697376f1"
      },
      "outputs": [
        {
          "name": "stdout",
          "text": "[186500. 184000. 130000.  92000. 164500. 220000. 335000. 144152. 215000.\n 262000.]\n258     231500\n267     179500\n288     122000\n649      84500\n1233    142000\n167     325624\n926     285000\n831     151000\n1237    195000\n426     275000\nName: SalePrice, dtype: int64\n",
          "output_type": "stream"
        }
      ],
      "execution_count": null
    },
    {
      "cell_type": "markdown",
      "source": [
        "What do you notice that is different from what you saw with in-sample predictions (which are printed after the top code cell in this page).\n",
        "\n",
        "Do you remember why validation predictions differ from in-sample (or training) predictions? This is an important idea from the last lesson.\n",
        "\n",
        "## Step 4: Calculate the Mean Absolute Error in Validation Data\n"
      ],
      "metadata": {
        "id": "6pA512sMeP0c"
      }
    },
    {
      "cell_type": "code",
      "source": [
        "from sklearn.metrics import mean_absolute_error\n",
        "val_mae = mean_absolute_error(val_predictions, val_y)\n",
        "\n",
        "# uncomment following line to see the validation_mae\n",
        "print(val_mae)\n",
        "\n",
        "# Check your answer\n",
        "step_4.check()"
      ],
      "metadata": {
        "trusted": true,
        "execution": {
          "iopub.status.busy": "2025-04-19T14:32:23.799786Z",
          "iopub.execute_input": "2025-04-19T14:32:23.800118Z",
          "iopub.status.idle": "2025-04-19T14:32:23.810758Z",
          "shell.execute_reply.started": "2025-04-19T14:32:23.800097Z",
          "shell.execute_reply": "2025-04-19T14:32:23.809797Z"
        },
        "id": "DS63gn3LeP0c",
        "outputId": "609f78db-0440-4d79-9372-82d2e28f8f78"
      },
      "outputs": [
        {
          "name": "stdout",
          "text": "29652.931506849316\n",
          "output_type": "stream"
        },
        {
          "output_type": "display_data",
          "data": {
            "text/plain": "<IPython.core.display.Javascript object>",
            "application/javascript": "parent.postMessage({\"jupyterEvent\": \"custom.exercise_interaction\", \"data\": {\"outcomeType\": 1, \"valueTowardsCompletion\": 0.25, \"interactionType\": 1, \"questionType\": 1, \"questionId\": \"4_MAE\", \"learnToolsVersion\": \"0.3.5\", \"failureMessage\": \"\", \"exceptionClass\": \"\", \"trace\": \"\"}}, \"*\")"
          },
          "metadata": {}
        },
        {
          "output_type": "display_data",
          "data": {
            "text/plain": "Correct",
            "text/markdown": "<span style=\"color:#33cc33\">Correct</span>"
          },
          "metadata": {}
        }
      ],
      "execution_count": null
    },
    {
      "cell_type": "code",
      "source": [
        "# step_4.hint()\n",
        "# step_4.solution()"
      ],
      "metadata": {
        "trusted": true,
        "execution": {
          "iopub.status.busy": "2025-04-19T14:32:29.703711Z",
          "iopub.execute_input": "2025-04-19T14:32:29.704103Z",
          "iopub.status.idle": "2025-04-19T14:32:29.708622Z",
          "shell.execute_reply.started": "2025-04-19T14:32:29.70408Z",
          "shell.execute_reply": "2025-04-19T14:32:29.707332Z"
        },
        "id": "C9Pwl0faeP0c"
      },
      "outputs": [],
      "execution_count": null
    },
    {
      "cell_type": "markdown",
      "source": [
        "Is that MAE good?  There isn't a general rule for what values are good that applies across applications. But you'll see how to use (and improve) this number in the next step.\n",
        "\n",
        "# Keep Going\n",
        "\n",
        "You are ready for **[Underfitting and Overfitting](https://www.kaggle.com/dansbecker/underfitting-and-overfitting).**\n"
      ],
      "metadata": {
        "id": "DuSVqai-eP0c"
      }
    },
    {
      "cell_type": "markdown",
      "source": [
        "---\n",
        "\n",
        "\n",
        "\n",
        "\n",
        "*Have questions or comments? Visit the [course discussion forum](https://www.kaggle.com/learn/intro-to-machine-learning/discussion) to chat with other learners.*"
      ],
      "metadata": {
        "id": "Sd5eId6HeP0c"
      }
    }
  ]
}