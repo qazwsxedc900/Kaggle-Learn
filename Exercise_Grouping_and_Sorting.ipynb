{
  "metadata": {
    "kernelspec": {
      "display_name": "Python 3",
      "language": "python",
      "name": "python3"
    },
    "language_info": {
      "name": "python",
      "version": "3.11.11",
      "mimetype": "text/x-python",
      "codemirror_mode": {
        "name": "ipython",
        "version": 3
      },
      "pygments_lexer": "ipython3",
      "nbconvert_exporter": "python",
      "file_extension": ".py"
    },
    "kaggle": {
      "accelerator": "none",
      "dataSources": [
        {
          "sourceId": 1252,
          "sourceType": "datasetVersion",
          "datasetId": 655
        },
        {
          "sourceId": 3919,
          "sourceType": "datasetVersion",
          "datasetId": 2321
        },
        {
          "sourceId": 4877,
          "sourceType": "datasetVersion",
          "datasetId": 2894
        },
        {
          "sourceId": 5624,
          "sourceType": "datasetVersion",
          "datasetId": 3491
        },
        {
          "sourceId": 8172,
          "sourceType": "datasetVersion",
          "datasetId": 1442
        },
        {
          "sourceId": 13206,
          "sourceType": "datasetVersion",
          "datasetId": 9366
        },
        {
          "sourceId": 403916,
          "sourceType": "datasetVersion",
          "datasetId": 179555
        },
        {
          "sourceId": 466349,
          "sourceType": "datasetVersion",
          "datasetId": 4549
        },
        {
          "sourceId": 1151655,
          "sourceType": "datasetVersion",
          "datasetId": 2478
        },
        {
          "sourceId": 5438389,
          "sourceType": "datasetVersion",
          "datasetId": 10128
        }
      ],
      "isInternetEnabled": false,
      "language": "python",
      "sourceType": "notebook",
      "isGpuEnabled": false
    },
    "colab": {
      "name": "Exercise: Grouping and Sorting",
      "provenance": []
    }
  },
  "nbformat_minor": 0,
  "nbformat": 4,
  "cells": [
    {
      "source": [
        "# IMPORTANT: RUN THIS CELL IN ORDER TO IMPORT YOUR KAGGLE DATA SOURCES,\n",
        "# THEN FEEL FREE TO DELETE THIS CELL.\n",
        "# NOTE: THIS NOTEBOOK ENVIRONMENT DIFFERS FROM KAGGLE'S PYTHON\n",
        "# ENVIRONMENT SO THERE MAY BE MISSING LIBRARIES USED BY YOUR\n",
        "# NOTEBOOK.\n",
        "import kagglehub\n",
        "nolanbconaway_pitchfork_data_path = kagglehub.dataset_download('nolanbconaway/pitchfork-data')\n",
        "datasnaek_chess_path = kagglehub.dataset_download('datasnaek/chess')\n",
        "organizations_nasa_kepler_exoplanet_search_results_path = kagglehub.dataset_download('organizations/nasa/kepler-exoplanet-search-results')\n",
        "residentmario_things_on_reddit_path = kagglehub.dataset_download('residentmario/things-on-reddit')\n",
        "zynicide_wine_reviews_path = kagglehub.dataset_download('zynicide/wine-reviews')\n",
        "residentmario_ramen_ratings_path = kagglehub.dataset_download('residentmario/ramen-ratings')\n",
        "dansbecker_powerlifting_database_path = kagglehub.dataset_download('dansbecker/powerlifting-database')\n",
        "datasnaek_youtube_new_path = kagglehub.dataset_download('datasnaek/youtube-new')\n",
        "rtatman_188_million_us_wildfires_path = kagglehub.dataset_download('rtatman/188-million-us-wildfires')\n",
        "jpmiller_publicassistance_path = kagglehub.dataset_download('jpmiller/publicassistance')\n",
        "\n",
        "print('Data source import complete.')\n"
      ],
      "metadata": {
        "id": "R2D2w0ZRsqs7"
      },
      "cell_type": "code",
      "outputs": [],
      "execution_count": null
    },
    {
      "cell_type": "markdown",
      "source": [
        "**This notebook is an exercise in the [Pandas](https://www.kaggle.com/learn/pandas) course.  You can reference the tutorial at [this link](https://www.kaggle.com/residentmario/grouping-and-sorting).**\n",
        "\n",
        "---\n"
      ],
      "metadata": {
        "id": "h8d3tUPpsqs-"
      }
    },
    {
      "cell_type": "markdown",
      "source": [
        "# Introduction\n",
        "\n",
        "In these exercises we'll apply groupwise analysis to our dataset.\n",
        "\n",
        "Run the code cell below to load the data before running the exercises."
      ],
      "metadata": {
        "id": "h064Fzy-sqs_"
      }
    },
    {
      "cell_type": "code",
      "source": [
        "import pandas as pd\n",
        "\n",
        "reviews = pd.read_csv(\"../input/wine-reviews/winemag-data-130k-v2.csv\", index_col=0)\n",
        "#pd.set_option(\"display.max_rows\", 5)\n",
        "\n",
        "from learntools.core import binder; binder.bind(globals())\n",
        "from learntools.pandas.grouping_and_sorting import *\n",
        "print(\"Setup complete.\")"
      ],
      "metadata": {
        "trusted": true,
        "execution": {
          "iopub.status.busy": "2025-04-11T07:11:39.008336Z",
          "iopub.execute_input": "2025-04-11T07:11:39.009032Z",
          "iopub.status.idle": "2025-04-11T07:11:42.454176Z",
          "shell.execute_reply.started": "2025-04-11T07:11:39.008984Z",
          "shell.execute_reply": "2025-04-11T07:11:42.453302Z"
        },
        "id": "R8zIAwnKsqs_",
        "outputId": "3bd961d8-a7cb-4d9d-ec2a-b1b3d679066e"
      },
      "outputs": [
        {
          "name": "stdout",
          "text": "Setup complete.\n",
          "output_type": "stream"
        },
        {
          "name": "stderr",
          "text": "/usr/local/lib/python3.11/dist-packages/learntools/pandas/grouping_and_sorting.py:29: FutureWarning: The provided callable <built-in function min> is currently using SeriesGroupBy.min. In a future version of pandas, the provided callable will be used directly. To keep current behavior pass the string \"min\" instead.\n  _expected = reviews.groupby('variety').price.agg([min, max])\n/usr/local/lib/python3.11/dist-packages/learntools/pandas/grouping_and_sorting.py:29: FutureWarning: The provided callable <built-in function max> is currently using SeriesGroupBy.max. In a future version of pandas, the provided callable will be used directly. To keep current behavior pass the string \"max\" instead.\n  _expected = reviews.groupby('variety').price.agg([min, max])\n/usr/local/lib/python3.11/dist-packages/learntools/pandas/grouping_and_sorting.py:35: FutureWarning: The provided callable <built-in function min> is currently using SeriesGroupBy.min. In a future version of pandas, the provided callable will be used directly. To keep current behavior pass the string \"min\" instead.\n  _expected = reviews.groupby('variety').price.agg([min, max]).sort_values(by=['min', 'max'], ascending=False)\n/usr/local/lib/python3.11/dist-packages/learntools/pandas/grouping_and_sorting.py:35: FutureWarning: The provided callable <built-in function max> is currently using SeriesGroupBy.max. In a future version of pandas, the provided callable will be used directly. To keep current behavior pass the string \"max\" instead.\n  _expected = reviews.groupby('variety').price.agg([min, max]).sort_values(by=['min', 'max'], ascending=False)\n",
          "output_type": "stream"
        }
      ],
      "execution_count": null
    },
    {
      "cell_type": "markdown",
      "source": [
        "# Exercises"
      ],
      "metadata": {
        "id": "xjqa20gFsqtA"
      }
    },
    {
      "cell_type": "code",
      "source": [
        "reviews.head(5)"
      ],
      "metadata": {
        "trusted": true,
        "execution": {
          "iopub.status.busy": "2025-04-11T07:11:44.837852Z",
          "iopub.execute_input": "2025-04-11T07:11:44.83818Z",
          "iopub.status.idle": "2025-04-11T07:11:44.865006Z",
          "shell.execute_reply.started": "2025-04-11T07:11:44.838152Z",
          "shell.execute_reply": "2025-04-11T07:11:44.864073Z"
        },
        "id": "VXv6akQ9sqtA",
        "outputId": "a0b829d4-8821-4e4f-c2dd-5a1792b51ff5"
      },
      "outputs": [
        {
          "name": "stderr",
          "text": "/usr/local/lib/python3.11/dist-packages/pandas/io/formats/format.py:1458: RuntimeWarning: invalid value encountered in greater\n  has_large_values = (abs_vals > 1e6).any()\n/usr/local/lib/python3.11/dist-packages/pandas/io/formats/format.py:1459: RuntimeWarning: invalid value encountered in less\n  has_small_values = ((abs_vals < 10 ** (-self.digits)) & (abs_vals > 0)).any()\n/usr/local/lib/python3.11/dist-packages/pandas/io/formats/format.py:1459: RuntimeWarning: invalid value encountered in greater\n  has_small_values = ((abs_vals < 10 ** (-self.digits)) & (abs_vals > 0)).any()\n",
          "output_type": "stream"
        },
        {
          "execution_count": 3,
          "output_type": "execute_result",
          "data": {
            "text/plain": "    country                                        description  \\\n0     Italy  Aromas include tropical fruit, broom, brimston...   \n1  Portugal  This is ripe and fruity, a wine that is smooth...   \n2        US  Tart and snappy, the flavors of lime flesh and...   \n3        US  Pineapple rind, lemon pith and orange blossom ...   \n4        US  Much like the regular bottling from 2012, this...   \n\n                          designation  points  price           province  \\\n0                        Vulkà Bianco      87    NaN  Sicily & Sardinia   \n1                            Avidagos      87   15.0              Douro   \n2                                 NaN      87   14.0             Oregon   \n3                Reserve Late Harvest      87   13.0           Michigan   \n4  Vintner's Reserve Wild Child Block      87   65.0             Oregon   \n\n              region_1           region_2         taster_name  \\\n0                 Etna                NaN       Kerin O’Keefe   \n1                  NaN                NaN          Roger Voss   \n2    Willamette Valley  Willamette Valley        Paul Gregutt   \n3  Lake Michigan Shore                NaN  Alexander Peartree   \n4    Willamette Valley  Willamette Valley        Paul Gregutt   \n\n  taster_twitter_handle                                              title  \\\n0          @kerinokeefe                  Nicosia 2013 Vulkà Bianco  (Etna)   \n1            @vossroger      Quinta dos Avidagos 2011 Avidagos Red (Douro)   \n2           @paulgwine       Rainstorm 2013 Pinot Gris (Willamette Valley)   \n3                   NaN  St. Julian 2013 Reserve Late Harvest Riesling ...   \n4           @paulgwine   Sweet Cheeks 2012 Vintner's Reserve Wild Child...   \n\n          variety               winery  \n0     White Blend              Nicosia  \n1  Portuguese Red  Quinta dos Avidagos  \n2      Pinot Gris            Rainstorm  \n3        Riesling           St. Julian  \n4      Pinot Noir         Sweet Cheeks  ",
            "text/html": "<div>\n<style scoped>\n    .dataframe tbody tr th:only-of-type {\n        vertical-align: middle;\n    }\n\n    .dataframe tbody tr th {\n        vertical-align: top;\n    }\n\n    .dataframe thead th {\n        text-align: right;\n    }\n</style>\n<table border=\"1\" class=\"dataframe\">\n  <thead>\n    <tr style=\"text-align: right;\">\n      <th></th>\n      <th>country</th>\n      <th>description</th>\n      <th>designation</th>\n      <th>points</th>\n      <th>price</th>\n      <th>province</th>\n      <th>region_1</th>\n      <th>region_2</th>\n      <th>taster_name</th>\n      <th>taster_twitter_handle</th>\n      <th>title</th>\n      <th>variety</th>\n      <th>winery</th>\n    </tr>\n  </thead>\n  <tbody>\n    <tr>\n      <th>0</th>\n      <td>Italy</td>\n      <td>Aromas include tropical fruit, broom, brimston...</td>\n      <td>Vulkà Bianco</td>\n      <td>87</td>\n      <td>NaN</td>\n      <td>Sicily &amp; Sardinia</td>\n      <td>Etna</td>\n      <td>NaN</td>\n      <td>Kerin O’Keefe</td>\n      <td>@kerinokeefe</td>\n      <td>Nicosia 2013 Vulkà Bianco  (Etna)</td>\n      <td>White Blend</td>\n      <td>Nicosia</td>\n    </tr>\n    <tr>\n      <th>1</th>\n      <td>Portugal</td>\n      <td>This is ripe and fruity, a wine that is smooth...</td>\n      <td>Avidagos</td>\n      <td>87</td>\n      <td>15.0</td>\n      <td>Douro</td>\n      <td>NaN</td>\n      <td>NaN</td>\n      <td>Roger Voss</td>\n      <td>@vossroger</td>\n      <td>Quinta dos Avidagos 2011 Avidagos Red (Douro)</td>\n      <td>Portuguese Red</td>\n      <td>Quinta dos Avidagos</td>\n    </tr>\n    <tr>\n      <th>2</th>\n      <td>US</td>\n      <td>Tart and snappy, the flavors of lime flesh and...</td>\n      <td>NaN</td>\n      <td>87</td>\n      <td>14.0</td>\n      <td>Oregon</td>\n      <td>Willamette Valley</td>\n      <td>Willamette Valley</td>\n      <td>Paul Gregutt</td>\n      <td>@paulgwine</td>\n      <td>Rainstorm 2013 Pinot Gris (Willamette Valley)</td>\n      <td>Pinot Gris</td>\n      <td>Rainstorm</td>\n    </tr>\n    <tr>\n      <th>3</th>\n      <td>US</td>\n      <td>Pineapple rind, lemon pith and orange blossom ...</td>\n      <td>Reserve Late Harvest</td>\n      <td>87</td>\n      <td>13.0</td>\n      <td>Michigan</td>\n      <td>Lake Michigan Shore</td>\n      <td>NaN</td>\n      <td>Alexander Peartree</td>\n      <td>NaN</td>\n      <td>St. Julian 2013 Reserve Late Harvest Riesling ...</td>\n      <td>Riesling</td>\n      <td>St. Julian</td>\n    </tr>\n    <tr>\n      <th>4</th>\n      <td>US</td>\n      <td>Much like the regular bottling from 2012, this...</td>\n      <td>Vintner's Reserve Wild Child Block</td>\n      <td>87</td>\n      <td>65.0</td>\n      <td>Oregon</td>\n      <td>Willamette Valley</td>\n      <td>Willamette Valley</td>\n      <td>Paul Gregutt</td>\n      <td>@paulgwine</td>\n      <td>Sweet Cheeks 2012 Vintner's Reserve Wild Child...</td>\n      <td>Pinot Noir</td>\n      <td>Sweet Cheeks</td>\n    </tr>\n  </tbody>\n</table>\n</div>"
          },
          "metadata": {}
        }
      ],
      "execution_count": null
    },
    {
      "cell_type": "code",
      "source": [
        "reviews.groupby(['country', 'province']).apply(lambda df: df.loc[df.points.idxmax()])"
      ],
      "metadata": {
        "trusted": true,
        "execution": {
          "iopub.status.busy": "2025-04-11T07:11:45.278939Z",
          "iopub.execute_input": "2025-04-11T07:11:45.279264Z",
          "iopub.status.idle": "2025-04-11T07:11:45.439196Z",
          "shell.execute_reply.started": "2025-04-11T07:11:45.279214Z",
          "shell.execute_reply": "2025-04-11T07:11:45.438118Z"
        },
        "id": "oj609Z7QsqtA",
        "outputId": "1b1d0157-eedb-45a0-f579-ff72cbd45df8"
      },
      "outputs": [
        {
          "name": "stderr",
          "text": "/tmp/ipykernel_31/1865732994.py:1: DeprecationWarning: DataFrameGroupBy.apply operated on the grouping columns. This behavior is deprecated, and in a future version of pandas the grouping columns will be excluded from the operation. Either pass `include_groups=False` to exclude the groupings or explicitly select the grouping columns after groupby to silence this warning.\n  reviews.groupby(['country', 'province']).apply(lambda df: df.loc[df.points.idxmax()])\n",
          "output_type": "stream"
        },
        {
          "execution_count": 4,
          "output_type": "execute_result",
          "data": {
            "text/plain": "                              country  \\\ncountry   province                      \nArgentina Mendoza Province  Argentina   \n          Other             Argentina   \nArmenia   Armenia             Armenia   \nAustralia Australia Other   Australia   \n          New South Wales   Australia   \n...                               ...   \nUruguay   Juanico             Uruguay   \n          Montevideo          Uruguay   \n          Progreso            Uruguay   \n          San Jose            Uruguay   \n          Uruguay             Uruguay   \n\n                                                                  description  \\\ncountry   province                                                              \nArgentina Mendoza Province  If the color doesn't tell the full story, the ...   \n          Other             Take note, this could be the best wine Colomé ...   \nArmenia   Armenia           Deep salmon in color, this wine offers a bouqu...   \nAustralia Australia Other   Writes the book on how to make a wine filled w...   \n          New South Wales   De Bortoli's Noble One is as good as ever in 2...   \n...                                                                       ...   \nUruguay   Juanico           This mature Bordeaux-style blend is earthy on ...   \n          Montevideo        A rich, heady bouquet offers aromas of blackbe...   \n          Progreso          Rusty in color but deep and complex in nature,...   \n          San Jose          Baked, sweet, heavy aromas turn earthy with ti...   \n          Uruguay           Cherry and berry aromas are ripe, healthy and ...   \n\n                                                        designation  points  \\\ncountry   province                                                            \nArgentina Mendoza Province                         Nicasia Vineyard      97   \n          Other                                             Reserva      95   \nArmenia   Armenia                                    Estate Bottled      88   \nAustralia Australia Other                             Sarah's Blend      93   \n          New South Wales                        Noble One Bortytis      94   \n...                                                             ...     ...   \nUruguay   Juanico                  Preludio Barrel Select Lote N 77      90   \n          Montevideo        Monte Vide Eu Tannat-Merlot-Tempranillo      91   \n          Progreso                   Etxe Oneko Fortified Sweet Red      90   \n          San Jose                         El Preciado Gran Reserva      87   \n          Uruguay                         Blend 002 Limited Edition      91   \n\n                            price          province                 region_1  \\\ncountry   province                                                             \nArgentina Mendoza Province  120.0  Mendoza Province                  Mendoza   \n          Other              90.0             Other                    Salta   \nArmenia   Armenia            15.0           Armenia                      NaN   \nAustralia Australia Other    15.0   Australia Other  South Eastern Australia   \n          New South Wales    32.0   New South Wales          New South Wales   \n...                           ...               ...                      ...   \nUruguay   Juanico            45.0           Juanico                      NaN   \n          Montevideo         60.0        Montevideo                      NaN   \n          Progreso           46.0          Progreso                      NaN   \n          San Jose           50.0          San Jose                      NaN   \n          Uruguay            22.0           Uruguay                      NaN   \n\n                           region_2        taster_name taster_twitter_handle  \\\ncountry   province                                                             \nArgentina Mendoza Province      NaN  Michael Schachner           @wineschach   \n          Other                 NaN  Michael Schachner           @wineschach   \nArmenia   Armenia               NaN      Mike DeSimone        @worldwineguys   \nAustralia Australia Other       NaN                NaN                   NaN   \n          New South Wales       NaN     Joe Czerwinski                @JoeCz   \n...                             ...                ...                   ...   \nUruguay   Juanico               NaN  Michael Schachner           @wineschach   \n          Montevideo            NaN  Michael Schachner           @wineschach   \n          Progreso              NaN  Michael Schachner           @wineschach   \n          San Jose              NaN  Michael Schachner           @wineschach   \n          Uruguay               NaN  Michael Schachner           @wineschach   \n\n                                                                        title  \\\ncountry   province                                                              \nArgentina Mendoza Province  Bodega Catena Zapata 2006 Nicasia Vineyard Mal...   \n          Other                            Colomé 2010 Reserva Malbec (Salta)   \nArmenia   Armenia                 Van Ardi 2015 Estate Bottled Rosé (Armenia)   \nAustralia Australia Other   Marquis Philips 2000 Sarah's Blend Red (South ...   \n          New South Wales   De Bortoli 2007 Noble One Bortytis Semillon (N...   \n...                                                                       ...   \nUruguay   Juanico           Familia Deicas 2004 Preludio Barrel Select Lot...   \n          Montevideo        Bouza 2015 Monte Vide Eu Tannat-Merlot-Tempran...   \n          Progreso          Pisano 2007 Etxe Oneko Fortified Sweet Red Tan...   \n          San Jose          Castillo Viejo 2005 El Preciado Gran Reserva R...   \n          Uruguay           Narbona NV Blend 002 Limited Edition Tannat-Ca...   \n\n                                          variety                winery  \ncountry   province                                                       \nArgentina Mendoza Province                 Malbec  Bodega Catena Zapata  \n          Other                            Malbec                Colomé  \nArmenia   Armenia                            Rosé              Van Ardi  \nAustralia Australia Other               Red Blend       Marquis Philips  \n          New South Wales                Sémillon            De Bortoli  \n...                                           ...                   ...  \nUruguay   Juanico                       Red Blend        Familia Deicas  \n          Montevideo                    Red Blend                 Bouza  \n          Progreso                         Tannat                Pisano  \n          San Jose                      Red Blend        Castillo Viejo  \n          Uruguay           Tannat-Cabernet Franc               Narbona  \n\n[425 rows x 13 columns]",
            "text/html": "<div>\n<style scoped>\n    .dataframe tbody tr th:only-of-type {\n        vertical-align: middle;\n    }\n\n    .dataframe tbody tr th {\n        vertical-align: top;\n    }\n\n    .dataframe thead th {\n        text-align: right;\n    }\n</style>\n<table border=\"1\" class=\"dataframe\">\n  <thead>\n    <tr style=\"text-align: right;\">\n      <th></th>\n      <th></th>\n      <th>country</th>\n      <th>description</th>\n      <th>designation</th>\n      <th>points</th>\n      <th>price</th>\n      <th>province</th>\n      <th>region_1</th>\n      <th>region_2</th>\n      <th>taster_name</th>\n      <th>taster_twitter_handle</th>\n      <th>title</th>\n      <th>variety</th>\n      <th>winery</th>\n    </tr>\n    <tr>\n      <th>country</th>\n      <th>province</th>\n      <th></th>\n      <th></th>\n      <th></th>\n      <th></th>\n      <th></th>\n      <th></th>\n      <th></th>\n      <th></th>\n      <th></th>\n      <th></th>\n      <th></th>\n      <th></th>\n      <th></th>\n    </tr>\n  </thead>\n  <tbody>\n    <tr>\n      <th rowspan=\"2\" valign=\"top\">Argentina</th>\n      <th>Mendoza Province</th>\n      <td>Argentina</td>\n      <td>If the color doesn't tell the full story, the ...</td>\n      <td>Nicasia Vineyard</td>\n      <td>97</td>\n      <td>120.0</td>\n      <td>Mendoza Province</td>\n      <td>Mendoza</td>\n      <td>NaN</td>\n      <td>Michael Schachner</td>\n      <td>@wineschach</td>\n      <td>Bodega Catena Zapata 2006 Nicasia Vineyard Mal...</td>\n      <td>Malbec</td>\n      <td>Bodega Catena Zapata</td>\n    </tr>\n    <tr>\n      <th>Other</th>\n      <td>Argentina</td>\n      <td>Take note, this could be the best wine Colomé ...</td>\n      <td>Reserva</td>\n      <td>95</td>\n      <td>90.0</td>\n      <td>Other</td>\n      <td>Salta</td>\n      <td>NaN</td>\n      <td>Michael Schachner</td>\n      <td>@wineschach</td>\n      <td>Colomé 2010 Reserva Malbec (Salta)</td>\n      <td>Malbec</td>\n      <td>Colomé</td>\n    </tr>\n    <tr>\n      <th>Armenia</th>\n      <th>Armenia</th>\n      <td>Armenia</td>\n      <td>Deep salmon in color, this wine offers a bouqu...</td>\n      <td>Estate Bottled</td>\n      <td>88</td>\n      <td>15.0</td>\n      <td>Armenia</td>\n      <td>NaN</td>\n      <td>NaN</td>\n      <td>Mike DeSimone</td>\n      <td>@worldwineguys</td>\n      <td>Van Ardi 2015 Estate Bottled Rosé (Armenia)</td>\n      <td>Rosé</td>\n      <td>Van Ardi</td>\n    </tr>\n    <tr>\n      <th rowspan=\"2\" valign=\"top\">Australia</th>\n      <th>Australia Other</th>\n      <td>Australia</td>\n      <td>Writes the book on how to make a wine filled w...</td>\n      <td>Sarah's Blend</td>\n      <td>93</td>\n      <td>15.0</td>\n      <td>Australia Other</td>\n      <td>South Eastern Australia</td>\n      <td>NaN</td>\n      <td>NaN</td>\n      <td>NaN</td>\n      <td>Marquis Philips 2000 Sarah's Blend Red (South ...</td>\n      <td>Red Blend</td>\n      <td>Marquis Philips</td>\n    </tr>\n    <tr>\n      <th>New South Wales</th>\n      <td>Australia</td>\n      <td>De Bortoli's Noble One is as good as ever in 2...</td>\n      <td>Noble One Bortytis</td>\n      <td>94</td>\n      <td>32.0</td>\n      <td>New South Wales</td>\n      <td>New South Wales</td>\n      <td>NaN</td>\n      <td>Joe Czerwinski</td>\n      <td>@JoeCz</td>\n      <td>De Bortoli 2007 Noble One Bortytis Semillon (N...</td>\n      <td>Sémillon</td>\n      <td>De Bortoli</td>\n    </tr>\n    <tr>\n      <th>...</th>\n      <th>...</th>\n      <td>...</td>\n      <td>...</td>\n      <td>...</td>\n      <td>...</td>\n      <td>...</td>\n      <td>...</td>\n      <td>...</td>\n      <td>...</td>\n      <td>...</td>\n      <td>...</td>\n      <td>...</td>\n      <td>...</td>\n      <td>...</td>\n    </tr>\n    <tr>\n      <th rowspan=\"5\" valign=\"top\">Uruguay</th>\n      <th>Juanico</th>\n      <td>Uruguay</td>\n      <td>This mature Bordeaux-style blend is earthy on ...</td>\n      <td>Preludio Barrel Select Lote N 77</td>\n      <td>90</td>\n      <td>45.0</td>\n      <td>Juanico</td>\n      <td>NaN</td>\n      <td>NaN</td>\n      <td>Michael Schachner</td>\n      <td>@wineschach</td>\n      <td>Familia Deicas 2004 Preludio Barrel Select Lot...</td>\n      <td>Red Blend</td>\n      <td>Familia Deicas</td>\n    </tr>\n    <tr>\n      <th>Montevideo</th>\n      <td>Uruguay</td>\n      <td>A rich, heady bouquet offers aromas of blackbe...</td>\n      <td>Monte Vide Eu Tannat-Merlot-Tempranillo</td>\n      <td>91</td>\n      <td>60.0</td>\n      <td>Montevideo</td>\n      <td>NaN</td>\n      <td>NaN</td>\n      <td>Michael Schachner</td>\n      <td>@wineschach</td>\n      <td>Bouza 2015 Monte Vide Eu Tannat-Merlot-Tempran...</td>\n      <td>Red Blend</td>\n      <td>Bouza</td>\n    </tr>\n    <tr>\n      <th>Progreso</th>\n      <td>Uruguay</td>\n      <td>Rusty in color but deep and complex in nature,...</td>\n      <td>Etxe Oneko Fortified Sweet Red</td>\n      <td>90</td>\n      <td>46.0</td>\n      <td>Progreso</td>\n      <td>NaN</td>\n      <td>NaN</td>\n      <td>Michael Schachner</td>\n      <td>@wineschach</td>\n      <td>Pisano 2007 Etxe Oneko Fortified Sweet Red Tan...</td>\n      <td>Tannat</td>\n      <td>Pisano</td>\n    </tr>\n    <tr>\n      <th>San Jose</th>\n      <td>Uruguay</td>\n      <td>Baked, sweet, heavy aromas turn earthy with ti...</td>\n      <td>El Preciado Gran Reserva</td>\n      <td>87</td>\n      <td>50.0</td>\n      <td>San Jose</td>\n      <td>NaN</td>\n      <td>NaN</td>\n      <td>Michael Schachner</td>\n      <td>@wineschach</td>\n      <td>Castillo Viejo 2005 El Preciado Gran Reserva R...</td>\n      <td>Red Blend</td>\n      <td>Castillo Viejo</td>\n    </tr>\n    <tr>\n      <th>Uruguay</th>\n      <td>Uruguay</td>\n      <td>Cherry and berry aromas are ripe, healthy and ...</td>\n      <td>Blend 002 Limited Edition</td>\n      <td>91</td>\n      <td>22.0</td>\n      <td>Uruguay</td>\n      <td>NaN</td>\n      <td>NaN</td>\n      <td>Michael Schachner</td>\n      <td>@wineschach</td>\n      <td>Narbona NV Blend 002 Limited Edition Tannat-Ca...</td>\n      <td>Tannat-Cabernet Franc</td>\n      <td>Narbona</td>\n    </tr>\n  </tbody>\n</table>\n<p>425 rows × 13 columns</p>\n</div>"
          },
          "metadata": {}
        }
      ],
      "execution_count": null
    },
    {
      "cell_type": "markdown",
      "source": [
        "## 1.\n",
        "Who are the most common wine reviewers in the dataset? Create a `Series` whose index is the `taster_twitter_handle` category from the dataset, and whose values count how many reviews each person wrote."
      ],
      "metadata": {
        "id": "qoEhGp6UsqtB"
      }
    },
    {
      "cell_type": "code",
      "source": [
        "# Your code here\n",
        "reviews_written = reviews.groupby('taster_twitter_handle').taster_twitter_handle.count()\n",
        "\n",
        "# Check your answer\n",
        "q1.check()"
      ],
      "metadata": {
        "trusted": true,
        "execution": {
          "iopub.status.busy": "2025-04-11T07:11:45.696141Z",
          "iopub.execute_input": "2025-04-11T07:11:45.696446Z",
          "iopub.status.idle": "2025-04-11T07:11:45.720364Z",
          "shell.execute_reply.started": "2025-04-11T07:11:45.696424Z",
          "shell.execute_reply": "2025-04-11T07:11:45.719607Z"
        },
        "id": "o8nLPBI2sqtB",
        "outputId": "9ba2ebb7-aa56-4e72-9baa-52ea1ede6f6f"
      },
      "outputs": [
        {
          "output_type": "display_data",
          "data": {
            "text/plain": "<IPython.core.display.Javascript object>",
            "application/javascript": "parent.postMessage({\"jupyterEvent\": \"custom.exercise_interaction\", \"data\": {\"outcomeType\": 1, \"valueTowardsCompletion\": 0.16666666666666666, \"interactionType\": 1, \"questionType\": 1, \"questionId\": \"1_ReviewsWritten\", \"learnToolsVersion\": \"0.3.5\", \"failureMessage\": \"\", \"exceptionClass\": \"\", \"trace\": \"\"}}, \"*\")"
          },
          "metadata": {}
        },
        {
          "output_type": "display_data",
          "data": {
            "text/plain": "Correct: \n\n\n```python\nreviews_written = reviews.groupby('taster_twitter_handle').size()\n```\nor\n```python\nreviews_written = reviews.groupby('taster_twitter_handle').taster_twitter_handle.count()\n```",
            "text/markdown": "<span style=\"color:#33cc33\">Correct:</span> \n\n\n```python\nreviews_written = reviews.groupby('taster_twitter_handle').size()\n```\nor\n```python\nreviews_written = reviews.groupby('taster_twitter_handle').taster_twitter_handle.count()\n```\n"
          },
          "metadata": {}
        }
      ],
      "execution_count": null
    },
    {
      "cell_type": "code",
      "source": [
        "#q1.hint()\n",
        "#q1.solution()\n",
        "reviews_written = reviews.taster_twitter_handle.value_counts()\n",
        "\n",
        "reviews_written = reviews.groupby('taster_twitter_handle').taster_twitter_handle.count()\n",
        "reviews_written"
      ],
      "metadata": {
        "trusted": true,
        "execution": {
          "iopub.status.busy": "2025-04-11T07:11:45.898327Z",
          "iopub.execute_input": "2025-04-11T07:11:45.898621Z",
          "iopub.status.idle": "2025-04-11T07:11:45.931818Z",
          "shell.execute_reply.started": "2025-04-11T07:11:45.898599Z",
          "shell.execute_reply": "2025-04-11T07:11:45.93114Z"
        },
        "id": "ahDl1ynFsqtB",
        "outputId": "7dac5f6f-b244-4285-fc12-9f8673ed57d0"
      },
      "outputs": [
        {
          "execution_count": 6,
          "output_type": "execute_result",
          "data": {
            "text/plain": "taster_twitter_handle\n@AnneInVino          3685\n@JoeCz               5147\n@bkfiona               27\n@gordone_cellars     4177\n@kerinokeefe        10776\n@laurbuzz            1835\n@mattkettmann        6332\n@paulgwine           9532\n@suskostrzewa        1085\n@vboone              9537\n@vossroger          25514\n@wawinereport        4966\n@wineschach         15134\n@winewchristina         6\n@worldwineguys       1005\nName: taster_twitter_handle, dtype: int64"
          },
          "metadata": {}
        }
      ],
      "execution_count": null
    },
    {
      "cell_type": "markdown",
      "source": [
        "## 2.\n",
        "What is the best wine I can buy for a given amount of money? Create a `Series` whose index is wine prices and whose values is the maximum number of points a wine costing that much was given in a review. Sort the values by price, ascending (so that `4.0` dollars is at the top and `3300.0` dollars is at the bottom)."
      ],
      "metadata": {
        "id": "8oq7gwklsqtC"
      }
    },
    {
      "cell_type": "code",
      "source": [
        "best_rating_per_price = reviews.groupby('price').apply(lambda df: df.loc[df.points.idxmax()]).points\n",
        "\n",
        "# Check your answer\n",
        "q2.check()"
      ],
      "metadata": {
        "trusted": true,
        "execution": {
          "iopub.status.busy": "2025-04-11T07:11:46.238195Z",
          "iopub.execute_input": "2025-04-11T07:11:46.238823Z",
          "iopub.status.idle": "2025-04-11T07:11:46.426083Z",
          "shell.execute_reply.started": "2025-04-11T07:11:46.238788Z",
          "shell.execute_reply": "2025-04-11T07:11:46.425193Z"
        },
        "id": "2BJ5ewPAsqtC",
        "outputId": "37e879b3-35ae-4b27-c8fa-abfdeba53c97"
      },
      "outputs": [
        {
          "name": "stderr",
          "text": "/tmp/ipykernel_31/1700840039.py:1: DeprecationWarning: DataFrameGroupBy.apply operated on the grouping columns. This behavior is deprecated, and in a future version of pandas the grouping columns will be excluded from the operation. Either pass `include_groups=False` to exclude the groupings or explicitly select the grouping columns after groupby to silence this warning.\n  best_rating_per_price = reviews.groupby('price').apply(lambda df: df.loc[df.points.idxmax()]).points\n",
          "output_type": "stream"
        },
        {
          "output_type": "display_data",
          "data": {
            "text/plain": "<IPython.core.display.Javascript object>",
            "application/javascript": "parent.postMessage({\"jupyterEvent\": \"custom.exercise_interaction\", \"data\": {\"outcomeType\": 1, \"valueTowardsCompletion\": 0.16666666666666666, \"interactionType\": 1, \"questionType\": 1, \"questionId\": \"2_BestRatingPerPrice\", \"learnToolsVersion\": \"0.3.5\", \"failureMessage\": \"\", \"exceptionClass\": \"\", \"trace\": \"\"}}, \"*\")"
          },
          "metadata": {}
        },
        {
          "output_type": "display_data",
          "data": {
            "text/plain": "Correct",
            "text/markdown": "<span style=\"color:#33cc33\">Correct</span>"
          },
          "metadata": {}
        }
      ],
      "execution_count": null
    },
    {
      "cell_type": "code",
      "source": [
        "#q2.hint()\n",
        "#q2.solution()\n",
        "best_rating_per_price = reviews.groupby('price').apply(lambda df: df.loc[df.points.idxmax()]).points\n",
        "best_rating_per_price"
      ],
      "metadata": {
        "trusted": true,
        "execution": {
          "iopub.status.busy": "2025-04-11T07:11:46.427114Z",
          "iopub.execute_input": "2025-04-11T07:11:46.427364Z",
          "iopub.status.idle": "2025-04-11T07:11:46.550275Z",
          "shell.execute_reply.started": "2025-04-11T07:11:46.427344Z",
          "shell.execute_reply": "2025-04-11T07:11:46.549546Z"
        },
        "id": "4S-4UYqBsqtC",
        "outputId": "b68b5907-2afc-4dba-e918-2ed923ec2de0"
      },
      "outputs": [
        {
          "name": "stderr",
          "text": "/tmp/ipykernel_31/1214423211.py:3: DeprecationWarning: DataFrameGroupBy.apply operated on the grouping columns. This behavior is deprecated, and in a future version of pandas the grouping columns will be excluded from the operation. Either pass `include_groups=False` to exclude the groupings or explicitly select the grouping columns after groupby to silence this warning.\n  best_rating_per_price = reviews.groupby('price').apply(lambda df: df.loc[df.points.idxmax()]).points\n",
          "output_type": "stream"
        },
        {
          "execution_count": 8,
          "output_type": "execute_result",
          "data": {
            "text/plain": "price\n4.0       86\n5.0       87\n6.0       88\n7.0       91\n8.0       91\n          ..\n1900.0    98\n2000.0    97\n2013.0    91\n2500.0    96\n3300.0    88\nName: points, Length: 390, dtype: int64"
          },
          "metadata": {}
        }
      ],
      "execution_count": null
    },
    {
      "cell_type": "markdown",
      "source": [
        "## 3.\n",
        "What are the minimum and maximum prices for each `variety` of wine? Create a `DataFrame` whose index is the `variety` category from the dataset and whose values are the `min` and `max` values thereof."
      ],
      "metadata": {
        "id": "GcuRZJlysqtC"
      }
    },
    {
      "cell_type": "code",
      "source": [
        "price_extremes = reviews.groupby('variety').price.agg(['min', 'max'])\n",
        "\n",
        "# Check your answer\n",
        "q3.check()"
      ],
      "metadata": {
        "trusted": true,
        "execution": {
          "iopub.status.busy": "2025-04-11T07:11:46.807983Z",
          "iopub.execute_input": "2025-04-11T07:11:46.808499Z",
          "iopub.status.idle": "2025-04-11T07:11:46.830724Z",
          "shell.execute_reply.started": "2025-04-11T07:11:46.808475Z",
          "shell.execute_reply": "2025-04-11T07:11:46.830006Z"
        },
        "id": "_K8qRP8DsqtC",
        "outputId": "1d504863-f996-4ba5-8240-7a2aaca6e394"
      },
      "outputs": [
        {
          "output_type": "display_data",
          "data": {
            "text/plain": "<IPython.core.display.Javascript object>",
            "application/javascript": "parent.postMessage({\"jupyterEvent\": \"custom.exercise_interaction\", \"data\": {\"outcomeType\": 1, \"valueTowardsCompletion\": 0.16666666666666666, \"interactionType\": 1, \"questionType\": 1, \"questionId\": \"3_PriceExtremes\", \"learnToolsVersion\": \"0.3.5\", \"failureMessage\": \"\", \"exceptionClass\": \"\", \"trace\": \"\"}}, \"*\")"
          },
          "metadata": {}
        },
        {
          "output_type": "display_data",
          "data": {
            "text/plain": "Correct",
            "text/markdown": "<span style=\"color:#33cc33\">Correct</span>"
          },
          "metadata": {}
        }
      ],
      "execution_count": null
    },
    {
      "cell_type": "code",
      "source": [
        "#q3.hint()\n",
        "#q3.solution()\n",
        "price_extremes = reviews.groupby('variety').price.agg(['min', 'max'])\n",
        "price_extremes"
      ],
      "metadata": {
        "trusted": true,
        "execution": {
          "iopub.status.busy": "2025-04-11T07:11:46.998002Z",
          "iopub.execute_input": "2025-04-11T07:11:46.998871Z",
          "iopub.status.idle": "2025-04-11T07:11:47.023513Z",
          "shell.execute_reply.started": "2025-04-11T07:11:46.998844Z",
          "shell.execute_reply": "2025-04-11T07:11:47.022697Z"
        },
        "id": "pzn8F6MNsqtC",
        "outputId": "d3c6e32d-87e9-4105-8fe3-1d8c14e3bc9d"
      },
      "outputs": [
        {
          "execution_count": 10,
          "output_type": "execute_result",
          "data": {
            "text/plain": "              min    max\nvariety                 \nAbouriou     15.0   75.0\nAgiorgitiko  10.0   66.0\nAglianico     6.0  180.0\nAidani       27.0   27.0\nAiren         8.0   10.0\n...           ...    ...\nZinfandel     5.0  100.0\nZlahtina     13.0   16.0\nZweigelt      9.0   70.0\nÇalkarası    19.0   19.0\nŽilavka      15.0   15.0\n\n[707 rows x 2 columns]",
            "text/html": "<div>\n<style scoped>\n    .dataframe tbody tr th:only-of-type {\n        vertical-align: middle;\n    }\n\n    .dataframe tbody tr th {\n        vertical-align: top;\n    }\n\n    .dataframe thead th {\n        text-align: right;\n    }\n</style>\n<table border=\"1\" class=\"dataframe\">\n  <thead>\n    <tr style=\"text-align: right;\">\n      <th></th>\n      <th>min</th>\n      <th>max</th>\n    </tr>\n    <tr>\n      <th>variety</th>\n      <th></th>\n      <th></th>\n    </tr>\n  </thead>\n  <tbody>\n    <tr>\n      <th>Abouriou</th>\n      <td>15.0</td>\n      <td>75.0</td>\n    </tr>\n    <tr>\n      <th>Agiorgitiko</th>\n      <td>10.0</td>\n      <td>66.0</td>\n    </tr>\n    <tr>\n      <th>Aglianico</th>\n      <td>6.0</td>\n      <td>180.0</td>\n    </tr>\n    <tr>\n      <th>Aidani</th>\n      <td>27.0</td>\n      <td>27.0</td>\n    </tr>\n    <tr>\n      <th>Airen</th>\n      <td>8.0</td>\n      <td>10.0</td>\n    </tr>\n    <tr>\n      <th>...</th>\n      <td>...</td>\n      <td>...</td>\n    </tr>\n    <tr>\n      <th>Zinfandel</th>\n      <td>5.0</td>\n      <td>100.0</td>\n    </tr>\n    <tr>\n      <th>Zlahtina</th>\n      <td>13.0</td>\n      <td>16.0</td>\n    </tr>\n    <tr>\n      <th>Zweigelt</th>\n      <td>9.0</td>\n      <td>70.0</td>\n    </tr>\n    <tr>\n      <th>Çalkarası</th>\n      <td>19.0</td>\n      <td>19.0</td>\n    </tr>\n    <tr>\n      <th>Žilavka</th>\n      <td>15.0</td>\n      <td>15.0</td>\n    </tr>\n  </tbody>\n</table>\n<p>707 rows × 2 columns</p>\n</div>"
          },
          "metadata": {}
        }
      ],
      "execution_count": null
    },
    {
      "cell_type": "markdown",
      "source": [
        "## 4.\n",
        "What are the most expensive wine varieties? Create a variable `sorted_varieties` containing a copy of the dataframe from the previous question where varieties are sorted in descending order based on minimum price, then on maximum price (to break ties)."
      ],
      "metadata": {
        "id": "1IA8LghHsqtC"
      }
    },
    {
      "cell_type": "code",
      "source": [
        "sorted_varieties = price_extremes.sort_values(by=['min', 'max'], ascending = False)\n",
        "# Check your answer\n",
        "q4.check()"
      ],
      "metadata": {
        "trusted": true,
        "execution": {
          "iopub.status.busy": "2025-04-11T07:11:47.378158Z",
          "iopub.execute_input": "2025-04-11T07:11:47.378459Z",
          "iopub.status.idle": "2025-04-11T07:11:47.388187Z",
          "shell.execute_reply.started": "2025-04-11T07:11:47.378439Z",
          "shell.execute_reply": "2025-04-11T07:11:47.387319Z"
        },
        "id": "6mow5ym6sqtD",
        "outputId": "6d16a9bd-6879-4a61-828a-ae53d33015b2"
      },
      "outputs": [
        {
          "output_type": "display_data",
          "data": {
            "text/plain": "<IPython.core.display.Javascript object>",
            "application/javascript": "parent.postMessage({\"jupyterEvent\": \"custom.exercise_interaction\", \"data\": {\"outcomeType\": 1, \"valueTowardsCompletion\": 0.16666666666666666, \"interactionType\": 1, \"questionType\": 1, \"questionId\": \"4_SortedVarieties\", \"learnToolsVersion\": \"0.3.5\", \"failureMessage\": \"\", \"exceptionClass\": \"\", \"trace\": \"\"}}, \"*\")"
          },
          "metadata": {}
        },
        {
          "output_type": "display_data",
          "data": {
            "text/plain": "Correct",
            "text/markdown": "<span style=\"color:#33cc33\">Correct</span>"
          },
          "metadata": {}
        }
      ],
      "execution_count": null
    },
    {
      "cell_type": "code",
      "source": [
        "#q4.hint()\n",
        "#q4.solution()\n",
        "sorted_varieties = price_extremes.sort_values(by=['min', 'max'], ascending = False)\n",
        "sorted_varieties"
      ],
      "metadata": {
        "trusted": true,
        "execution": {
          "iopub.status.busy": "2025-04-11T07:11:47.908372Z",
          "iopub.execute_input": "2025-04-11T07:11:47.908874Z",
          "iopub.status.idle": "2025-04-11T07:11:47.921741Z",
          "shell.execute_reply.started": "2025-04-11T07:11:47.908852Z",
          "shell.execute_reply": "2025-04-11T07:11:47.920916Z"
        },
        "id": "Fan3PsmksqtD",
        "outputId": "904951e6-7432-498e-e68c-c113aad36aea"
      },
      "outputs": [
        {
          "name": "stderr",
          "text": "/usr/local/lib/python3.11/dist-packages/pandas/io/formats/format.py:1458: RuntimeWarning: invalid value encountered in greater\n  has_large_values = (abs_vals > 1e6).any()\n/usr/local/lib/python3.11/dist-packages/pandas/io/formats/format.py:1459: RuntimeWarning: invalid value encountered in less\n  has_small_values = ((abs_vals < 10 ** (-self.digits)) & (abs_vals > 0)).any()\n/usr/local/lib/python3.11/dist-packages/pandas/io/formats/format.py:1459: RuntimeWarning: invalid value encountered in greater\n  has_small_values = ((abs_vals < 10 ** (-self.digits)) & (abs_vals > 0)).any()\n",
          "output_type": "stream"
        },
        {
          "execution_count": 12,
          "output_type": "execute_result",
          "data": {
            "text/plain": "                                  min    max\nvariety                                     \nRamisco                         495.0  495.0\nTerrantez                       236.0  236.0\nFrancisa                        160.0  160.0\nRosenmuskateller                150.0  150.0\nTinta Negra Mole                112.0  112.0\n...                               ...    ...\nRoscetto                          NaN    NaN\nSauvignon Blanc-Sauvignon Gris    NaN    NaN\nTempranillo-Malbec                NaN    NaN\nVital                             NaN    NaN\nZelen                             NaN    NaN\n\n[707 rows x 2 columns]",
            "text/html": "<div>\n<style scoped>\n    .dataframe tbody tr th:only-of-type {\n        vertical-align: middle;\n    }\n\n    .dataframe tbody tr th {\n        vertical-align: top;\n    }\n\n    .dataframe thead th {\n        text-align: right;\n    }\n</style>\n<table border=\"1\" class=\"dataframe\">\n  <thead>\n    <tr style=\"text-align: right;\">\n      <th></th>\n      <th>min</th>\n      <th>max</th>\n    </tr>\n    <tr>\n      <th>variety</th>\n      <th></th>\n      <th></th>\n    </tr>\n  </thead>\n  <tbody>\n    <tr>\n      <th>Ramisco</th>\n      <td>495.0</td>\n      <td>495.0</td>\n    </tr>\n    <tr>\n      <th>Terrantez</th>\n      <td>236.0</td>\n      <td>236.0</td>\n    </tr>\n    <tr>\n      <th>Francisa</th>\n      <td>160.0</td>\n      <td>160.0</td>\n    </tr>\n    <tr>\n      <th>Rosenmuskateller</th>\n      <td>150.0</td>\n      <td>150.0</td>\n    </tr>\n    <tr>\n      <th>Tinta Negra Mole</th>\n      <td>112.0</td>\n      <td>112.0</td>\n    </tr>\n    <tr>\n      <th>...</th>\n      <td>...</td>\n      <td>...</td>\n    </tr>\n    <tr>\n      <th>Roscetto</th>\n      <td>NaN</td>\n      <td>NaN</td>\n    </tr>\n    <tr>\n      <th>Sauvignon Blanc-Sauvignon Gris</th>\n      <td>NaN</td>\n      <td>NaN</td>\n    </tr>\n    <tr>\n      <th>Tempranillo-Malbec</th>\n      <td>NaN</td>\n      <td>NaN</td>\n    </tr>\n    <tr>\n      <th>Vital</th>\n      <td>NaN</td>\n      <td>NaN</td>\n    </tr>\n    <tr>\n      <th>Zelen</th>\n      <td>NaN</td>\n      <td>NaN</td>\n    </tr>\n  </tbody>\n</table>\n<p>707 rows × 2 columns</p>\n</div>"
          },
          "metadata": {}
        }
      ],
      "execution_count": null
    },
    {
      "cell_type": "markdown",
      "source": [
        "## 5.\n",
        "Create a `Series` whose index is reviewers and whose values is the average review score given out by that reviewer. Hint: you will need the `taster_name` and `points` columns."
      ],
      "metadata": {
        "id": "XRnpxoNLsqtD"
      }
    },
    {
      "cell_type": "code",
      "source": [
        "reviewer_mean_ratings = reviews.groupby('taster_name').points.mean()\n",
        "\n",
        "# Check your answer\n",
        "q5.check()"
      ],
      "metadata": {
        "trusted": true,
        "execution": {
          "iopub.status.busy": "2025-04-11T07:11:48.098391Z",
          "iopub.execute_input": "2025-04-11T07:11:48.099123Z",
          "iopub.status.idle": "2025-04-11T07:11:48.117887Z",
          "shell.execute_reply.started": "2025-04-11T07:11:48.099099Z",
          "shell.execute_reply": "2025-04-11T07:11:48.116934Z"
        },
        "id": "Arh9ASm1sqtD",
        "outputId": "2a9efcb9-8645-4ebe-bd26-95fa1c0b45f4"
      },
      "outputs": [
        {
          "output_type": "display_data",
          "data": {
            "text/plain": "<IPython.core.display.Javascript object>",
            "application/javascript": "parent.postMessage({\"jupyterEvent\": \"custom.exercise_interaction\", \"data\": {\"outcomeType\": 1, \"valueTowardsCompletion\": 0.16666666666666666, \"interactionType\": 1, \"questionType\": 1, \"questionId\": \"5_ReviewerMeanRatings\", \"learnToolsVersion\": \"0.3.5\", \"failureMessage\": \"\", \"exceptionClass\": \"\", \"trace\": \"\"}}, \"*\")"
          },
          "metadata": {}
        },
        {
          "output_type": "display_data",
          "data": {
            "text/plain": "Correct",
            "text/markdown": "<span style=\"color:#33cc33\">Correct</span>"
          },
          "metadata": {}
        }
      ],
      "execution_count": null
    },
    {
      "cell_type": "code",
      "source": [
        "reviewer_mean_ratings = reviews.groupby('taster_name').points.mean()\n",
        "reviewer_mean_ratings\n",
        "\n",
        "#q5.hint()\n",
        "#q5.solution()"
      ],
      "metadata": {
        "trusted": true,
        "execution": {
          "iopub.status.busy": "2025-04-11T07:11:48.305544Z",
          "iopub.execute_input": "2025-04-11T07:11:48.305846Z",
          "iopub.status.idle": "2025-04-11T07:11:48.323935Z",
          "shell.execute_reply.started": "2025-04-11T07:11:48.305822Z",
          "shell.execute_reply": "2025-04-11T07:11:48.323208Z"
        },
        "id": "PaV5cBRusqtD",
        "outputId": "3bc0660c-ae64-4d77-b43c-f6ed3d3ab30d"
      },
      "outputs": [
        {
          "execution_count": 14,
          "output_type": "execute_result",
          "data": {
            "text/plain": "taster_name\nAlexander Peartree    85.855422\nAnna Lee C. Iijima    88.415629\nAnne Krebiehl MW      90.562551\nCarrie Dykes          86.395683\nChristina Pickard     87.833333\nFiona Adams           86.888889\nJeff Jenssen          88.319756\nJim Gordon            88.626287\nJoe Czerwinski        88.536235\nKerin O’Keefe         88.867947\nLauren Buzzeo         87.739510\nMatt Kettmann         90.008686\nMichael Schachner     86.907493\nMike DeSimone         89.101167\nPaul Gregutt          89.082564\nRoger Voss            88.708003\nSean P. Sullivan      88.755739\nSusan Kostrzewa       86.609217\nVirginie Boone        89.213379\nName: points, dtype: float64"
          },
          "metadata": {}
        }
      ],
      "execution_count": null
    },
    {
      "cell_type": "markdown",
      "source": [
        "Are there significant differences in the average scores assigned by the various reviewers? Run the cell below to use the `describe()` method to see a summary of the range of values."
      ],
      "metadata": {
        "id": "qCuIVFWDsqtD"
      }
    },
    {
      "cell_type": "code",
      "source": [
        "reviewer_mean_ratings.describe()"
      ],
      "metadata": {
        "trusted": true,
        "execution": {
          "iopub.status.busy": "2025-04-10T07:53:52.644915Z",
          "iopub.execute_input": "2025-04-10T07:53:52.645668Z",
          "iopub.status.idle": "2025-04-10T07:53:52.6564Z",
          "shell.execute_reply.started": "2025-04-10T07:53:52.64564Z",
          "shell.execute_reply": "2025-04-10T07:53:52.655531Z"
        },
        "id": "v0aUx1IGsqtD",
        "outputId": "2073e675-0db9-424a-f8a6-e1f5f14ae8e1"
      },
      "outputs": [
        {
          "execution_count": 53,
          "output_type": "execute_result",
          "data": {
            "text/plain": "count    19.000000\nmean     88.233026\nstd       1.243610\nmin      85.855422\n25%      87.323501\n50%      88.536235\n75%      88.975256\nmax      90.562551\nName: points, dtype: float64"
          },
          "metadata": {}
        }
      ],
      "execution_count": null
    },
    {
      "cell_type": "markdown",
      "source": [
        "## 6.\n",
        "What combination of countries and varieties are most common? Create a `Series` whose index is a `MultiIndex`of `{country, variety}` pairs. For example, a pinot noir produced in the US should map to `{\"US\", \"Pinot Noir\"}`. Sort the values in the `Series` in descending order based on wine count."
      ],
      "metadata": {
        "id": "fdyRrjkusqtD"
      }
    },
    {
      "cell_type": "code",
      "source": [
        "country_variety_counts = reviews.groupby(['country', 'variety']).variety.count().sort_values(ascending=False)\n",
        "country_variety_counts\n",
        "# Check your answer\n",
        "q6.check()"
      ],
      "metadata": {
        "trusted": true,
        "execution": {
          "iopub.status.busy": "2025-04-11T07:12:50.438121Z",
          "iopub.execute_input": "2025-04-11T07:12:50.438738Z",
          "iopub.status.idle": "2025-04-11T07:12:50.480348Z",
          "shell.execute_reply.started": "2025-04-11T07:12:50.43871Z",
          "shell.execute_reply": "2025-04-11T07:12:50.47959Z"
        },
        "id": "mfNB3FLJsqtD",
        "outputId": "65f51913-236b-438e-bc13-d135b92b00df"
      },
      "outputs": [
        {
          "output_type": "display_data",
          "data": {
            "text/plain": "<IPython.core.display.Javascript object>",
            "application/javascript": "parent.postMessage({\"jupyterEvent\": \"custom.exercise_interaction\", \"data\": {\"outcomeType\": 1, \"valueTowardsCompletion\": 0.16666666666666666, \"interactionType\": 1, \"questionType\": 1, \"questionId\": \"6_GroupbyCountryVariety\", \"learnToolsVersion\": \"0.3.5\", \"failureMessage\": \"\", \"exceptionClass\": \"\", \"trace\": \"\"}}, \"*\")"
          },
          "metadata": {}
        },
        {
          "output_type": "display_data",
          "data": {
            "text/plain": "Correct",
            "text/markdown": "<span style=\"color:#33cc33\">Correct</span>"
          },
          "metadata": {}
        }
      ],
      "execution_count": null
    },
    {
      "cell_type": "code",
      "source": [
        "#q6.hint()\n",
        "#q6.solution()\n",
        "\n",
        "country_variety_counts = reviews.groupby(['country', 'variety']).variety.count().sort_values(ascending=False)\n",
        "country_variety_counts"
      ],
      "metadata": {
        "trusted": true,
        "execution": {
          "iopub.status.busy": "2025-04-11T07:12:26.708187Z",
          "iopub.execute_input": "2025-04-11T07:12:26.709096Z",
          "iopub.status.idle": "2025-04-11T07:12:26.751398Z",
          "shell.execute_reply.started": "2025-04-11T07:12:26.709068Z",
          "shell.execute_reply": "2025-04-11T07:12:26.750672Z"
        },
        "id": "aizU2gGasqtD",
        "outputId": "f43395af-169d-40ad-ca10-8e4aa3b1b565"
      },
      "outputs": [
        {
          "execution_count": 17,
          "output_type": "execute_result",
          "data": {
            "text/plain": "country  variety                 \nUS       Pinot Noir                  9885\n         Cabernet Sauvignon          7315\n         Chardonnay                  6801\nFrance   Bordeaux-style Red Blend    4725\nItaly    Red Blend                   3624\n                                     ... \nMexico   Cinsault                       1\n         Grenache                       1\n         Merlot                         1\n         Rosado                         1\nUruguay  White Blend                    1\nName: variety, Length: 1612, dtype: int64"
          },
          "metadata": {}
        }
      ],
      "execution_count": null
    },
    {
      "cell_type": "markdown",
      "source": [
        "# Keep going\n",
        "\n",
        "Move on to the [**data types and missing data**](https://www.kaggle.com/residentmario/data-types-and-missing-values)."
      ],
      "metadata": {
        "id": "-jQl4EVTsqtD"
      }
    },
    {
      "cell_type": "markdown",
      "source": [
        "---\n",
        "\n",
        "\n",
        "\n",
        "\n",
        "*Have questions or comments? Visit the [course discussion forum](https://www.kaggle.com/learn/pandas/discussion) to chat with other learners.*"
      ],
      "metadata": {
        "id": "9ZkjGMv9sqtD"
      }
    }
  ]
}