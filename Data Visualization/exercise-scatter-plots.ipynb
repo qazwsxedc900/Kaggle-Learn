{
 "cells": [
  {
   "cell_type": "markdown",
   "id": "4acae760",
   "metadata": {
    "papermill": {
     "duration": 0.006565,
     "end_time": "2025-05-22T08:22:23.505055",
     "exception": false,
     "start_time": "2025-05-22T08:22:23.498490",
     "status": "completed"
    },
    "tags": []
   },
   "source": [
    "**This notebook is an exercise in the [Data Visualization](https://www.kaggle.com/learn/data-visualization) course.  You can reference the tutorial at [this link](https://www.kaggle.com/alexisbcook/scatter-plots).**\n",
    "\n",
    "---\n"
   ]
  },
  {
   "cell_type": "markdown",
   "id": "ece462f2",
   "metadata": {
    "papermill": {
     "duration": 0.005237,
     "end_time": "2025-05-22T08:22:23.516085",
     "exception": false,
     "start_time": "2025-05-22T08:22:23.510848",
     "status": "completed"
    },
    "tags": []
   },
   "source": [
    "In this exercise, you will use your new knowledge to propose a solution to a real-world scenario.  To succeed, you will need to import data into Python, answer questions using the data, and generate **scatter plots** to understand patterns in the data.\n",
    "\n",
    "## Scenario\n",
    "\n",
    "You work for a major candy producer, and your goal is to write a report that your company can use to guide the design of its next product.  Soon after starting your research, you stumble across this [very interesting dataset](https://fivethirtyeight.com/features/the-ultimate-halloween-candy-power-ranking/) containing results from a fun survey to crowdsource favorite candies.\n",
    "\n",
    "## Setup\n",
    "\n",
    "Run the next cell to import and configure the Python libraries that you need to complete the exercise."
   ]
  },
  {
   "cell_type": "code",
   "execution_count": 1,
   "id": "949b2f43",
   "metadata": {
    "execution": {
     "iopub.execute_input": "2025-05-22T08:22:23.528639Z",
     "iopub.status.busy": "2025-05-22T08:22:23.527727Z",
     "iopub.status.idle": "2025-05-22T08:22:26.958202Z",
     "shell.execute_reply": "2025-05-22T08:22:26.957215Z"
    },
    "papermill": {
     "duration": 3.438749,
     "end_time": "2025-05-22T08:22:26.960279",
     "exception": false,
     "start_time": "2025-05-22T08:22:23.521530",
     "status": "completed"
    },
    "tags": []
   },
   "outputs": [
    {
     "name": "stdout",
     "output_type": "stream",
     "text": [
      "Setup Complete\n"
     ]
    }
   ],
   "source": [
    "import pandas as pd\n",
    "pd.plotting.register_matplotlib_converters()\n",
    "import matplotlib.pyplot as plt\n",
    "%matplotlib inline\n",
    "import seaborn as sns\n",
    "print(\"Setup Complete\")"
   ]
  },
  {
   "cell_type": "markdown",
   "id": "2ee50933",
   "metadata": {
    "papermill": {
     "duration": 0.007694,
     "end_time": "2025-05-22T08:22:26.974986",
     "exception": false,
     "start_time": "2025-05-22T08:22:26.967292",
     "status": "completed"
    },
    "tags": []
   },
   "source": [
    "The questions below will give you feedback on your work. Run the following cell to set up our feedback system."
   ]
  },
  {
   "cell_type": "code",
   "execution_count": 2,
   "id": "f648d86b",
   "metadata": {
    "execution": {
     "iopub.execute_input": "2025-05-22T08:22:26.995926Z",
     "iopub.status.busy": "2025-05-22T08:22:26.995142Z",
     "iopub.status.idle": "2025-05-22T08:22:27.061666Z",
     "shell.execute_reply": "2025-05-22T08:22:27.060767Z"
    },
    "papermill": {
     "duration": 0.078042,
     "end_time": "2025-05-22T08:22:27.063144",
     "exception": false,
     "start_time": "2025-05-22T08:22:26.985102",
     "status": "completed"
    },
    "tags": []
   },
   "outputs": [
    {
     "name": "stdout",
     "output_type": "stream",
     "text": [
      "Setup Complete\n"
     ]
    }
   ],
   "source": [
    "# Set up code checking\n",
    "import os\n",
    "if not os.path.exists(\"../input/candy.csv\"):\n",
    "    os.symlink(\"../input/data-for-datavis/candy.csv\", \"../input/candy.csv\") \n",
    "from learntools.core import binder\n",
    "binder.bind(globals())\n",
    "from learntools.data_viz_to_coder.ex4 import *\n",
    "print(\"Setup Complete\")"
   ]
  },
  {
   "cell_type": "markdown",
   "id": "ca523e18",
   "metadata": {
    "papermill": {
     "duration": 0.00543,
     "end_time": "2025-05-22T08:22:27.074547",
     "exception": false,
     "start_time": "2025-05-22T08:22:27.069117",
     "status": "completed"
    },
    "tags": []
   },
   "source": [
    "## Step 1: Load the Data\n",
    "\n",
    "Read the candy data file into `candy_data`.  Use the `\"id\"` column to label the rows."
   ]
  },
  {
   "cell_type": "code",
   "execution_count": 3,
   "id": "550df801",
   "metadata": {
    "execution": {
     "iopub.execute_input": "2025-05-22T08:22:27.087118Z",
     "iopub.status.busy": "2025-05-22T08:22:27.086357Z",
     "iopub.status.idle": "2025-05-22T08:22:27.098610Z",
     "shell.execute_reply": "2025-05-22T08:22:27.097868Z"
    },
    "papermill": {
     "duration": 0.019669,
     "end_time": "2025-05-22T08:22:27.099753",
     "exception": false,
     "start_time": "2025-05-22T08:22:27.080084",
     "status": "completed"
    },
    "tags": []
   },
   "outputs": [
    {
     "data": {
      "application/javascript": [
       "parent.postMessage({\"jupyterEvent\": \"custom.exercise_interaction\", \"data\": {\"outcomeType\": 1, \"valueTowardsCompletion\": 0.3333333333333333, \"interactionType\": 1, \"questionType\": 1, \"questionId\": \"1_LoadData\", \"learnToolsVersion\": \"0.3.5\", \"failureMessage\": \"\", \"exceptionClass\": \"\", \"trace\": \"\"}}, \"*\")"
      ],
      "text/plain": [
       "<IPython.core.display.Javascript object>"
      ]
     },
     "metadata": {},
     "output_type": "display_data"
    },
    {
     "data": {
      "text/markdown": [
       "<span style=\"color:#33cc33\">Correct</span>"
      ],
      "text/plain": [
       "Correct"
      ]
     },
     "metadata": {},
     "output_type": "display_data"
    }
   ],
   "source": [
    "# Path of the file to read\n",
    "candy_filepath = \"../input/candy.csv\"\n",
    "\n",
    "# Fill in the line below to read the file into a variable candy_data\n",
    "candy_data = pd.read_csv(candy_filepath, index_col='id')\n",
    "\n",
    "# Run the line below with no changes to check that you've loaded the data correctly\n",
    "step_1.check()"
   ]
  },
  {
   "cell_type": "code",
   "execution_count": 4,
   "id": "f950f0e2",
   "metadata": {
    "execution": {
     "iopub.execute_input": "2025-05-22T08:22:27.112257Z",
     "iopub.status.busy": "2025-05-22T08:22:27.112002Z",
     "iopub.status.idle": "2025-05-22T08:22:27.115514Z",
     "shell.execute_reply": "2025-05-22T08:22:27.114734Z"
    },
    "papermill": {
     "duration": 0.011027,
     "end_time": "2025-05-22T08:22:27.116675",
     "exception": false,
     "start_time": "2025-05-22T08:22:27.105648",
     "status": "completed"
    },
    "tags": []
   },
   "outputs": [],
   "source": [
    "# Lines below will give you a hint or solution code\n",
    "#step_1.hint()\n",
    "#step_1.solution()"
   ]
  },
  {
   "cell_type": "markdown",
   "id": "87260424",
   "metadata": {
    "papermill": {
     "duration": 0.005482,
     "end_time": "2025-05-22T08:22:27.128001",
     "exception": false,
     "start_time": "2025-05-22T08:22:27.122519",
     "status": "completed"
    },
    "tags": []
   },
   "source": [
    "## Step 2: Review the data\n",
    "\n",
    "Use a Python command to print the first five rows of the data."
   ]
  },
  {
   "cell_type": "code",
   "execution_count": 5,
   "id": "85913f65",
   "metadata": {
    "execution": {
     "iopub.execute_input": "2025-05-22T08:22:27.140697Z",
     "iopub.status.busy": "2025-05-22T08:22:27.140422Z",
     "iopub.status.idle": "2025-05-22T08:22:27.163575Z",
     "shell.execute_reply": "2025-05-22T08:22:27.162777Z"
    },
    "papermill": {
     "duration": 0.030921,
     "end_time": "2025-05-22T08:22:27.164970",
     "exception": false,
     "start_time": "2025-05-22T08:22:27.134049",
     "status": "completed"
    },
    "tags": []
   },
   "outputs": [
    {
     "data": {
      "text/html": [
       "<div>\n",
       "<style scoped>\n",
       "    .dataframe tbody tr th:only-of-type {\n",
       "        vertical-align: middle;\n",
       "    }\n",
       "\n",
       "    .dataframe tbody tr th {\n",
       "        vertical-align: top;\n",
       "    }\n",
       "\n",
       "    .dataframe thead th {\n",
       "        text-align: right;\n",
       "    }\n",
       "</style>\n",
       "<table border=\"1\" class=\"dataframe\">\n",
       "  <thead>\n",
       "    <tr style=\"text-align: right;\">\n",
       "      <th></th>\n",
       "      <th>competitorname</th>\n",
       "      <th>chocolate</th>\n",
       "      <th>fruity</th>\n",
       "      <th>caramel</th>\n",
       "      <th>peanutyalmondy</th>\n",
       "      <th>nougat</th>\n",
       "      <th>crispedricewafer</th>\n",
       "      <th>hard</th>\n",
       "      <th>bar</th>\n",
       "      <th>pluribus</th>\n",
       "      <th>sugarpercent</th>\n",
       "      <th>pricepercent</th>\n",
       "      <th>winpercent</th>\n",
       "    </tr>\n",
       "    <tr>\n",
       "      <th>id</th>\n",
       "      <th></th>\n",
       "      <th></th>\n",
       "      <th></th>\n",
       "      <th></th>\n",
       "      <th></th>\n",
       "      <th></th>\n",
       "      <th></th>\n",
       "      <th></th>\n",
       "      <th></th>\n",
       "      <th></th>\n",
       "      <th></th>\n",
       "      <th></th>\n",
       "      <th></th>\n",
       "    </tr>\n",
       "  </thead>\n",
       "  <tbody>\n",
       "    <tr>\n",
       "      <th>0</th>\n",
       "      <td>100 Grand</td>\n",
       "      <td>Yes</td>\n",
       "      <td>No</td>\n",
       "      <td>Yes</td>\n",
       "      <td>No</td>\n",
       "      <td>No</td>\n",
       "      <td>Yes</td>\n",
       "      <td>No</td>\n",
       "      <td>Yes</td>\n",
       "      <td>No</td>\n",
       "      <td>0.732</td>\n",
       "      <td>0.860</td>\n",
       "      <td>66.971725</td>\n",
       "    </tr>\n",
       "    <tr>\n",
       "      <th>1</th>\n",
       "      <td>3 Musketeers</td>\n",
       "      <td>Yes</td>\n",
       "      <td>No</td>\n",
       "      <td>No</td>\n",
       "      <td>No</td>\n",
       "      <td>Yes</td>\n",
       "      <td>No</td>\n",
       "      <td>No</td>\n",
       "      <td>Yes</td>\n",
       "      <td>No</td>\n",
       "      <td>0.604</td>\n",
       "      <td>0.511</td>\n",
       "      <td>67.602936</td>\n",
       "    </tr>\n",
       "    <tr>\n",
       "      <th>2</th>\n",
       "      <td>Air Heads</td>\n",
       "      <td>No</td>\n",
       "      <td>Yes</td>\n",
       "      <td>No</td>\n",
       "      <td>No</td>\n",
       "      <td>No</td>\n",
       "      <td>No</td>\n",
       "      <td>No</td>\n",
       "      <td>No</td>\n",
       "      <td>No</td>\n",
       "      <td>0.906</td>\n",
       "      <td>0.511</td>\n",
       "      <td>52.341465</td>\n",
       "    </tr>\n",
       "    <tr>\n",
       "      <th>3</th>\n",
       "      <td>Almond Joy</td>\n",
       "      <td>Yes</td>\n",
       "      <td>No</td>\n",
       "      <td>No</td>\n",
       "      <td>Yes</td>\n",
       "      <td>No</td>\n",
       "      <td>No</td>\n",
       "      <td>No</td>\n",
       "      <td>Yes</td>\n",
       "      <td>No</td>\n",
       "      <td>0.465</td>\n",
       "      <td>0.767</td>\n",
       "      <td>50.347546</td>\n",
       "    </tr>\n",
       "    <tr>\n",
       "      <th>4</th>\n",
       "      <td>Baby Ruth</td>\n",
       "      <td>Yes</td>\n",
       "      <td>No</td>\n",
       "      <td>Yes</td>\n",
       "      <td>Yes</td>\n",
       "      <td>Yes</td>\n",
       "      <td>No</td>\n",
       "      <td>No</td>\n",
       "      <td>Yes</td>\n",
       "      <td>No</td>\n",
       "      <td>0.604</td>\n",
       "      <td>0.767</td>\n",
       "      <td>56.914547</td>\n",
       "    </tr>\n",
       "  </tbody>\n",
       "</table>\n",
       "</div>"
      ],
      "text/plain": [
       "   competitorname chocolate fruity caramel peanutyalmondy nougat  \\\n",
       "id                                                                 \n",
       "0       100 Grand       Yes     No     Yes             No     No   \n",
       "1    3 Musketeers       Yes     No      No             No    Yes   \n",
       "2       Air Heads        No    Yes      No             No     No   \n",
       "3      Almond Joy       Yes     No      No            Yes     No   \n",
       "4       Baby Ruth       Yes     No     Yes            Yes    Yes   \n",
       "\n",
       "   crispedricewafer hard  bar pluribus  sugarpercent  pricepercent  winpercent  \n",
       "id                                                                              \n",
       "0               Yes   No  Yes       No         0.732         0.860   66.971725  \n",
       "1                No   No  Yes       No         0.604         0.511   67.602936  \n",
       "2                No   No   No       No         0.906         0.511   52.341465  \n",
       "3                No   No  Yes       No         0.465         0.767   50.347546  \n",
       "4                No   No  Yes       No         0.604         0.767   56.914547  "
      ]
     },
     "execution_count": 5,
     "metadata": {},
     "output_type": "execute_result"
    }
   ],
   "source": [
    "# Print the first five rows of the data\n",
    "candy_data.head() # Your code here"
   ]
  },
  {
   "cell_type": "markdown",
   "id": "fe8b1a20",
   "metadata": {
    "papermill": {
     "duration": 0.005794,
     "end_time": "2025-05-22T08:22:27.177005",
     "exception": false,
     "start_time": "2025-05-22T08:22:27.171211",
     "status": "completed"
    },
    "tags": []
   },
   "source": [
    "The dataset contains 83 rows, where each corresponds to a different candy bar.  There are 13 columns:\n",
    "- `'competitorname'` contains the name of the candy bar. \n",
    "- the next **9** columns (from `'chocolate'` to `'pluribus'`) describe the candy.  For instance, rows with chocolate candies have `\"Yes\"` in the `'chocolate'` column (and candies without chocolate have `\"No\"` in the same column).\n",
    "- `'sugarpercent'` provides some indication of the amount of sugar, where higher values signify higher sugar content.\n",
    "- `'pricepercent'` shows the price per unit, relative to the other candies in the dataset.\n",
    "- `'winpercent'` is calculated from the survey results; higher values indicate that the candy was more popular with survey respondents.\n",
    "\n",
    "Use the first five rows of the data to answer the questions below."
   ]
  },
  {
   "cell_type": "code",
   "execution_count": 6,
   "id": "b2859867",
   "metadata": {
    "execution": {
     "iopub.execute_input": "2025-05-22T08:22:27.190324Z",
     "iopub.status.busy": "2025-05-22T08:22:27.189623Z",
     "iopub.status.idle": "2025-05-22T08:22:27.196251Z",
     "shell.execute_reply": "2025-05-22T08:22:27.195504Z"
    },
    "papermill": {
     "duration": 0.014506,
     "end_time": "2025-05-22T08:22:27.197505",
     "exception": false,
     "start_time": "2025-05-22T08:22:27.182999",
     "status": "completed"
    },
    "tags": []
   },
   "outputs": [
    {
     "data": {
      "application/javascript": [
       "parent.postMessage({\"jupyterEvent\": \"custom.exercise_interaction\", \"data\": {\"outcomeType\": 1, \"valueTowardsCompletion\": 0.3333333333333333, \"interactionType\": 1, \"questionType\": 1, \"questionId\": \"2_ReviewData\", \"learnToolsVersion\": \"0.3.5\", \"failureMessage\": \"\", \"exceptionClass\": \"\", \"trace\": \"\"}}, \"*\")"
      ],
      "text/plain": [
       "<IPython.core.display.Javascript object>"
      ]
     },
     "metadata": {},
     "output_type": "display_data"
    },
    {
     "data": {
      "text/markdown": [
       "<span style=\"color:#33cc33\">Correct</span>"
      ],
      "text/plain": [
       "Correct"
      ]
     },
     "metadata": {},
     "output_type": "display_data"
    }
   ],
   "source": [
    "# Fill in the line below: Which candy was more popular with survey respondents:\n",
    "# '3 Musketeers' or 'Almond Joy'?  (Please enclose your answer in single quotes.)\n",
    "more_popular = '3 Musketeers'\n",
    "\n",
    "# Fill in the line below: Which candy has higher sugar content: 'Air Heads'\n",
    "# or 'Baby Ruth'? (Please enclose your answer in single quotes.)\n",
    "more_sugar = 'Air Heads'\n",
    "\n",
    "# Check your answers\n",
    "step_2.check()"
   ]
  },
  {
   "cell_type": "code",
   "execution_count": 7,
   "id": "b9252c1b",
   "metadata": {
    "execution": {
     "iopub.execute_input": "2025-05-22T08:22:27.211005Z",
     "iopub.status.busy": "2025-05-22T08:22:27.210334Z",
     "iopub.status.idle": "2025-05-22T08:22:27.213817Z",
     "shell.execute_reply": "2025-05-22T08:22:27.213076Z"
    },
    "papermill": {
     "duration": 0.011477,
     "end_time": "2025-05-22T08:22:27.215141",
     "exception": false,
     "start_time": "2025-05-22T08:22:27.203664",
     "status": "completed"
    },
    "tags": []
   },
   "outputs": [],
   "source": [
    "# Lines below will give you a hint or solution code\n",
    "#step_2.hint()\n",
    "#step_2.solution()"
   ]
  },
  {
   "cell_type": "markdown",
   "id": "5cbea16e",
   "metadata": {
    "papermill": {
     "duration": 0.005819,
     "end_time": "2025-05-22T08:22:27.227044",
     "exception": false,
     "start_time": "2025-05-22T08:22:27.221225",
     "status": "completed"
    },
    "tags": []
   },
   "source": [
    "## Step 3: The role of sugar\n",
    "\n",
    "Do people tend to prefer candies with higher sugar content?  \n",
    "\n",
    "#### Part A\n",
    "\n",
    "Create a scatter plot that shows the relationship between `'sugarpercent'` (on the horizontal x-axis) and `'winpercent'` (on the vertical y-axis).  _Don't add a regression line just yet -- you'll do that in the next step!_"
   ]
  },
  {
   "cell_type": "code",
   "execution_count": 8,
   "id": "30d64264",
   "metadata": {
    "execution": {
     "iopub.execute_input": "2025-05-22T08:22:27.240583Z",
     "iopub.status.busy": "2025-05-22T08:22:27.240001Z",
     "iopub.status.idle": "2025-05-22T08:22:27.619564Z",
     "shell.execute_reply": "2025-05-22T08:22:27.618748Z"
    },
    "papermill": {
     "duration": 0.387848,
     "end_time": "2025-05-22T08:22:27.621003",
     "exception": false,
     "start_time": "2025-05-22T08:22:27.233155",
     "status": "completed"
    },
    "tags": []
   },
   "outputs": [
    {
     "data": {
      "application/javascript": [
       "parent.postMessage({\"jupyterEvent\": \"custom.exercise_interaction\", \"data\": {\"outcomeType\": 1, \"valueTowardsCompletion\": 0.3333333333333333, \"interactionType\": 1, \"questionType\": 2, \"questionId\": \"3.1_PlotBlueScatter\", \"learnToolsVersion\": \"0.3.5\", \"failureMessage\": \"\", \"exceptionClass\": \"\", \"trace\": \"\"}}, \"*\")"
      ],
      "text/plain": [
       "<IPython.core.display.Javascript object>"
      ]
     },
     "metadata": {},
     "output_type": "display_data"
    },
    {
     "data": {
      "text/markdown": [
       "<span style=\"color:#33cc33\">Correct</span>"
      ],
      "text/plain": [
       "Correct"
      ]
     },
     "metadata": {},
     "output_type": "display_data"
    },
    {
     "data": {
      "image/png": "[encoded data removed]",
      "text/plain": [
       "<Figure size 640x480 with 1 Axes>"
      ]
     },
     "metadata": {},
     "output_type": "display_data"
    }
   ],
   "source": [
    "# Scatter plot showing the relationship between 'sugarpercent' and 'winpercent'\n",
    "sns.scatterplot(x=candy_data.sugarpercent, y=candy_data.winpercent) # Your code here\n",
    "\n",
    "# Check your answer\n",
    "step_3.a.check()"
   ]
  },
  {
   "cell_type": "code",
   "execution_count": 9,
   "id": "548798f0",
   "metadata": {
    "execution": {
     "iopub.execute_input": "2025-05-22T08:22:27.636341Z",
     "iopub.status.busy": "2025-05-22T08:22:27.635700Z",
     "iopub.status.idle": "2025-05-22T08:22:27.639210Z",
     "shell.execute_reply": "2025-05-22T08:22:27.638478Z"
    },
    "papermill": {
     "duration": 0.012398,
     "end_time": "2025-05-22T08:22:27.640582",
     "exception": false,
     "start_time": "2025-05-22T08:22:27.628184",
     "status": "completed"
    },
    "tags": []
   },
   "outputs": [],
   "source": [
    "# Lines below will give you a hint or solution code\n",
    "#step_3.a.hint()\n",
    "#step_3.a.solution_plot()"
   ]
  },
  {
   "cell_type": "markdown",
   "id": "dc05798d",
   "metadata": {
    "papermill": {
     "duration": 0.006552,
     "end_time": "2025-05-22T08:22:27.654498",
     "exception": false,
     "start_time": "2025-05-22T08:22:27.647946",
     "status": "completed"
    },
    "tags": []
   },
   "source": [
    "#### Part B\n",
    "\n",
    "Does the scatter plot show a **strong** correlation between the two variables?  If so, are candies with more sugar relatively more or less popular with the survey respondents?"
   ]
  },
  {
   "cell_type": "code",
   "execution_count": 10,
   "id": "fcea04cc",
   "metadata": {
    "execution": {
     "iopub.execute_input": "2025-05-22T08:22:27.669622Z",
     "iopub.status.busy": "2025-05-22T08:22:27.668983Z",
     "iopub.status.idle": "2025-05-22T08:22:27.672368Z",
     "shell.execute_reply": "2025-05-22T08:22:27.671725Z"
    },
    "papermill": {
     "duration": 0.012237,
     "end_time": "2025-05-22T08:22:27.673587",
     "exception": false,
     "start_time": "2025-05-22T08:22:27.661350",
     "status": "completed"
    },
    "tags": []
   },
   "outputs": [],
   "source": [
    "#step_3.b.hint()\n",
    "#no"
   ]
  },
  {
   "cell_type": "code",
   "execution_count": 11,
   "id": "dc4ecc9c",
   "metadata": {
    "execution": {
     "iopub.execute_input": "2025-05-22T08:22:27.688575Z",
     "iopub.status.busy": "2025-05-22T08:22:27.687990Z",
     "iopub.status.idle": "2025-05-22T08:22:27.694292Z",
     "shell.execute_reply": "2025-05-22T08:22:27.693551Z"
    },
    "papermill": {
     "duration": 0.015078,
     "end_time": "2025-05-22T08:22:27.695617",
     "exception": false,
     "start_time": "2025-05-22T08:22:27.680539",
     "status": "completed"
    },
    "tags": []
   },
   "outputs": [
    {
     "data": {
      "application/javascript": [
       "parent.postMessage({\"jupyterEvent\": \"custom.exercise_interaction\", \"data\": {\"interactionType\": 3, \"questionType\": 4, \"questionId\": \"3.2_ThinkBlueScatter\", \"learnToolsVersion\": \"0.3.5\", \"valueTowardsCompletion\": 0.0, \"failureMessage\": \"\", \"exceptionClass\": \"\", \"trace\": \"\", \"outcomeType\": 4}}, \"*\")"
      ],
      "text/plain": [
       "<IPython.core.display.Javascript object>"
      ]
     },
     "metadata": {},
     "output_type": "display_data"
    },
    {
     "data": {
      "text/markdown": [
       "<span style=\"color:#33cc99\">Solution:</span> The scatter plot does not show a strong correlation between the two variables. Since there is no clear relationship between the two variables, this tells us that sugar content does not play a strong role in candy popularity."
      ],
      "text/plain": [
       "Solution: The scatter plot does not show a strong correlation between the two variables. Since there is no clear relationship between the two variables, this tells us that sugar content does not play a strong role in candy popularity."
      ]
     },
     "metadata": {},
     "output_type": "display_data"
    }
   ],
   "source": [
    "# Check your answer (Run this code cell to receive credit!)\n",
    "step_3.b.solution()"
   ]
  },
  {
   "cell_type": "markdown",
   "id": "a871cd80",
   "metadata": {
    "papermill": {
     "duration": 0.006695,
     "end_time": "2025-05-22T08:22:27.710479",
     "exception": false,
     "start_time": "2025-05-22T08:22:27.703784",
     "status": "completed"
    },
    "tags": []
   },
   "source": [
    "## Step 4: Take a closer look\n",
    "\n",
    "#### Part A\n",
    "\n",
    "Create the same scatter plot you created in **Step 3**, but now with a regression line!"
   ]
  },
  {
   "cell_type": "code",
   "execution_count": 12,
   "id": "31399551",
   "metadata": {
    "execution": {
     "iopub.execute_input": "2025-05-22T08:22:27.725290Z",
     "iopub.status.busy": "2025-05-22T08:22:27.725005Z",
     "iopub.status.idle": "2025-05-22T08:22:28.021783Z",
     "shell.execute_reply": "2025-05-22T08:22:28.021054Z"
    },
    "papermill": {
     "duration": 0.306067,
     "end_time": "2025-05-22T08:22:28.023383",
     "exception": false,
     "start_time": "2025-05-22T08:22:27.717316",
     "status": "completed"
    },
    "tags": []
   },
   "outputs": [
    {
     "data": {
      "application/javascript": [
       "parent.postMessage({\"jupyterEvent\": \"custom.exercise_interaction\", \"data\": {\"outcomeType\": 1, \"valueTowardsCompletion\": 0.3333333333333333, \"interactionType\": 1, \"questionType\": 2, \"questionId\": \"4.1_PlotBlueReg\", \"learnToolsVersion\": \"0.3.5\", \"failureMessage\": \"\", \"exceptionClass\": \"\", \"trace\": \"\"}}, \"*\")"
      ],
      "text/plain": [
       "<IPython.core.display.Javascript object>"
      ]
     },
     "metadata": {},
     "output_type": "display_data"
    },
    {
     "data": {
      "text/markdown": [
       "<span style=\"color:#33cc33\">Correct</span>"
      ],
      "text/plain": [
       "Correct"
      ]
     },
     "metadata": {},
     "output_type": "display_data"
    },
    {
     "data": {
      "image/png": "[encoded data removed]",
      "text/plain": [
       "<Figure size 640x480 with 1 Axes>"
      ]
     },
     "metadata": {},
     "output_type": "display_data"
    }
   ],
   "source": [
    "# Scatter plot w/ regression line showing the relationship between 'sugarpercent' and 'winpercent'\n",
    "sns.regplot(x=candy_data.sugarpercent, y=candy_data.winpercent) # Your code here\n",
    "\n",
    "# Check your answer\n",
    "step_4.a.check()"
   ]
  },
  {
   "cell_type": "code",
   "execution_count": 13,
   "id": "0ac5e285",
   "metadata": {
    "execution": {
     "iopub.execute_input": "2025-05-22T08:22:28.040467Z",
     "iopub.status.busy": "2025-05-22T08:22:28.040179Z",
     "iopub.status.idle": "2025-05-22T08:22:28.043575Z",
     "shell.execute_reply": "2025-05-22T08:22:28.042961Z"
    },
    "papermill": {
     "duration": 0.013319,
     "end_time": "2025-05-22T08:22:28.044743",
     "exception": false,
     "start_time": "2025-05-22T08:22:28.031424",
     "status": "completed"
    },
    "tags": []
   },
   "outputs": [],
   "source": [
    "# Lines below will give you a hint or solution code\n",
    "#step_4.a.hint()\n",
    "#step_4.a.solution_plot()"
   ]
  },
  {
   "cell_type": "markdown",
   "id": "297bd916",
   "metadata": {
    "papermill": {
     "duration": 0.007272,
     "end_time": "2025-05-22T08:22:28.060012",
     "exception": false,
     "start_time": "2025-05-22T08:22:28.052740",
     "status": "completed"
    },
    "tags": []
   },
   "source": [
    "#### Part B\n",
    "\n",
    "According to the plot above, is there a **slight** correlation between `'winpercent'` and `'sugarpercent'`?  What does this tell you about the candy that people tend to prefer?"
   ]
  },
  {
   "cell_type": "code",
   "execution_count": 14,
   "id": "e11db54b",
   "metadata": {
    "execution": {
     "iopub.execute_input": "2025-05-22T08:22:28.076011Z",
     "iopub.status.busy": "2025-05-22T08:22:28.075686Z",
     "iopub.status.idle": "2025-05-22T08:22:28.079129Z",
     "shell.execute_reply": "2025-05-22T08:22:28.078491Z"
    },
    "papermill": {
     "duration": 0.012986,
     "end_time": "2025-05-22T08:22:28.080397",
     "exception": false,
     "start_time": "2025-05-22T08:22:28.067411",
     "status": "completed"
    },
    "tags": []
   },
   "outputs": [],
   "source": [
    "#step_4.b.hint()"
   ]
  },
  {
   "cell_type": "code",
   "execution_count": 15,
   "id": "bbd96f53",
   "metadata": {
    "execution": {
     "iopub.execute_input": "2025-05-22T08:22:28.096982Z",
     "iopub.status.busy": "2025-05-22T08:22:28.096620Z",
     "iopub.status.idle": "2025-05-22T08:22:28.103562Z",
     "shell.execute_reply": "2025-05-22T08:22:28.102772Z"
    },
    "papermill": {
     "duration": 0.016591,
     "end_time": "2025-05-22T08:22:28.104814",
     "exception": false,
     "start_time": "2025-05-22T08:22:28.088223",
     "status": "completed"
    },
    "tags": []
   },
   "outputs": [
    {
     "data": {
      "application/javascript": [
       "parent.postMessage({\"jupyterEvent\": \"custom.exercise_interaction\", \"data\": {\"interactionType\": 3, \"questionType\": 4, \"questionId\": \"4.2_ThinkBlueReg\", \"learnToolsVersion\": \"0.3.5\", \"valueTowardsCompletion\": 0.0, \"failureMessage\": \"\", \"exceptionClass\": \"\", \"trace\": \"\", \"outcomeType\": 4}}, \"*\")"
      ],
      "text/plain": [
       "<IPython.core.display.Javascript object>"
      ]
     },
     "metadata": {},
     "output_type": "display_data"
    },
    {
     "data": {
      "text/markdown": [
       "<span style=\"color:#33cc99\">Solution:</span> Since the regression line has a slightly positive slope, this tells us that there is a slightly positive correlation between `'winpercent'` and `'sugarpercent'`. Thus, people have a slight preference for candies containing relatively more sugar."
      ],
      "text/plain": [
       "Solution: Since the regression line has a slightly positive slope, this tells us that there is a slightly positive correlation between `'winpercent'` and `'sugarpercent'`. Thus, people have a slight preference for candies containing relatively more sugar."
      ]
     },
     "metadata": {},
     "output_type": "display_data"
    }
   ],
   "source": [
    "# Check your answer (Run this code cell to receive credit!)\n",
    "step_4.b.solution()"
   ]
  },
  {
   "cell_type": "markdown",
   "id": "0ac54f2e",
   "metadata": {
    "papermill": {
     "duration": 0.007652,
     "end_time": "2025-05-22T08:22:28.120285",
     "exception": false,
     "start_time": "2025-05-22T08:22:28.112633",
     "status": "completed"
    },
    "tags": []
   },
   "source": [
    "## Step 5: Chocolate!\n",
    "\n",
    "In the code cell below, create a scatter plot to show the relationship between `'pricepercent'` (on the horizontal x-axis) and `'winpercent'` (on the vertical y-axis). Use the `'chocolate'` column to color-code the points.  _Don't add any regression lines just yet -- you'll do that in the next step!_"
   ]
  },
  {
   "cell_type": "code",
   "execution_count": 16,
   "id": "ccd9b66c",
   "metadata": {
    "execution": {
     "iopub.execute_input": "2025-05-22T08:22:28.137356Z",
     "iopub.status.busy": "2025-05-22T08:22:28.136692Z",
     "iopub.status.idle": "2025-05-22T08:22:28.379095Z",
     "shell.execute_reply": "2025-05-22T08:22:28.378327Z"
    },
    "papermill": {
     "duration": 0.252677,
     "end_time": "2025-05-22T08:22:28.380798",
     "exception": false,
     "start_time": "2025-05-22T08:22:28.128121",
     "status": "completed"
    },
    "tags": []
   },
   "outputs": [
    {
     "data": {
      "application/javascript": [
       "parent.postMessage({\"jupyterEvent\": \"custom.exercise_interaction\", \"data\": {\"outcomeType\": 1, \"valueTowardsCompletion\": 0.3333333333333333, \"interactionType\": 1, \"questionType\": 2, \"questionId\": \"5_ColorScatter\", \"learnToolsVersion\": \"0.3.5\", \"failureMessage\": \"\", \"exceptionClass\": \"\", \"trace\": \"\"}}, \"*\")"
      ],
      "text/plain": [
       "<IPython.core.display.Javascript object>"
      ]
     },
     "metadata": {},
     "output_type": "display_data"
    },
    {
     "data": {
      "text/markdown": [
       "<span style=\"color:#33cc33\">Correct</span>"
      ],
      "text/plain": [
       "Correct"
      ]
     },
     "metadata": {},
     "output_type": "display_data"
    },
    {
     "data": {
      "image/png": "[encoded data removed]",
      "text/plain": [
       "<Figure size 640x480 with 1 Axes>"
      ]
     },
     "metadata": {},
     "output_type": "display_data"
    }
   ],
   "source": [
    "# Scatter plot showing the relationship between 'pricepercent', 'winpercent', and 'chocolate'\n",
    "sns.scatterplot(x=candy_data.pricepercent, y=candy_data.winpercent, hue=candy_data.chocolate) # Your code here\n",
    "\n",
    "# Check your answer\n",
    "step_5.check()"
   ]
  },
  {
   "cell_type": "code",
   "execution_count": 17,
   "id": "92c31642",
   "metadata": {
    "execution": {
     "iopub.execute_input": "2025-05-22T08:22:28.399004Z",
     "iopub.status.busy": "2025-05-22T08:22:28.398696Z",
     "iopub.status.idle": "2025-05-22T08:22:28.402348Z",
     "shell.execute_reply": "2025-05-22T08:22:28.401566Z"
    },
    "papermill": {
     "duration": 0.014182,
     "end_time": "2025-05-22T08:22:28.403703",
     "exception": false,
     "start_time": "2025-05-22T08:22:28.389521",
     "status": "completed"
    },
    "tags": []
   },
   "outputs": [],
   "source": [
    "# Lines below will give you a hint or solution code\n",
    "#step_5.hint()\n",
    "#step_5.solution_plot()"
   ]
  },
  {
   "cell_type": "markdown",
   "id": "a7ee349a",
   "metadata": {
    "papermill": {
     "duration": 0.00837,
     "end_time": "2025-05-22T08:22:28.420740",
     "exception": false,
     "start_time": "2025-05-22T08:22:28.412370",
     "status": "completed"
    },
    "tags": []
   },
   "source": [
    "Can you see any interesting patterns in the scatter plot?  We'll investigate this plot further  by adding regression lines in the next step!\n",
    "\n",
    "## Step 6: Investigate chocolate\n",
    "\n",
    "#### Part A\n",
    "\n",
    "Create the same scatter plot you created in **Step 5**, but now with two regression lines, corresponding to (1) chocolate candies and (2) candies without chocolate."
   ]
  },
  {
   "cell_type": "code",
   "execution_count": 18,
   "id": "1fd0447f",
   "metadata": {
    "execution": {
     "iopub.execute_input": "2025-05-22T08:22:28.502272Z",
     "iopub.status.busy": "2025-05-22T08:22:28.501634Z",
     "iopub.status.idle": "2025-05-22T08:22:29.077502Z",
     "shell.execute_reply": "2025-05-22T08:22:29.076683Z"
    },
    "papermill": {
     "duration": 0.649762,
     "end_time": "2025-05-22T08:22:29.078985",
     "exception": false,
     "start_time": "2025-05-22T08:22:28.429223",
     "status": "completed"
    },
    "tags": []
   },
   "outputs": [
    {
     "data": {
      "application/javascript": [
       "parent.postMessage({\"jupyterEvent\": \"custom.exercise_interaction\", \"data\": {\"outcomeType\": 1, \"valueTowardsCompletion\": 0.3333333333333333, \"interactionType\": 1, \"questionType\": 2, \"questionId\": \"6.1_PlotColorReg\", \"learnToolsVersion\": \"0.3.5\", \"failureMessage\": \"\", \"exceptionClass\": \"\", \"trace\": \"\"}}, \"*\")"
      ],
      "text/plain": [
       "<IPython.core.display.Javascript object>"
      ]
     },
     "metadata": {},
     "output_type": "display_data"
    },
    {
     "data": {
      "text/markdown": [
       "<span style=\"color:#33cc33\">Correct</span>"
      ],
      "text/plain": [
       "Correct"
      ]
     },
     "metadata": {},
     "output_type": "display_data"
    },
    {
     "data": {
      "image/png": "[encoded data removed]",
      "text/plain": [
       "<Figure size 578.611x500 with 1 Axes>"
      ]
     },
     "metadata": {},
     "output_type": "display_data"
    }
   ],
   "source": [
    "# Color-coded scatter plot w/ regression lines\n",
    "sns.lmplot(data=candy_data, x=\"pricepercent\", y=\"winpercent\", hue=\"chocolate\") # Your code here\n",
    "\n",
    "# Check your answer\n",
    "step_6.a.check()"
   ]
  },
  {
   "cell_type": "code",
   "execution_count": 19,
   "id": "82e6e886",
   "metadata": {
    "execution": {
     "iopub.execute_input": "2025-05-22T08:22:29.099702Z",
     "iopub.status.busy": "2025-05-22T08:22:29.099342Z",
     "iopub.status.idle": "2025-05-22T08:22:29.102705Z",
     "shell.execute_reply": "2025-05-22T08:22:29.102128Z"
    },
    "papermill": {
     "duration": 0.014889,
     "end_time": "2025-05-22T08:22:29.103814",
     "exception": false,
     "start_time": "2025-05-22T08:22:29.088925",
     "status": "completed"
    },
    "tags": []
   },
   "outputs": [],
   "source": [
    "# Lines below will give you a hint or solution code\n",
    "#step_6.a.hint()\n",
    "#step_6.a.solution_plot()"
   ]
  },
  {
   "cell_type": "markdown",
   "id": "8e4f3705",
   "metadata": {
    "papermill": {
     "duration": 0.009166,
     "end_time": "2025-05-22T08:22:29.122366",
     "exception": false,
     "start_time": "2025-05-22T08:22:29.113200",
     "status": "completed"
    },
    "tags": []
   },
   "source": [
    "#### Part B\n",
    "\n",
    "Using the regression lines, what conclusions can you draw about the effects of chocolate and price on candy popularity?"
   ]
  },
  {
   "cell_type": "code",
   "execution_count": 20,
   "id": "55308380",
   "metadata": {
    "execution": {
     "iopub.execute_input": "2025-05-22T08:22:29.143072Z",
     "iopub.status.busy": "2025-05-22T08:22:29.142172Z",
     "iopub.status.idle": "2025-05-22T08:22:29.146138Z",
     "shell.execute_reply": "2025-05-22T08:22:29.145324Z"
    },
    "papermill": {
     "duration": 0.015612,
     "end_time": "2025-05-22T08:22:29.147387",
     "exception": false,
     "start_time": "2025-05-22T08:22:29.131775",
     "status": "completed"
    },
    "tags": []
   },
   "outputs": [],
   "source": [
    "#step_6.b.hint()"
   ]
  },
  {
   "cell_type": "code",
   "execution_count": 21,
   "id": "cb2972e3",
   "metadata": {
    "execution": {
     "iopub.execute_input": "2025-05-22T08:22:29.167718Z",
     "iopub.status.busy": "2025-05-22T08:22:29.167416Z",
     "iopub.status.idle": "2025-05-22T08:22:29.173932Z",
     "shell.execute_reply": "2025-05-22T08:22:29.173207Z"
    },
    "papermill": {
     "duration": 0.018468,
     "end_time": "2025-05-22T08:22:29.175414",
     "exception": false,
     "start_time": "2025-05-22T08:22:29.156946",
     "status": "completed"
    },
    "tags": []
   },
   "outputs": [
    {
     "data": {
      "application/javascript": [
       "parent.postMessage({\"jupyterEvent\": \"custom.exercise_interaction\", \"data\": {\"interactionType\": 3, \"questionType\": 4, \"questionId\": \"6.2_ThinkColorReg\", \"learnToolsVersion\": \"0.3.5\", \"valueTowardsCompletion\": 0.0, \"failureMessage\": \"\", \"exceptionClass\": \"\", \"trace\": \"\", \"outcomeType\": 4}}, \"*\")"
      ],
      "text/plain": [
       "<IPython.core.display.Javascript object>"
      ]
     },
     "metadata": {},
     "output_type": "display_data"
    },
    {
     "data": {
      "text/markdown": [
       "<span style=\"color:#33cc99\">Solution:</span> We'll begin with the regression line for chocolate candies. Since this line has a slightly positive slope, we can say that more expensive chocolate candies tend to be more popular (than relatively cheaper chocolate candies).  Likewise, since the regression line for candies without chocolate has a negative slope, we can say that if candies don't contain chocolate, they tend to be more popular when they are cheaper.  One important note, however, is that the dataset is quite small -- so we shouldn't invest too much trust in these patterns!  To inspire more confidence in the results, we should add more candies to the dataset."
      ],
      "text/plain": [
       "Solution: We'll begin with the regression line for chocolate candies. Since this line has a slightly positive slope, we can say that more expensive chocolate candies tend to be more popular (than relatively cheaper chocolate candies).  Likewise, since the regression line for candies without chocolate has a negative slope, we can say that if candies don't contain chocolate, they tend to be more popular when they are cheaper.  One important note, however, is that the dataset is quite small -- so we shouldn't invest too much trust in these patterns!  To inspire more confidence in the results, we should add more candies to the dataset."
      ]
     },
     "metadata": {},
     "output_type": "display_data"
    }
   ],
   "source": [
    "# Check your answer (Run this code cell to receive credit!)\n",
    "step_6.b.solution()"
   ]
  },
  {
   "cell_type": "markdown",
   "id": "2e5a97d3",
   "metadata": {
    "papermill": {
     "duration": 0.009819,
     "end_time": "2025-05-22T08:22:29.195585",
     "exception": false,
     "start_time": "2025-05-22T08:22:29.185766",
     "status": "completed"
    },
    "tags": []
   },
   "source": [
    "## Step 7: Everybody loves chocolate.\n",
    "\n",
    "#### Part A\n",
    "\n",
    "Create a categorical scatter plot to highlight the relationship between `'chocolate'` and `'winpercent'`.  Put `'chocolate'` on the (horizontal) x-axis, and `'winpercent'` on the (vertical) y-axis."
   ]
  },
  {
   "cell_type": "code",
   "execution_count": 22,
   "id": "339902cb",
   "metadata": {
    "execution": {
     "iopub.execute_input": "2025-05-22T08:22:29.217054Z",
     "iopub.status.busy": "2025-05-22T08:22:29.216441Z",
     "iopub.status.idle": "2025-05-22T08:22:29.451302Z",
     "shell.execute_reply": "2025-05-22T08:22:29.450441Z"
    },
    "papermill": {
     "duration": 0.247194,
     "end_time": "2025-05-22T08:22:29.452656",
     "exception": false,
     "start_time": "2025-05-22T08:22:29.205462",
     "status": "completed"
    },
    "tags": []
   },
   "outputs": [
    {
     "data": {
      "application/javascript": [
       "parent.postMessage({\"jupyterEvent\": \"custom.exercise_interaction\", \"data\": {\"outcomeType\": 1, \"valueTowardsCompletion\": 0.3333333333333333, \"interactionType\": 1, \"questionType\": 2, \"questionId\": \"7.1_PlotSwarm\", \"learnToolsVersion\": \"0.3.5\", \"failureMessage\": \"\", \"exceptionClass\": \"\", \"trace\": \"\"}}, \"*\")"
      ],
      "text/plain": [
       "<IPython.core.display.Javascript object>"
      ]
     },
     "metadata": {},
     "output_type": "display_data"
    },
    {
     "data": {
      "text/markdown": [
       "<span style=\"color:#33cc33\">Correct</span>"
      ],
      "text/plain": [
       "Correct"
      ]
     },
     "metadata": {},
     "output_type": "display_data"
    },
    {
     "data": {
      "image/png": "[encoded data removed]",
      "text/plain": [
       "<Figure size 640x480 with 1 Axes>"
      ]
     },
     "metadata": {},
     "output_type": "display_data"
    }
   ],
   "source": [
    "# Scatter plot showing the relationship between 'chocolate' and 'winpercent'\n",
    "sns.swarmplot(x=candy_data.chocolate, y=candy_data.winpercent) # Your code here\n",
    "\n",
    "# Check your answer\n",
    "step_7.a.check()"
   ]
  },
  {
   "cell_type": "code",
   "execution_count": 23,
   "id": "d0668c61",
   "metadata": {
    "execution": {
     "iopub.execute_input": "2025-05-22T08:22:29.474476Z",
     "iopub.status.busy": "2025-05-22T08:22:29.473755Z",
     "iopub.status.idle": "2025-05-22T08:22:29.477259Z",
     "shell.execute_reply": "2025-05-22T08:22:29.476594Z"
    },
    "papermill": {
     "duration": 0.01537,
     "end_time": "2025-05-22T08:22:29.478410",
     "exception": false,
     "start_time": "2025-05-22T08:22:29.463040",
     "status": "completed"
    },
    "tags": []
   },
   "outputs": [],
   "source": [
    "# Lines below will give you a hint or solution code\n",
    "#step_7.a.hint()\n",
    "#step_7.a.solution_plot()"
   ]
  },
  {
   "cell_type": "markdown",
   "id": "f8167918",
   "metadata": {
    "papermill": {
     "duration": 0.009838,
     "end_time": "2025-05-22T08:22:29.498184",
     "exception": false,
     "start_time": "2025-05-22T08:22:29.488346",
     "status": "completed"
    },
    "tags": []
   },
   "source": [
    "#### Part B\n",
    "\n",
    "You decide to dedicate a section of your report to the fact that chocolate candies tend to be more popular than candies without chocolate.  Which plot is more appropriate to tell this story: the plot from **Step 6**, or the plot from **Step 7**?"
   ]
  },
  {
   "cell_type": "code",
   "execution_count": 24,
   "id": "174fa4f0",
   "metadata": {
    "execution": {
     "iopub.execute_input": "2025-05-22T08:22:29.519612Z",
     "iopub.status.busy": "2025-05-22T08:22:29.519012Z",
     "iopub.status.idle": "2025-05-22T08:22:29.522443Z",
     "shell.execute_reply": "2025-05-22T08:22:29.521668Z"
    },
    "papermill": {
     "duration": 0.015563,
     "end_time": "2025-05-22T08:22:29.523735",
     "exception": false,
     "start_time": "2025-05-22T08:22:29.508172",
     "status": "completed"
    },
    "tags": []
   },
   "outputs": [],
   "source": [
    "#step_7.b.hint()\n",
    "#step 7 is better"
   ]
  },
  {
   "cell_type": "code",
   "execution_count": 25,
   "id": "5cc11c8d",
   "metadata": {
    "execution": {
     "iopub.execute_input": "2025-05-22T08:22:29.545548Z",
     "iopub.status.busy": "2025-05-22T08:22:29.544868Z",
     "iopub.status.idle": "2025-05-22T08:22:29.551188Z",
     "shell.execute_reply": "2025-05-22T08:22:29.550440Z"
    },
    "papermill": {
     "duration": 0.018508,
     "end_time": "2025-05-22T08:22:29.552417",
     "exception": false,
     "start_time": "2025-05-22T08:22:29.533909",
     "status": "completed"
    },
    "tags": []
   },
   "outputs": [
    {
     "data": {
      "application/javascript": [
       "parent.postMessage({\"jupyterEvent\": \"custom.exercise_interaction\", \"data\": {\"interactionType\": 3, \"questionType\": 4, \"questionId\": \"7.2_ThinkSwarm\", \"learnToolsVersion\": \"0.3.5\", \"valueTowardsCompletion\": 0.0, \"failureMessage\": \"\", \"exceptionClass\": \"\", \"trace\": \"\", \"outcomeType\": 4}}, \"*\")"
      ],
      "text/plain": [
       "<IPython.core.display.Javascript object>"
      ]
     },
     "metadata": {},
     "output_type": "display_data"
    },
    {
     "data": {
      "text/markdown": [
       "<span style=\"color:#33cc99\">Solution:</span> In this case, the categorical scatter plot from **Step 7** is the more appropriate plot. While both plots tell the desired story, the plot from **Step 6** conveys far more information that could distract from the main point."
      ],
      "text/plain": [
       "Solution: In this case, the categorical scatter plot from **Step 7** is the more appropriate plot. While both plots tell the desired story, the plot from **Step 6** conveys far more information that could distract from the main point."
      ]
     },
     "metadata": {},
     "output_type": "display_data"
    }
   ],
   "source": [
    "# Check your answer (Run this code cell to receive credit!)\n",
    "step_7.b.solution()"
   ]
  },
  {
   "cell_type": "markdown",
   "id": "cfc44d1c",
   "metadata": {
    "papermill": {
     "duration": 0.00992,
     "end_time": "2025-05-22T08:22:29.572848",
     "exception": false,
     "start_time": "2025-05-22T08:22:29.562928",
     "status": "completed"
    },
    "tags": []
   },
   "source": [
    "## Keep going\n",
    "\n",
    "Explore **[histograms and density plots](https://www.kaggle.com/alexisbcook/distributions)**."
   ]
  },
  {
   "cell_type": "markdown",
   "id": "961dde50",
   "metadata": {
    "papermill": {
     "duration": 0.010187,
     "end_time": "2025-05-22T08:22:29.593302",
     "exception": false,
     "start_time": "2025-05-22T08:22:29.583115",
     "status": "completed"
    },
    "tags": []
   },
   "source": [
    "---\n",
    "\n",
    "\n",
    "\n",
    "\n",
    "*Have questions or comments? Visit the [course discussion forum](https://www.kaggle.com/learn/data-visualization/discussion) to chat with other learners.*"
   ]
  }
 ],
 "metadata": {
  "kaggle": {
   "accelerator": "none",
   "dataSources": [
    {
     "datasetId": 116573,
     "sourceId": 3551030,
     "sourceType": "datasetVersion"
    }
   ],
   "isGpuEnabled": false,
   "isInternetEnabled": false,
   "language": "python",
   "sourceType": "notebook"
  },
  "kernelspec": {
   "display_name": "Python 3",
   "language": "python",
   "name": "python3"
  },
  "language_info": {
   "codemirror_mode": {
    "name": "ipython",
    "version": 3
   },
   "file_extension": ".py",
   "mimetype": "text/x-python",
   "name": "python",
   "nbconvert_exporter": "python",
   "pygments_lexer": "ipython3",
   "version": "3.11.11"
  },
  "papermill": {
   "default_parameters": {},
   "duration": 11.227381,
   "end_time": "2025-05-22T08:22:30.222472",
   "environment_variables": {},
   "exception": null,
   "input_path": "__notebook__.ipynb",
   "output_path": "__notebook__.ipynb",
   "parameters": {},
   "start_time": "2025-05-22T08:22:18.995091",
   "version": "2.6.0"
  }
 },
 "nbformat": 4,
 "nbformat_minor": 5
}
