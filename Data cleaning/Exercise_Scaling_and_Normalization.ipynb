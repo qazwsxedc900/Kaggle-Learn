{
  "metadata": {
    "kernelspec": {
      "display_name": "Python 3",
      "language": "python",
      "name": "python3"
    },
    "language_info": {
      "name": "python",
      "version": "3.11.11",
      "mimetype": "text/x-python",
      "codemirror_mode": {
        "name": "ipython",
        "version": 3
      },
      "pygments_lexer": "ipython3",
      "nbconvert_exporter": "python",
      "file_extension": ".py"
    },
    "kaggle": {
      "accelerator": "none",
      "dataSources": [
        {
          "sourceId": 16930,
          "sourceType": "datasetVersion",
          "datasetId": 4104
        }
      ],
      "isInternetEnabled": false,
      "language": "python",
      "sourceType": "notebook",
      "isGpuEnabled": false
    },
    "colab": {
      "name": "Exercise: Scaling and Normalization",
      "provenance": []
    }
  },
  "nbformat_minor": 0,
  "nbformat": 4,
  "cells": [
    {
      "source": [
        "# IMPORTANT: RUN THIS CELL IN ORDER TO IMPORT YOUR KAGGLE DATA SOURCES,\n",
        "# THEN FEEL FREE TO DELETE THIS CELL.\n",
        "# NOTE: THIS NOTEBOOK ENVIRONMENT DIFFERS FROM KAGGLE'S PYTHON\n",
        "# ENVIRONMENT SO THERE MAY BE MISSING LIBRARIES USED BY YOUR\n",
        "# NOTEBOOK.\n",
        "import kagglehub\n",
        "kemical_kickstarter_projects_path = kagglehub.dataset_download('kemical/kickstarter-projects')\n",
        "\n",
        "print('Data source import complete.')\n"
      ],
      "metadata": {
        "id": "SZsVgEK3EAJf"
      },
      "cell_type": "code",
      "outputs": [],
      "execution_count": null
    },
    {
      "cell_type": "markdown",
      "source": [
        "**This notebook is an exercise in the [Data Cleaning](https://www.kaggle.com/learn/data-cleaning) course.  You can reference the tutorial at [this link](https://www.kaggle.com/alexisbcook/scaling-and-normalization).**\n",
        "\n",
        "---\n"
      ],
      "metadata": {
        "id": "QdJpoUEDEAJj"
      }
    },
    {
      "cell_type": "markdown",
      "source": [
        "In this exercise, you'll apply what you learned in the **Scaling and normalization** tutorial.\n",
        "\n",
        "# Setup\n",
        "\n",
        "The questions below will give you feedback on your work. Run the following cell to set up the feedback system."
      ],
      "metadata": {
        "id": "CZWlxD8wEAJk"
      }
    },
    {
      "cell_type": "code",
      "source": [
        "from learntools.core import binder\n",
        "binder.bind(globals())\n",
        "from learntools.data_cleaning.ex2 import *\n",
        "print(\"Setup Complete\")"
      ],
      "metadata": {
        "trusted": true,
        "execution": {
          "iopub.status.busy": "2025-04-13T06:45:46.432725Z",
          "iopub.execute_input": "2025-04-13T06:45:46.433015Z",
          "iopub.status.idle": "2025-04-13T06:45:54.026789Z",
          "shell.execute_reply.started": "2025-04-13T06:45:46.432992Z",
          "shell.execute_reply": "2025-04-13T06:45:54.025312Z"
        },
        "id": "NHINTNVfEAJk",
        "outputId": "d743dcba-262a-4177-be36-f32b60da90d4"
      },
      "outputs": [
        {
          "name": "stdout",
          "text": "Setup Complete\n",
          "output_type": "stream"
        }
      ],
      "execution_count": null
    },
    {
      "cell_type": "markdown",
      "source": [
        "# Get our environment set up\n",
        "\n",
        "To practice scaling and normalization, we're going to use a [dataset of Kickstarter campaigns](https://www.kaggle.com/kemical/kickstarter-projects). (Kickstarter is a website where people can ask people to invest in various projects and concept products.)\n",
        "\n",
        "The next code cell loads in the libraries and dataset we'll be using."
      ],
      "metadata": {
        "id": "8Ao5_lL2EAJl"
      }
    },
    {
      "cell_type": "code",
      "source": [
        "# modules we'll use\n",
        "import pandas as pd\n",
        "import numpy as np\n",
        "\n",
        "# for Box-Cox Transformation\n",
        "from scipy import stats\n",
        "\n",
        "# for min_max scaling\n",
        "from mlxtend.preprocessing import minmax_scaling\n",
        "\n",
        "# plotting modules\n",
        "import seaborn as sns\n",
        "import matplotlib.pyplot as plt\n",
        "\n",
        "# read in all our data\n",
        "kickstarters_2017 = pd.read_csv(\"../input/kickstarter-projects/ks-projects-201801.csv\")\n",
        "\n",
        "# set seed for reproducibility\n",
        "np.random.seed(0)"
      ],
      "metadata": {
        "trusted": true,
        "execution": {
          "iopub.status.busy": "2025-04-13T06:45:54.028368Z",
          "iopub.execute_input": "2025-04-13T06:45:54.028739Z",
          "iopub.status.idle": "2025-04-13T06:45:55.891773Z",
          "shell.execute_reply.started": "2025-04-13T06:45:54.028703Z",
          "shell.execute_reply": "2025-04-13T06:45:55.890692Z"
        },
        "id": "PaldL5n3EAJl"
      },
      "outputs": [],
      "execution_count": null
    },
    {
      "cell_type": "markdown",
      "source": [
        "Let's start by scaling the goals of each campaign, which is how much money they were asking for.  After scaling, all values lie between 0 and 1."
      ],
      "metadata": {
        "id": "oInWAbUhEAJm"
      }
    },
    {
      "cell_type": "code",
      "source": [
        "# select the usd_goal_real column\n",
        "original_data = pd.DataFrame(kickstarters_2017.usd_goal_real)\n",
        "\n",
        "# scale the goals from 0 to 1\n",
        "scaled_data = minmax_scaling(original_data, columns=['usd_goal_real'])\n",
        "\n",
        "print('Original data\\nPreview:\\n', original_data.head())\n",
        "print('Minimum value:', float(original_data.min()),\n",
        "      '\\nMaximum value:', float(original_data.max()))\n",
        "print('_'*30)\n",
        "\n",
        "print('\\nScaled data\\nPreview:\\n', scaled_data.head())\n",
        "print('Minimum value:', float(scaled_data.min()),\n",
        "      '\\nMaximum value:', float(scaled_data.max()))"
      ],
      "metadata": {
        "trusted": true,
        "execution": {
          "iopub.status.busy": "2025-04-13T06:46:04.991475Z",
          "iopub.execute_input": "2025-04-13T06:46:04.991923Z",
          "iopub.status.idle": "2025-04-13T06:46:05.041727Z",
          "shell.execute_reply.started": "2025-04-13T06:46:04.991895Z",
          "shell.execute_reply": "2025-04-13T06:46:05.040171Z"
        },
        "id": "Sl3pmHcvEAJm",
        "outputId": "a0a1090b-9bea-40c7-f2dd-f7c6a0a52655"
      },
      "outputs": [
        {
          "name": "stdout",
          "text": "Original data\nPreview:\n    usd_goal_real\n0        1533.95\n1       30000.00\n2       45000.00\n3        5000.00\n4       19500.00\nMinimum value: 0.01 \nMaximum value: 166361390.71\n______________________________\n\nScaled data\nPreview:\n    usd_goal_real\n0       0.000009\n1       0.000180\n2       0.000270\n3       0.000030\n4       0.000117\nMinimum value: 0.0 \nMaximum value: 1.0\n",
          "output_type": "stream"
        },
        {
          "name": "stderr",
          "text": "/tmp/ipykernel_31/93515903.py:8: FutureWarning: Calling float on a single element Series is deprecated and will raise a TypeError in the future. Use float(ser.iloc[0]) instead\n  print('Minimum value:', float(original_data.min()),\n/tmp/ipykernel_31/93515903.py:9: FutureWarning: Calling float on a single element Series is deprecated and will raise a TypeError in the future. Use float(ser.iloc[0]) instead\n  '\\nMaximum value:', float(original_data.max()))\n/tmp/ipykernel_31/93515903.py:13: FutureWarning: Calling float on a single element Series is deprecated and will raise a TypeError in the future. Use float(ser.iloc[0]) instead\n  print('Minimum value:', float(scaled_data.min()),\n/tmp/ipykernel_31/93515903.py:14: FutureWarning: Calling float on a single element Series is deprecated and will raise a TypeError in the future. Use float(ser.iloc[0]) instead\n  '\\nMaximum value:', float(scaled_data.max()))\n",
          "output_type": "stream"
        }
      ],
      "execution_count": null
    },
    {
      "cell_type": "markdown",
      "source": [
        "# 1) Practice scaling\n",
        "\n",
        "We just scaled the \"usd_goal_real\" column. What about the \"goal\" column?\n",
        "\n",
        "Begin by running the code cell below to create a DataFrame `original_goal_data` containing the \"goal\" column."
      ],
      "metadata": {
        "id": "PY1bRWztEAJn"
      }
    },
    {
      "cell_type": "code",
      "source": [
        "# select the usd_goal_real column\n",
        "original_goal_data = pd.DataFrame(kickstarters_2017.goal)"
      ],
      "metadata": {
        "trusted": true,
        "execution": {
          "iopub.status.busy": "2025-04-13T06:47:06.55252Z",
          "iopub.execute_input": "2025-04-13T06:47:06.552876Z",
          "iopub.status.idle": "2025-04-13T06:47:06.559518Z",
          "shell.execute_reply.started": "2025-04-13T06:47:06.552848Z",
          "shell.execute_reply": "2025-04-13T06:47:06.558438Z"
        },
        "id": "SRhluv2JEAJn"
      },
      "outputs": [],
      "execution_count": null
    },
    {
      "cell_type": "markdown",
      "source": [
        "Use `original_goal_data` to create a new DataFrame `scaled_goal_data` with values scaled between 0 and 1. You must use the `minmax_scaling()` function."
      ],
      "metadata": {
        "id": "yx2NuCMYEAJn"
      }
    },
    {
      "cell_type": "code",
      "source": [
        "# TODO: Your code here\n",
        "original_goal_data\n",
        "scaled_goal_data = minmax_scaling(original_goal_data, columns = ['goal'])\n",
        "scaled_goal_data\n",
        "\n",
        "# Check your answer\n",
        "q1.check()"
      ],
      "metadata": {
        "trusted": true,
        "execution": {
          "iopub.status.busy": "2025-04-13T06:49:24.364705Z",
          "iopub.execute_input": "2025-04-13T06:49:24.365277Z",
          "iopub.status.idle": "2025-04-13T06:49:24.401354Z",
          "shell.execute_reply.started": "2025-04-13T06:49:24.365221Z",
          "shell.execute_reply": "2025-04-13T06:49:24.399986Z"
        },
        "id": "NvU2ukerEAJn",
        "outputId": "cddd404d-7394-4dcc-9daf-b62103f6d0c0"
      },
      "outputs": [
        {
          "output_type": "display_data",
          "data": {
            "text/plain": "<IPython.core.display.Javascript object>",
            "application/javascript": "parent.postMessage({\"jupyterEvent\": \"custom.exercise_interaction\", \"data\": {\"outcomeType\": 1, \"valueTowardsCompletion\": 0.3333333333333333, \"interactionType\": 1, \"questionType\": 1, \"questionId\": \"1_TryScaling\", \"learnToolsVersion\": \"0.3.5\", \"failureMessage\": \"\", \"exceptionClass\": \"\", \"trace\": \"\"}}, \"*\")"
          },
          "metadata": {}
        },
        {
          "output_type": "display_data",
          "data": {
            "text/plain": "Correct",
            "text/markdown": "<span style=\"color:#33cc33\">Correct</span>"
          },
          "metadata": {}
        }
      ],
      "execution_count": null
    },
    {
      "cell_type": "code",
      "source": [
        "# Lines below will give you a hint or solution code\n",
        "#q1.hint()\n",
        "#q1.solution()\n",
        "original_goal_data\n",
        "scaled_goal_data = minmax_scaling(original_goal_data, columns = ['goal'])\n",
        "scaled_goal_data"
      ],
      "metadata": {
        "trusted": true,
        "execution": {
          "iopub.status.busy": "2025-04-13T06:49:16.900729Z",
          "iopub.execute_input": "2025-04-13T06:49:16.901061Z",
          "iopub.status.idle": "2025-04-13T06:49:16.929747Z",
          "shell.execute_reply.started": "2025-04-13T06:49:16.901036Z",
          "shell.execute_reply": "2025-04-13T06:49:16.928695Z"
        },
        "id": "cyjrArFJEAJo",
        "outputId": "50a2c695-9b74-43a0-dd27-7d2a687c3cfc"
      },
      "outputs": [
        {
          "execution_count": 13,
          "output_type": "execute_result",
          "data": {
            "text/plain": "            goal\n0       0.000010\n1       0.000300\n2       0.000450\n3       0.000050\n4       0.000195\n...          ...\n378656  0.000500\n378657  0.000015\n378658  0.000150\n378659  0.000150\n378660  0.000020\n\n[378661 rows x 1 columns]",
            "text/html": "<div>\n<style scoped>\n    .dataframe tbody tr th:only-of-type {\n        vertical-align: middle;\n    }\n\n    .dataframe tbody tr th {\n        vertical-align: top;\n    }\n\n    .dataframe thead th {\n        text-align: right;\n    }\n</style>\n<table border=\"1\" class=\"dataframe\">\n  <thead>\n    <tr style=\"text-align: right;\">\n      <th></th>\n      <th>goal</th>\n    </tr>\n  </thead>\n  <tbody>\n    <tr>\n      <th>0</th>\n      <td>0.000010</td>\n    </tr>\n    <tr>\n      <th>1</th>\n      <td>0.000300</td>\n    </tr>\n    <tr>\n      <th>2</th>\n      <td>0.000450</td>\n    </tr>\n    <tr>\n      <th>3</th>\n      <td>0.000050</td>\n    </tr>\n    <tr>\n      <th>4</th>\n      <td>0.000195</td>\n    </tr>\n    <tr>\n      <th>...</th>\n      <td>...</td>\n    </tr>\n    <tr>\n      <th>378656</th>\n      <td>0.000500</td>\n    </tr>\n    <tr>\n      <th>378657</th>\n      <td>0.000015</td>\n    </tr>\n    <tr>\n      <th>378658</th>\n      <td>0.000150</td>\n    </tr>\n    <tr>\n      <th>378659</th>\n      <td>0.000150</td>\n    </tr>\n    <tr>\n      <th>378660</th>\n      <td>0.000020</td>\n    </tr>\n  </tbody>\n</table>\n<p>378661 rows × 1 columns</p>\n</div>"
          },
          "metadata": {}
        }
      ],
      "execution_count": null
    },
    {
      "cell_type": "markdown",
      "source": [
        "# 2) Practice normalization\n",
        "\n",
        "Now you'll practice normalization. We begin by normalizing the amount of money pledged to each campaign."
      ],
      "metadata": {
        "id": "_ymTjSr9EAJo"
      }
    },
    {
      "cell_type": "code",
      "source": [
        "# get the index of all positive pledges (Box-Cox only takes positive values)\n",
        "index_of_positive_pledges = kickstarters_2017.usd_pledged_real > 0\n",
        "\n",
        "# get only positive pledges (using their indexes)\n",
        "positive_pledges = kickstarters_2017.usd_pledged_real.loc[index_of_positive_pledges]\n",
        "\n",
        "# normalize the pledges (w/ Box-Cox)\n",
        "normalized_pledges = pd.Series(stats.boxcox(positive_pledges)[0],\n",
        "                               name='usd_pledged_real', index=positive_pledges.index)\n",
        "\n",
        "print('Original data\\nPreview:\\n', positive_pledges.head())\n",
        "print('Minimum value:', float(positive_pledges.min()),\n",
        "      '\\nMaximum value:', float(positive_pledges.max()))\n",
        "print('_'*30)\n",
        "\n",
        "print('\\nNormalized data\\nPreview:\\n', normalized_pledges.head())\n",
        "print('Minimum value:', float(normalized_pledges.min()),\n",
        "      '\\nMaximum value:', float(normalized_pledges.max()))"
      ],
      "metadata": {
        "trusted": true,
        "execution": {
          "iopub.status.busy": "2025-04-13T06:51:52.980635Z",
          "iopub.execute_input": "2025-04-13T06:51:52.9811Z",
          "iopub.status.idle": "2025-04-13T06:51:56.787568Z",
          "shell.execute_reply.started": "2025-04-13T06:51:52.981073Z",
          "shell.execute_reply": "2025-04-13T06:51:56.786505Z"
        },
        "id": "8eWg9ILiEAJo",
        "outputId": "a30bc7a7-ef7f-4a70-c489-2cd3aa5cd602"
      },
      "outputs": [
        {
          "name": "stdout",
          "text": "Original data\nPreview:\n 1     2421.0\n2      220.0\n3        1.0\n4     1283.0\n5    52375.0\nName: usd_pledged_real, dtype: float64\nMinimum value: 0.45 \nMaximum value: 20338986.27\n______________________________\n\nNormalized data\nPreview:\n 1    10.165143\n2     6.468598\n3     0.000000\n4     9.129277\n5    15.836853\nName: usd_pledged_real, dtype: float64\nMinimum value: -0.7779954120722626 \nMaximum value: 30.69054040635253\n",
          "output_type": "stream"
        }
      ],
      "execution_count": null
    },
    {
      "cell_type": "markdown",
      "source": [
        "The values have changed significantly with normalization!\n",
        "\n",
        "In the next code cell, you'll take a look at the distribution of the normalized data, where it should now resemble a normal distribution."
      ],
      "metadata": {
        "id": "N9q57EO_EAJo"
      }
    },
    {
      "cell_type": "code",
      "source": [
        "# plot normalized data\n",
        "ax = sns.histplot(normalized_pledges, kde=True)\n",
        "ax.set_title(\"Normalized data\")\n",
        "plt.show()"
      ],
      "metadata": {
        "trusted": true,
        "execution": {
          "iopub.status.busy": "2025-04-13T06:52:32.75304Z",
          "iopub.execute_input": "2025-04-13T06:52:32.753526Z",
          "iopub.status.idle": "2025-04-13T06:52:34.912835Z",
          "shell.execute_reply.started": "2025-04-13T06:52:32.753498Z",
          "shell.execute_reply": "2025-04-13T06:52:34.911712Z"
        },
        "id": "fuloDtHWEAJo",
        "outputId": "bdd99a64-5097-4a46-f41c-37200186b208"
      },
      "outputs": [
        {
          "name": "stderr",
          "text": "/usr/local/lib/python3.11/dist-packages/seaborn/_oldcore.py:1119: FutureWarning: use_inf_as_na option is deprecated and will be removed in a future version. Convert inf values to NaN before operating instead.\n  with pd.option_context('mode.use_inf_as_na', True):\n",
          "output_type": "stream"
        },
        {
          "output_type": "display_data",
          "data": {
            "text/plain": "<Figure size 640x480 with 1 Axes>",
            "image/png": "[encoded data removed]"
          },
          "metadata": {}
        }
      ],
      "execution_count": null
    },
    {
      "cell_type": "markdown",
      "source": [
        "We used the \"usd_pledged_real\" column. Follow the same process to normalize the \"pledged\" column."
      ],
      "metadata": {
        "id": "XYwtQ238EAJp"
      }
    },
    {
      "cell_type": "code",
      "source": [
        "index_of_postitive_pledged = kickstarters_2017.pledged > 0\n",
        "index_of_postitive_pledged"
      ],
      "metadata": {
        "trusted": true,
        "execution": {
          "iopub.status.busy": "2025-04-13T06:57:04.514094Z",
          "iopub.execute_input": "2025-04-13T06:57:04.515477Z",
          "iopub.status.idle": "2025-04-13T06:57:04.526006Z",
          "shell.execute_reply.started": "2025-04-13T06:57:04.515428Z",
          "shell.execute_reply": "2025-04-13T06:57:04.52495Z"
        },
        "id": "-YjO-cjpEAJp",
        "outputId": "71ff4635-1a30-4876-eeb6-035fa0e9dc8b"
      },
      "outputs": [
        {
          "execution_count": 19,
          "output_type": "execute_result",
          "data": {
            "text/plain": "0         False\n1          True\n2          True\n3          True\n4          True\n          ...  \n378656     True\n378657     True\n378658     True\n378659     True\n378660     True\nName: pledged, Length: 378661, dtype: bool"
          },
          "metadata": {}
        }
      ],
      "execution_count": null
    },
    {
      "cell_type": "code",
      "source": [
        "positive_pledged = kickstarters_2017.pledged.loc[index_of_postitive_pledged]\n",
        "positive_pledged"
      ],
      "metadata": {
        "trusted": true,
        "execution": {
          "iopub.status.busy": "2025-04-13T06:57:29.889609Z",
          "iopub.execute_input": "2025-04-13T06:57:29.88998Z",
          "iopub.status.idle": "2025-04-13T06:57:29.90311Z",
          "shell.execute_reply.started": "2025-04-13T06:57:29.889955Z",
          "shell.execute_reply": "2025-04-13T06:57:29.901448Z"
        },
        "id": "tLkzXPJUEAJp",
        "outputId": "ba027c4c-232c-445e-da46-07a5fd3a2f93"
      },
      "outputs": [
        {
          "execution_count": 22,
          "output_type": "execute_result",
          "data": {
            "text/plain": "1          2421.0\n2           220.0\n3             1.0\n4          1283.0\n5         52375.0\n           ...   \n378656       25.0\n378657      155.0\n378658       20.0\n378659      200.0\n378660      524.0\nName: pledged, Length: 326134, dtype: float64"
          },
          "metadata": {}
        }
      ],
      "execution_count": null
    },
    {
      "cell_type": "code",
      "source": [
        "normalized_pledged = stats.boxcox(positive_pledged) # return a tuple including array and lambda value\n",
        "normalized_pledged"
      ],
      "metadata": {
        "trusted": true,
        "execution": {
          "iopub.status.busy": "2025-04-13T07:07:49.413059Z",
          "iopub.execute_input": "2025-04-13T07:07:49.41417Z",
          "iopub.status.idle": "2025-04-13T07:07:52.077203Z",
          "shell.execute_reply.started": "2025-04-13T07:07:49.414131Z",
          "shell.execute_reply": "2025-04-13T07:07:52.075915Z"
        },
        "id": "FGsdwUmTEAJp",
        "outputId": "99e1e076-c702-4bea-85d2-3eda1abc9c37"
      },
      "outputs": [
        {
          "execution_count": 35,
          "output_type": "execute_result",
          "data": {
            "text/plain": "(array([10.01388638,  6.40336726,  0.        , ...,  3.29154425,\n         6.27066398,  7.64843946]),\n 0.061911565319969525)"
          },
          "metadata": {}
        }
      ],
      "execution_count": null
    },
    {
      "cell_type": "code",
      "source": [
        "#tuple to series\n",
        "normalized_pledged_series = pd.Series(normalized_pledged[0], index=positive_pledged.index)\n",
        "normalized_pledged_series"
      ],
      "metadata": {
        "trusted": true,
        "execution": {
          "iopub.status.busy": "2025-04-13T07:07:52.079268Z",
          "iopub.execute_input": "2025-04-13T07:07:52.079652Z",
          "iopub.status.idle": "2025-04-13T07:07:52.089734Z",
          "shell.execute_reply.started": "2025-04-13T07:07:52.079626Z",
          "shell.execute_reply": "2025-04-13T07:07:52.08839Z"
        },
        "id": "oQatLC41EAJp",
        "outputId": "9c485af7-159c-45a2-e9fc-4c8fa312d1a7"
      },
      "outputs": [
        {
          "execution_count": 36,
          "output_type": "execute_result",
          "data": {
            "text/plain": "1         10.013886\n2          6.403367\n3          0.000000\n4          9.005192\n5         15.499595\n            ...    \n378656     3.562025\n378657     5.919593\n378658     3.291544\n378659     6.270664\n378660     7.648439\nLength: 326134, dtype: float64"
          },
          "metadata": {}
        }
      ],
      "execution_count": null
    },
    {
      "cell_type": "code",
      "source": [
        "# TODO: Your code here!\n",
        "\n",
        "\n",
        "print('Original data\\nPreview:\\n', positive_pledged.head())\n",
        "print('Minimum value:', float(positive_pledged.min()),\n",
        "      '\\nMaximum value:', float(positive_pledged.max()))\n",
        "print('_'*30)\n",
        "\n",
        "print('\\nNormalized data\\nPreview:\\n', normalized_pledged_series.head())\n",
        "print('Minimum value:', float(normalized_pledged_series.min()),\n",
        "      '\\nMaximum value:', float(normalized_pledged_series.max()))"
      ],
      "metadata": {
        "trusted": true,
        "execution": {
          "iopub.status.busy": "2025-04-13T07:21:30.559522Z",
          "iopub.execute_input": "2025-04-13T07:21:30.559872Z",
          "iopub.status.idle": "2025-04-13T07:21:30.571059Z",
          "shell.execute_reply.started": "2025-04-13T07:21:30.559848Z",
          "shell.execute_reply": "2025-04-13T07:21:30.569929Z"
        },
        "id": "dC2t-DZIEAJp",
        "outputId": "499d413c-9a39-4a16-d9c1-a5d9f8602e5d"
      },
      "outputs": [
        {
          "name": "stdout",
          "text": "Original data\nPreview:\n 1     2421.0\n2      220.0\n3        1.0\n4     1283.0\n5    52375.0\nName: pledged, dtype: float64\nMinimum value: 1.0 \nMaximum value: 20338986.27\n______________________________\n\nNormalized data\nPreview:\n 1    10.013886\n2     6.403367\n3     0.000000\n4     9.005192\n5    15.499595\ndtype: float64\nMinimum value: 0.0 \nMaximum value: 29.630304425109834\n",
          "output_type": "stream"
        }
      ],
      "execution_count": null
    },
    {
      "cell_type": "code",
      "source": [
        "# plot normalized data\n",
        "ax = sns.histplot(normalized_pledged_series, kde=True)\n",
        "ax.set_title(\"Normalized data\")\n",
        "plt.show()"
      ],
      "metadata": {
        "trusted": true,
        "execution": {
          "iopub.status.busy": "2025-04-13T07:31:20.789574Z",
          "iopub.execute_input": "2025-04-13T07:31:20.789891Z",
          "iopub.status.idle": "2025-04-13T07:31:22.751707Z",
          "shell.execute_reply.started": "2025-04-13T07:31:20.78987Z",
          "shell.execute_reply": "2025-04-13T07:31:22.750309Z"
        },
        "id": "6WxN0M3PEAJq",
        "outputId": "e602b5b2-5fb7-4818-dc3d-73a14a84b0ed"
      },
      "outputs": [
        {
          "name": "stderr",
          "text": "/usr/local/lib/python3.11/dist-packages/seaborn/_oldcore.py:1119: FutureWarning: use_inf_as_na option is deprecated and will be removed in a future version. Convert inf values to NaN before operating instead.\n  with pd.option_context('mode.use_inf_as_na', True):\n",
          "output_type": "stream"
        },
        {
          "output_type": "display_data",
          "data": {
            "text/plain": "<Figure size 640x480 with 1 Axes>",
            "image/png": "[encoded data removed]"
          },
          "metadata": {}
        }
      ],
      "execution_count": null
    },
    {
      "cell_type": "markdown",
      "source": [
        "How does the normalized \"usd_pledged_real\" column look different from when we normalized the \"pledged\" column?  Or, do they look mostly the same?\n",
        "\n",
        "Once you have an answer, run the code cell below."
      ],
      "metadata": {
        "id": "mcqypUo9EAJq"
      }
    },
    {
      "cell_type": "code",
      "source": [
        "# Check your answer (Run this code cell to receive credit!)\n",
        "q2.check()"
      ],
      "metadata": {
        "trusted": true,
        "execution": {
          "iopub.status.busy": "2025-04-13T07:31:46.799975Z",
          "iopub.execute_input": "2025-04-13T07:31:46.800369Z",
          "iopub.status.idle": "2025-04-13T07:31:46.810014Z",
          "shell.execute_reply.started": "2025-04-13T07:31:46.800341Z",
          "shell.execute_reply": "2025-04-13T07:31:46.808988Z"
        },
        "id": "Pza1N7OLEAJq",
        "outputId": "5272d421-89ef-43ac-f8d8-8faf4f0a990d"
      },
      "outputs": [
        {
          "output_type": "display_data",
          "data": {
            "text/plain": "<IPython.core.display.Javascript object>",
            "application/javascript": "parent.postMessage({\"jupyterEvent\": \"custom.exercise_interaction\", \"data\": {\"outcomeType\": 1, \"valueTowardsCompletion\": 0.3333333333333333, \"interactionType\": 1, \"questionType\": 4, \"questionId\": \"2_TryNormalization\", \"learnToolsVersion\": \"0.3.5\", \"failureMessage\": \"\", \"exceptionClass\": \"\", \"trace\": \"\"}}, \"*\")"
          },
          "metadata": {}
        },
        {
          "output_type": "display_data",
          "data": {
            "text/plain": "Correct: \n\nThe distributions in the normalized data look mostly the same.",
            "text/markdown": "<span style=\"color:#33cc33\">Correct:</span> \n\nThe distributions in the normalized data look mostly the same."
          },
          "metadata": {}
        }
      ],
      "execution_count": null
    },
    {
      "cell_type": "code",
      "source": [
        "# Line below will give you a hint\n",
        "#q2.hint()"
      ],
      "metadata": {
        "trusted": true,
        "execution": {
          "iopub.status.busy": "2025-04-13T07:31:47.653373Z",
          "iopub.execute_input": "2025-04-13T07:31:47.653786Z",
          "iopub.status.idle": "2025-04-13T07:31:47.65845Z",
          "shell.execute_reply.started": "2025-04-13T07:31:47.653759Z",
          "shell.execute_reply": "2025-04-13T07:31:47.657555Z"
        },
        "id": "KyAl9ozJEAJq"
      },
      "outputs": [],
      "execution_count": null
    },
    {
      "cell_type": "markdown",
      "source": [
        "# (Optional) More practice\n",
        "\n",
        "Try finding a new dataset and pretend you're preparing to perform a [regression analysis](https://www.kaggle.com/rtatman/the-5-day-regression-challenge).\n",
        "\n",
        "[These datasets are a good start!](https://www.kaggle.com/rtatman/datasets-for-regression-analysis)\n",
        "\n",
        "Pick three or four variables and decide if you need to normalize or scale any of them and, if you think you should, practice applying the correct technique.\n",
        "\n",
        "# Keep going\n",
        "\n",
        "In the next lesson, learn how to [**parse dates**](https://www.kaggle.com/alexisbcook/parsing-dates) in a dataset."
      ],
      "metadata": {
        "id": "B6M9m-uPEAJq"
      }
    },
    {
      "cell_type": "markdown",
      "source": [
        "---\n",
        "\n",
        "\n",
        "\n",
        "\n",
        "*Have questions or comments? Visit the [course discussion forum](https://www.kaggle.com/learn/data-cleaning/discussion) to chat with other learners.*"
      ],
      "metadata": {
        "id": "LcQsQT1pEAJq"
      }
    }
  ]
}