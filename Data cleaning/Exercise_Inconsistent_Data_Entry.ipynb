{
  "metadata": {
    "kernelspec": {
      "display_name": "Python 3",
      "language": "python",
      "name": "python3"
    },
    "language_info": {
      "name": "python",
      "version": "3.11.11",
      "mimetype": "text/x-python",
      "codemirror_mode": {
        "name": "ipython",
        "version": 3
      },
      "pygments_lexer": "ipython3",
      "nbconvert_exporter": "python",
      "file_extension": ".py"
    },
    "kaggle": {
      "accelerator": "none",
      "dataSources": [
        {
          "sourceId": 1402182,
          "sourceType": "datasetVersion",
          "datasetId": 819513
        }
      ],
      "isInternetEnabled": false,
      "language": "python",
      "sourceType": "notebook",
      "isGpuEnabled": false
    },
    "colab": {
      "name": "Exercise: Inconsistent Data Entry",
      "provenance": [],
      "include_colab_link": true
    }
  },
  "nbformat_minor": 0,
  "nbformat": 4,
  "cells": [
    {
      "cell_type": "markdown",
      "metadata": {
        "id": "view-in-github",
        "colab_type": "text"
      },
      "source": [
        "<a href=\"https://colab.research.google.com/github/qazwsxedc900/Kaggle-Learn/blob/main/Data%20cleaning/Exercise_Inconsistent_Data_Entry.ipynb\" target=\"_parent\"><img src=\"https://colab.research.google.com/assets/colab-badge.svg\" alt=\"Open In Colab\"/></a>"
      ]
    },
    {
      "source": [
        "# IMPORTANT: RUN THIS CELL IN ORDER TO IMPORT YOUR KAGGLE DATA SOURCES,\n",
        "# THEN FEEL FREE TO DELETE THIS CELL.\n",
        "# NOTE: THIS NOTEBOOK ENVIRONMENT DIFFERS FROM KAGGLE'S PYTHON\n",
        "# ENVIRONMENT SO THERE MAY BE MISSING LIBRARIES USED BY YOUR\n",
        "# NOTEBOOK.\n",
        "import kagglehub\n",
        "alexisbcook_pakistan_intellectual_capital_path = kagglehub.dataset_download('alexisbcook/pakistan-intellectual-capital')\n",
        "\n",
        "print('Data source import complete.')\n"
      ],
      "metadata": {
        "id": "JTSPNSRTmM2W"
      },
      "cell_type": "code",
      "outputs": [],
      "execution_count": null
    },
    {
      "cell_type": "markdown",
      "source": [
        "**This notebook is an exercise in the [Data Cleaning](https://www.kaggle.com/learn/data-cleaning) course.  You can reference the tutorial at [this link](https://www.kaggle.com/alexisbcook/inconsistent-data-entry).**\n",
        "\n",
        "---\n"
      ],
      "metadata": {
        "id": "IuhfftAJmM2X"
      }
    },
    {
      "cell_type": "markdown",
      "source": [
        "In this exercise, you'll apply what you learned in the **Inconsistent data entry** tutorial.\n",
        "\n",
        "# Setup\n",
        "\n",
        "The questions below will give you feedback on your work. Run the following cell to set up the feedback system."
      ],
      "metadata": {
        "id": "JTnBUMLgmM2Y"
      }
    },
    {
      "cell_type": "code",
      "source": [
        "from learntools.core import binder\n",
        "binder.bind(globals())\n",
        "from learntools.data_cleaning.ex5 import *\n",
        "print(\"Setup Complete\")"
      ],
      "metadata": {
        "trusted": true,
        "execution": {
          "iopub.status.busy": "2025-04-15T13:07:06.123552Z",
          "iopub.execute_input": "2025-04-15T13:07:06.12384Z",
          "iopub.status.idle": "2025-04-15T13:07:08.659334Z",
          "shell.execute_reply.started": "2025-04-15T13:07:06.123817Z",
          "shell.execute_reply": "2025-04-15T13:07:08.65805Z"
        },
        "id": "rhhNwNbcmM2Y",
        "outputId": "309e813e-83e1-4438-fe51-63dfadda34e1"
      },
      "outputs": [
        {
          "name": "stdout",
          "text": "Setup Complete\n",
          "output_type": "stream"
        },
        {
          "name": "stderr",
          "text": "/usr/local/lib/python3.11/dist-packages/fuzzywuzzy/fuzz.py:11: UserWarning: Using slow pure-python SequenceMatcher. Install python-Levenshtein to remove this warning\n  warnings.warn('Using slow pure-python SequenceMatcher. Install python-Levenshtein to remove this warning')\n",
          "output_type": "stream"
        }
      ],
      "execution_count": null
    },
    {
      "cell_type": "markdown",
      "source": [
        "# Get our environment set up\n",
        "\n",
        "The first thing we'll need to do is load in the libraries and dataset we'll be using.  We use the same dataset from the tutorial."
      ],
      "metadata": {
        "id": "oH3_emUcmM2Z"
      }
    },
    {
      "cell_type": "code",
      "source": [
        "# modules we'll use\n",
        "import pandas as pd\n",
        "import numpy as np\n",
        "\n",
        "# helpful modules\n",
        "import fuzzywuzzy\n",
        "from fuzzywuzzy import process\n",
        "import charset_normalizer\n",
        "\n",
        "# read in all our data\n",
        "professors = pd.read_csv(\"../input/pakistan-intellectual-capital/pakistan_intellectual_capital.csv\")\n",
        "\n",
        "# set seed for reproducibility\n",
        "np.random.seed(0)"
      ],
      "metadata": {
        "trusted": true,
        "execution": {
          "iopub.status.busy": "2025-04-15T13:07:08.660423Z",
          "iopub.execute_input": "2025-04-15T13:07:08.660772Z",
          "iopub.status.idle": "2025-04-15T13:07:08.681763Z",
          "shell.execute_reply.started": "2025-04-15T13:07:08.660742Z",
          "shell.execute_reply": "2025-04-15T13:07:08.680696Z"
        },
        "id": "lmT0vNKPmM2Z"
      },
      "outputs": [],
      "execution_count": null
    },
    {
      "cell_type": "markdown",
      "source": [
        "Next, we'll redo all of the work that we did in the tutorial."
      ],
      "metadata": {
        "id": "jy2im5eimM2Z"
      }
    },
    {
      "cell_type": "code",
      "source": [
        "# convert to lower case\n",
        "professors['Country'] = professors['Country'].str.lower()\n",
        "# remove trailing white spaces\n",
        "professors['Country'] = professors['Country'].str.strip()\n",
        "\n",
        "# get the top 10 closest matches to \"south korea\"\n",
        "countries = professors['Country'].unique()\n",
        "matches = fuzzywuzzy.process.extract(\"south korea\", countries, limit=10, scorer=fuzzywuzzy.fuzz.token_sort_ratio)\n",
        "\n",
        "def replace_matches_in_column(df, column, string_to_match, min_ratio = 47):\n",
        "    # get a list of unique strings\n",
        "    strings = df[column].unique()\n",
        "\n",
        "    # get the top 10 closest matches to our input string\n",
        "    matches = fuzzywuzzy.process.extract(string_to_match, strings,\n",
        "                                         limit=10, scorer=fuzzywuzzy.fuzz.token_sort_ratio)\n",
        "\n",
        "    # only get matches with a ratio > 90\n",
        "    close_matches = [matches[0] for matches in matches if matches[1] >= min_ratio]\n",
        "\n",
        "    # get the rows of all the close matches in our dataframe\n",
        "    rows_with_matches = df[column].isin(close_matches)\n",
        "\n",
        "    # replace all rows with close matches with the input matches\n",
        "    df.loc[rows_with_matches, column] = string_to_match\n",
        "\n",
        "    # let us know the function's done\n",
        "    print(\"All done!\")\n",
        "\n",
        "replace_matches_in_column(df=professors, column='Country', string_to_match=\"south korea\")\n",
        "countries = professors['Country'].unique()"
      ],
      "metadata": {
        "trusted": true,
        "execution": {
          "iopub.status.busy": "2025-04-15T13:07:16.653659Z",
          "iopub.execute_input": "2025-04-15T13:07:16.654052Z",
          "iopub.status.idle": "2025-04-15T13:07:16.670426Z",
          "shell.execute_reply.started": "2025-04-15T13:07:16.654024Z",
          "shell.execute_reply": "2025-04-15T13:07:16.669357Z"
        },
        "id": "HDhbR9m0mM2Z",
        "outputId": "be68d657-4752-4f17-a911-ec293c11668b"
      },
      "outputs": [
        {
          "name": "stdout",
          "text": "All done!\n",
          "output_type": "stream"
        }
      ],
      "execution_count": null
    },
    {
      "cell_type": "markdown",
      "source": [
        "# 1) Examine another column\n",
        "\n",
        "Write code below to take a look at all the unique values in the \"Graduated from\" column."
      ],
      "metadata": {
        "id": "cat-FlWumM2Z"
      }
    },
    {
      "cell_type": "code",
      "source": [
        "# TODO: Your code here\n",
        "professors['Graduated from'].unique()"
      ],
      "metadata": {
        "trusted": true,
        "execution": {
          "iopub.status.busy": "2025-04-15T13:08:09.973468Z",
          "iopub.execute_input": "2025-04-15T13:08:09.973865Z",
          "iopub.status.idle": "2025-04-15T13:08:09.982641Z",
          "shell.execute_reply.started": "2025-04-15T13:08:09.973837Z",
          "shell.execute_reply": "2025-04-15T13:08:09.981371Z"
        },
        "id": "5wEvitqMmM2Z",
        "outputId": "c5389c1c-e418-47e6-b1ae-f1b8329672c2"
      },
      "outputs": [
        {
          "execution_count": 6,
          "output_type": "execute_result",
          "data": {
            "text/plain": "array(['Asian Institute of Technology',\n       'Balochistan University of Information Technology, Engineering and Management Sciences',\n       'University of Balochistan',\n       \"Sardar Bahadur Khan Women's University\",\n       'SRH Hochschule Heidelberg',\n       'Institute of Business Administration,Karachi', 'DUET,Karachi',\n       'University of Turbat', 'University of Vienna',\n       'Monash University', 'University of Stirling',\n       'Chinese Academy of Sciences', 'University of Innsbruck',\n       'Vienna University of Technology', 'University of Paris-Est',\n       'The University of Cambridge', 'Harbin Institute of Technology',\n       'University of Nice, Sophia Antipolis', 'The University of York',\n       'Galilée - Université Paris 13', 'University of Bedfordshire',\n       'North Dakota State University', 'Kyungpook National University',\n       'The University of Manchester',\n       'National University of Sciences and Technology',\n       'FAST– National University of Computer and Emerging Sciences',\n       'Capital University of Science & Technology', 'Gomal University',\n       'University of Malaya', 'KTH Royal Institute of Technology',\n       'University of Technology',\n       'COMSATS Institute of Information Technology',\n       'Government College University', 'Mohammad Ali Jinnah University',\n       'Shaheed Zulfikar Ali Bhutto Institute of Science and Technology',\n       'Blekinge Institute of Technology', 'University of Grenoble',\n       'Politecnico di Torino', '\\xa0University of Missouri, KC',\n       'University of Bonn', 'University of Paris',\n       'The University of Leeds', '\\xa0University of Windsor',\n       '\\xa0National University of Sciences and Technology-NIIT',\n       'University of Trento', 'Stockholm University',\n       'University of New South Wales, Sydney',\n       'Kingston University London', 'Griffith University',\n       'University of Salford', 'Loughborough University',\n       'International Islamic University,Islamabad',\n       'University of Central Missouri',\n       'Riphah International University', 'University of BedfordShire',\n       'University of Illinois', 'University Of Oslo',\n       'Nancy 2 University', 'University of Limerick',\n       'Ghulam Ishaq Khan Institute of Science and Technology',\n       'University Of Waterloo', 'University of Stuttgart',\n       'Liverpool John Moores University', 'University Of Caen',\n       'Paris Tech University of Eurecom', 'University Of Salford',\n       'Lahore University of Management Sciences',\n       'Dresden University Of Technology, Dresden\\xa0',\n       'COMSATS Institute of Information Technology,Vehari',\n       'COMSATS Institute of Information Technology,Wah Cantt',\n       'TU Berlin',\n       'FAST– National University of Computer and Emerging Sciences,Islamabad',\n       'Tsinghua University', 'The University of Auckland',\n       'IQRA University', 'Universiti Teknologi PETRONAS',\n       'COMSATS Institute of Information Technology,Islamabad',\n       'Razak School of Engineering and Advanced Technology, Universiti Teknologi Malaysia (UTM)',\n       'National University of Modern Languages',\n       'University of Engineering and Technology',\n       'University Institute of Information Technology',\n       'University of Arid Agriculture', 'Quaid-i-Azam University',\n       'Queen Mary University of London',\n       'Pakistan Institute of Engineering and Applied Sciences',\n       'Pohang University of Science and Technology',\n       'Uppsala University', 'Kyung Hee University',\n       'University of Liverpool', 'University of Sunderland',\n       'Mid Sweden University', 'Bahria University,Islamabad',\n       'Chosun University', 'University of Sussex',\n       'Paris Descartes University', 'University of Leicester',\n       'University of Porto', 'University of Manchester',\n       'Université Henri Poincaré, Nancy 1,', 'Bahria University',\n       'Centre for Advanced Studies in Engineering',\n       'Norwegian University of Science and Technology (NTNU),',\n       'The Islamia University of Bahawalpur ', 'Universiti Technologi',\n       'California State University', 'University of Genova',\n       'University of Engineering and Technology,Taxila',\n       'University of\\xa0Liverpool John Moores University', 'Guildford',\n       'University of Bradford', 'Graz University of Technology',\n       'Huazhong University of Science and Technology (HUST), Wuhan',\n       'University of Konstanz',\n       'National University of Modern Languages,Islamabad',\n       'FAST– National University of Computer and Emerging Sciences,Lahore',\n       'Gwangju Institute of Science and Technology',\n       'University of Birmingham', 'Manchester University',\n       'Beijing Institute of Technology', 'University of Paisley',\n       'Univ of Porto/Univ of Aveiro Portugal/Uni of Minho',\n       'University of Peshawar', 'Universität Salzburg',\n       'Colorado State University', 'University of Virginia',\n       'University of Orleans', 'Zhejiang University',\n       'University of Leeds', 'Foundation University',\n       'Barani Institute of Information Technology', 'Abasyn University',\n       'Pir Mehr Ali Shah Arid Agriculture University', 'Preston',\n       'University of Bergen', 'Universtiy of Lahore',\n       'HITEC University,Taxila', 'Allama Iqbal Open University',\n       'University of Wales,Aberystwyth', '\\xa0University of Bonn',\n       '\\xa0Hongik University',\n       'Skolkovo Institute of Science and Technology,\\xa0',\n       'Agricultural University Peshawar', 'National Textile University',\n       'FAST– National University of Computer and Emerging Sciences,Chiniot-Faisalabad',\n       'FAST– National University of Computer and Emerging Sciences,Peshawar',\n       '\\xa0Boston University', 'Brunel University',\n       'George Washington University', 'University of the Punjab',\n       '\\xa0University of Bedfordshire',\n       'University Of Southern California', 'Beihang University',\n       'Institute of Business Administration',\n       'Abdus Salam School of Mathematical Sciences,GC University',\n       'Linköping University',\n       'National College of Business Administration and Economics',\n       'Åbo Akademi University,', 'University of Central Punjab',\n       'University of Ulm', 'University of Agriculture',\n       'University of Notre Dame Indiana\\xa0',\n       'Punjab University College of Information Technology',\n       'Ilmenau University of Technology', ' Iowa State University',\n       ' University of Innsbruck', 'Vrije University, Amsterdam',\n       ' Columbia University', 'University of Freiburg',\n       ' Delft University of Technology',\n       ' University of Texas at Arlington (UTA)', ' University of Turin',\n       ' University of Central Florida', 'Saarland University',\n       'University of Central Florida', 'Oxford Brookes University',\n       'Information Technology University (ITU)',\n       'University of Canterbury', 'University of Patras',\n       'Middle East Technical University', 'University of Bristol',\n       'University of Southern California',\n       'Northeastern University,Boston', 'Purdue University',\n       'University of Plymouth', 'University of South Australia',\n       'Stanford University', 'Chalmers University of Technology',\n       'Massachusetts Institute of Technology',\n       'Sapienza University of Rome',\n       'Eindhoven University of Technology (TU/e)',\n       'United Nations University International Institute for Software Technology (UNU-IIST)',\n       'Georgetown University,DC', 'RWTH Aachen University',\n       'Columbia University',\n       'Rutgers State University of New Jersey, NJ',\n       'University of Florida', 'Technical University of Braunschweig',\n       'Carnegie Mellon University, Pittsburgh',\n       'The Ohio State University', 'National University of Singapore',\n       'University of British Columbia', 'University of Pittsburgh',\n       'The State University of New Jersey',\n       'The University of Texas at Austin',\n       'Imperial College, University of London',\n       'University of Colorado\\xa0', 'University of Bath',\n       'Tilburg University', 'Pompeu Fabra University Barcelona',\n       'University of Management and Technology',\n       'COMSATS Institute of Information Technology,Lahore',\n       'University of Agriculture, Faisalabad\\xa0',\n       'University of Engineering & Technology',\n       'University of Agriculture, Faisalabad',\n       'Fatima Jinnah Women University, Rawalpindi',\n       'Kohat University of Science & Technology, Kohat',\n       'Virtual University of Pakistan', 'Bahauddin Zakariya University',\n       'University of the Punjab,Gujranwala',\n       'Lahore College for Women University',\n       'Superior University, Lahore',\n       'Shaheed Zulfikar Ali Bhutto Institute of Science and Technology,Islamabad',\n       'University of South Florida', 'Politecnico di Milano',\n       'Abdul Wali Khan University, Mardan', 'University of Lahore',\n       'Minhaj University Lahore', 'Lahore Leads University',\n       'Middlesex University', 'Beijing Institute of Technology Beijing',\n       'Beaconhouse National University', 'Hamdard University',\n       'University Paris', 'Sindh University',\n       'NED University of Engineering And Technology',\n       'Staffordshire University', 'DePaul University, Chicago',\n       'University of Kent',\n       'Mehran University of Engineering & Technology',\n       'Quaid-e-Awam University of Engineering, Science & Technology',\n       'Shah Abdul Latif University, Khairpur',\n       'Sindh Agriculture University', 'Swansea',\n       'University of Shanghai for Science and Technology',\n       'Griffith University,Nathan Campus', 'University of Essex',\n       'Xiamen university', 'Wayne State University',\n       'The Queens University of Belfast', 'Sungkyunkwan University',\n       'Nanyang Tech University', \"Universite d'Evry Val d'Essonne\",\n       'Sir Syed University of Engineering and Technology',\n       'New York Institute of Technology', 'Fedral Urdu University',\n       'ISRA University', 'University of Karachi',\n       'South Asian University',\n       'Capital University of Science and Technology',\n       'University of Manchester Institute of Science and Technology',\n       'The University of Birmingham',\n       'Max Planck Institute for Computer Science',\n       'George Mason University', 'University of Southampton',\n       'Temple University', 'University of Bayreuth',\n       'Muroran Institute of Technology,Hokkaido',\n       'University of Bologna', 'International Islamic University',\n       'PAF-Karachi Institute of Economics and Technology',\n       'Institute of Business Administration,Sukkur',\n       'Myongji University', 'State University of New York System',\n       'SSindh Agriculture University', 'London University',\n       'Universiti Putra Malaysia Putra',\n       'University of Rome Tor Vergata', 'University of Mississippi\\xa0',\n       'University of Wales', 'University of Northampton',\n       'University of Abertay Dundee',\n       'Biztek Institute Of Business & Technology,Karachi',\n       'University of Surrey', 'Jinnah University for Women',\n       '\\xa0Nanyang Technological University',\n       'Tokyo Institute of Technology', 'NCSU',\n       'Usman Institute of Technology', 'Hanyang University, Ansan',\n       'BUKC', 'Universtiy of Karachi', 'Pace University, New York',\n       'INSA de Lyon, Rhone', 'University of Dundee',\n       'Illinois Institute of Technology',\n       'City University of Science and Technology',\n       'Usman Institute of Technology (Hamdard University)',\n       'University of Malaga', 'Manchester Metropolitan University',\n       'Kyushu University,Fukuoka',\n       'King Abdullah University of Science and Technology',\n       'INRIA Saclay Ile-de-France', 'Université de la Rochelle',\n       'University of South Brittany', 'Aston University, Birmingham',\n       'University of Agriculture Faisalabad',\n       'Hamburg University of Technology',\n       'Government College University, Faisalabad', 'JKU',\n       'University of Oviedo',\n       'Beijing University of Posts & Telecommunications',\n       'Government College University,Faisalabad',\n       'Nottingham Trent University', 'University of Glasgow',\n       'Coventry University',\n       'Riphah International University,Faisalabad',\n       'Australian National University, Caneberra',\n       'Swedish University of Agricultural Sciences, Uppsala',\n       'University of Gujrat', 'IQRA University,Islamabad',\n       'Jonkoping University', 'Colorado Technical University',\n       'Cranfield University', 'Technical University of Graz',\n       'University of York', 'Brock University Canada',\n       'University of Westminster', 'University of Saarland',\n       'The University of Queensland', 'University of Rochester',\n       'Islamia College University ',\n       'IBMS KP Agricultural University Peshawar',\n       'University of Kuala Lumpur', 'University of Regina', 'TU Wien',\n       'Swinburne University Of Technology',\n       'Institute Of Managment Sciences, Peshawar',\n       'Universiti Tun Hussein Onn Malaysia',\n       'Institute of Management Sciences, Peshawar',\n       'University of Huddersfield',\n       'University of Engineering and Technology,Peshawar',\n       'IQRA University,Karachi', 'John Moorse University, Liverpool',\n       'CECOS University of Information Technology and Emerging Sciences,Peshawar',\n       'University of the West Scotland', 'Concordia University,Montreal',\n       'JNU', 'Grenoble', 'Florida Atlantic University',\n       'Seoul National University'], dtype=object)"
          },
          "metadata": {}
        }
      ],
      "execution_count": null
    },
    {
      "cell_type": "markdown",
      "source": [
        "Do you notice any inconsistencies in the data?  Can any of the inconsistencies in the data be fixed by removing white spaces at the beginning and end of cells?\n",
        "\n",
        "Once you have answered these questions, run the code cell below to get credit for your work."
      ],
      "metadata": {
        "id": "c940qW53mM2a"
      }
    },
    {
      "cell_type": "code",
      "source": [
        "# Check your answer (Run this code cell to receive credit!)\n",
        "q1.check()"
      ],
      "metadata": {
        "trusted": true,
        "execution": {
          "iopub.status.busy": "2025-04-15T13:08:40.193667Z",
          "iopub.execute_input": "2025-04-15T13:08:40.194451Z",
          "iopub.status.idle": "2025-04-15T13:08:40.202009Z",
          "shell.execute_reply.started": "2025-04-15T13:08:40.194419Z",
          "shell.execute_reply": "2025-04-15T13:08:40.201147Z"
        },
        "id": "6RD6zShBmM2a",
        "outputId": "7e855f03-b622-413d-91bf-a41722d60213"
      },
      "outputs": [
        {
          "output_type": "display_data",
          "data": {
            "text/plain": "<IPython.core.display.Javascript object>",
            "application/javascript": "parent.postMessage({\"jupyterEvent\": \"custom.exercise_interaction\", \"data\": {\"outcomeType\": 1, \"valueTowardsCompletion\": 0.3333333333333333, \"interactionType\": 1, \"questionType\": 4, \"questionId\": \"1_ExamineProvince\", \"learnToolsVersion\": \"0.3.5\", \"failureMessage\": \"\", \"exceptionClass\": \"\", \"trace\": \"\"}}, \"*\")"
          },
          "metadata": {}
        },
        {
          "output_type": "display_data",
          "data": {
            "text/plain": "Correct: \n\nThere are inconsistencies that can be fixed by removing white spaces at the beginning and end of cells.  For instance, \"University of Central Florida\" and \" University of Central Florida\" both appear in the column.",
            "text/markdown": "<span style=\"color:#33cc33\">Correct:</span> \n\nThere are inconsistencies that can be fixed by removing white spaces at the beginning and end of cells.  For instance, \"University of Central Florida\" and \" University of Central Florida\" both appear in the column."
          },
          "metadata": {}
        }
      ],
      "execution_count": null
    },
    {
      "cell_type": "code",
      "source": [
        "# Line below will give you a hint\n",
        "#q1.hint()"
      ],
      "metadata": {
        "trusted": true,
        "execution": {
          "iopub.status.busy": "2025-04-15T13:08:40.593637Z",
          "iopub.execute_input": "2025-04-15T13:08:40.59397Z",
          "iopub.status.idle": "2025-04-15T13:08:40.598877Z",
          "shell.execute_reply.started": "2025-04-15T13:08:40.59395Z",
          "shell.execute_reply": "2025-04-15T13:08:40.597765Z"
        },
        "id": "v34rTi3ImM2a"
      },
      "outputs": [],
      "execution_count": null
    },
    {
      "cell_type": "markdown",
      "source": [
        "# 2) Do some text pre-processing\n",
        "\n",
        "Convert every entry in the \"Graduated from\" column in the `professors` DataFrame to remove white spaces at the beginning and end of cells."
      ],
      "metadata": {
        "id": "Sj2MiAHvmM2a"
      }
    },
    {
      "cell_type": "code",
      "source": [
        "# TODO: Your code here\n",
        "professors['Graduated from'] = professors['Graduated from'].str.strip()\n",
        "\n",
        "# Check your answer\n",
        "q2.check()"
      ],
      "metadata": {
        "trusted": true,
        "execution": {
          "iopub.status.busy": "2025-04-15T13:09:37.383529Z",
          "iopub.execute_input": "2025-04-15T13:09:37.383854Z",
          "iopub.status.idle": "2025-04-15T13:09:37.394Z",
          "shell.execute_reply.started": "2025-04-15T13:09:37.383832Z",
          "shell.execute_reply": "2025-04-15T13:09:37.393234Z"
        },
        "id": "PHEk-qLymM2a",
        "outputId": "4a3147cc-c7d6-4261-c6d1-a7ff58958bff"
      },
      "outputs": [
        {
          "output_type": "display_data",
          "data": {
            "text/plain": "<IPython.core.display.Javascript object>",
            "application/javascript": "parent.postMessage({\"jupyterEvent\": \"custom.exercise_interaction\", \"data\": {\"outcomeType\": 1, \"valueTowardsCompletion\": 0.3333333333333333, \"interactionType\": 1, \"questionType\": 1, \"questionId\": \"2_TextProcessing\", \"learnToolsVersion\": \"0.3.5\", \"failureMessage\": \"\", \"exceptionClass\": \"\", \"trace\": \"\"}}, \"*\")"
          },
          "metadata": {}
        },
        {
          "output_type": "display_data",
          "data": {
            "text/plain": "Correct",
            "text/markdown": "<span style=\"color:#33cc33\">Correct</span>"
          },
          "metadata": {}
        }
      ],
      "execution_count": null
    },
    {
      "cell_type": "code",
      "source": [
        "# Lines below will give you a hint or solution code\n",
        "#q2.hint()\n",
        "#q2.solution()"
      ],
      "metadata": {
        "trusted": true,
        "execution": {
          "iopub.status.busy": "2025-04-15T13:09:42.163562Z",
          "iopub.execute_input": "2025-04-15T13:09:42.164541Z",
          "iopub.status.idle": "2025-04-15T13:09:42.16873Z",
          "shell.execute_reply.started": "2025-04-15T13:09:42.164479Z",
          "shell.execute_reply": "2025-04-15T13:09:42.167589Z"
        },
        "id": "kIfULOupmM2a"
      },
      "outputs": [],
      "execution_count": null
    },
    {
      "cell_type": "markdown",
      "source": [
        "# 3) Continue working with countries\n",
        "\n",
        "In the tutorial, we focused on cleaning up inconsistencies in the \"Country\" column.  Run the code cell below to view the list of unique values that we ended with."
      ],
      "metadata": {
        "id": "gCS_-YdLmM2a"
      }
    },
    {
      "cell_type": "code",
      "source": [
        "# get all the unique values in the 'City' column\n",
        "countries = professors['Country'].unique()\n",
        "\n",
        "# sort them alphabetically and then take a closer look\n",
        "countries.sort()\n",
        "countries"
      ],
      "metadata": {
        "trusted": true,
        "execution": {
          "iopub.status.busy": "2025-04-15T13:09:53.304411Z",
          "iopub.execute_input": "2025-04-15T13:09:53.304814Z",
          "iopub.status.idle": "2025-04-15T13:09:53.312132Z",
          "shell.execute_reply.started": "2025-04-15T13:09:53.30479Z",
          "shell.execute_reply": "2025-04-15T13:09:53.311212Z"
        },
        "id": "16TThov3mM2a",
        "outputId": "57d0d3f4-e959-4439-a84c-c1ada9499904"
      },
      "outputs": [
        {
          "execution_count": 12,
          "output_type": "execute_result",
          "data": {
            "text/plain": "array(['australia', 'austria', 'canada', 'china', 'finland', 'france',\n       'germany', 'greece', 'hongkong', 'ireland', 'italy', 'japan',\n       'macau', 'malaysia', 'mauritius', 'netherland', 'new zealand',\n       'norway', 'pakistan', 'portugal', 'russian federation',\n       'saudi arabia', 'scotland', 'singapore', 'south korea', 'spain',\n       'sweden', 'thailand', 'turkey', 'uk', 'urbana', 'usa', 'usofa'],\n      dtype=object)"
          },
          "metadata": {}
        }
      ],
      "execution_count": null
    },
    {
      "cell_type": "markdown",
      "source": [
        "Take another look at the \"Country\" column and see if there's any more data cleaning we need to do.\n",
        "\n",
        "It looks like 'usa' and 'usofa' should be the same country.  Correct the \"Country\" column in the dataframe to replace 'usofa' with 'usa'.\n",
        "\n",
        "**Use the most recent version of the DataFrame (with the whitespaces at the beginning and end of cells removed) from question 2.**"
      ],
      "metadata": {
        "id": "b5KV1wUGmM2a"
      }
    },
    {
      "cell_type": "code",
      "source": [
        "# TODO: Your code here!\n",
        "\n",
        "\n",
        "# Check your answer\n",
        "q3.check()"
      ],
      "metadata": {
        "id": "n9FfIwKYmM2a"
      },
      "outputs": [],
      "execution_count": null
    },
    {
      "cell_type": "code",
      "source": [
        "# Lines below will give you a hint or solution code\n",
        "#q3.hint()\n",
        "#q3.solution()\n",
        "professors['Country'] = professors['Country'].replace('usofa', 'usa')\n",
        "professors['Country'].unique"
      ],
      "metadata": {
        "trusted": true,
        "execution": {
          "iopub.status.busy": "2025-04-15T13:16:47.993351Z",
          "iopub.execute_input": "2025-04-15T13:16:47.994208Z",
          "iopub.status.idle": "2025-04-15T13:16:48.00264Z",
          "shell.execute_reply.started": "2025-04-15T13:16:47.994179Z",
          "shell.execute_reply": "2025-04-15T13:16:48.001526Z"
        },
        "id": "79BZWopYmM2a",
        "outputId": "ab744f21-668e-43de-a29c-afe7074271f0"
      },
      "outputs": [
        {
          "execution_count": 19,
          "output_type": "execute_result",
          "data": {
            "text/plain": "<bound method Series.unique of 0          thailand\n1          thailand\n2          thailand\n3          thailand\n4          pakistan\n           ...     \n1137    south korea\n1138         france\n1139            usa\n1140       pakistan\n1141    south korea\nName: Country, Length: 1142, dtype: object>"
          },
          "metadata": {}
        }
      ],
      "execution_count": null
    },
    {
      "cell_type": "markdown",
      "source": [
        "# Congratulations!\n",
        "\n",
        "Congratulations for completing the **Data Cleaning** course on Kaggle Learn!\n",
        "\n",
        "To practice your new skills, you're encouraged to download and investigate some of [Kaggle's Datasets](https://www.kaggle.com/datasets)."
      ],
      "metadata": {
        "id": "fE5bFhOXmM2a"
      }
    },
    {
      "cell_type": "markdown",
      "source": [
        "---\n",
        "\n",
        "\n",
        "\n",
        "\n",
        "*Have questions or comments? Visit the [course discussion forum](https://www.kaggle.com/learn/data-cleaning/discussion) to chat with other learners.*"
      ],
      "metadata": {
        "id": "6dTsdxECmM2a"
      }
    }
  ]
}