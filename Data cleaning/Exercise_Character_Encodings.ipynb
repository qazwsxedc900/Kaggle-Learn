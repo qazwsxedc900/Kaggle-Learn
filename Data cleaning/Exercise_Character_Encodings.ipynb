{
  "metadata": {
    "kernelspec": {
      "display_name": "Python 3",
      "language": "python",
      "name": "python3"
    },
    "language_info": {
      "name": "python",
      "version": "3.11.11",
      "mimetype": "text/x-python",
      "codemirror_mode": {
        "name": "ipython",
        "version": 3
      },
      "pygments_lexer": "ipython3",
      "nbconvert_exporter": "python",
      "file_extension": ".py"
    },
    "kaggle": {
      "accelerator": "none",
      "dataSources": [
        {
          "sourceId": 4395,
          "sourceType": "datasetVersion",
          "datasetId": 2647
        }
      ],
      "isInternetEnabled": false,
      "language": "python",
      "sourceType": "notebook",
      "isGpuEnabled": false
    },
    "colab": {
      "name": "Exercise: Character Encodings",
      "provenance": []
    }
  },
  "nbformat_minor": 0,
  "nbformat": 4,
  "cells": [
    {
      "source": [
        "# IMPORTANT: RUN THIS CELL IN ORDER TO IMPORT YOUR KAGGLE DATA SOURCES,\n",
        "# THEN FEEL FREE TO DELETE THIS CELL.\n",
        "# NOTE: THIS NOTEBOOK ENVIRONMENT DIFFERS FROM KAGGLE'S PYTHON\n",
        "# ENVIRONMENT SO THERE MAY BE MISSING LIBRARIES USED BY YOUR\n",
        "# NOTEBOOK.\n",
        "import kagglehub\n",
        "kwullum_fatal_police_shootings_in_the_us_path = kagglehub.dataset_download('kwullum/fatal-police-shootings-in-the-us')\n",
        "\n",
        "print('Data source import complete.')\n"
      ],
      "metadata": {
        "id": "LUEXlh3RfUUS"
      },
      "cell_type": "code",
      "outputs": [],
      "execution_count": null
    },
    {
      "cell_type": "markdown",
      "source": [
        "**This notebook is an exercise in the [Data Cleaning](https://www.kaggle.com/learn/data-cleaning) course.  You can reference the tutorial at [this link](https://www.kaggle.com/alexisbcook/character-encodings).**\n",
        "\n",
        "---\n"
      ],
      "metadata": {
        "id": "Dsl8dG1HfUUU"
      }
    },
    {
      "cell_type": "markdown",
      "source": [
        "In this exercise, you'll apply what you learned in the **Character encodings** tutorial.\n",
        "\n",
        "# Setup\n",
        "\n",
        "The questions below will give you feedback on your work. Run the following cell to set up the feedback system."
      ],
      "metadata": {
        "id": "gLp-wCdZfUUU"
      }
    },
    {
      "cell_type": "code",
      "source": [
        "from learntools.core import binder\n",
        "binder.bind(globals())\n",
        "from learntools.data_cleaning.ex4 import *\n",
        "print(\"Setup Complete\")"
      ],
      "metadata": {
        "trusted": true,
        "execution": {
          "iopub.status.busy": "2025-04-15T12:30:54.110259Z",
          "iopub.execute_input": "2025-04-15T12:30:54.11056Z",
          "iopub.status.idle": "2025-04-15T12:30:54.11541Z",
          "shell.execute_reply.started": "2025-04-15T12:30:54.110528Z",
          "shell.execute_reply": "2025-04-15T12:30:54.114687Z"
        },
        "id": "cUsnTz8gfUUU",
        "outputId": "906937ff-a4d3-4df4-989f-31029ecdbe4d"
      },
      "outputs": [
        {
          "name": "stdout",
          "text": "Setup Complete\n",
          "output_type": "stream"
        }
      ],
      "execution_count": null
    },
    {
      "cell_type": "markdown",
      "source": [
        "# Get our environment set up\n",
        "\n",
        "The first thing we'll need to do is load in the libraries we'll be using."
      ],
      "metadata": {
        "id": "qUkjl1X0fUUV"
      }
    },
    {
      "cell_type": "code",
      "source": [
        "# modules we'll use\n",
        "import pandas as pd\n",
        "import numpy as np\n",
        "\n",
        "# helpful character encoding module\n",
        "import charset_normalizer\n",
        "\n",
        "# set seed for reproducibility\n",
        "np.random.seed(0)"
      ],
      "metadata": {
        "trusted": true,
        "execution": {
          "iopub.status.busy": "2025-04-15T12:30:54.822194Z",
          "iopub.execute_input": "2025-04-15T12:30:54.822917Z",
          "iopub.status.idle": "2025-04-15T12:30:54.826862Z",
          "shell.execute_reply.started": "2025-04-15T12:30:54.822891Z",
          "shell.execute_reply": "2025-04-15T12:30:54.825909Z"
        },
        "id": "QZ66HSSTfUUV"
      },
      "outputs": [],
      "execution_count": null
    },
    {
      "cell_type": "markdown",
      "source": [
        "# 1) What are encodings?\n",
        "\n",
        "You're working with a dataset composed of bytes.  Run the code cell below to print a sample entry."
      ],
      "metadata": {
        "id": "ErOW_UxJfUUV"
      }
    },
    {
      "cell_type": "code",
      "source": [
        "sample_entry = b'\\xa7A\\xa6n'\n",
        "print(sample_entry)\n",
        "print('data type:', type(sample_entry))"
      ],
      "metadata": {
        "trusted": true,
        "execution": {
          "iopub.status.busy": "2025-04-15T12:30:58.12199Z",
          "iopub.execute_input": "2025-04-15T12:30:58.122255Z",
          "iopub.status.idle": "2025-04-15T12:30:58.12723Z",
          "shell.execute_reply.started": "2025-04-15T12:30:58.122238Z",
          "shell.execute_reply": "2025-04-15T12:30:58.126281Z"
        },
        "id": "NS25RqRcfUUW",
        "outputId": "47e6c0e9-d866-496d-8b0d-27def5490073"
      },
      "outputs": [
        {
          "name": "stdout",
          "text": "b'\\xa7A\\xa6n'\ndata type: <class 'bytes'>\n",
          "output_type": "stream"
        }
      ],
      "execution_count": null
    },
    {
      "cell_type": "markdown",
      "source": [
        "You notice that it doesn't use the standard UTF-8 encoding.\n",
        "\n",
        "Use the next code cell to create a variable `new_entry` that changes the encoding from `\"big5-tw\"` to `\"utf-8\"`.  `new_entry` should have the bytes datatype."
      ],
      "metadata": {
        "id": "qEmxkKeefUUW"
      }
    },
    {
      "cell_type": "code",
      "source": [
        "new_entry = sample_entry.decode(\"big5-tw\").encode(\"utf-8\")\n",
        "\n",
        "# Check your answer\n",
        "q1.check()"
      ],
      "metadata": {
        "trusted": true,
        "execution": {
          "iopub.status.busy": "2025-04-15T12:32:31.401837Z",
          "iopub.execute_input": "2025-04-15T12:32:31.402095Z",
          "iopub.status.idle": "2025-04-15T12:32:31.409494Z",
          "shell.execute_reply.started": "2025-04-15T12:32:31.402078Z",
          "shell.execute_reply": "2025-04-15T12:32:31.40862Z"
        },
        "id": "Kq22uxqQfUUW",
        "outputId": "0d044589-a030-43a8-e3ae-a2eab8387468"
      },
      "outputs": [
        {
          "output_type": "display_data",
          "data": {
            "text/plain": "<IPython.core.display.Javascript object>",
            "application/javascript": "parent.postMessage({\"jupyterEvent\": \"custom.exercise_interaction\", \"data\": {\"outcomeType\": 1, \"valueTowardsCompletion\": 0.3333333333333333, \"interactionType\": 1, \"questionType\": 1, \"questionId\": \"1_EncodingsIntro\", \"learnToolsVersion\": \"0.3.5\", \"failureMessage\": \"\", \"exceptionClass\": \"\", \"trace\": \"\"}}, \"*\")"
          },
          "metadata": {}
        },
        {
          "output_type": "display_data",
          "data": {
            "text/plain": "Correct",
            "text/markdown": "<span style=\"color:#33cc33\">Correct</span>"
          },
          "metadata": {}
        }
      ],
      "execution_count": null
    },
    {
      "cell_type": "code",
      "source": [
        "# Lines below will give you a hint or solution code\n",
        "#q1.hint()\n",
        "#q1.solution()\n",
        "#new_entry = sample_entry.encode(\"utf-8\", errors=\"replace\")\n",
        "sample_entry.decode(\"big5-tw\").encode(\"utf-8\")"
      ],
      "metadata": {
        "trusted": true,
        "execution": {
          "iopub.status.busy": "2025-04-15T12:32:22.53235Z",
          "iopub.execute_input": "2025-04-15T12:32:22.53261Z",
          "iopub.status.idle": "2025-04-15T12:32:22.537854Z",
          "shell.execute_reply.started": "2025-04-15T12:32:22.532594Z",
          "shell.execute_reply": "2025-04-15T12:32:22.536933Z"
        },
        "id": "rVsDkO-pfUUW",
        "outputId": "1dcd5708-fcac-48f7-f5bf-311518122655"
      },
      "outputs": [
        {
          "execution_count": 14,
          "output_type": "execute_result",
          "data": {
            "text/plain": "b'\\xe4\\xbd\\xa0\\xe5\\xa5\\xbd'"
          },
          "metadata": {}
        }
      ],
      "execution_count": null
    },
    {
      "cell_type": "markdown",
      "source": [
        "# 2) Reading in files with encoding problems\n",
        "\n",
        "Use the code cell below to read in this file at path `\"../input/fatal-police-shootings-in-the-us/PoliceKillingsUS.csv\"`.  \n",
        "\n",
        "Figure out what the correct encoding should be and read in the file to a DataFrame `police_killings`."
      ],
      "metadata": {
        "id": "W5u0DOw4fUUW"
      }
    },
    {
      "cell_type": "code",
      "source": [
        "# TODO: Load in the DataFrame correctly.\n",
        "police_killings = pd.read_csv(\"../input/fatal-police-shootings-in-the-us/PoliceKillingsUS.csv\", encoding='windows-1250')\n",
        "\n",
        "# Check your answer\n",
        "q2.check()"
      ],
      "metadata": {
        "trusted": true,
        "execution": {
          "iopub.status.busy": "2025-04-15T12:45:20.832829Z",
          "iopub.execute_input": "2025-04-15T12:45:20.833592Z",
          "iopub.status.idle": "2025-04-15T12:45:20.854315Z",
          "shell.execute_reply.started": "2025-04-15T12:45:20.833568Z",
          "shell.execute_reply": "2025-04-15T12:45:20.853638Z"
        },
        "id": "LTbJCIWnfUUW",
        "outputId": "8dc0b5db-c7aa-40d2-a7fc-001ee3d1d6fb"
      },
      "outputs": [
        {
          "output_type": "display_data",
          "data": {
            "text/plain": "<IPython.core.display.Javascript object>",
            "application/javascript": "parent.postMessage({\"jupyterEvent\": \"custom.exercise_interaction\", \"data\": {\"outcomeType\": 1, \"valueTowardsCompletion\": 0.3333333333333333, \"interactionType\": 1, \"questionType\": 1, \"questionId\": \"2_ReadIn\", \"learnToolsVersion\": \"0.3.5\", \"failureMessage\": \"\", \"exceptionClass\": \"\", \"trace\": \"\"}}, \"*\")"
          },
          "metadata": {}
        },
        {
          "output_type": "display_data",
          "data": {
            "text/plain": "Correct",
            "text/markdown": "<span style=\"color:#33cc33\">Correct</span>"
          },
          "metadata": {}
        }
      ],
      "execution_count": null
    },
    {
      "cell_type": "markdown",
      "source": [
        "Feel free to use any additional code cells for supplemental work.  To get credit for finishing this question, you'll need to run `q2.check()` and get a result of **Correct**."
      ],
      "metadata": {
        "id": "h4jf1H0kfUUW"
      }
    },
    {
      "cell_type": "code",
      "source": [
        "# (Optional) Use this code cell for any additional work.\n",
        "with open(\"../input/fatal-police-shootings-in-the-us/PoliceKillingsUS.csv\", 'rb') as rawdata:\n",
        "    result = charset_normalizer.detect(rawdata.read(100000))\n",
        "\n",
        "print(result)"
      ],
      "metadata": {
        "trusted": true,
        "execution": {
          "iopub.status.busy": "2025-04-15T12:45:25.86106Z",
          "iopub.execute_input": "2025-04-15T12:45:25.861577Z",
          "iopub.status.idle": "2025-04-15T12:45:26.201831Z",
          "shell.execute_reply.started": "2025-04-15T12:45:25.861554Z",
          "shell.execute_reply": "2025-04-15T12:45:26.200899Z"
        },
        "id": "NRtg6JVYfUUW",
        "outputId": "133159a0-d499-43b5-957f-a2c9b07016b7"
      },
      "outputs": [
        {
          "name": "stdout",
          "text": "{'encoding': 'windows-1250', 'language': 'English', 'confidence': 1.0}\n",
          "output_type": "stream"
        }
      ],
      "execution_count": null
    },
    {
      "cell_type": "code",
      "source": [
        "# Lines below will give you a hint or solution code\n",
        "#q2.hint()\n",
        "#q2.solution()"
      ],
      "metadata": {
        "trusted": true,
        "execution": {
          "iopub.status.busy": "2025-04-15T12:45:26.360181Z",
          "iopub.execute_input": "2025-04-15T12:45:26.36096Z",
          "iopub.status.idle": "2025-04-15T12:45:26.364536Z",
          "shell.execute_reply.started": "2025-04-15T12:45:26.360933Z",
          "shell.execute_reply": "2025-04-15T12:45:26.363496Z"
        },
        "id": "2gpWNPO6fUUX"
      },
      "outputs": [],
      "execution_count": null
    },
    {
      "cell_type": "markdown",
      "source": [
        "# 3) Saving your files with UTF-8 encoding\n",
        "\n",
        "Save a version of the police killings dataset to CSV with UTF-8 encoding.  Your answer will be marked correct after saving this file.  \n",
        "\n",
        "Note: When using the `to_csv()` method, supply only the name of the file (e.g., `\"my_file.csv\"`).  This saves the file at the filepath `\"/kaggle/working/my_file.csv\"`."
      ],
      "metadata": {
        "id": "gl3rJL3efUUX"
      }
    },
    {
      "cell_type": "code",
      "source": [
        "# TODO: Save the police killings dataset to CSV\n",
        "police_killings.to_csv(\"/kaggle/working/my_file.csv\")\n",
        "\n",
        "# Check your answer\n",
        "q3.check()"
      ],
      "metadata": {
        "id": "73HlJ4IkfUUX"
      },
      "outputs": [],
      "execution_count": null
    },
    {
      "cell_type": "code",
      "source": [
        "# Lines below will give you a hint or solution code\n",
        "#q3.hint()\n",
        "#q3.solution()"
      ],
      "metadata": {
        "id": "Nv9cgQvifUUX"
      },
      "outputs": [],
      "execution_count": null
    },
    {
      "cell_type": "markdown",
      "source": [
        "# (Optional) More practice\n",
        "\n",
        "Check out [this dataset of files in different character encodings](https://www.kaggle.com/rtatman/character-encoding-examples). Can you read in all the files with their original encodings and them save them out as UTF-8 files?\n",
        "\n",
        "If you have a file that's in UTF-8 but has just a couple of weird-looking characters in it, you can try out the [ftfy module](https://ftfy.readthedocs.io/en/latest/#) and see if it helps.\n",
        "\n",
        "# Keep going\n",
        "\n",
        "In the final lesson, learn how to [**clean up inconsistent text entries**](https://www.kaggle.com/alexisbcook/inconsistent-data-entry) in your dataset."
      ],
      "metadata": {
        "id": "dR6sni2QfUUX"
      }
    },
    {
      "cell_type": "markdown",
      "source": [
        "---\n",
        "\n",
        "\n",
        "\n",
        "\n",
        "*Have questions or comments? Visit the [course discussion forum](https://www.kaggle.com/learn/data-cleaning/discussion) to chat with other learners.*"
      ],
      "metadata": {
        "id": "DGFrEDbrfUUX"
      }
    }
  ]
}