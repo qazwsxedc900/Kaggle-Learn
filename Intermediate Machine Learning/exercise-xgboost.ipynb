{
 "cells": [
  {
   "cell_type": "markdown",
   "id": "e0b0faf5",
   "metadata": {
    "papermill": {
     "duration": 0.004535,
     "end_time": "2025-05-05T06:37:40.372528",
     "exception": false,
     "start_time": "2025-05-05T06:37:40.367993",
     "status": "completed"
    },
    "tags": []
   },
   "source": [
    "**This notebook is an exercise in the [Intermediate Machine Learning](https://www.kaggle.com/learn/intermediate-machine-learning) course.  You can reference the tutorial at [this link](https://www.kaggle.com/alexisbcook/xgboost).**\n",
    "\n",
    "---\n"
   ]
  },
  {
   "cell_type": "markdown",
   "id": "bec06a4b",
   "metadata": {
    "papermill": {
     "duration": 0.00348,
     "end_time": "2025-05-05T06:37:40.380153",
     "exception": false,
     "start_time": "2025-05-05T06:37:40.376673",
     "status": "completed"
    },
    "tags": []
   },
   "source": [
    "In this exercise, you will use your new knowledge to train a model with **gradient boosting**.\n",
    "\n",
    "# Setup\n",
    "\n",
    "The questions below will give you feedback on your work. Run the following cell to set up the feedback system."
   ]
  },
  {
   "cell_type": "code",
   "execution_count": 1,
   "id": "9882a388",
   "metadata": {
    "execution": {
     "iopub.execute_input": "2025-05-05T06:37:40.389057Z",
     "iopub.status.busy": "2025-05-05T06:37:40.388649Z",
     "iopub.status.idle": "2025-05-05T06:37:44.815550Z",
     "shell.execute_reply": "2025-05-05T06:37:44.814574Z"
    },
    "papermill": {
     "duration": 4.433129,
     "end_time": "2025-05-05T06:37:44.817050",
     "exception": false,
     "start_time": "2025-05-05T06:37:40.383921",
     "status": "completed"
    },
    "tags": []
   },
   "outputs": [
    {
     "name": "stdout",
     "output_type": "stream",
     "text": [
      "Setup Complete\n"
     ]
    }
   ],
   "source": [
    "# Set up code checking\n",
    "import os\n",
    "if not os.path.exists(\"../input/train.csv\"):\n",
    "    os.symlink(\"../input/home-data-for-ml-course/train.csv\", \"../input/train.csv\")  \n",
    "    os.symlink(\"../input/home-data-for-ml-course/test.csv\", \"../input/test.csv\") \n",
    "from learntools.core import binder\n",
    "binder.bind(globals())\n",
    "from learntools.ml_intermediate.ex6 import *\n",
    "print(\"Setup Complete\")"
   ]
  },
  {
   "cell_type": "markdown",
   "id": "948c58eb",
   "metadata": {
    "papermill": {
     "duration": 0.003603,
     "end_time": "2025-05-05T06:37:44.824572",
     "exception": false,
     "start_time": "2025-05-05T06:37:44.820969",
     "status": "completed"
    },
    "tags": []
   },
   "source": [
    "You will work with the [Housing Prices Competition for Kaggle Learn Users](https://www.kaggle.com/c/home-data-for-ml-course) dataset from the previous exercise. \n",
    "\n",
    "![Ames Housing dataset image](https://storage.googleapis.com/kaggle-media/learn/images/lTJVG4e.png)\n",
    "\n",
    "Run the next code cell without changes to load the training and validation sets in `X_train`, `X_valid`, `y_train`, and `y_valid`.  The test set is loaded in `X_test`."
   ]
  },
  {
   "cell_type": "code",
   "execution_count": 2,
   "id": "d7be5d2a",
   "metadata": {
    "execution": {
     "iopub.execute_input": "2025-05-05T06:37:44.833655Z",
     "iopub.status.busy": "2025-05-05T06:37:44.832923Z",
     "iopub.status.idle": "2025-05-05T06:37:45.061352Z",
     "shell.execute_reply": "2025-05-05T06:37:45.060560Z"
    },
    "papermill": {
     "duration": 0.234706,
     "end_time": "2025-05-05T06:37:45.062969",
     "exception": false,
     "start_time": "2025-05-05T06:37:44.828263",
     "status": "completed"
    },
    "tags": []
   },
   "outputs": [],
   "source": [
    "import pandas as pd\n",
    "from sklearn.model_selection import train_test_split\n",
    "\n",
    "# Read the data\n",
    "X = pd.read_csv('../input/train.csv', index_col='Id')\n",
    "X_test_full = pd.read_csv('../input/test.csv', index_col='Id')\n",
    "\n",
    "# Remove rows with missing target, separate target from predictors\n",
    "X.dropna(axis=0, subset=['SalePrice'], inplace=True)\n",
    "y = X.SalePrice              \n",
    "X.drop(['SalePrice'], axis=1, inplace=True)\n",
    "\n",
    "# Break off validation set from training data\n",
    "X_train_full, X_valid_full, y_train, y_valid = train_test_split(X, y, train_size=0.8, test_size=0.2,\n",
    "                                                                random_state=0)\n",
    "\n",
    "# \"Cardinality\" means the number of unique values in a column\n",
    "# Select categorical columns with relatively low cardinality (convenient but arbitrary)\n",
    "low_cardinality_cols = [cname for cname in X_train_full.columns if X_train_full[cname].nunique() < 10 and \n",
    "                        X_train_full[cname].dtype == \"object\"]\n",
    "\n",
    "# Select numeric columns\n",
    "numeric_cols = [cname for cname in X_train_full.columns if X_train_full[cname].dtype in ['int64', 'float64']]\n",
    "\n",
    "# Keep selected columns only\n",
    "my_cols = low_cardinality_cols + numeric_cols\n",
    "X_train = X_train_full[my_cols].copy()\n",
    "X_valid = X_valid_full[my_cols].copy()\n",
    "X_test = X_test_full[my_cols].copy()\n",
    "\n",
    "# One-hot encode the data (to shorten the code, we use pandas)\n",
    "X_train = pd.get_dummies(X_train)\n",
    "X_valid = pd.get_dummies(X_valid)\n",
    "X_test = pd.get_dummies(X_test)\n",
    "X_train, X_valid = X_train.align(X_valid, join='left', axis=1)\n",
    "X_train, X_test = X_train.align(X_test, join='left', axis=1)"
   ]
  },
  {
   "cell_type": "markdown",
   "id": "49ff26e5",
   "metadata": {
    "papermill": {
     "duration": 0.003666,
     "end_time": "2025-05-05T06:37:45.070580",
     "exception": false,
     "start_time": "2025-05-05T06:37:45.066914",
     "status": "completed"
    },
    "tags": []
   },
   "source": [
    "# Step 1: Build model\n",
    "\n",
    "### Part A\n",
    "\n",
    "In this step, you'll build and train your first model with gradient boosting.\n",
    "\n",
    "- Begin by setting `my_model_1` to an XGBoost model.  Use the [XGBRegressor](https://xgboost.readthedocs.io/en/latest/python/python_api.html#xgboost.XGBRegressor) class, and set the random seed to 0 (`random_state=0`).  **Leave all other parameters as default.**\n",
    "- Then, fit the model to the training data in `X_train` and `y_train`."
   ]
  },
  {
   "cell_type": "code",
   "execution_count": 3,
   "id": "0c16cf8f",
   "metadata": {
    "execution": {
     "iopub.execute_input": "2025-05-05T06:37:45.079687Z",
     "iopub.status.busy": "2025-05-05T06:37:45.078907Z",
     "iopub.status.idle": "2025-05-05T06:37:45.484473Z",
     "shell.execute_reply": "2025-05-05T06:37:45.483653Z"
    },
    "papermill": {
     "duration": 0.41165,
     "end_time": "2025-05-05T06:37:45.485916",
     "exception": false,
     "start_time": "2025-05-05T06:37:45.074266",
     "status": "completed"
    },
    "tags": []
   },
   "outputs": [
    {
     "data": {
      "application/javascript": [
       "parent.postMessage({\"jupyterEvent\": \"custom.exercise_interaction\", \"data\": {\"outcomeType\": 1, \"valueTowardsCompletion\": 0.5, \"interactionType\": 1, \"questionType\": 2, \"questionId\": \"1.1_Model1A\", \"learnToolsVersion\": \"0.3.5\", \"failureMessage\": \"\", \"exceptionClass\": \"\", \"trace\": \"\"}}, \"*\")"
      ],
      "text/plain": [
       "<IPython.core.display.Javascript object>"
      ]
     },
     "metadata": {},
     "output_type": "display_data"
    },
    {
     "data": {
      "text/markdown": [
       "<span style=\"color:#33cc33\">Correct</span>"
      ],
      "text/plain": [
       "Correct"
      ]
     },
     "metadata": {},
     "output_type": "display_data"
    }
   ],
   "source": [
    "from xgboost import XGBRegressor\n",
    "\n",
    "# Define the model\n",
    "my_model_1 = XGBRegressor(random_state=0) # Your code here\n",
    "\n",
    "# Fit the model\n",
    "my_model_1.fit(X_train, y_train) # Your code here\n",
    "\n",
    "# Check your answer\n",
    "step_1.a.check()"
   ]
  },
  {
   "cell_type": "code",
   "execution_count": 4,
   "id": "af3bf8bd",
   "metadata": {
    "execution": {
     "iopub.execute_input": "2025-05-05T06:37:45.495774Z",
     "iopub.status.busy": "2025-05-05T06:37:45.494944Z",
     "iopub.status.idle": "2025-05-05T06:37:45.499058Z",
     "shell.execute_reply": "2025-05-05T06:37:45.498231Z"
    },
    "papermill": {
     "duration": 0.010181,
     "end_time": "2025-05-05T06:37:45.500255",
     "exception": false,
     "start_time": "2025-05-05T06:37:45.490074",
     "status": "completed"
    },
    "tags": []
   },
   "outputs": [],
   "source": [
    "# Lines below will give you a hint or solution code\n",
    "#step_1.a.hint()\n",
    "#step_1.a.solution()"
   ]
  },
  {
   "cell_type": "markdown",
   "id": "1d6a85e3",
   "metadata": {
    "papermill": {
     "duration": 0.003657,
     "end_time": "2025-05-05T06:37:45.507928",
     "exception": false,
     "start_time": "2025-05-05T06:37:45.504271",
     "status": "completed"
    },
    "tags": []
   },
   "source": [
    "### Part B\n",
    "\n",
    "Set `predictions_1` to the model's predictions for the validation data.  Recall that the validation features are stored in `X_valid`."
   ]
  },
  {
   "cell_type": "code",
   "execution_count": 5,
   "id": "a95cdea9",
   "metadata": {
    "execution": {
     "iopub.execute_input": "2025-05-05T06:37:45.516990Z",
     "iopub.status.busy": "2025-05-05T06:37:45.516259Z",
     "iopub.status.idle": "2025-05-05T06:37:45.549650Z",
     "shell.execute_reply": "2025-05-05T06:37:45.548657Z"
    },
    "papermill": {
     "duration": 0.039602,
     "end_time": "2025-05-05T06:37:45.551300",
     "exception": false,
     "start_time": "2025-05-05T06:37:45.511698",
     "status": "completed"
    },
    "tags": []
   },
   "outputs": [
    {
     "data": {
      "application/javascript": [
       "parent.postMessage({\"jupyterEvent\": \"custom.exercise_interaction\", \"data\": {\"outcomeType\": 1, \"valueTowardsCompletion\": 0.5, \"interactionType\": 1, \"questionType\": 2, \"questionId\": \"1.2_Model1B\", \"learnToolsVersion\": \"0.3.5\", \"failureMessage\": \"\", \"exceptionClass\": \"\", \"trace\": \"\"}}, \"*\")"
      ],
      "text/plain": [
       "<IPython.core.display.Javascript object>"
      ]
     },
     "metadata": {},
     "output_type": "display_data"
    },
    {
     "data": {
      "text/markdown": [
       "<span style=\"color:#33cc33\">Correct</span>"
      ],
      "text/plain": [
       "Correct"
      ]
     },
     "metadata": {},
     "output_type": "display_data"
    }
   ],
   "source": [
    "from sklearn.metrics import mean_absolute_error\n",
    "\n",
    "# Get predictions\n",
    "predictions_1 = my_model_1.predict(X_valid) # Your code here\n",
    "\n",
    "# Check your answer\n",
    "step_1.b.check()"
   ]
  },
  {
   "cell_type": "code",
   "execution_count": 6,
   "id": "f97780e5",
   "metadata": {
    "execution": {
     "iopub.execute_input": "2025-05-05T06:37:45.560914Z",
     "iopub.status.busy": "2025-05-05T06:37:45.560596Z",
     "iopub.status.idle": "2025-05-05T06:37:45.564099Z",
     "shell.execute_reply": "2025-05-05T06:37:45.563429Z"
    },
    "papermill": {
     "duration": 0.009835,
     "end_time": "2025-05-05T06:37:45.565398",
     "exception": false,
     "start_time": "2025-05-05T06:37:45.555563",
     "status": "completed"
    },
    "tags": []
   },
   "outputs": [],
   "source": [
    "# Lines below will give you a hint or solution code\n",
    "#step_1.b.hint()\n",
    "#step_1.b.solution()"
   ]
  },
  {
   "cell_type": "markdown",
   "id": "49139280",
   "metadata": {
    "papermill": {
     "duration": 0.003733,
     "end_time": "2025-05-05T06:37:45.573352",
     "exception": false,
     "start_time": "2025-05-05T06:37:45.569619",
     "status": "completed"
    },
    "tags": []
   },
   "source": [
    "### Part C\n",
    "\n",
    "Finally, use the `mean_absolute_error()` function to calculate the mean absolute error (MAE) corresponding to the predictions for the validation set.  Recall that the labels for the validation data are stored in `y_valid`."
   ]
  },
  {
   "cell_type": "code",
   "execution_count": 7,
   "id": "f84f7c96",
   "metadata": {
    "execution": {
     "iopub.execute_input": "2025-05-05T06:37:45.582554Z",
     "iopub.status.busy": "2025-05-05T06:37:45.582213Z",
     "iopub.status.idle": "2025-05-05T06:37:45.591142Z",
     "shell.execute_reply": "2025-05-05T06:37:45.590393Z"
    },
    "papermill": {
     "duration": 0.01505,
     "end_time": "2025-05-05T06:37:45.592419",
     "exception": false,
     "start_time": "2025-05-05T06:37:45.577369",
     "status": "completed"
    },
    "tags": []
   },
   "outputs": [
    {
     "name": "stdout",
     "output_type": "stream",
     "text": [
      "Mean Absolute Error: 18161.82412510702\n"
     ]
    },
    {
     "data": {
      "application/javascript": [
       "parent.postMessage({\"jupyterEvent\": \"custom.exercise_interaction\", \"data\": {\"outcomeType\": 1, \"valueTowardsCompletion\": 0.5, \"interactionType\": 1, \"questionType\": 2, \"questionId\": \"1.3_Model1C\", \"learnToolsVersion\": \"0.3.5\", \"failureMessage\": \"\", \"exceptionClass\": \"\", \"trace\": \"\"}}, \"*\")"
      ],
      "text/plain": [
       "<IPython.core.display.Javascript object>"
      ]
     },
     "metadata": {},
     "output_type": "display_data"
    },
    {
     "data": {
      "text/markdown": [
       "<span style=\"color:#33cc33\">Correct</span>"
      ],
      "text/plain": [
       "Correct"
      ]
     },
     "metadata": {},
     "output_type": "display_data"
    }
   ],
   "source": [
    "# Calculate MAE\n",
    "mae_1 = mean_absolute_error(predictions_1, y_valid) # Your code here\n",
    "\n",
    "# Uncomment to print MAE\n",
    "print(\"Mean Absolute Error:\" , mae_1)\n",
    "\n",
    "# Check your answer\n",
    "step_1.c.check()"
   ]
  },
  {
   "cell_type": "code",
   "execution_count": 8,
   "id": "05f44444",
   "metadata": {
    "execution": {
     "iopub.execute_input": "2025-05-05T06:37:45.602250Z",
     "iopub.status.busy": "2025-05-05T06:37:45.601957Z",
     "iopub.status.idle": "2025-05-05T06:37:45.605912Z",
     "shell.execute_reply": "2025-05-05T06:37:45.605123Z"
    },
    "papermill": {
     "duration": 0.010402,
     "end_time": "2025-05-05T06:37:45.607185",
     "exception": false,
     "start_time": "2025-05-05T06:37:45.596783",
     "status": "completed"
    },
    "tags": []
   },
   "outputs": [],
   "source": [
    "# Lines below will give you a hint or solution code\n",
    "#step_1.c.hint()\n",
    "#step_1.c.solution()"
   ]
  },
  {
   "cell_type": "markdown",
   "id": "be95ce36",
   "metadata": {
    "papermill": {
     "duration": 0.004225,
     "end_time": "2025-05-05T06:37:45.615854",
     "exception": false,
     "start_time": "2025-05-05T06:37:45.611629",
     "status": "completed"
    },
    "tags": []
   },
   "source": [
    "# Step 2: Improve the model\n",
    "\n",
    "Now that you've trained a default model as baseline, it's time to tinker with the parameters, to see if you can get better performance!\n",
    "- Begin by setting `my_model_2` to an XGBoost model, using the [XGBRegressor](https://xgboost.readthedocs.io/en/latest/python/python_api.html#xgboost.XGBRegressor) class.  Use what you learned in the previous tutorial to figure out how to change the default parameters (like `n_estimators` and `learning_rate`) to get better results.\n",
    "- Then, fit the model to the training data in `X_train` and `y_train`.\n",
    "- Set `predictions_2` to the model's predictions for the validation data.  Recall that the validation features are stored in `X_valid`.\n",
    "- Finally, use the `mean_absolute_error()` function to calculate the mean absolute error (MAE) corresponding to the predictions on the validation set.  Recall that the labels for the validation data are stored in `y_valid`.\n",
    "\n",
    "In order for this step to be marked correct, your model in `my_model_2` must attain lower MAE than the model in `my_model_1`. "
   ]
  },
  {
   "cell_type": "code",
   "execution_count": 9,
   "id": "d4911c1d",
   "metadata": {
    "execution": {
     "iopub.execute_input": "2025-05-05T06:37:45.625499Z",
     "iopub.status.busy": "2025-05-05T06:37:45.625198Z",
     "iopub.status.idle": "2025-05-05T06:37:46.099725Z",
     "shell.execute_reply": "2025-05-05T06:37:46.098676Z"
    },
    "papermill": {
     "duration": 0.481149,
     "end_time": "2025-05-05T06:37:46.101229",
     "exception": false,
     "start_time": "2025-05-05T06:37:45.620080",
     "status": "completed"
    },
    "tags": []
   },
   "outputs": [
    {
     "name": "stdout",
     "output_type": "stream",
     "text": [
      "Mean Absolute Error: 17208.455920911816\n"
     ]
    },
    {
     "data": {
      "application/javascript": [
       "parent.postMessage({\"jupyterEvent\": \"custom.exercise_interaction\", \"data\": {\"outcomeType\": 1, \"valueTowardsCompletion\": 0.5, \"interactionType\": 1, \"questionType\": 2, \"questionId\": \"2_Model2\", \"learnToolsVersion\": \"0.3.5\", \"failureMessage\": \"\", \"exceptionClass\": \"\", \"trace\": \"\"}}, \"*\")"
      ],
      "text/plain": [
       "<IPython.core.display.Javascript object>"
      ]
     },
     "metadata": {},
     "output_type": "display_data"
    },
    {
     "data": {
      "text/markdown": [
       "<span style=\"color:#33cc33\">Correct</span>"
      ],
      "text/plain": [
       "Correct"
      ]
     },
     "metadata": {},
     "output_type": "display_data"
    }
   ],
   "source": [
    "# Define the model\n",
    "my_model_2 = XGBRegressor(n_estimators = 100, learning_rate = 0.05) # Your code here\n",
    "\n",
    "# Fit the model\n",
    "my_model_2.fit(X_train, y_train) # Your code here\n",
    "\n",
    "# Get predictions\n",
    "predictions_2 = my_model_2.predict(X_valid) # Your code here\n",
    "\n",
    "# Calculate MAE\n",
    "mae_2 = mean_absolute_error(predictions_2, y_valid) # Your code here\n",
    "\n",
    "# Uncomment to print MAE\n",
    "print(\"Mean Absolute Error:\" , mae_2)\n",
    "\n",
    "# Check your answer\n",
    "step_2.check()"
   ]
  },
  {
   "cell_type": "code",
   "execution_count": 10,
   "id": "0926d3f4",
   "metadata": {
    "execution": {
     "iopub.execute_input": "2025-05-05T06:37:46.111805Z",
     "iopub.status.busy": "2025-05-05T06:37:46.111442Z",
     "iopub.status.idle": "2025-05-05T06:37:46.115238Z",
     "shell.execute_reply": "2025-05-05T06:37:46.114542Z"
    },
    "papermill": {
     "duration": 0.010607,
     "end_time": "2025-05-05T06:37:46.116608",
     "exception": false,
     "start_time": "2025-05-05T06:37:46.106001",
     "status": "completed"
    },
    "tags": []
   },
   "outputs": [],
   "source": [
    "# Lines below will give you a hint or solution code\n",
    "#step_2.hint()\n",
    "#step_2.solution()"
   ]
  },
  {
   "cell_type": "markdown",
   "id": "5d6b6d2c",
   "metadata": {
    "papermill": {
     "duration": 0.004234,
     "end_time": "2025-05-05T06:37:46.125916",
     "exception": false,
     "start_time": "2025-05-05T06:37:46.121682",
     "status": "completed"
    },
    "tags": []
   },
   "source": [
    "# Step 3: Break the model\n",
    "\n",
    "In this step, you will create a model that performs worse than the original model in Step 1.  This will help you to develop your intuition for how to set parameters.  You might even find that you accidentally get better performance, which is ultimately a nice problem to have and a valuable learning experience!\n",
    "- Begin by setting `my_model_3` to an XGBoost model, using the [XGBRegressor](https://xgboost.readthedocs.io/en/latest/python/python_api.html#xgboost.XGBRegressor) class.  Use what you learned in the previous tutorial to figure out how to change the default parameters (like `n_estimators` and `learning_rate`) to design a model to get high MAE.\n",
    "- Then, fit the model to the training data in `X_train` and `y_train`.\n",
    "- Set `predictions_3` to the model's predictions for the validation data.  Recall that the validation features are stored in `X_valid`.\n",
    "- Finally, use the `mean_absolute_error()` function to calculate the mean absolute error (MAE) corresponding to the predictions on the validation set.  Recall that the labels for the validation data are stored in `y_valid`.\n",
    "\n",
    "In order for this step to be marked correct, your model in `my_model_3` must attain higher MAE than the model in `my_model_1`. "
   ]
  },
  {
   "cell_type": "code",
   "execution_count": 11,
   "id": "582d2a4e",
   "metadata": {
    "execution": {
     "iopub.execute_input": "2025-05-05T06:37:46.136022Z",
     "iopub.status.busy": "2025-05-05T06:37:46.135715Z",
     "iopub.status.idle": "2025-05-05T06:37:46.300429Z",
     "shell.execute_reply": "2025-05-05T06:37:46.299743Z"
    },
    "papermill": {
     "duration": 0.171782,
     "end_time": "2025-05-05T06:37:46.302075",
     "exception": false,
     "start_time": "2025-05-05T06:37:46.130293",
     "status": "completed"
    },
    "tags": []
   },
   "outputs": [
    {
     "name": "stdout",
     "output_type": "stream",
     "text": [
      "Mean Absolute Error: 20435.57902129709\n"
     ]
    },
    {
     "data": {
      "application/javascript": [
       "parent.postMessage({\"jupyterEvent\": \"custom.exercise_interaction\", \"data\": {\"outcomeType\": 1, \"valueTowardsCompletion\": 0.5, \"interactionType\": 1, \"questionType\": 2, \"questionId\": \"3_Model3\", \"learnToolsVersion\": \"0.3.5\", \"failureMessage\": \"\", \"exceptionClass\": \"\", \"trace\": \"\"}}, \"*\")"
      ],
      "text/plain": [
       "<IPython.core.display.Javascript object>"
      ]
     },
     "metadata": {},
     "output_type": "display_data"
    },
    {
     "data": {
      "text/markdown": [
       "<span style=\"color:#33cc33\">Correct</span>"
      ],
      "text/plain": [
       "Correct"
      ]
     },
     "metadata": {},
     "output_type": "display_data"
    }
   ],
   "source": [
    "# Define the model\n",
    "my_model_3 = XGBRegressor(n_estimators = 20, learning_rate = 0.5)\n",
    "\n",
    "# Fit the model\n",
    "my_model_3.fit(X_train, y_train) # Your code here\n",
    "\n",
    "# Get predictions\n",
    "predictions_3 = my_model_3.predict(X_valid)\n",
    "\n",
    "# Calculate MAE\n",
    "mae_3 = mean_absolute_error(predictions_3, y_valid)\n",
    "\n",
    "# Uncomment to print MAE\n",
    "print(\"Mean Absolute Error:\" , mae_3)\n",
    "\n",
    "# Check your answer\n",
    "step_3.check()"
   ]
  },
  {
   "cell_type": "code",
   "execution_count": 12,
   "id": "06285e39",
   "metadata": {
    "execution": {
     "iopub.execute_input": "2025-05-05T06:37:46.312892Z",
     "iopub.status.busy": "2025-05-05T06:37:46.312341Z",
     "iopub.status.idle": "2025-05-05T06:37:46.316329Z",
     "shell.execute_reply": "2025-05-05T06:37:46.315446Z"
    },
    "papermill": {
     "duration": 0.011029,
     "end_time": "2025-05-05T06:37:46.317827",
     "exception": false,
     "start_time": "2025-05-05T06:37:46.306798",
     "status": "completed"
    },
    "tags": []
   },
   "outputs": [],
   "source": [
    "# Lines below will give you a hint or solution code\n",
    "#step_3.hint()\n",
    "#step_3.solution()"
   ]
  },
  {
   "cell_type": "markdown",
   "id": "58c96433",
   "metadata": {
    "papermill": {
     "duration": 0.004423,
     "end_time": "2025-05-05T06:37:46.327125",
     "exception": false,
     "start_time": "2025-05-05T06:37:46.322702",
     "status": "completed"
    },
    "tags": []
   },
   "source": [
    "# Keep going\n",
    "\n",
    "Continue to learn about **[data leakage](https://www.kaggle.com/alexisbcook/data-leakage)**.  This is an important issue for a data scientist to understand, and it has the potential to ruin your models in subtle and dangerous ways!"
   ]
  },
  {
   "cell_type": "markdown",
   "id": "28cd208f",
   "metadata": {
    "papermill": {
     "duration": 0.004682,
     "end_time": "2025-05-05T06:37:46.336390",
     "exception": false,
     "start_time": "2025-05-05T06:37:46.331708",
     "status": "completed"
    },
    "tags": []
   },
   "source": [
    "---\n",
    "\n",
    "\n",
    "\n",
    "\n",
    "*Have questions or comments? Visit the [course discussion forum](https://www.kaggle.com/learn/intermediate-machine-learning/discussion) to chat with other learners.*"
   ]
  }
 ],
 "metadata": {
  "kaggle": {
   "accelerator": "none",
   "dataSources": [
    {
     "databundleVersionId": 111096,
     "sourceId": 10211,
     "sourceType": "competition"
    }
   ],
   "isGpuEnabled": false,
   "isInternetEnabled": false,
   "language": "python",
   "sourceType": "notebook"
  },
  "kernelspec": {
   "display_name": "Python 3",
   "language": "python",
   "name": "python3"
  },
  "language_info": {
   "codemirror_mode": {
    "name": "ipython",
    "version": 3
   },
   "file_extension": ".py",
   "mimetype": "text/x-python",
   "name": "python",
   "nbconvert_exporter": "python",
   "pygments_lexer": "ipython3",
   "version": "3.11.11"
  },
  "papermill": {
   "default_parameters": {},
   "duration": 11.260082,
   "end_time": "2025-05-05T06:37:46.960691",
   "environment_variables": {},
   "exception": null,
   "input_path": "__notebook__.ipynb",
   "output_path": "__notebook__.ipynb",
   "parameters": {},
   "start_time": "2025-05-05T06:37:35.700609",
   "version": "2.6.0"
  }
 },
 "nbformat": 4,
 "nbformat_minor": 5
}
