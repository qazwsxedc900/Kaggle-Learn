{
 "cells": [
  {
   "cell_type": "markdown",
   "id": "f86573ca",
   "metadata": {
    "papermill": {
     "duration": 0.0068,
     "end_time": "2025-05-01T09:11:52.530682",
     "exception": false,
     "start_time": "2025-05-01T09:11:52.523882",
     "status": "completed"
    },
    "tags": []
   },
   "source": [
    "**This notebook is an exercise in the [Intermediate Machine Learning](https://www.kaggle.com/learn/intermediate-machine-learning) course.  You can reference the tutorial at [this link](https://www.kaggle.com/alexisbcook/missing-values).**\n",
    "\n",
    "---\n"
   ]
  },
  {
   "cell_type": "markdown",
   "id": "e3a92283",
   "metadata": {
    "papermill": {
     "duration": 0.005821,
     "end_time": "2025-05-01T09:11:52.542485",
     "exception": false,
     "start_time": "2025-05-01T09:11:52.536664",
     "status": "completed"
    },
    "tags": []
   },
   "source": [
    "Now it's your turn to test your new knowledge of **missing values** handling. You'll probably find it makes a big difference.\n",
    "\n",
    "# Setup\n",
    "\n",
    "The questions will give you feedback on your work. Run the following cell to set up the feedback system."
   ]
  },
  {
   "cell_type": "code",
   "execution_count": 1,
   "id": "921aa6fd",
   "metadata": {
    "execution": {
     "iopub.execute_input": "2025-05-01T09:11:52.556941Z",
     "iopub.status.busy": "2025-05-01T09:11:52.556616Z",
     "iopub.status.idle": "2025-05-01T09:11:54.419923Z",
     "shell.execute_reply": "2025-05-01T09:11:54.418813Z"
    },
    "papermill": {
     "duration": 1.871902,
     "end_time": "2025-05-01T09:11:54.421516",
     "exception": false,
     "start_time": "2025-05-01T09:11:52.549614",
     "status": "completed"
    },
    "tags": []
   },
   "outputs": [
    {
     "name": "stdout",
     "output_type": "stream",
     "text": [
      "Setup Complete\n"
     ]
    }
   ],
   "source": [
    "# Set up code checking\n",
    "import os\n",
    "if not os.path.exists(\"../input/train.csv\"):\n",
    "    os.symlink(\"../input/home-data-for-ml-course/train.csv\", \"../input/train.csv\")  \n",
    "    os.symlink(\"../input/home-data-for-ml-course/test.csv\", \"../input/test.csv\") \n",
    "from learntools.core import binder\n",
    "binder.bind(globals())\n",
    "from learntools.ml_intermediate.ex2 import *\n",
    "print(\"Setup Complete\")"
   ]
  },
  {
   "cell_type": "markdown",
   "id": "aca7b2c1",
   "metadata": {
    "papermill": {
     "duration": 0.005623,
     "end_time": "2025-05-01T09:11:54.433253",
     "exception": false,
     "start_time": "2025-05-01T09:11:54.427630",
     "status": "completed"
    },
    "tags": []
   },
   "source": [
    "In this exercise, you will work with data from the [Housing Prices Competition for Kaggle Learn Users](https://www.kaggle.com/c/home-data-for-ml-course). \n",
    "\n",
    "![Ames Housing dataset image](https://storage.googleapis.com/kaggle-media/learn/images/lTJVG4e.png)\n",
    "\n",
    "Run the next code cell without changes to load the training and validation sets in `X_train`, `X_valid`, `y_train`, and `y_valid`.  The test set is loaded in `X_test`."
   ]
  },
  {
   "cell_type": "code",
   "execution_count": 2,
   "id": "c4b41294",
   "metadata": {
    "execution": {
     "iopub.execute_input": "2025-05-01T09:11:54.446988Z",
     "iopub.status.busy": "2025-05-01T09:11:54.446535Z",
     "iopub.status.idle": "2025-05-01T09:11:56.253728Z",
     "shell.execute_reply": "2025-05-01T09:11:56.252525Z"
    },
    "papermill": {
     "duration": 1.816476,
     "end_time": "2025-05-01T09:11:56.255863",
     "exception": false,
     "start_time": "2025-05-01T09:11:54.439387",
     "status": "completed"
    },
    "tags": []
   },
   "outputs": [],
   "source": [
    "import pandas as pd\n",
    "from sklearn.model_selection import train_test_split\n",
    "\n",
    "# Read the data\n",
    "X_full = pd.read_csv('../input/train.csv', index_col='Id')\n",
    "X_test_full = pd.read_csv('../input/test.csv', index_col='Id')\n",
    "\n",
    "# Remove rows with missing target, separate target from predictors\n",
    "#subset表示他會看這一列，有空的才會去除\n",
    "X_full.dropna(axis=0, subset=['SalePrice'], inplace=True)\n",
    "y = X_full.SalePrice\n",
    "X_full.drop(['SalePrice'], axis=1, inplace=True)\n",
    "\n",
    "# To keep things simple, we'll use only numerical predictors\n",
    "X = X_full.select_dtypes(exclude=['object'])\n",
    "X_test = X_test_full.select_dtypes(exclude=['object'])\n",
    "\n",
    "# Break off validation set from training data\n",
    "X_train, X_valid, y_train, y_valid = train_test_split(X, y, train_size=0.8, test_size=0.2,\n",
    "                                                      random_state=0)"
   ]
  },
  {
   "cell_type": "markdown",
   "id": "f7079b76",
   "metadata": {
    "papermill": {
     "duration": 0.005976,
     "end_time": "2025-05-01T09:11:56.269327",
     "exception": false,
     "start_time": "2025-05-01T09:11:56.263351",
     "status": "completed"
    },
    "tags": []
   },
   "source": [
    "Use the next code cell to print the first five rows of the data."
   ]
  },
  {
   "cell_type": "code",
   "execution_count": 3,
   "id": "39f2227a",
   "metadata": {
    "execution": {
     "iopub.execute_input": "2025-05-01T09:11:56.283612Z",
     "iopub.status.busy": "2025-05-01T09:11:56.282663Z",
     "iopub.status.idle": "2025-05-01T09:11:56.313021Z",
     "shell.execute_reply": "2025-05-01T09:11:56.311955Z"
    },
    "papermill": {
     "duration": 0.039182,
     "end_time": "2025-05-01T09:11:56.314860",
     "exception": false,
     "start_time": "2025-05-01T09:11:56.275678",
     "status": "completed"
    },
    "tags": []
   },
   "outputs": [
    {
     "name": "stderr",
     "output_type": "stream",
     "text": [
      "/usr/local/lib/python3.11/dist-packages/pandas/io/formats/format.py:1458: RuntimeWarning: invalid value encountered in greater\n",
      "  has_large_values = (abs_vals > 1e6).any()\n",
      "/usr/local/lib/python3.11/dist-packages/pandas/io/formats/format.py:1459: RuntimeWarning: invalid value encountered in less\n",
      "  has_small_values = ((abs_vals < 10 ** (-self.digits)) & (abs_vals > 0)).any()\n",
      "/usr/local/lib/python3.11/dist-packages/pandas/io/formats/format.py:1459: RuntimeWarning: invalid value encountered in greater\n",
      "  has_small_values = ((abs_vals < 10 ** (-self.digits)) & (abs_vals > 0)).any()\n",
      "/usr/local/lib/python3.11/dist-packages/pandas/io/formats/format.py:1458: RuntimeWarning: invalid value encountered in greater\n",
      "  has_large_values = (abs_vals > 1e6).any()\n",
      "/usr/local/lib/python3.11/dist-packages/pandas/io/formats/format.py:1459: RuntimeWarning: invalid value encountered in less\n",
      "  has_small_values = ((abs_vals < 10 ** (-self.digits)) & (abs_vals > 0)).any()\n",
      "/usr/local/lib/python3.11/dist-packages/pandas/io/formats/format.py:1459: RuntimeWarning: invalid value encountered in greater\n",
      "  has_small_values = ((abs_vals < 10 ** (-self.digits)) & (abs_vals > 0)).any()\n"
     ]
    },
    {
     "data": {
      "text/html": [
       "<div>\n",
       "<style scoped>\n",
       "    .dataframe tbody tr th:only-of-type {\n",
       "        vertical-align: middle;\n",
       "    }\n",
       "\n",
       "    .dataframe tbody tr th {\n",
       "        vertical-align: top;\n",
       "    }\n",
       "\n",
       "    .dataframe thead th {\n",
       "        text-align: right;\n",
       "    }\n",
       "</style>\n",
       "<table border=\"1\" class=\"dataframe\">\n",
       "  <thead>\n",
       "    <tr style=\"text-align: right;\">\n",
       "      <th></th>\n",
       "      <th>MSSubClass</th>\n",
       "      <th>LotFrontage</th>\n",
       "      <th>LotArea</th>\n",
       "      <th>OverallQual</th>\n",
       "      <th>OverallCond</th>\n",
       "      <th>YearBuilt</th>\n",
       "      <th>YearRemodAdd</th>\n",
       "      <th>MasVnrArea</th>\n",
       "      <th>BsmtFinSF1</th>\n",
       "      <th>BsmtFinSF2</th>\n",
       "      <th>...</th>\n",
       "      <th>GarageArea</th>\n",
       "      <th>WoodDeckSF</th>\n",
       "      <th>OpenPorchSF</th>\n",
       "      <th>EnclosedPorch</th>\n",
       "      <th>3SsnPorch</th>\n",
       "      <th>ScreenPorch</th>\n",
       "      <th>PoolArea</th>\n",
       "      <th>MiscVal</th>\n",
       "      <th>MoSold</th>\n",
       "      <th>YrSold</th>\n",
       "    </tr>\n",
       "    <tr>\n",
       "      <th>Id</th>\n",
       "      <th></th>\n",
       "      <th></th>\n",
       "      <th></th>\n",
       "      <th></th>\n",
       "      <th></th>\n",
       "      <th></th>\n",
       "      <th></th>\n",
       "      <th></th>\n",
       "      <th></th>\n",
       "      <th></th>\n",
       "      <th></th>\n",
       "      <th></th>\n",
       "      <th></th>\n",
       "      <th></th>\n",
       "      <th></th>\n",
       "      <th></th>\n",
       "      <th></th>\n",
       "      <th></th>\n",
       "      <th></th>\n",
       "      <th></th>\n",
       "      <th></th>\n",
       "    </tr>\n",
       "  </thead>\n",
       "  <tbody>\n",
       "    <tr>\n",
       "      <th>619</th>\n",
       "      <td>20</td>\n",
       "      <td>90.0</td>\n",
       "      <td>11694</td>\n",
       "      <td>9</td>\n",
       "      <td>5</td>\n",
       "      <td>2007</td>\n",
       "      <td>2007</td>\n",
       "      <td>452.0</td>\n",
       "      <td>48</td>\n",
       "      <td>0</td>\n",
       "      <td>...</td>\n",
       "      <td>774</td>\n",
       "      <td>0</td>\n",
       "      <td>108</td>\n",
       "      <td>0</td>\n",
       "      <td>0</td>\n",
       "      <td>260</td>\n",
       "      <td>0</td>\n",
       "      <td>0</td>\n",
       "      <td>7</td>\n",
       "      <td>2007</td>\n",
       "    </tr>\n",
       "    <tr>\n",
       "      <th>871</th>\n",
       "      <td>20</td>\n",
       "      <td>60.0</td>\n",
       "      <td>6600</td>\n",
       "      <td>5</td>\n",
       "      <td>5</td>\n",
       "      <td>1962</td>\n",
       "      <td>1962</td>\n",
       "      <td>0.0</td>\n",
       "      <td>0</td>\n",
       "      <td>0</td>\n",
       "      <td>...</td>\n",
       "      <td>308</td>\n",
       "      <td>0</td>\n",
       "      <td>0</td>\n",
       "      <td>0</td>\n",
       "      <td>0</td>\n",
       "      <td>0</td>\n",
       "      <td>0</td>\n",
       "      <td>0</td>\n",
       "      <td>8</td>\n",
       "      <td>2009</td>\n",
       "    </tr>\n",
       "    <tr>\n",
       "      <th>93</th>\n",
       "      <td>30</td>\n",
       "      <td>80.0</td>\n",
       "      <td>13360</td>\n",
       "      <td>5</td>\n",
       "      <td>7</td>\n",
       "      <td>1921</td>\n",
       "      <td>2006</td>\n",
       "      <td>0.0</td>\n",
       "      <td>713</td>\n",
       "      <td>0</td>\n",
       "      <td>...</td>\n",
       "      <td>432</td>\n",
       "      <td>0</td>\n",
       "      <td>0</td>\n",
       "      <td>44</td>\n",
       "      <td>0</td>\n",
       "      <td>0</td>\n",
       "      <td>0</td>\n",
       "      <td>0</td>\n",
       "      <td>8</td>\n",
       "      <td>2009</td>\n",
       "    </tr>\n",
       "    <tr>\n",
       "      <th>818</th>\n",
       "      <td>20</td>\n",
       "      <td>NaN</td>\n",
       "      <td>13265</td>\n",
       "      <td>8</td>\n",
       "      <td>5</td>\n",
       "      <td>2002</td>\n",
       "      <td>2002</td>\n",
       "      <td>148.0</td>\n",
       "      <td>1218</td>\n",
       "      <td>0</td>\n",
       "      <td>...</td>\n",
       "      <td>857</td>\n",
       "      <td>150</td>\n",
       "      <td>59</td>\n",
       "      <td>0</td>\n",
       "      <td>0</td>\n",
       "      <td>0</td>\n",
       "      <td>0</td>\n",
       "      <td>0</td>\n",
       "      <td>7</td>\n",
       "      <td>2008</td>\n",
       "    </tr>\n",
       "    <tr>\n",
       "      <th>303</th>\n",
       "      <td>20</td>\n",
       "      <td>118.0</td>\n",
       "      <td>13704</td>\n",
       "      <td>7</td>\n",
       "      <td>5</td>\n",
       "      <td>2001</td>\n",
       "      <td>2002</td>\n",
       "      <td>150.0</td>\n",
       "      <td>0</td>\n",
       "      <td>0</td>\n",
       "      <td>...</td>\n",
       "      <td>843</td>\n",
       "      <td>468</td>\n",
       "      <td>81</td>\n",
       "      <td>0</td>\n",
       "      <td>0</td>\n",
       "      <td>0</td>\n",
       "      <td>0</td>\n",
       "      <td>0</td>\n",
       "      <td>1</td>\n",
       "      <td>2006</td>\n",
       "    </tr>\n",
       "  </tbody>\n",
       "</table>\n",
       "<p>5 rows × 36 columns</p>\n",
       "</div>"
      ],
      "text/plain": [
       "     MSSubClass  LotFrontage  LotArea  OverallQual  OverallCond  YearBuilt  \\\n",
       "Id                                                                           \n",
       "619          20         90.0    11694            9            5       2007   \n",
       "871          20         60.0     6600            5            5       1962   \n",
       "93           30         80.0    13360            5            7       1921   \n",
       "818          20          NaN    13265            8            5       2002   \n",
       "303          20        118.0    13704            7            5       2001   \n",
       "\n",
       "     YearRemodAdd  MasVnrArea  BsmtFinSF1  BsmtFinSF2  ...  GarageArea  \\\n",
       "Id                                                     ...               \n",
       "619          2007       452.0          48           0  ...         774   \n",
       "871          1962         0.0           0           0  ...         308   \n",
       "93           2006         0.0         713           0  ...         432   \n",
       "818          2002       148.0        1218           0  ...         857   \n",
       "303          2002       150.0           0           0  ...         843   \n",
       "\n",
       "     WoodDeckSF  OpenPorchSF  EnclosedPorch  3SsnPorch  ScreenPorch  PoolArea  \\\n",
       "Id                                                                              \n",
       "619           0          108              0          0          260         0   \n",
       "871           0            0              0          0            0         0   \n",
       "93            0            0             44          0            0         0   \n",
       "818         150           59              0          0            0         0   \n",
       "303         468           81              0          0            0         0   \n",
       "\n",
       "     MiscVal  MoSold  YrSold  \n",
       "Id                            \n",
       "619        0       7    2007  \n",
       "871        0       8    2009  \n",
       "93         0       8    2009  \n",
       "818        0       7    2008  \n",
       "303        0       1    2006  \n",
       "\n",
       "[5 rows x 36 columns]"
      ]
     },
     "execution_count": 3,
     "metadata": {},
     "output_type": "execute_result"
    }
   ],
   "source": [
    "X_train.head()"
   ]
  },
  {
   "cell_type": "markdown",
   "id": "90879a68",
   "metadata": {
    "papermill": {
     "duration": 0.005872,
     "end_time": "2025-05-01T09:11:56.327326",
     "exception": false,
     "start_time": "2025-05-01T09:11:56.321454",
     "status": "completed"
    },
    "tags": []
   },
   "source": [
    "You can already see a few missing values in the first several rows.  In the next step, you'll obtain a more comprehensive understanding of the missing values in the dataset.\n",
    "\n",
    "# Step 1: Preliminary investigation\n",
    "\n",
    "Run the code cell below without changes."
   ]
  },
  {
   "cell_type": "code",
   "execution_count": 4,
   "id": "f2ccd543",
   "metadata": {
    "execution": {
     "iopub.execute_input": "2025-05-01T09:11:56.340887Z",
     "iopub.status.busy": "2025-05-01T09:11:56.340487Z",
     "iopub.status.idle": "2025-05-01T09:11:56.347990Z",
     "shell.execute_reply": "2025-05-01T09:11:56.346940Z"
    },
    "papermill": {
     "duration": 0.015976,
     "end_time": "2025-05-01T09:11:56.349439",
     "exception": false,
     "start_time": "2025-05-01T09:11:56.333463",
     "status": "completed"
    },
    "tags": []
   },
   "outputs": [
    {
     "name": "stdout",
     "output_type": "stream",
     "text": [
      "(1168, 36)\n",
      "LotFrontage    212\n",
      "MasVnrArea       6\n",
      "GarageYrBlt     58\n",
      "dtype: int64\n"
     ]
    }
   ],
   "source": [
    "# Shape of training data (num_rows, num_columns)\n",
    "print(X_train.shape)\n",
    "\n",
    "# Number of missing values in each column of training data\n",
    "missing_val_count_by_column = (X_train.isnull().sum())\n",
    "print(missing_val_count_by_column[missing_val_count_by_column > 0])"
   ]
  },
  {
   "cell_type": "markdown",
   "id": "46e819d0",
   "metadata": {
    "papermill": {
     "duration": 0.006052,
     "end_time": "2025-05-01T09:11:56.361853",
     "exception": false,
     "start_time": "2025-05-01T09:11:56.355801",
     "status": "completed"
    },
    "tags": []
   },
   "source": [
    "### Part A\n",
    "\n",
    "Use the above output to answer the questions below."
   ]
  },
  {
   "cell_type": "code",
   "execution_count": 5,
   "id": "fe686ce0",
   "metadata": {
    "execution": {
     "iopub.execute_input": "2025-05-01T09:11:56.376183Z",
     "iopub.status.busy": "2025-05-01T09:11:56.375844Z",
     "iopub.status.idle": "2025-05-01T09:11:56.383034Z",
     "shell.execute_reply": "2025-05-01T09:11:56.382361Z"
    },
    "papermill": {
     "duration": 0.015789,
     "end_time": "2025-05-01T09:11:56.384258",
     "exception": false,
     "start_time": "2025-05-01T09:11:56.368469",
     "status": "completed"
    },
    "tags": []
   },
   "outputs": [
    {
     "data": {
      "application/javascript": [
       "parent.postMessage({\"jupyterEvent\": \"custom.exercise_interaction\", \"data\": {\"outcomeType\": 1, \"valueTowardsCompletion\": 1.0, \"interactionType\": 1, \"questionType\": 1, \"questionId\": \"1.1_InvestigateEquality\", \"learnToolsVersion\": \"0.3.5\", \"failureMessage\": \"\", \"exceptionClass\": \"\", \"trace\": \"\"}}, \"*\")"
      ],
      "text/plain": [
       "<IPython.core.display.Javascript object>"
      ]
     },
     "metadata": {},
     "output_type": "display_data"
    },
    {
     "data": {
      "text/markdown": [
       "<span style=\"color:#33cc33\">Correct</span>"
      ],
      "text/plain": [
       "Correct"
      ]
     },
     "metadata": {},
     "output_type": "display_data"
    }
   ],
   "source": [
    "# Fill in the line below: How many rows are in the training data?\n",
    "num_rows = 1168\n",
    "\n",
    "# Fill in the line below: How many columns in the training data\n",
    "# have missing values?\n",
    "num_cols_with_missing = 3\n",
    "\n",
    "# Fill in the line below: How many missing entries are contained in \n",
    "# all of the training data?\n",
    "tot_missing = 212+6+58\n",
    "\n",
    "# Check your answers\n",
    "step_1.a.check()"
   ]
  },
  {
   "cell_type": "code",
   "execution_count": 6,
   "id": "8460995b",
   "metadata": {
    "execution": {
     "iopub.execute_input": "2025-05-01T09:11:56.399143Z",
     "iopub.status.busy": "2025-05-01T09:11:56.398352Z",
     "iopub.status.idle": "2025-05-01T09:11:56.402052Z",
     "shell.execute_reply": "2025-05-01T09:11:56.401366Z"
    },
    "papermill": {
     "duration": 0.012235,
     "end_time": "2025-05-01T09:11:56.403429",
     "exception": false,
     "start_time": "2025-05-01T09:11:56.391194",
     "status": "completed"
    },
    "tags": []
   },
   "outputs": [],
   "source": [
    "# Lines below will give you a hint or solution code\n",
    "#step_1.a.hint()\n",
    "#step_1.a.solution()"
   ]
  },
  {
   "cell_type": "markdown",
   "id": "ee9e2a51",
   "metadata": {
    "papermill": {
     "duration": 0.006144,
     "end_time": "2025-05-01T09:11:56.416152",
     "exception": false,
     "start_time": "2025-05-01T09:11:56.410008",
     "status": "completed"
    },
    "tags": []
   },
   "source": [
    "### Part B\n",
    "Considering your answers above, what do you think is likely the best approach to dealing with the missing values?"
   ]
  },
  {
   "cell_type": "code",
   "execution_count": 7,
   "id": "870df337",
   "metadata": {
    "execution": {
     "iopub.execute_input": "2025-05-01T09:11:56.430191Z",
     "iopub.status.busy": "2025-05-01T09:11:56.429883Z",
     "iopub.status.idle": "2025-05-01T09:11:56.437117Z",
     "shell.execute_reply": "2025-05-01T09:11:56.436064Z"
    },
    "papermill": {
     "duration": 0.015903,
     "end_time": "2025-05-01T09:11:56.438521",
     "exception": false,
     "start_time": "2025-05-01T09:11:56.422618",
     "status": "completed"
    },
    "tags": []
   },
   "outputs": [
    {
     "data": {
      "application/javascript": [
       "parent.postMessage({\"jupyterEvent\": \"custom.exercise_interaction\", \"data\": {\"outcomeType\": 1, \"valueTowardsCompletion\": 1.0, \"interactionType\": 1, \"questionType\": 4, \"questionId\": \"1.2_InvestigateThought\", \"learnToolsVersion\": \"0.3.5\", \"failureMessage\": \"\", \"exceptionClass\": \"\", \"trace\": \"\"}}, \"*\")"
      ],
      "text/plain": [
       "<IPython.core.display.Javascript object>"
      ]
     },
     "metadata": {},
     "output_type": "display_data"
    },
    {
     "data": {
      "text/markdown": [
       "<span style=\"color:#33cc33\">Correct:</span> \n",
       "\n",
       "Since there are relatively few missing entries in the data (the column with the greatest percentage of missing values is missing less than 20% of its entries), we can expect that dropping columns is unlikely to yield good results.  This is because we'd be throwing away a lot of valuable data, and so imputation will likely perform better."
      ],
      "text/plain": [
       "Correct: \n",
       "\n",
       "Since there are relatively few missing entries in the data (the column with the greatest percentage of missing values is missing less than 20% of its entries), we can expect that dropping columns is unlikely to yield good results.  This is because we'd be throwing away a lot of valuable data, and so imputation will likely perform better."
      ]
     },
     "metadata": {},
     "output_type": "display_data"
    }
   ],
   "source": [
    "# Check your answer (Run this code cell to receive credit!)\n",
    "step_1.b.check()\n",
    "#imputation?"
   ]
  },
  {
   "cell_type": "code",
   "execution_count": 8,
   "id": "47c8e218",
   "metadata": {
    "execution": {
     "iopub.execute_input": "2025-05-01T09:11:56.453317Z",
     "iopub.status.busy": "2025-05-01T09:11:56.452965Z",
     "iopub.status.idle": "2025-05-01T09:11:56.456923Z",
     "shell.execute_reply": "2025-05-01T09:11:56.456179Z"
    },
    "papermill": {
     "duration": 0.013174,
     "end_time": "2025-05-01T09:11:56.458402",
     "exception": false,
     "start_time": "2025-05-01T09:11:56.445228",
     "status": "completed"
    },
    "tags": []
   },
   "outputs": [],
   "source": [
    "#step_1.b.hint()"
   ]
  },
  {
   "cell_type": "markdown",
   "id": "e996bfd6",
   "metadata": {
    "papermill": {
     "duration": 0.006421,
     "end_time": "2025-05-01T09:11:56.471813",
     "exception": false,
     "start_time": "2025-05-01T09:11:56.465392",
     "status": "completed"
    },
    "tags": []
   },
   "source": [
    "To compare different approaches to dealing with missing values, you'll use the same `score_dataset()` function from the tutorial.  This function reports the [mean absolute error](https://en.wikipedia.org/wiki/Mean_absolute_error) (MAE) from a random forest model."
   ]
  },
  {
   "cell_type": "code",
   "execution_count": 9,
   "id": "3c735a63",
   "metadata": {
    "execution": {
     "iopub.execute_input": "2025-05-01T09:11:56.487101Z",
     "iopub.status.busy": "2025-05-01T09:11:56.486320Z",
     "iopub.status.idle": "2025-05-01T09:11:56.876262Z",
     "shell.execute_reply": "2025-05-01T09:11:56.875317Z"
    },
    "papermill": {
     "duration": 0.39951,
     "end_time": "2025-05-01T09:11:56.877988",
     "exception": false,
     "start_time": "2025-05-01T09:11:56.478478",
     "status": "completed"
    },
    "tags": []
   },
   "outputs": [],
   "source": [
    "from sklearn.ensemble import RandomForestRegressor\n",
    "from sklearn.metrics import mean_absolute_error\n",
    "\n",
    "# Function for comparing different approaches\n",
    "def score_dataset(X_train, X_valid, y_train, y_valid):\n",
    "    model = RandomForestRegressor(n_estimators=100, random_state=0)\n",
    "    model.fit(X_train, y_train)\n",
    "    preds = model.predict(X_valid)\n",
    "    return mean_absolute_error(y_valid, preds)"
   ]
  },
  {
   "cell_type": "markdown",
   "id": "25b93ed6",
   "metadata": {
    "papermill": {
     "duration": 0.006446,
     "end_time": "2025-05-01T09:11:56.891347",
     "exception": false,
     "start_time": "2025-05-01T09:11:56.884901",
     "status": "completed"
    },
    "tags": []
   },
   "source": [
    "# Step 2: Drop columns with missing values\n",
    "\n",
    "In this step, you'll preprocess the data in `X_train` and `X_valid` to remove columns with missing values.  Set the preprocessed DataFrames to `reduced_X_train` and `reduced_X_valid`, respectively.  "
   ]
  },
  {
   "cell_type": "code",
   "execution_count": 10,
   "id": "0ee55f58",
   "metadata": {
    "execution": {
     "iopub.execute_input": "2025-05-01T09:11:56.906855Z",
     "iopub.status.busy": "2025-05-01T09:11:56.906554Z",
     "iopub.status.idle": "2025-05-01T09:11:56.923164Z",
     "shell.execute_reply": "2025-05-01T09:11:56.922454Z"
    },
    "papermill": {
     "duration": 0.025769,
     "end_time": "2025-05-01T09:11:56.924522",
     "exception": false,
     "start_time": "2025-05-01T09:11:56.898753",
     "status": "completed"
    },
    "tags": []
   },
   "outputs": [
    {
     "data": {
      "application/javascript": [
       "parent.postMessage({\"jupyterEvent\": \"custom.exercise_interaction\", \"data\": {\"outcomeType\": 1, \"valueTowardsCompletion\": 1.0, \"interactionType\": 1, \"questionType\": 2, \"questionId\": \"2_DropMissing\", \"learnToolsVersion\": \"0.3.5\", \"failureMessage\": \"\", \"exceptionClass\": \"\", \"trace\": \"\"}}, \"*\")"
      ],
      "text/plain": [
       "<IPython.core.display.Javascript object>"
      ]
     },
     "metadata": {},
     "output_type": "display_data"
    },
    {
     "data": {
      "text/markdown": [
       "<span style=\"color:#33cc33\">Correct</span>"
      ],
      "text/plain": [
       "Correct"
      ]
     },
     "metadata": {},
     "output_type": "display_data"
    }
   ],
   "source": [
    "# Fill in the line below: get names of columns with missing values\n",
    "____ # Your code here\n",
    "\n",
    "# Fill in the lines below: drop columns in training and validation data\n",
    "reduced_X_train = X_train.dropna(axis=1)\n",
    "reduced_X_valid = X_valid.dropna(axis=1)\n",
    "\n",
    "# Check your answers\n",
    "step_2.check()"
   ]
  },
  {
   "cell_type": "code",
   "execution_count": 11,
   "id": "4f9046a5",
   "metadata": {
    "execution": {
     "iopub.execute_input": "2025-05-01T09:11:56.941277Z",
     "iopub.status.busy": "2025-05-01T09:11:56.940468Z",
     "iopub.status.idle": "2025-05-01T09:11:56.944191Z",
     "shell.execute_reply": "2025-05-01T09:11:56.943484Z"
    },
    "papermill": {
     "duration": 0.012693,
     "end_time": "2025-05-01T09:11:56.945547",
     "exception": false,
     "start_time": "2025-05-01T09:11:56.932854",
     "status": "completed"
    },
    "tags": []
   },
   "outputs": [],
   "source": [
    "# Lines below will give you a hint or solution code\n",
    "#step_2.hint()\n",
    "#step_2.solution()"
   ]
  },
  {
   "cell_type": "markdown",
   "id": "bbf81155",
   "metadata": {
    "papermill": {
     "duration": 0.006424,
     "end_time": "2025-05-01T09:11:56.959192",
     "exception": false,
     "start_time": "2025-05-01T09:11:56.952768",
     "status": "completed"
    },
    "tags": []
   },
   "source": [
    "Run the next code cell without changes to obtain the MAE for this approach."
   ]
  },
  {
   "cell_type": "code",
   "execution_count": 12,
   "id": "89dec37b",
   "metadata": {
    "execution": {
     "iopub.execute_input": "2025-05-01T09:11:56.974395Z",
     "iopub.status.busy": "2025-05-01T09:11:56.974034Z",
     "iopub.status.idle": "2025-05-01T09:11:58.180367Z",
     "shell.execute_reply": "2025-05-01T09:11:58.179468Z"
    },
    "papermill": {
     "duration": 1.215457,
     "end_time": "2025-05-01T09:11:58.181830",
     "exception": false,
     "start_time": "2025-05-01T09:11:56.966373",
     "status": "completed"
    },
    "tags": []
   },
   "outputs": [
    {
     "name": "stdout",
     "output_type": "stream",
     "text": [
      "MAE (Drop columns with missing values):\n",
      "17837.82570776256\n"
     ]
    }
   ],
   "source": [
    "print(\"MAE (Drop columns with missing values):\")\n",
    "print(score_dataset(reduced_X_train, reduced_X_valid, y_train, y_valid))"
   ]
  },
  {
   "cell_type": "markdown",
   "id": "714addd6",
   "metadata": {
    "papermill": {
     "duration": 0.006935,
     "end_time": "2025-05-01T09:11:58.195859",
     "exception": false,
     "start_time": "2025-05-01T09:11:58.188924",
     "status": "completed"
    },
    "tags": []
   },
   "source": [
    "# Step 3: Imputation\n",
    "\n",
    "### Part A\n",
    "\n",
    "Use the next code cell to impute missing values with the mean value along each column.  Set the preprocessed DataFrames to `imputed_X_train` and `imputed_X_valid`.  Make sure that the column names match those in `X_train` and `X_valid`."
   ]
  },
  {
   "cell_type": "code",
   "execution_count": 13,
   "id": "cec77631",
   "metadata": {
    "execution": {
     "iopub.execute_input": "2025-05-01T09:11:58.211157Z",
     "iopub.status.busy": "2025-05-01T09:11:58.210871Z",
     "iopub.status.idle": "2025-05-01T09:11:58.243597Z",
     "shell.execute_reply": "2025-05-01T09:11:58.242739Z"
    },
    "papermill": {
     "duration": 0.042158,
     "end_time": "2025-05-01T09:11:58.244919",
     "exception": false,
     "start_time": "2025-05-01T09:11:58.202761",
     "status": "completed"
    },
    "tags": []
   },
   "outputs": [
    {
     "data": {
      "application/javascript": [
       "parent.postMessage({\"jupyterEvent\": \"custom.exercise_interaction\", \"data\": {\"outcomeType\": 1, \"valueTowardsCompletion\": 1.0, \"interactionType\": 1, \"questionType\": 2, \"questionId\": \"3.1_ImputeCode\", \"learnToolsVersion\": \"0.3.5\", \"failureMessage\": \"\", \"exceptionClass\": \"\", \"trace\": \"\"}}, \"*\")"
      ],
      "text/plain": [
       "<IPython.core.display.Javascript object>"
      ]
     },
     "metadata": {},
     "output_type": "display_data"
    },
    {
     "data": {
      "text/markdown": [
       "<span style=\"color:#33cc33\">Correct</span>"
      ],
      "text/plain": [
       "Correct"
      ]
     },
     "metadata": {},
     "output_type": "display_data"
    }
   ],
   "source": [
    "from sklearn.impute import SimpleImputer\n",
    "\n",
    "# Fill in the lines below: imputation\n",
    "simple_impute = SimpleImputer() # Your code here\n",
    "imputed_X_train = pd.DataFrame(simple_impute.fit_transform(X_train))\n",
    "imputed_X_valid = pd.DataFrame(simple_impute.transform(X_valid))\n",
    "\n",
    "# Fill in the lines below: imputation removed column names; put them back\n",
    "imputed_X_train.columns = X_train.columns\n",
    "imputed_X_valid.columns = X_valid.columns\n",
    "\n",
    "# Check your answers\n",
    "step_3.a.check()"
   ]
  },
  {
   "cell_type": "code",
   "execution_count": 14,
   "id": "e05946d2",
   "metadata": {
    "execution": {
     "iopub.execute_input": "2025-05-01T09:11:58.260664Z",
     "iopub.status.busy": "2025-05-01T09:11:58.259845Z",
     "iopub.status.idle": "2025-05-01T09:11:58.271358Z",
     "shell.execute_reply": "2025-05-01T09:11:58.270631Z"
    },
    "papermill": {
     "duration": 0.020764,
     "end_time": "2025-05-01T09:11:58.272769",
     "exception": false,
     "start_time": "2025-05-01T09:11:58.252005",
     "status": "completed"
    },
    "tags": []
   },
   "outputs": [
    {
     "data": {
      "text/plain": [
       "numpy.ndarray"
      ]
     },
     "execution_count": 14,
     "metadata": {},
     "output_type": "execute_result"
    }
   ],
   "source": [
    "# Lines below will give you a hint or solution code\n",
    "#step_3.a.hint()\n",
    "#step_3.a.solution()\n",
    "type(simple_impute.fit_transform(X_train))"
   ]
  },
  {
   "cell_type": "markdown",
   "id": "16b8ba30",
   "metadata": {
    "papermill": {
     "duration": 0.006793,
     "end_time": "2025-05-01T09:11:58.286883",
     "exception": false,
     "start_time": "2025-05-01T09:11:58.280090",
     "status": "completed"
    },
    "tags": []
   },
   "source": [
    "Run the next code cell without changes to obtain the MAE for this approach."
   ]
  },
  {
   "cell_type": "code",
   "execution_count": 15,
   "id": "32cf33fb",
   "metadata": {
    "execution": {
     "iopub.execute_input": "2025-05-01T09:11:58.302278Z",
     "iopub.status.busy": "2025-05-01T09:11:58.301984Z",
     "iopub.status.idle": "2025-05-01T09:11:59.641849Z",
     "shell.execute_reply": "2025-05-01T09:11:59.640856Z"
    },
    "papermill": {
     "duration": 1.349296,
     "end_time": "2025-05-01T09:11:59.643164",
     "exception": false,
     "start_time": "2025-05-01T09:11:58.293868",
     "status": "completed"
    },
    "tags": []
   },
   "outputs": [
    {
     "name": "stdout",
     "output_type": "stream",
     "text": [
      "MAE (Imputation):\n",
      "18062.894611872147\n"
     ]
    }
   ],
   "source": [
    "print(\"MAE (Imputation):\")\n",
    "print(score_dataset(imputed_X_train, imputed_X_valid, y_train, y_valid))"
   ]
  },
  {
   "cell_type": "markdown",
   "id": "acc6d97e",
   "metadata": {
    "papermill": {
     "duration": 0.007156,
     "end_time": "2025-05-01T09:11:59.719175",
     "exception": false,
     "start_time": "2025-05-01T09:11:59.712019",
     "status": "completed"
    },
    "tags": []
   },
   "source": [
    "### Part B\n",
    "\n",
    "Compare the MAE from each approach.  Does anything surprise you about the results?  Why do you think one approach performed better than the other?"
   ]
  },
  {
   "cell_type": "code",
   "execution_count": 16,
   "id": "09f772c1",
   "metadata": {
    "execution": {
     "iopub.execute_input": "2025-05-01T09:11:59.735271Z",
     "iopub.status.busy": "2025-05-01T09:11:59.734604Z",
     "iopub.status.idle": "2025-05-01T09:11:59.741141Z",
     "shell.execute_reply": "2025-05-01T09:11:59.740370Z"
    },
    "papermill": {
     "duration": 0.015909,
     "end_time": "2025-05-01T09:11:59.742411",
     "exception": false,
     "start_time": "2025-05-01T09:11:59.726502",
     "status": "completed"
    },
    "tags": []
   },
   "outputs": [
    {
     "data": {
      "application/javascript": [
       "parent.postMessage({\"jupyterEvent\": \"custom.exercise_interaction\", \"data\": {\"outcomeType\": 1, \"valueTowardsCompletion\": 1.0, \"interactionType\": 1, \"questionType\": 4, \"questionId\": \"3.2_ImputeThought\", \"learnToolsVersion\": \"0.3.5\", \"failureMessage\": \"\", \"exceptionClass\": \"\", \"trace\": \"\"}}, \"*\")"
      ],
      "text/plain": [
       "<IPython.core.display.Javascript object>"
      ]
     },
     "metadata": {},
     "output_type": "display_data"
    },
    {
     "data": {
      "text/markdown": [
       "<span style=\"color:#33cc33\">Correct:</span> \n",
       "\n",
       "Given that thre are so few missing values in the dataset, we'd expect imputation to perform better than dropping columns entirely.  However, we see that dropping columns performs slightly better!  While this can probably partially be attributed to noise in the dataset, another potential explanation is that the imputation method is not a great match to this dataset.  That is, maybe instead of filling in the mean value, it makes more sense to set every missing value to a value of 0, to fill in the most frequently encountered value, or to use some other method.  For instance, consider the `GarageYrBlt` column (which indicates the year that the garage was built).  It's likely that in some cases, a missing value could indicate a house that does not have a garage.  Does it make more sense to fill in the median value along each column in this case?  Or could we get better results by filling in the minimum value along each column?  It's not quite clear what's best in this case, but perhaps we can rule out some options immediately - for instance, setting missing values in this column to 0 is likely to yield horrible results!"
      ],
      "text/plain": [
       "Correct: \n",
       "\n",
       "Given that thre are so few missing values in the dataset, we'd expect imputation to perform better than dropping columns entirely.  However, we see that dropping columns performs slightly better!  While this can probably partially be attributed to noise in the dataset, another potential explanation is that the imputation method is not a great match to this dataset.  That is, maybe instead of filling in the mean value, it makes more sense to set every missing value to a value of 0, to fill in the most frequently encountered value, or to use some other method.  For instance, consider the `GarageYrBlt` column (which indicates the year that the garage was built).  It's likely that in some cases, a missing value could indicate a house that does not have a garage.  Does it make more sense to fill in the median value along each column in this case?  Or could we get better results by filling in the minimum value along each column?  It's not quite clear what's best in this case, but perhaps we can rule out some options immediately - for instance, setting missing values in this column to 0 is likely to yield horrible results!"
      ]
     },
     "metadata": {},
     "output_type": "display_data"
    }
   ],
   "source": [
    "# Check your answer (Run this code cell to receive credit!)\n",
    "#Drop is better!!\n",
    "step_3.b.check()"
   ]
  },
  {
   "cell_type": "code",
   "execution_count": 17,
   "id": "01b8542a",
   "metadata": {
    "execution": {
     "iopub.execute_input": "2025-05-01T09:11:59.759404Z",
     "iopub.status.busy": "2025-05-01T09:11:59.758646Z",
     "iopub.status.idle": "2025-05-01T09:11:59.762264Z",
     "shell.execute_reply": "2025-05-01T09:11:59.761523Z"
    },
    "papermill": {
     "duration": 0.013515,
     "end_time": "2025-05-01T09:11:59.763648",
     "exception": false,
     "start_time": "2025-05-01T09:11:59.750133",
     "status": "completed"
    },
    "tags": []
   },
   "outputs": [],
   "source": [
    "#step_3.b.hint()\n",
    "#表示我們填的方式不好，或是這個特徵根本就不是缺失而是沒有啦"
   ]
  },
  {
   "cell_type": "markdown",
   "id": "83e81a0f",
   "metadata": {
    "papermill": {
     "duration": 0.007221,
     "end_time": "2025-05-01T09:11:59.778392",
     "exception": false,
     "start_time": "2025-05-01T09:11:59.771171",
     "status": "completed"
    },
    "tags": []
   },
   "source": [
    "# Step 4: Generate test predictions\n",
    "\n",
    "In this final step, you'll use any approach of your choosing to deal with missing values.  Once you've preprocessed the training and validation features, you'll train and evaluate a random forest model.  Then, you'll preprocess the test data before generating predictions that can be submitted to the competition!\n",
    "\n",
    "### Part A\n",
    "\n",
    "Use the next code cell to preprocess the training and validation data.  Set the preprocessed DataFrames to `final_X_train` and `final_X_valid`.  **You can use any approach of your choosing here!**  in order for this step to be marked as correct, you need only ensure:\n",
    "- the preprocessed DataFrames have the same number of columns,\n",
    "- the preprocessed DataFrames have no missing values, \n",
    "- `final_X_train` and `y_train` have the same number of rows, and\n",
    "- `final_X_valid` and `y_valid` have the same number of rows."
   ]
  },
  {
   "cell_type": "code",
   "execution_count": 18,
   "id": "a63eb324",
   "metadata": {
    "execution": {
     "iopub.execute_input": "2025-05-01T09:11:59.794335Z",
     "iopub.status.busy": "2025-05-01T09:11:59.794014Z",
     "iopub.status.idle": "2025-05-01T09:11:59.805625Z",
     "shell.execute_reply": "2025-05-01T09:11:59.804749Z"
    },
    "papermill": {
     "duration": 0.021208,
     "end_time": "2025-05-01T09:11:59.806975",
     "exception": false,
     "start_time": "2025-05-01T09:11:59.785767",
     "status": "completed"
    },
    "tags": []
   },
   "outputs": [
    {
     "data": {
      "application/javascript": [
       "parent.postMessage({\"jupyterEvent\": \"custom.exercise_interaction\", \"data\": {\"outcomeType\": 1, \"valueTowardsCompletion\": 1.0, \"interactionType\": 1, \"questionType\": 2, \"questionId\": \"4.1_PredsCodeA\", \"learnToolsVersion\": \"0.3.5\", \"failureMessage\": \"\", \"exceptionClass\": \"\", \"trace\": \"\"}}, \"*\")"
      ],
      "text/plain": [
       "<IPython.core.display.Javascript object>"
      ]
     },
     "metadata": {},
     "output_type": "display_data"
    },
    {
     "data": {
      "text/markdown": [
       "<span style=\"color:#33cc33\">Correct</span>"
      ],
      "text/plain": [
       "Correct"
      ]
     },
     "metadata": {},
     "output_type": "display_data"
    }
   ],
   "source": [
    "# Preprocessed training and validation features\n",
    "final_X_train = reduced_X_train\n",
    "final_X_valid = reduced_X_valid\n",
    "\n",
    "# Check your answers\n",
    "step_4.a.check()"
   ]
  },
  {
   "cell_type": "markdown",
   "id": "25747798",
   "metadata": {
    "papermill": {
     "duration": 0.007478,
     "end_time": "2025-05-01T09:11:59.822133",
     "exception": false,
     "start_time": "2025-05-01T09:11:59.814655",
     "status": "completed"
    },
    "tags": []
   },
   "source": [
    "Run the next code cell to train and evaluate a random forest model.  (*Note that we don't use the `score_dataset()` function above, because we will soon use the trained model to generate test predictions!*)"
   ]
  },
  {
   "cell_type": "code",
   "execution_count": 19,
   "id": "f845b645",
   "metadata": {
    "execution": {
     "iopub.execute_input": "2025-05-01T09:11:59.838519Z",
     "iopub.status.busy": "2025-05-01T09:11:59.838195Z",
     "iopub.status.idle": "2025-05-01T09:12:01.040271Z",
     "shell.execute_reply": "2025-05-01T09:12:01.039242Z"
    },
    "papermill": {
     "duration": 1.212033,
     "end_time": "2025-05-01T09:12:01.041763",
     "exception": false,
     "start_time": "2025-05-01T09:11:59.829730",
     "status": "completed"
    },
    "tags": []
   },
   "outputs": [
    {
     "name": "stdout",
     "output_type": "stream",
     "text": [
      "MAE (Your approach):\n",
      "17837.82570776256\n"
     ]
    }
   ],
   "source": [
    "# Define and fit model\n",
    "model = RandomForestRegressor(n_estimators=100, random_state=0)\n",
    "model.fit(final_X_train, y_train)\n",
    "\n",
    "# Get validation predictions and MAE\n",
    "preds_valid = model.predict(final_X_valid)\n",
    "print(\"MAE (Your approach):\")\n",
    "print(mean_absolute_error(y_valid, preds_valid))"
   ]
  },
  {
   "cell_type": "markdown",
   "id": "e4f60dc8",
   "metadata": {
    "papermill": {
     "duration": 0.007632,
     "end_time": "2025-05-01T09:12:01.057414",
     "exception": false,
     "start_time": "2025-05-01T09:12:01.049782",
     "status": "completed"
    },
    "tags": []
   },
   "source": [
    "### Part B\n",
    "\n",
    "Use the next code cell to preprocess your test data.  Make sure that you use a method that agrees with how you preprocessed the training and validation data, and set the preprocessed test features to `final_X_test`.\n",
    "\n",
    "Then, use the preprocessed test features and the trained model to generate test predictions in `preds_test`.\n",
    "\n",
    "In order for this step to be marked correct, you need only ensure:\n",
    "- the preprocessed test DataFrame has no missing values, and\n",
    "- `final_X_test` has the same number of rows as `X_test`."
   ]
  },
  {
   "cell_type": "code",
   "execution_count": 20,
   "id": "7e9300c2",
   "metadata": {
    "execution": {
     "iopub.execute_input": "2025-05-01T09:12:01.074825Z",
     "iopub.status.busy": "2025-05-01T09:12:01.073763Z",
     "iopub.status.idle": "2025-05-01T09:12:01.111429Z",
     "shell.execute_reply": "2025-05-01T09:12:01.110370Z"
    },
    "papermill": {
     "duration": 0.047572,
     "end_time": "2025-05-01T09:12:01.112724",
     "exception": false,
     "start_time": "2025-05-01T09:12:01.065152",
     "status": "completed"
    },
    "tags": []
   },
   "outputs": [
    {
     "data": {
      "application/javascript": [
       "parent.postMessage({\"jupyterEvent\": \"custom.exercise_interaction\", \"data\": {\"outcomeType\": 1, \"valueTowardsCompletion\": 1.0, \"interactionType\": 1, \"questionType\": 2, \"questionId\": \"4.2_PredsCodeB\", \"learnToolsVersion\": \"0.3.5\", \"failureMessage\": \"\", \"exceptionClass\": \"\", \"trace\": \"\"}}, \"*\")"
      ],
      "text/plain": [
       "<IPython.core.display.Javascript object>"
      ]
     },
     "metadata": {},
     "output_type": "display_data"
    },
    {
     "data": {
      "text/markdown": [
       "<span style=\"color:#33cc33\">Correct</span>"
      ],
      "text/plain": [
       "Correct"
      ]
     },
     "metadata": {},
     "output_type": "display_data"
    }
   ],
   "source": [
    "# Fill in the line below: preprocess test data\n",
    "final_X_test = X_test_full[reduced_X_train.columns].fillna(0)\n",
    "\n",
    "# Fill in the line below: get test predictions\n",
    "preds_test = model.predict(final_X_test)\n",
    "\n",
    "# Check your answers\n",
    "step_4.b.check()"
   ]
  },
  {
   "cell_type": "code",
   "execution_count": 21,
   "id": "013b271c",
   "metadata": {
    "execution": {
     "iopub.execute_input": "2025-05-01T09:12:01.130079Z",
     "iopub.status.busy": "2025-05-01T09:12:01.129784Z",
     "iopub.status.idle": "2025-05-01T09:12:01.134017Z",
     "shell.execute_reply": "2025-05-01T09:12:01.133117Z"
    },
    "papermill": {
     "duration": 0.014552,
     "end_time": "2025-05-01T09:12:01.135530",
     "exception": false,
     "start_time": "2025-05-01T09:12:01.120978",
     "status": "completed"
    },
    "tags": []
   },
   "outputs": [],
   "source": [
    "# Lines below will give you a hint or solution code\n",
    "#step_4.b.hint()\n",
    "#step_4.b.solution()"
   ]
  },
  {
   "cell_type": "markdown",
   "id": "91382b07",
   "metadata": {
    "papermill": {
     "duration": 0.007722,
     "end_time": "2025-05-01T09:12:01.151267",
     "exception": false,
     "start_time": "2025-05-01T09:12:01.143545",
     "status": "completed"
    },
    "tags": []
   },
   "source": [
    "Run the next code cell without changes to save your results to a CSV file that can be submitted directly to the competition."
   ]
  },
  {
   "cell_type": "code",
   "execution_count": 22,
   "id": "17823df5",
   "metadata": {
    "execution": {
     "iopub.execute_input": "2025-05-01T09:12:01.168216Z",
     "iopub.status.busy": "2025-05-01T09:12:01.167932Z",
     "iopub.status.idle": "2025-05-01T09:12:01.180196Z",
     "shell.execute_reply": "2025-05-01T09:12:01.179418Z"
    },
    "papermill": {
     "duration": 0.022717,
     "end_time": "2025-05-01T09:12:01.181841",
     "exception": false,
     "start_time": "2025-05-01T09:12:01.159124",
     "status": "completed"
    },
    "tags": []
   },
   "outputs": [],
   "source": [
    "# Save test predictions to file\n",
    "output = pd.DataFrame({'Id': X_test.index,\n",
    "                       'SalePrice': preds_test})\n",
    "output.to_csv('submission.csv', index=False)"
   ]
  },
  {
   "cell_type": "markdown",
   "id": "831a3a95",
   "metadata": {
    "papermill": {
     "duration": 0.007988,
     "end_time": "2025-05-01T09:12:01.198493",
     "exception": false,
     "start_time": "2025-05-01T09:12:01.190505",
     "status": "completed"
    },
    "tags": []
   },
   "source": [
    "# Submit your results\n",
    "\n",
    "Once you have successfully completed Step 4, you're ready to submit your results to the leaderboard!  (_You also learned how to do this in the previous exercise.  If you need a reminder of how to do this, please use the instructions below._)  \n",
    "\n",
    "First, you'll need to join the competition if you haven't already.  So open a new window by clicking on [this link](https://www.kaggle.com/c/home-data-for-ml-course).  Then click on the **Join Competition** button.\n",
    "\n",
    "![join competition image](https://storage.googleapis.com/kaggle-media/learn/images/wLmFtH3.png)\n",
    "\n",
    "Next, follow the instructions below:\n",
    "1. Begin by clicking on the **Save Version** button in the top right corner of the window.  This will generate a pop-up window.  \n",
    "2. Ensure that the **Save and Run All** option is selected, and then click on the **Save** button.\n",
    "3. This generates a window in the bottom left corner of the notebook.  After it has finished running, click on the number to the right of the **Save Version** button.  This pulls up a list of versions on the right of the screen.  Click on the ellipsis **(...)** to the right of the most recent version, and select **Open in Viewer**.  This brings you into view mode of the same page. You will need to scroll down to get back to these instructions.\n",
    "4. Click on the **Data** tab near the top of the screen.  Then, click on the file you would like to submit, and click on the **Submit** button to submit your results to the leaderboard.\n",
    "\n",
    "You have now successfully submitted to the competition!\n",
    "\n",
    "If you want to keep working to improve your performance, select the **Edit** button in the top right of the screen. Then you can change your code and repeat the process. There's a lot of room to improve, and you will climb up the leaderboard as you work.\n",
    "\n",
    "\n",
    "# Keep going\n",
    "\n",
    "Move on to learn what **[categorical variables](https://www.kaggle.com/alexisbcook/categorical-variables)** are, along with how to incorporate them into your machine learning models.  Categorical variables are very common in real-world data, but you'll get an error if you try to plug them into your models without processing them first!"
   ]
  },
  {
   "cell_type": "markdown",
   "id": "fc30c7e8",
   "metadata": {
    "papermill": {
     "duration": 0.007947,
     "end_time": "2025-05-01T09:12:01.214664",
     "exception": false,
     "start_time": "2025-05-01T09:12:01.206717",
     "status": "completed"
    },
    "tags": []
   },
   "source": [
    "---\n",
    "\n",
    "\n",
    "\n",
    "\n",
    "*Have questions or comments? Visit the [course discussion forum](https://www.kaggle.com/learn/intermediate-machine-learning/discussion) to chat with other learners.*"
   ]
  }
 ],
 "metadata": {
  "kaggle": {
   "accelerator": "none",
   "dataSources": [
    {
     "databundleVersionId": 111096,
     "sourceId": 10211,
     "sourceType": "competition"
    }
   ],
   "isGpuEnabled": false,
   "isInternetEnabled": false,
   "language": "python",
   "sourceType": "notebook"
  },
  "kernelspec": {
   "display_name": "Python 3",
   "language": "python",
   "name": "python3"
  },
  "language_info": {
   "codemirror_mode": {
    "name": "ipython",
    "version": 3
   },
   "file_extension": ".py",
   "mimetype": "text/x-python",
   "name": "python",
   "nbconvert_exporter": "python",
   "pygments_lexer": "ipython3",
   "version": "3.11.11"
  },
  "papermill": {
   "default_parameters": {},
   "duration": 14.114888,
   "end_time": "2025-05-01T09:12:01.942592",
   "environment_variables": {},
   "exception": null,
   "input_path": "__notebook__.ipynb",
   "output_path": "__notebook__.ipynb",
   "parameters": {},
   "start_time": "2025-05-01T09:11:47.827704",
   "version": "2.6.0"
  }
 },
 "nbformat": 4,
 "nbformat_minor": 5
}
